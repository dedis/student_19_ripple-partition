{
 "cells": [
  {
   "cell_type": "code",
   "execution_count": 1,
   "metadata": {},
   "outputs": [],
   "source": [
    "import pandas as pd\n",
    "import numpy as np\n",
    "import json\n",
    "import requests"
   ]
  },
  {
   "cell_type": "code",
   "execution_count": 2,
   "metadata": {},
   "outputs": [],
   "source": [
    "data = pd.read_csv('txs-parsed-jan-2013-aug-2017/final_txs_2017.txt', delimiter='\\n', header=None)"
   ]
  },
  {
   "cell_type": "markdown",
   "metadata": {},
   "source": [
    "Well, the data is not a valid json. It has the following format {...} {...} {...} {...} instead of [{...},{...},{...},{...}]. Let's format it correctly"
   ]
  },
  {
   "cell_type": "code",
   "execution_count": 3,
   "metadata": {},
   "outputs": [],
   "source": [
    "json_list = '['\n",
    "for i in range(len(data)):\n",
    "    json_text = data[0][i]\n",
    "    json_list += json_text + ','\n",
    "json_list = json_list[:-1]+']'"
   ]
  },
  {
   "cell_type": "markdown",
   "metadata": {},
   "source": [
    "Then, we create a DataFrame from the data"
   ]
  },
  {
   "cell_type": "code",
   "execution_count": 4,
   "metadata": {},
   "outputs": [],
   "source": [
    "final_json = json.loads(json_list)\n",
    "df = pd.DataFrame.from_dict(final_json)"
   ]
  },
  {
   "cell_type": "code",
   "execution_count": 5,
   "metadata": {},
   "outputs": [
    {
     "data": {
      "text/plain": [
       "(Index(['XRPAcc', 'actualIssuerReceiver', 'actualReceiverAmount',\n",
       "        'actualReceiverCurrency', 'date', 'fee', 'flags', 'hash',\n",
       "        'issuerReceiver', 'issuerSender', 'links', 'offers', 'paths',\n",
       "        'receiver', 'receiverAmount', 'receiverCurrency', 'sender',\n",
       "        'senderAmount', 'senderCurrency', 'success'],\n",
       "       dtype='object'), 20)"
      ]
     },
     "execution_count": 5,
     "metadata": {},
     "output_type": "execute_result"
    }
   ],
   "source": [
    "df.columns, len(df.columns)"
   ]
  },
  {
   "cell_type": "markdown",
   "metadata": {},
   "source": [
    "## Basics"
   ]
  },
  {
   "cell_type": "markdown",
   "metadata": {},
   "source": [
    "### Sender"
   ]
  },
  {
   "cell_type": "code",
   "execution_count": 6,
   "metadata": {},
   "outputs": [
    {
     "data": {
      "text/html": [
       "<div>\n",
       "<style scoped>\n",
       "    .dataframe tbody tr th:only-of-type {\n",
       "        vertical-align: middle;\n",
       "    }\n",
       "\n",
       "    .dataframe tbody tr th {\n",
       "        vertical-align: top;\n",
       "    }\n",
       "\n",
       "    .dataframe thead th {\n",
       "        text-align: right;\n",
       "    }\n",
       "</style>\n",
       "<table border=\"1\" class=\"dataframe\">\n",
       "  <thead>\n",
       "    <tr style=\"text-align: right;\">\n",
       "      <th></th>\n",
       "      <th>sender</th>\n",
       "      <th>senderAmount</th>\n",
       "      <th>senderCurrency</th>\n",
       "    </tr>\n",
       "  </thead>\n",
       "  <tbody>\n",
       "    <tr>\n",
       "      <th>0</th>\n",
       "      <td>rwNvFwF1jVKhJJo6bnNWqCeqjRVVM4pwmZ</td>\n",
       "      <td>NaN</td>\n",
       "      <td>NaN</td>\n",
       "    </tr>\n",
       "    <tr>\n",
       "      <th>1</th>\n",
       "      <td>rBbVbvuxc6HDUzm1eVmjZyY9zWzW23snMa</td>\n",
       "      <td>NaN</td>\n",
       "      <td>NaN</td>\n",
       "    </tr>\n",
       "    <tr>\n",
       "      <th>2</th>\n",
       "      <td>rLJj2tDG3hXhKmhijNchGzXHf6baa8HVw2</td>\n",
       "      <td>NaN</td>\n",
       "      <td>NaN</td>\n",
       "    </tr>\n",
       "    <tr>\n",
       "      <th>3</th>\n",
       "      <td>rogue5HnPRSszD9CWGSUz8UGHMVwSSKF6</td>\n",
       "      <td>0.10072363</td>\n",
       "      <td>CNY</td>\n",
       "    </tr>\n",
       "    <tr>\n",
       "      <th>4</th>\n",
       "      <td>ra7mnD89mz1sKNBDHo9NJcEJy9RMxMwdJX</td>\n",
       "      <td>NaN</td>\n",
       "      <td>NaN</td>\n",
       "    </tr>\n",
       "    <tr>\n",
       "      <th>5</th>\n",
       "      <td>ra7mnD89mz1sKNBDHo9NJcEJy9RMxMwdJX</td>\n",
       "      <td>NaN</td>\n",
       "      <td>NaN</td>\n",
       "    </tr>\n",
       "    <tr>\n",
       "      <th>6</th>\n",
       "      <td>ra7mnD89mz1sKNBDHo9NJcEJy9RMxMwdJX</td>\n",
       "      <td>NaN</td>\n",
       "      <td>NaN</td>\n",
       "    </tr>\n",
       "    <tr>\n",
       "      <th>7</th>\n",
       "      <td>rDYbrHsuaHHWrYEycWGf8d6E3UCy8sDQYB</td>\n",
       "      <td>NaN</td>\n",
       "      <td>NaN</td>\n",
       "    </tr>\n",
       "    <tr>\n",
       "      <th>8</th>\n",
       "      <td>rBz47fbhq449Xjqz6WzwXozHe212YJ3QUu</td>\n",
       "      <td>3562.068</td>\n",
       "      <td>CNY</td>\n",
       "    </tr>\n",
       "    <tr>\n",
       "      <th>9</th>\n",
       "      <td>rBz47fbhq449Xjqz6WzwXozHe212YJ3QUu</td>\n",
       "      <td>2242.806</td>\n",
       "      <td>CNY</td>\n",
       "    </tr>\n",
       "  </tbody>\n",
       "</table>\n",
       "</div>"
      ],
      "text/plain": [
       "                               sender senderAmount senderCurrency\n",
       "0  rwNvFwF1jVKhJJo6bnNWqCeqjRVVM4pwmZ          NaN            NaN\n",
       "1  rBbVbvuxc6HDUzm1eVmjZyY9zWzW23snMa          NaN            NaN\n",
       "2  rLJj2tDG3hXhKmhijNchGzXHf6baa8HVw2          NaN            NaN\n",
       "3   rogue5HnPRSszD9CWGSUz8UGHMVwSSKF6   0.10072363            CNY\n",
       "4  ra7mnD89mz1sKNBDHo9NJcEJy9RMxMwdJX          NaN            NaN\n",
       "5  ra7mnD89mz1sKNBDHo9NJcEJy9RMxMwdJX          NaN            NaN\n",
       "6  ra7mnD89mz1sKNBDHo9NJcEJy9RMxMwdJX          NaN            NaN\n",
       "7  rDYbrHsuaHHWrYEycWGf8d6E3UCy8sDQYB          NaN            NaN\n",
       "8  rBz47fbhq449Xjqz6WzwXozHe212YJ3QUu     3562.068            CNY\n",
       "9  rBz47fbhq449Xjqz6WzwXozHe212YJ3QUu     2242.806            CNY"
      ]
     },
     "execution_count": 6,
     "metadata": {},
     "output_type": "execute_result"
    }
   ],
   "source": [
    "df[['sender','senderAmount', 'senderCurrency']].head(10)"
   ]
  },
  {
   "cell_type": "markdown",
   "metadata": {},
   "source": [
    "sender : Account number of the sender\n",
    "\n",
    "senderAmount : Amount of money send. It contains the money + transaction fee + exchange fee\n",
    "\n",
    "senderCurrency : Currency used by the sender"
   ]
  },
  {
   "cell_type": "markdown",
   "metadata": {},
   "source": [
    "### Receiver"
   ]
  },
  {
   "cell_type": "code",
   "execution_count": 7,
   "metadata": {},
   "outputs": [
    {
     "data": {
      "text/html": [
       "<div>\n",
       "<style scoped>\n",
       "    .dataframe tbody tr th:only-of-type {\n",
       "        vertical-align: middle;\n",
       "    }\n",
       "\n",
       "    .dataframe tbody tr th {\n",
       "        vertical-align: top;\n",
       "    }\n",
       "\n",
       "    .dataframe thead th {\n",
       "        text-align: right;\n",
       "    }\n",
       "</style>\n",
       "<table border=\"1\" class=\"dataframe\">\n",
       "  <thead>\n",
       "    <tr style=\"text-align: right;\">\n",
       "      <th></th>\n",
       "      <th>receiver</th>\n",
       "      <th>actualReceiverAmount</th>\n",
       "      <th>receiverAmount</th>\n",
       "      <th>actualReceiverCurrency</th>\n",
       "      <th>receiverCurrency</th>\n",
       "    </tr>\n",
       "  </thead>\n",
       "  <tbody>\n",
       "    <tr>\n",
       "      <th>0</th>\n",
       "      <td>rJj4Y1Vk2ZeFCGLnxN1R8wNvE6Q1ZYzd2A</td>\n",
       "      <td>480.000000</td>\n",
       "      <td>NaN</td>\n",
       "      <td>XRP</td>\n",
       "      <td>NaN</td>\n",
       "    </tr>\n",
       "    <tr>\n",
       "      <th>1</th>\n",
       "      <td>rUTonwTH88DLjaq1pNHVjzJwEtLTVVEB35</td>\n",
       "      <td>4.900000</td>\n",
       "      <td>NaN</td>\n",
       "      <td>XRP</td>\n",
       "      <td>NaN</td>\n",
       "    </tr>\n",
       "    <tr>\n",
       "      <th>2</th>\n",
       "      <td>rh2GPYezFhVWaNJU89fQNechgu7R7DKzrt</td>\n",
       "      <td>20480.000000</td>\n",
       "      <td>NaN</td>\n",
       "      <td>XRP</td>\n",
       "      <td>NaN</td>\n",
       "    </tr>\n",
       "    <tr>\n",
       "      <th>3</th>\n",
       "      <td>rogue5HnPRSszD9CWGSUz8UGHMVwSSKF6</td>\n",
       "      <td>0.342302</td>\n",
       "      <td>0.342302</td>\n",
       "      <td>XRP</td>\n",
       "      <td>XRP</td>\n",
       "    </tr>\n",
       "    <tr>\n",
       "      <th>4</th>\n",
       "      <td>rp2diYfVtpbgEMyaoWnuaWgFCAkqCAEg28</td>\n",
       "      <td>39000.000000</td>\n",
       "      <td>NaN</td>\n",
       "      <td>XRP</td>\n",
       "      <td>NaN</td>\n",
       "    </tr>\n",
       "    <tr>\n",
       "      <th>5</th>\n",
       "      <td>rp2diYfVtpbgEMyaoWnuaWgFCAkqCAEg28</td>\n",
       "      <td>50000.000000</td>\n",
       "      <td>NaN</td>\n",
       "      <td>XRP</td>\n",
       "      <td>NaN</td>\n",
       "    </tr>\n",
       "    <tr>\n",
       "      <th>6</th>\n",
       "      <td>rp2diYfVtpbgEMyaoWnuaWgFCAkqCAEg28</td>\n",
       "      <td>100070.000000</td>\n",
       "      <td>NaN</td>\n",
       "      <td>XRP</td>\n",
       "      <td>NaN</td>\n",
       "    </tr>\n",
       "    <tr>\n",
       "      <th>7</th>\n",
       "      <td>rE8y6WyEEbToUp7oiPjzdAik4YkVezLPxV</td>\n",
       "      <td>166635.000000</td>\n",
       "      <td>NaN</td>\n",
       "      <td>XRP</td>\n",
       "      <td>NaN</td>\n",
       "    </tr>\n",
       "    <tr>\n",
       "      <th>8</th>\n",
       "      <td>rJUdngAfcZmratmZtDCpUGkqK9D2vGYrQt</td>\n",
       "      <td>3526.8</td>\n",
       "      <td>3526.8</td>\n",
       "      <td>CNY</td>\n",
       "      <td>CNY</td>\n",
       "    </tr>\n",
       "    <tr>\n",
       "      <th>9</th>\n",
       "      <td>rJUdngAfcZmratmZtDCpUGkqK9D2vGYrQt</td>\n",
       "      <td>2220.6</td>\n",
       "      <td>2220.6</td>\n",
       "      <td>CNY</td>\n",
       "      <td>CNY</td>\n",
       "    </tr>\n",
       "  </tbody>\n",
       "</table>\n",
       "</div>"
      ],
      "text/plain": [
       "                             receiver actualReceiverAmount receiverAmount  \\\n",
       "0  rJj4Y1Vk2ZeFCGLnxN1R8wNvE6Q1ZYzd2A           480.000000            NaN   \n",
       "1  rUTonwTH88DLjaq1pNHVjzJwEtLTVVEB35             4.900000            NaN   \n",
       "2  rh2GPYezFhVWaNJU89fQNechgu7R7DKzrt         20480.000000            NaN   \n",
       "3   rogue5HnPRSszD9CWGSUz8UGHMVwSSKF6             0.342302       0.342302   \n",
       "4  rp2diYfVtpbgEMyaoWnuaWgFCAkqCAEg28         39000.000000            NaN   \n",
       "5  rp2diYfVtpbgEMyaoWnuaWgFCAkqCAEg28         50000.000000            NaN   \n",
       "6  rp2diYfVtpbgEMyaoWnuaWgFCAkqCAEg28        100070.000000            NaN   \n",
       "7  rE8y6WyEEbToUp7oiPjzdAik4YkVezLPxV        166635.000000            NaN   \n",
       "8  rJUdngAfcZmratmZtDCpUGkqK9D2vGYrQt               3526.8         3526.8   \n",
       "9  rJUdngAfcZmratmZtDCpUGkqK9D2vGYrQt               2220.6         2220.6   \n",
       "\n",
       "  actualReceiverCurrency receiverCurrency  \n",
       "0                    XRP              NaN  \n",
       "1                    XRP              NaN  \n",
       "2                    XRP              NaN  \n",
       "3                    XRP              XRP  \n",
       "4                    XRP              NaN  \n",
       "5                    XRP              NaN  \n",
       "6                    XRP              NaN  \n",
       "7                    XRP              NaN  \n",
       "8                    CNY              CNY  \n",
       "9                    CNY              CNY  "
      ]
     },
     "execution_count": 7,
     "metadata": {},
     "output_type": "execute_result"
    }
   ],
   "source": [
    "df[['receiver', 'actualReceiverAmount', 'receiverAmount', 'actualReceiverCurrency', 'receiverCurrency']].head(10)"
   ]
  },
  {
   "cell_type": "markdown",
   "metadata": {},
   "source": [
    "receiver : Account number of the receiver\n",
    "\n",
    "receiverAmount : Amount of money received\n",
    "\n",
    "receiverCurrency : Currency used by the receiver"
   ]
  },
  {
   "cell_type": "markdown",
   "metadata": {},
   "source": [
    "### Issuer"
   ]
  },
  {
   "cell_type": "code",
   "execution_count": 8,
   "metadata": {},
   "outputs": [
    {
     "data": {
      "text/html": [
       "<div>\n",
       "<style scoped>\n",
       "    .dataframe tbody tr th:only-of-type {\n",
       "        vertical-align: middle;\n",
       "    }\n",
       "\n",
       "    .dataframe tbody tr th {\n",
       "        vertical-align: top;\n",
       "    }\n",
       "\n",
       "    .dataframe thead th {\n",
       "        text-align: right;\n",
       "    }\n",
       "</style>\n",
       "<table border=\"1\" class=\"dataframe\">\n",
       "  <thead>\n",
       "    <tr style=\"text-align: right;\">\n",
       "      <th></th>\n",
       "      <th>issuerSender</th>\n",
       "      <th>actualIssuerReceiver</th>\n",
       "      <th>issuerReceiver</th>\n",
       "    </tr>\n",
       "  </thead>\n",
       "  <tbody>\n",
       "    <tr>\n",
       "      <th>0</th>\n",
       "      <td>NaN</td>\n",
       "      <td>--</td>\n",
       "      <td>NaN</td>\n",
       "    </tr>\n",
       "    <tr>\n",
       "      <th>1</th>\n",
       "      <td>NaN</td>\n",
       "      <td>--</td>\n",
       "      <td>NaN</td>\n",
       "    </tr>\n",
       "    <tr>\n",
       "      <th>2</th>\n",
       "      <td>NaN</td>\n",
       "      <td>--</td>\n",
       "      <td>NaN</td>\n",
       "    </tr>\n",
       "    <tr>\n",
       "      <th>3</th>\n",
       "      <td>rKiCet8SdvWxPXnAgYarFUXMh1zCPz432Y</td>\n",
       "      <td>--</td>\n",
       "      <td>--</td>\n",
       "    </tr>\n",
       "    <tr>\n",
       "      <th>4</th>\n",
       "      <td>NaN</td>\n",
       "      <td>--</td>\n",
       "      <td>NaN</td>\n",
       "    </tr>\n",
       "    <tr>\n",
       "      <th>5</th>\n",
       "      <td>NaN</td>\n",
       "      <td>--</td>\n",
       "      <td>NaN</td>\n",
       "    </tr>\n",
       "    <tr>\n",
       "      <th>6</th>\n",
       "      <td>NaN</td>\n",
       "      <td>--</td>\n",
       "      <td>NaN</td>\n",
       "    </tr>\n",
       "    <tr>\n",
       "      <th>7</th>\n",
       "      <td>NaN</td>\n",
       "      <td>--</td>\n",
       "      <td>NaN</td>\n",
       "    </tr>\n",
       "    <tr>\n",
       "      <th>8</th>\n",
       "      <td>--</td>\n",
       "      <td>rJUdngAfcZmratmZtDCpUGkqK9D2vGYrQt</td>\n",
       "      <td>--</td>\n",
       "    </tr>\n",
       "    <tr>\n",
       "      <th>9</th>\n",
       "      <td>--</td>\n",
       "      <td>rJUdngAfcZmratmZtDCpUGkqK9D2vGYrQt</td>\n",
       "      <td>--</td>\n",
       "    </tr>\n",
       "  </tbody>\n",
       "</table>\n",
       "</div>"
      ],
      "text/plain": [
       "                         issuerSender                actualIssuerReceiver  \\\n",
       "0                                 NaN                                  --   \n",
       "1                                 NaN                                  --   \n",
       "2                                 NaN                                  --   \n",
       "3  rKiCet8SdvWxPXnAgYarFUXMh1zCPz432Y                                  --   \n",
       "4                                 NaN                                  --   \n",
       "5                                 NaN                                  --   \n",
       "6                                 NaN                                  --   \n",
       "7                                 NaN                                  --   \n",
       "8                                  --  rJUdngAfcZmratmZtDCpUGkqK9D2vGYrQt   \n",
       "9                                  --  rJUdngAfcZmratmZtDCpUGkqK9D2vGYrQt   \n",
       "\n",
       "  issuerReceiver  \n",
       "0            NaN  \n",
       "1            NaN  \n",
       "2            NaN  \n",
       "3             --  \n",
       "4            NaN  \n",
       "5            NaN  \n",
       "6            NaN  \n",
       "7            NaN  \n",
       "8             --  \n",
       "9             --  "
      ]
     },
     "execution_count": 8,
     "metadata": {},
     "output_type": "execute_result"
    }
   ],
   "source": [
    "df[['issuerSender', 'actualIssuerReceiver', 'issuerReceiver']].head(10)"
   ]
  },
  {
   "cell_type": "markdown",
   "metadata": {},
   "source": [
    "issuerSender : Financial institution of the sender\n",
    "\n",
    "issuerReceiver : Financial institution of the receiver"
   ]
  },
  {
   "cell_type": "markdown",
   "metadata": {},
   "source": [
    "### Transaction properties"
   ]
  },
  {
   "cell_type": "code",
   "execution_count": 9,
   "metadata": {},
   "outputs": [
    {
     "data": {
      "text/html": [
       "<div>\n",
       "<style scoped>\n",
       "    .dataframe tbody tr th:only-of-type {\n",
       "        vertical-align: middle;\n",
       "    }\n",
       "\n",
       "    .dataframe tbody tr th {\n",
       "        vertical-align: top;\n",
       "    }\n",
       "\n",
       "    .dataframe thead th {\n",
       "        text-align: right;\n",
       "    }\n",
       "</style>\n",
       "<table border=\"1\" class=\"dataframe\">\n",
       "  <thead>\n",
       "    <tr style=\"text-align: right;\">\n",
       "      <th></th>\n",
       "      <th>fee</th>\n",
       "      <th>date</th>\n",
       "      <th>hash</th>\n",
       "      <th>offers</th>\n",
       "      <th>links</th>\n",
       "      <th>success</th>\n",
       "    </tr>\n",
       "  </thead>\n",
       "  <tbody>\n",
       "    <tr>\n",
       "      <th>0</th>\n",
       "      <td>0.000015</td>\n",
       "      <td>2017-08-28T14:30:01+00:00</td>\n",
       "      <td>FEE8EE1CBCF388D647D9451E867F9D6A3A7644C8C9994F...</td>\n",
       "      <td>NaN</td>\n",
       "      <td>NaN</td>\n",
       "      <td>tesSUCCESS</td>\n",
       "    </tr>\n",
       "    <tr>\n",
       "      <th>1</th>\n",
       "      <td>0.000012</td>\n",
       "      <td>2017-04-18T10:06:00+00:00</td>\n",
       "      <td>F67A2A2B691E45488F93D095EBC9BA8B60FADC201C9596...</td>\n",
       "      <td>NaN</td>\n",
       "      <td>NaN</td>\n",
       "      <td>tesSUCCESS</td>\n",
       "    </tr>\n",
       "    <tr>\n",
       "      <th>2</th>\n",
       "      <td>0.000015</td>\n",
       "      <td>2017-08-24T08:56:01+00:00</td>\n",
       "      <td>EA9E2424E9BED5C01AF2BD295306905A2C1A2E839F9C67...</td>\n",
       "      <td>NaN</td>\n",
       "      <td>NaN</td>\n",
       "      <td>tesSUCCESS</td>\n",
       "    </tr>\n",
       "    <tr>\n",
       "      <th>3</th>\n",
       "      <td>0.010000</td>\n",
       "      <td>2017-04-29T10:58:32+00:00</td>\n",
       "      <td>05624C6AD74ECEBAD7C872CDA7716B802C2E84B267DEC1...</td>\n",
       "      <td>[{'takerPays': '971.048447 XRP', 'takerGets': ...</td>\n",
       "      <td>[{'isIncr': True, 'currency': 'CNY', 'amount':...</td>\n",
       "      <td>tesSUCCESS</td>\n",
       "    </tr>\n",
       "    <tr>\n",
       "      <th>4</th>\n",
       "      <td>0.000015</td>\n",
       "      <td>2017-06-27T11:17:02+00:00</td>\n",
       "      <td>C7C3007914E8B15890CA5B8F547AA7D5C7F5E28E4FA161...</td>\n",
       "      <td>NaN</td>\n",
       "      <td>NaN</td>\n",
       "      <td>tesSUCCESS</td>\n",
       "    </tr>\n",
       "    <tr>\n",
       "      <th>5</th>\n",
       "      <td>0.000015</td>\n",
       "      <td>2017-07-01T11:38:20+00:00</td>\n",
       "      <td>595E6544939C0479746B4648E86B05DBAFE87166968B11...</td>\n",
       "      <td>NaN</td>\n",
       "      <td>NaN</td>\n",
       "      <td>tesSUCCESS</td>\n",
       "    </tr>\n",
       "    <tr>\n",
       "      <th>6</th>\n",
       "      <td>0.000015</td>\n",
       "      <td>2017-07-01T11:44:01+00:00</td>\n",
       "      <td>524AE7E669B0B9F2AE0A1EDDB4407725172F5FB308B477...</td>\n",
       "      <td>NaN</td>\n",
       "      <td>NaN</td>\n",
       "      <td>tesSUCCESS</td>\n",
       "    </tr>\n",
       "    <tr>\n",
       "      <th>7</th>\n",
       "      <td>0.000015</td>\n",
       "      <td>2017-06-09T14:12:12+00:00</td>\n",
       "      <td>4A739E9FBE09D19A8E6F935325DC98C1CBF2512B37886C...</td>\n",
       "      <td>NaN</td>\n",
       "      <td>NaN</td>\n",
       "      <td>tesSUCCESS</td>\n",
       "    </tr>\n",
       "    <tr>\n",
       "      <th>8</th>\n",
       "      <td>0.000012</td>\n",
       "      <td>2017-06-14T11:36:32+00:00</td>\n",
       "      <td>89B86B846D4C9B157B8186C316834593648BDE04F328B0...</td>\n",
       "      <td>NaN</td>\n",
       "      <td>[{'isIncr': False, 'currency': 'CNY', 'amount'...</td>\n",
       "      <td>tesSUCCESS</td>\n",
       "    </tr>\n",
       "    <tr>\n",
       "      <th>9</th>\n",
       "      <td>0.000012</td>\n",
       "      <td>2017-06-29T14:24:22+00:00</td>\n",
       "      <td>40EDDACAA577B3B08B1DF613F034E527782D3C045B27A1...</td>\n",
       "      <td>NaN</td>\n",
       "      <td>[{'isIncr': False, 'currency': 'CNY', 'amount'...</td>\n",
       "      <td>tesSUCCESS</td>\n",
       "    </tr>\n",
       "  </tbody>\n",
       "</table>\n",
       "</div>"
      ],
      "text/plain": [
       "        fee                       date  \\\n",
       "0  0.000015  2017-08-28T14:30:01+00:00   \n",
       "1  0.000012  2017-04-18T10:06:00+00:00   \n",
       "2  0.000015  2017-08-24T08:56:01+00:00   \n",
       "3  0.010000  2017-04-29T10:58:32+00:00   \n",
       "4  0.000015  2017-06-27T11:17:02+00:00   \n",
       "5  0.000015  2017-07-01T11:38:20+00:00   \n",
       "6  0.000015  2017-07-01T11:44:01+00:00   \n",
       "7  0.000015  2017-06-09T14:12:12+00:00   \n",
       "8  0.000012  2017-06-14T11:36:32+00:00   \n",
       "9  0.000012  2017-06-29T14:24:22+00:00   \n",
       "\n",
       "                                                hash  \\\n",
       "0  FEE8EE1CBCF388D647D9451E867F9D6A3A7644C8C9994F...   \n",
       "1  F67A2A2B691E45488F93D095EBC9BA8B60FADC201C9596...   \n",
       "2  EA9E2424E9BED5C01AF2BD295306905A2C1A2E839F9C67...   \n",
       "3  05624C6AD74ECEBAD7C872CDA7716B802C2E84B267DEC1...   \n",
       "4  C7C3007914E8B15890CA5B8F547AA7D5C7F5E28E4FA161...   \n",
       "5  595E6544939C0479746B4648E86B05DBAFE87166968B11...   \n",
       "6  524AE7E669B0B9F2AE0A1EDDB4407725172F5FB308B477...   \n",
       "7  4A739E9FBE09D19A8E6F935325DC98C1CBF2512B37886C...   \n",
       "8  89B86B846D4C9B157B8186C316834593648BDE04F328B0...   \n",
       "9  40EDDACAA577B3B08B1DF613F034E527782D3C045B27A1...   \n",
       "\n",
       "                                              offers  \\\n",
       "0                                                NaN   \n",
       "1                                                NaN   \n",
       "2                                                NaN   \n",
       "3  [{'takerPays': '971.048447 XRP', 'takerGets': ...   \n",
       "4                                                NaN   \n",
       "5                                                NaN   \n",
       "6                                                NaN   \n",
       "7                                                NaN   \n",
       "8                                                NaN   \n",
       "9                                                NaN   \n",
       "\n",
       "                                               links     success  \n",
       "0                                                NaN  tesSUCCESS  \n",
       "1                                                NaN  tesSUCCESS  \n",
       "2                                                NaN  tesSUCCESS  \n",
       "3  [{'isIncr': True, 'currency': 'CNY', 'amount':...  tesSUCCESS  \n",
       "4                                                NaN  tesSUCCESS  \n",
       "5                                                NaN  tesSUCCESS  \n",
       "6                                                NaN  tesSUCCESS  \n",
       "7                                                NaN  tesSUCCESS  \n",
       "8  [{'isIncr': False, 'currency': 'CNY', 'amount'...  tesSUCCESS  \n",
       "9  [{'isIncr': False, 'currency': 'CNY', 'amount'...  tesSUCCESS  "
      ]
     },
     "execution_count": 9,
     "metadata": {},
     "output_type": "execute_result"
    }
   ],
   "source": [
    "df[['fee','date','hash', 'offers', 'links','success']].head(10)"
   ]
  },
  {
   "cell_type": "code",
   "execution_count": 10,
   "metadata": {},
   "outputs": [
    {
     "data": {
      "text/plain": [
       "0                   tesSUCCESS\n",
       "852602     tecUNFUNDED_PAYMENT\n",
       "852834             tecPATH_DRY\n",
       "853112         tecPATH_PARTIAL\n",
       "853993     tecNO_DST_INSUF_XRP\n",
       "854125       tecDST_TAG_NEEDED\n",
       "1136781              tecNO_DST\n",
       "Name: success, dtype: object"
      ]
     },
     "execution_count": 10,
     "metadata": {},
     "output_type": "execute_result"
    }
   ],
   "source": [
    "df['success'].drop_duplicates()"
   ]
  },
  {
   "cell_type": "code",
   "execution_count": 11,
   "metadata": {},
   "outputs": [
    {
     "data": {
      "text/plain": [
       "[{'isIncr': False,\n",
       "  'account': 'rwNvFwF1jVKhJJo6bnNWqCeqjRVVM4pwmZ',\n",
       "  'amount': 480.000015},\n",
       " {'isIncr': True,\n",
       "  'account': 'rJj4Y1Vk2ZeFCGLnxN1R8wNvE6Q1ZYzd2A',\n",
       "  'amount': 480.0}]"
      ]
     },
     "execution_count": 11,
     "metadata": {},
     "output_type": "execute_result"
    }
   ],
   "source": [
    "df['XRPAcc'][0]"
   ]
  },
  {
   "cell_type": "markdown",
   "metadata": {},
   "source": [
    "fee : Cost of the transaction\n",
    "\n",
    "date : Date of the transaction\n",
    "\n",
    "hash : Hash of the transaction\n",
    "\n",
    "offers : Exchange fee used in the transaction\n",
    "\n",
    "links : Show exact path of the transaction\n",
    "\n",
    "success : result of the transaction:\n",
    "    * tesSUCCESS : successful transactions\n",
    "    * others : unsuccessful, for more details see https://developers.ripple.com/transaction-results.html\n",
    "   \n",
    "xrpacc : Summary of the transaction (like an acknowledgement?)"
   ]
  },
  {
   "cell_type": "markdown",
   "metadata": {},
   "source": [
    "### Transaction options"
   ]
  },
  {
   "cell_type": "code",
   "execution_count": 12,
   "metadata": {},
   "outputs": [
    {
     "data": {
      "text/html": [
       "<div>\n",
       "<style scoped>\n",
       "    .dataframe tbody tr th:only-of-type {\n",
       "        vertical-align: middle;\n",
       "    }\n",
       "\n",
       "    .dataframe tbody tr th {\n",
       "        vertical-align: top;\n",
       "    }\n",
       "\n",
       "    .dataframe thead th {\n",
       "        text-align: right;\n",
       "    }\n",
       "</style>\n",
       "<table border=\"1\" class=\"dataframe\">\n",
       "  <thead>\n",
       "    <tr style=\"text-align: right;\">\n",
       "      <th></th>\n",
       "      <th>flags</th>\n",
       "      <th>paths</th>\n",
       "    </tr>\n",
       "  </thead>\n",
       "  <tbody>\n",
       "    <tr>\n",
       "      <th>0</th>\n",
       "      <td>[tfFullyCanonicalSig]</td>\n",
       "      <td>NaN</td>\n",
       "    </tr>\n",
       "    <tr>\n",
       "      <th>1</th>\n",
       "      <td>[tfFullyCanonicalSig]</td>\n",
       "      <td>NaN</td>\n",
       "    </tr>\n",
       "    <tr>\n",
       "      <th>2</th>\n",
       "      <td>[tfFullyCanonicalSig]</td>\n",
       "      <td>NaN</td>\n",
       "    </tr>\n",
       "    <tr>\n",
       "      <th>3</th>\n",
       "      <td>[tfNoDirectRipple, tfPartialPayment, tfLimitQu...</td>\n",
       "      <td>[[{'currency': 'CNY', 'issuer': 'razqQKzJRdB4U...</td>\n",
       "    </tr>\n",
       "    <tr>\n",
       "      <th>4</th>\n",
       "      <td>[tfFullyCanonicalSig]</td>\n",
       "      <td>NaN</td>\n",
       "    </tr>\n",
       "    <tr>\n",
       "      <th>5</th>\n",
       "      <td>[tfFullyCanonicalSig]</td>\n",
       "      <td>NaN</td>\n",
       "    </tr>\n",
       "    <tr>\n",
       "      <th>6</th>\n",
       "      <td>[tfFullyCanonicalSig]</td>\n",
       "      <td>NaN</td>\n",
       "    </tr>\n",
       "    <tr>\n",
       "      <th>7</th>\n",
       "      <td>[tfFullyCanonicalSig]</td>\n",
       "      <td>NaN</td>\n",
       "    </tr>\n",
       "    <tr>\n",
       "      <th>8</th>\n",
       "      <td>[tfFullyCanonicalSig]</td>\n",
       "      <td>[[{'account': 'rKiCet8SdvWxPXnAgYarFUXMh1zCPz4...</td>\n",
       "    </tr>\n",
       "    <tr>\n",
       "      <th>9</th>\n",
       "      <td>[tfFullyCanonicalSig]</td>\n",
       "      <td>[[{'account': 'rKiCet8SdvWxPXnAgYarFUXMh1zCPz4...</td>\n",
       "    </tr>\n",
       "  </tbody>\n",
       "</table>\n",
       "</div>"
      ],
      "text/plain": [
       "                                               flags  \\\n",
       "0                              [tfFullyCanonicalSig]   \n",
       "1                              [tfFullyCanonicalSig]   \n",
       "2                              [tfFullyCanonicalSig]   \n",
       "3  [tfNoDirectRipple, tfPartialPayment, tfLimitQu...   \n",
       "4                              [tfFullyCanonicalSig]   \n",
       "5                              [tfFullyCanonicalSig]   \n",
       "6                              [tfFullyCanonicalSig]   \n",
       "7                              [tfFullyCanonicalSig]   \n",
       "8                              [tfFullyCanonicalSig]   \n",
       "9                              [tfFullyCanonicalSig]   \n",
       "\n",
       "                                               paths  \n",
       "0                                                NaN  \n",
       "1                                                NaN  \n",
       "2                                                NaN  \n",
       "3  [[{'currency': 'CNY', 'issuer': 'razqQKzJRdB4U...  \n",
       "4                                                NaN  \n",
       "5                                                NaN  \n",
       "6                                                NaN  \n",
       "7                                                NaN  \n",
       "8  [[{'account': 'rKiCet8SdvWxPXnAgYarFUXMh1zCPz4...  \n",
       "9  [[{'account': 'rKiCet8SdvWxPXnAgYarFUXMh1zCPz4...  "
      ]
     },
     "execution_count": 12,
     "metadata": {},
     "output_type": "execute_result"
    }
   ],
   "source": [
    "df[['flags', 'paths']].head(10)"
   ]
  },
  {
   "cell_type": "code",
   "execution_count": 13,
   "metadata": {},
   "outputs": [
    {
     "data": {
      "text/plain": [
       "['tfFullyCanonicalSig',\n",
       " 'tfNoDirectRipple',\n",
       " 'tfPartialPayment',\n",
       " 'tfLimitQuality']"
      ]
     },
     "execution_count": 13,
     "metadata": {},
     "output_type": "execute_result"
    }
   ],
   "source": [
    "flags_list = []\n",
    "for flags in df['flags']:\n",
    "    for f in flags:\n",
    "        if f not in flags_list:\n",
    "            flags_list.append(f)\n",
    "flags_list"
   ]
  },
  {
   "cell_type": "markdown",
   "metadata": {},
   "source": [
    "flags : Options for the transactions: \n",
    "* tfFullyCanonicalSig : Require signature\n",
    "* tfNoDirectRipple : Use the path found in the paths field\n",
    "* tfPartialPayment : Enable if the amount of money received can be decreased (for example if too much exchange fee)\n",
    "* tfLimitQuality : Use path with a limited input/output ratio\n",
    "\n",
    "paths : Specified path used for the transaction"
   ]
  },
  {
   "cell_type": "markdown",
   "metadata": {},
   "source": [
    "## Questions"
   ]
  },
  {
   "cell_type": "markdown",
   "metadata": {},
   "source": [
    "### What is the difference between receiver and actualReceiver?"
   ]
  },
  {
   "cell_type": "code",
   "execution_count": 14,
   "metadata": {},
   "outputs": [
    {
     "data": {
      "text/html": [
       "<div>\n",
       "<style scoped>\n",
       "    .dataframe tbody tr th:only-of-type {\n",
       "        vertical-align: middle;\n",
       "    }\n",
       "\n",
       "    .dataframe tbody tr th {\n",
       "        vertical-align: top;\n",
       "    }\n",
       "\n",
       "    .dataframe thead th {\n",
       "        text-align: right;\n",
       "    }\n",
       "</style>\n",
       "<table border=\"1\" class=\"dataframe\">\n",
       "  <thead>\n",
       "    <tr style=\"text-align: right;\">\n",
       "      <th></th>\n",
       "      <th>actualReceiverAmount</th>\n",
       "      <th>receiverAmount</th>\n",
       "      <th>actualReceiverCurrency</th>\n",
       "      <th>receiverCurrency</th>\n",
       "    </tr>\n",
       "  </thead>\n",
       "  <tbody>\n",
       "    <tr>\n",
       "      <th>0</th>\n",
       "      <td>480.000000</td>\n",
       "      <td>NaN</td>\n",
       "      <td>XRP</td>\n",
       "      <td>NaN</td>\n",
       "    </tr>\n",
       "    <tr>\n",
       "      <th>1</th>\n",
       "      <td>4.900000</td>\n",
       "      <td>NaN</td>\n",
       "      <td>XRP</td>\n",
       "      <td>NaN</td>\n",
       "    </tr>\n",
       "    <tr>\n",
       "      <th>2</th>\n",
       "      <td>20480.000000</td>\n",
       "      <td>NaN</td>\n",
       "      <td>XRP</td>\n",
       "      <td>NaN</td>\n",
       "    </tr>\n",
       "    <tr>\n",
       "      <th>3</th>\n",
       "      <td>0.342302</td>\n",
       "      <td>0.342302</td>\n",
       "      <td>XRP</td>\n",
       "      <td>XRP</td>\n",
       "    </tr>\n",
       "    <tr>\n",
       "      <th>4</th>\n",
       "      <td>39000.000000</td>\n",
       "      <td>NaN</td>\n",
       "      <td>XRP</td>\n",
       "      <td>NaN</td>\n",
       "    </tr>\n",
       "    <tr>\n",
       "      <th>5</th>\n",
       "      <td>50000.000000</td>\n",
       "      <td>NaN</td>\n",
       "      <td>XRP</td>\n",
       "      <td>NaN</td>\n",
       "    </tr>\n",
       "    <tr>\n",
       "      <th>6</th>\n",
       "      <td>100070.000000</td>\n",
       "      <td>NaN</td>\n",
       "      <td>XRP</td>\n",
       "      <td>NaN</td>\n",
       "    </tr>\n",
       "    <tr>\n",
       "      <th>7</th>\n",
       "      <td>166635.000000</td>\n",
       "      <td>NaN</td>\n",
       "      <td>XRP</td>\n",
       "      <td>NaN</td>\n",
       "    </tr>\n",
       "    <tr>\n",
       "      <th>8</th>\n",
       "      <td>3526.8</td>\n",
       "      <td>3526.8</td>\n",
       "      <td>CNY</td>\n",
       "      <td>CNY</td>\n",
       "    </tr>\n",
       "    <tr>\n",
       "      <th>9</th>\n",
       "      <td>2220.6</td>\n",
       "      <td>2220.6</td>\n",
       "      <td>CNY</td>\n",
       "      <td>CNY</td>\n",
       "    </tr>\n",
       "  </tbody>\n",
       "</table>\n",
       "</div>"
      ],
      "text/plain": [
       "  actualReceiverAmount receiverAmount actualReceiverCurrency receiverCurrency\n",
       "0           480.000000            NaN                    XRP              NaN\n",
       "1             4.900000            NaN                    XRP              NaN\n",
       "2         20480.000000            NaN                    XRP              NaN\n",
       "3             0.342302       0.342302                    XRP              XRP\n",
       "4         39000.000000            NaN                    XRP              NaN\n",
       "5         50000.000000            NaN                    XRP              NaN\n",
       "6        100070.000000            NaN                    XRP              NaN\n",
       "7        166635.000000            NaN                    XRP              NaN\n",
       "8               3526.8         3526.8                    CNY              CNY\n",
       "9               2220.6         2220.6                    CNY              CNY"
      ]
     },
     "execution_count": 14,
     "metadata": {},
     "output_type": "execute_result"
    }
   ],
   "source": [
    "df[['actualReceiverAmount', 'receiverAmount', 'actualReceiverCurrency', 'receiverCurrency']].head(10)"
   ]
  },
  {
   "cell_type": "markdown",
   "metadata": {},
   "source": [
    "It looks like they represent the same information"
   ]
  },
  {
   "cell_type": "code",
   "execution_count": 15,
   "metadata": {},
   "outputs": [
    {
     "data": {
      "text/plain": [
       "0.183357129359397"
      ]
     },
     "execution_count": 15,
     "metadata": {},
     "output_type": "execute_result"
    }
   ],
   "source": [
    "temp = df[['actualReceiverAmount', 'receiverAmount']].dropna()\n",
    "len(temp[temp['actualReceiverAmount'] != temp['receiverAmount']])/len(temp)"
   ]
  },
  {
   "cell_type": "markdown",
   "metadata": {},
   "source": [
    "Roughly 20% are different. Hence what is the difference?"
   ]
  },
  {
   "cell_type": "markdown",
   "metadata": {},
   "source": [
    "### What is the difference between the actualIssuerReceiver and the issuerReceiver?"
   ]
  },
  {
   "cell_type": "code",
   "execution_count": 16,
   "metadata": {},
   "outputs": [
    {
     "data": {
      "text/html": [
       "<div>\n",
       "<style scoped>\n",
       "    .dataframe tbody tr th:only-of-type {\n",
       "        vertical-align: middle;\n",
       "    }\n",
       "\n",
       "    .dataframe tbody tr th {\n",
       "        vertical-align: top;\n",
       "    }\n",
       "\n",
       "    .dataframe thead th {\n",
       "        text-align: right;\n",
       "    }\n",
       "</style>\n",
       "<table border=\"1\" class=\"dataframe\">\n",
       "  <thead>\n",
       "    <tr style=\"text-align: right;\">\n",
       "      <th></th>\n",
       "      <th>actualIssuerReceiver</th>\n",
       "      <th>issuerReceiver</th>\n",
       "    </tr>\n",
       "  </thead>\n",
       "  <tbody>\n",
       "    <tr>\n",
       "      <th>0</th>\n",
       "      <td>--</td>\n",
       "      <td>NaN</td>\n",
       "    </tr>\n",
       "    <tr>\n",
       "      <th>1</th>\n",
       "      <td>--</td>\n",
       "      <td>NaN</td>\n",
       "    </tr>\n",
       "    <tr>\n",
       "      <th>2</th>\n",
       "      <td>--</td>\n",
       "      <td>NaN</td>\n",
       "    </tr>\n",
       "    <tr>\n",
       "      <th>3</th>\n",
       "      <td>--</td>\n",
       "      <td>--</td>\n",
       "    </tr>\n",
       "    <tr>\n",
       "      <th>4</th>\n",
       "      <td>--</td>\n",
       "      <td>NaN</td>\n",
       "    </tr>\n",
       "    <tr>\n",
       "      <th>5</th>\n",
       "      <td>--</td>\n",
       "      <td>NaN</td>\n",
       "    </tr>\n",
       "    <tr>\n",
       "      <th>6</th>\n",
       "      <td>--</td>\n",
       "      <td>NaN</td>\n",
       "    </tr>\n",
       "    <tr>\n",
       "      <th>7</th>\n",
       "      <td>--</td>\n",
       "      <td>NaN</td>\n",
       "    </tr>\n",
       "    <tr>\n",
       "      <th>8</th>\n",
       "      <td>rJUdngAfcZmratmZtDCpUGkqK9D2vGYrQt</td>\n",
       "      <td>--</td>\n",
       "    </tr>\n",
       "    <tr>\n",
       "      <th>9</th>\n",
       "      <td>rJUdngAfcZmratmZtDCpUGkqK9D2vGYrQt</td>\n",
       "      <td>--</td>\n",
       "    </tr>\n",
       "  </tbody>\n",
       "</table>\n",
       "</div>"
      ],
      "text/plain": [
       "                 actualIssuerReceiver issuerReceiver\n",
       "0                                  --            NaN\n",
       "1                                  --            NaN\n",
       "2                                  --            NaN\n",
       "3                                  --             --\n",
       "4                                  --            NaN\n",
       "5                                  --            NaN\n",
       "6                                  --            NaN\n",
       "7                                  --            NaN\n",
       "8  rJUdngAfcZmratmZtDCpUGkqK9D2vGYrQt             --\n",
       "9  rJUdngAfcZmratmZtDCpUGkqK9D2vGYrQt             --"
      ]
     },
     "execution_count": 16,
     "metadata": {},
     "output_type": "execute_result"
    }
   ],
   "source": [
    "df[['actualIssuerReceiver', 'issuerReceiver']].head(10)"
   ]
  },
  {
   "cell_type": "code",
   "execution_count": 17,
   "metadata": {},
   "outputs": [
    {
     "data": {
      "text/plain": [
       "True"
      ]
     },
     "execution_count": 17,
     "metadata": {},
     "output_type": "execute_result"
    }
   ],
   "source": [
    "temp = df[['actualIssuerReceiver', 'issuerReceiver']].replace('--', np.nan).dropna()\n",
    "temp['actualIssuerReceiver'].equals(temp['issuerReceiver'])"
   ]
  },
  {
   "cell_type": "markdown",
   "metadata": {},
   "source": [
    "There is no difference"
   ]
  },
  {
   "cell_type": "markdown",
   "metadata": {},
   "source": [
    "### About XRPAcc, is it exactly a summary of the transactions?"
   ]
  },
  {
   "cell_type": "code",
   "execution_count": 18,
   "metadata": {},
   "outputs": [
    {
     "data": {
      "text/plain": [
       "0    [{'isIncr': False, 'account': 'rwNvFwF1jVKhJJo...\n",
       "1    [{'isIncr': False, 'account': 'rBbVbvuxc6HDUzm...\n",
       "2    [{'isIncr': False, 'account': 'rLJj2tDG3hXhKmh...\n",
       "3    [{'isIncr': False, 'account': 'rmPbyAqWuvmtPHY...\n",
       "4    [{'isIncr': True, 'account': 'rp2diYfVtpbgEMya...\n",
       "5    [{'isIncr': True, 'account': 'rp2diYfVtpbgEMya...\n",
       "6    [{'isIncr': True, 'account': 'rp2diYfVtpbgEMya...\n",
       "7    [{'isIncr': False, 'account': 'rDYbrHsuaHHWrYE...\n",
       "8    [{'isIncr': False, 'account': 'rBz47fbhq449Xjq...\n",
       "9    [{'isIncr': False, 'account': 'rBz47fbhq449Xjq...\n",
       "Name: XRPAcc, dtype: object"
      ]
     },
     "execution_count": 18,
     "metadata": {},
     "output_type": "execute_result"
    }
   ],
   "source": [
    "df['XRPAcc'].head(10)"
   ]
  },
  {
   "cell_type": "code",
   "execution_count": 19,
   "metadata": {},
   "outputs": [],
   "source": [
    "# Assume isIncr = false is sender and isIncr = true is receiver\n",
    "def parse_xrpacc(elem):\n",
    "    if len(elem) == 2:\n",
    "        first = elem[0]\n",
    "        second = elem[1]\n",
    "        if not first['isIncr']:\n",
    "            sender_acc = first['account']\n",
    "            receiver_acc = second['account']\n",
    "        else: \n",
    "            sender_acc = second['account']\n",
    "            receiver_acc = first['account']\n",
    "        return sender_acc, receiver_acc\n",
    "    else:\n",
    "        return np.nan, np.nan"
   ]
  },
  {
   "cell_type": "code",
   "execution_count": 20,
   "metadata": {},
   "outputs": [],
   "source": [
    "df['acc'] = df['XRPAcc'].apply(lambda x: parse_xrpacc(x))"
   ]
  },
  {
   "cell_type": "code",
   "execution_count": 21,
   "metadata": {},
   "outputs": [],
   "source": [
    "df['acc-sender'] = df['acc'].apply(lambda x: x[0])\n",
    "df['acc-receiver'] = df['acc'].apply(lambda x: x[1])"
   ]
  },
  {
   "cell_type": "code",
   "execution_count": 22,
   "metadata": {},
   "outputs": [
    {
     "data": {
      "text/html": [
       "<div>\n",
       "<style scoped>\n",
       "    .dataframe tbody tr th:only-of-type {\n",
       "        vertical-align: middle;\n",
       "    }\n",
       "\n",
       "    .dataframe tbody tr th {\n",
       "        vertical-align: top;\n",
       "    }\n",
       "\n",
       "    .dataframe thead th {\n",
       "        text-align: right;\n",
       "    }\n",
       "</style>\n",
       "<table border=\"1\" class=\"dataframe\">\n",
       "  <thead>\n",
       "    <tr style=\"text-align: right;\">\n",
       "      <th></th>\n",
       "      <th>sender</th>\n",
       "      <th>acc-sender</th>\n",
       "      <th>receiver</th>\n",
       "      <th>acc-receiver</th>\n",
       "    </tr>\n",
       "  </thead>\n",
       "  <tbody>\n",
       "    <tr>\n",
       "      <th>0</th>\n",
       "      <td>rwNvFwF1jVKhJJo6bnNWqCeqjRVVM4pwmZ</td>\n",
       "      <td>rwNvFwF1jVKhJJo6bnNWqCeqjRVVM4pwmZ</td>\n",
       "      <td>rJj4Y1Vk2ZeFCGLnxN1R8wNvE6Q1ZYzd2A</td>\n",
       "      <td>rJj4Y1Vk2ZeFCGLnxN1R8wNvE6Q1ZYzd2A</td>\n",
       "    </tr>\n",
       "    <tr>\n",
       "      <th>1</th>\n",
       "      <td>rBbVbvuxc6HDUzm1eVmjZyY9zWzW23snMa</td>\n",
       "      <td>rBbVbvuxc6HDUzm1eVmjZyY9zWzW23snMa</td>\n",
       "      <td>rUTonwTH88DLjaq1pNHVjzJwEtLTVVEB35</td>\n",
       "      <td>rUTonwTH88DLjaq1pNHVjzJwEtLTVVEB35</td>\n",
       "    </tr>\n",
       "    <tr>\n",
       "      <th>2</th>\n",
       "      <td>rLJj2tDG3hXhKmhijNchGzXHf6baa8HVw2</td>\n",
       "      <td>rLJj2tDG3hXhKmhijNchGzXHf6baa8HVw2</td>\n",
       "      <td>rh2GPYezFhVWaNJU89fQNechgu7R7DKzrt</td>\n",
       "      <td>rh2GPYezFhVWaNJU89fQNechgu7R7DKzrt</td>\n",
       "    </tr>\n",
       "    <tr>\n",
       "      <th>3</th>\n",
       "      <td>rogue5HnPRSszD9CWGSUz8UGHMVwSSKF6</td>\n",
       "      <td>rmPbyAqWuvmtPHYykJMNgCxeiFye8Ge7H</td>\n",
       "      <td>rogue5HnPRSszD9CWGSUz8UGHMVwSSKF6</td>\n",
       "      <td>rogue5HnPRSszD9CWGSUz8UGHMVwSSKF6</td>\n",
       "    </tr>\n",
       "    <tr>\n",
       "      <th>4</th>\n",
       "      <td>ra7mnD89mz1sKNBDHo9NJcEJy9RMxMwdJX</td>\n",
       "      <td>ra7mnD89mz1sKNBDHo9NJcEJy9RMxMwdJX</td>\n",
       "      <td>rp2diYfVtpbgEMyaoWnuaWgFCAkqCAEg28</td>\n",
       "      <td>rp2diYfVtpbgEMyaoWnuaWgFCAkqCAEg28</td>\n",
       "    </tr>\n",
       "    <tr>\n",
       "      <th>5</th>\n",
       "      <td>ra7mnD89mz1sKNBDHo9NJcEJy9RMxMwdJX</td>\n",
       "      <td>ra7mnD89mz1sKNBDHo9NJcEJy9RMxMwdJX</td>\n",
       "      <td>rp2diYfVtpbgEMyaoWnuaWgFCAkqCAEg28</td>\n",
       "      <td>rp2diYfVtpbgEMyaoWnuaWgFCAkqCAEg28</td>\n",
       "    </tr>\n",
       "    <tr>\n",
       "      <th>6</th>\n",
       "      <td>ra7mnD89mz1sKNBDHo9NJcEJy9RMxMwdJX</td>\n",
       "      <td>ra7mnD89mz1sKNBDHo9NJcEJy9RMxMwdJX</td>\n",
       "      <td>rp2diYfVtpbgEMyaoWnuaWgFCAkqCAEg28</td>\n",
       "      <td>rp2diYfVtpbgEMyaoWnuaWgFCAkqCAEg28</td>\n",
       "    </tr>\n",
       "    <tr>\n",
       "      <th>7</th>\n",
       "      <td>rDYbrHsuaHHWrYEycWGf8d6E3UCy8sDQYB</td>\n",
       "      <td>rDYbrHsuaHHWrYEycWGf8d6E3UCy8sDQYB</td>\n",
       "      <td>rE8y6WyEEbToUp7oiPjzdAik4YkVezLPxV</td>\n",
       "      <td>rE8y6WyEEbToUp7oiPjzdAik4YkVezLPxV</td>\n",
       "    </tr>\n",
       "    <tr>\n",
       "      <th>13</th>\n",
       "      <td>rfzzj6YrYvirR4XoVAp6KY5X2THwVsCENP</td>\n",
       "      <td>rfzzj6YrYvirR4XoVAp6KY5X2THwVsCENP</td>\n",
       "      <td>rPVMhWBsfF9iMXYj3aAzJVkPDTFNSyWdKy</td>\n",
       "      <td>rPVMhWBsfF9iMXYj3aAzJVkPDTFNSyWdKy</td>\n",
       "    </tr>\n",
       "    <tr>\n",
       "      <th>14</th>\n",
       "      <td>rfzzj6YrYvirR4XoVAp6KY5X2THwVsCENP</td>\n",
       "      <td>rfzzj6YrYvirR4XoVAp6KY5X2THwVsCENP</td>\n",
       "      <td>rPVMhWBsfF9iMXYj3aAzJVkPDTFNSyWdKy</td>\n",
       "      <td>rPVMhWBsfF9iMXYj3aAzJVkPDTFNSyWdKy</td>\n",
       "    </tr>\n",
       "  </tbody>\n",
       "</table>\n",
       "</div>"
      ],
      "text/plain": [
       "                                sender                          acc-sender  \\\n",
       "0   rwNvFwF1jVKhJJo6bnNWqCeqjRVVM4pwmZ  rwNvFwF1jVKhJJo6bnNWqCeqjRVVM4pwmZ   \n",
       "1   rBbVbvuxc6HDUzm1eVmjZyY9zWzW23snMa  rBbVbvuxc6HDUzm1eVmjZyY9zWzW23snMa   \n",
       "2   rLJj2tDG3hXhKmhijNchGzXHf6baa8HVw2  rLJj2tDG3hXhKmhijNchGzXHf6baa8HVw2   \n",
       "3    rogue5HnPRSszD9CWGSUz8UGHMVwSSKF6   rmPbyAqWuvmtPHYykJMNgCxeiFye8Ge7H   \n",
       "4   ra7mnD89mz1sKNBDHo9NJcEJy9RMxMwdJX  ra7mnD89mz1sKNBDHo9NJcEJy9RMxMwdJX   \n",
       "5   ra7mnD89mz1sKNBDHo9NJcEJy9RMxMwdJX  ra7mnD89mz1sKNBDHo9NJcEJy9RMxMwdJX   \n",
       "6   ra7mnD89mz1sKNBDHo9NJcEJy9RMxMwdJX  ra7mnD89mz1sKNBDHo9NJcEJy9RMxMwdJX   \n",
       "7   rDYbrHsuaHHWrYEycWGf8d6E3UCy8sDQYB  rDYbrHsuaHHWrYEycWGf8d6E3UCy8sDQYB   \n",
       "13  rfzzj6YrYvirR4XoVAp6KY5X2THwVsCENP  rfzzj6YrYvirR4XoVAp6KY5X2THwVsCENP   \n",
       "14  rfzzj6YrYvirR4XoVAp6KY5X2THwVsCENP  rfzzj6YrYvirR4XoVAp6KY5X2THwVsCENP   \n",
       "\n",
       "                              receiver                        acc-receiver  \n",
       "0   rJj4Y1Vk2ZeFCGLnxN1R8wNvE6Q1ZYzd2A  rJj4Y1Vk2ZeFCGLnxN1R8wNvE6Q1ZYzd2A  \n",
       "1   rUTonwTH88DLjaq1pNHVjzJwEtLTVVEB35  rUTonwTH88DLjaq1pNHVjzJwEtLTVVEB35  \n",
       "2   rh2GPYezFhVWaNJU89fQNechgu7R7DKzrt  rh2GPYezFhVWaNJU89fQNechgu7R7DKzrt  \n",
       "3    rogue5HnPRSszD9CWGSUz8UGHMVwSSKF6   rogue5HnPRSszD9CWGSUz8UGHMVwSSKF6  \n",
       "4   rp2diYfVtpbgEMyaoWnuaWgFCAkqCAEg28  rp2diYfVtpbgEMyaoWnuaWgFCAkqCAEg28  \n",
       "5   rp2diYfVtpbgEMyaoWnuaWgFCAkqCAEg28  rp2diYfVtpbgEMyaoWnuaWgFCAkqCAEg28  \n",
       "6   rp2diYfVtpbgEMyaoWnuaWgFCAkqCAEg28  rp2diYfVtpbgEMyaoWnuaWgFCAkqCAEg28  \n",
       "7   rE8y6WyEEbToUp7oiPjzdAik4YkVezLPxV  rE8y6WyEEbToUp7oiPjzdAik4YkVezLPxV  \n",
       "13  rPVMhWBsfF9iMXYj3aAzJVkPDTFNSyWdKy  rPVMhWBsfF9iMXYj3aAzJVkPDTFNSyWdKy  \n",
       "14  rPVMhWBsfF9iMXYj3aAzJVkPDTFNSyWdKy  rPVMhWBsfF9iMXYj3aAzJVkPDTFNSyWdKy  "
      ]
     },
     "execution_count": 22,
     "metadata": {},
     "output_type": "execute_result"
    }
   ],
   "source": [
    "df[['sender', 'acc-sender', 'receiver', 'acc-receiver']].dropna().head(10)"
   ]
  },
  {
   "cell_type": "code",
   "execution_count": 23,
   "metadata": {},
   "outputs": [
    {
     "data": {
      "text/plain": [
       "(0.056082478704402444, 0.05436688690666855)"
      ]
     },
     "execution_count": 23,
     "metadata": {},
     "output_type": "execute_result"
    }
   ],
   "source": [
    "temp = df[['sender', 'acc-sender', 'receiver', 'acc-receiver']].dropna()\n",
    "len(temp[temp['sender'] != temp['acc-sender']])/len(temp), len(temp[temp['receiver'] != temp['acc-receiver']])/len(temp)"
   ]
  },
  {
   "cell_type": "markdown",
   "metadata": {},
   "source": [
    "We see that the sender in the sender field is generally the same as the sender in the XRPAcc field, same for receiver"
   ]
  },
  {
   "cell_type": "markdown",
   "metadata": {},
   "source": [
    "## Are gateways present in the account path?"
   ]
  },
  {
   "cell_type": "code",
   "execution_count": 24,
   "metadata": {},
   "outputs": [],
   "source": [
    "url = 'https://data.ripple.com/v2/gateways'\n",
    "result = requests.get(url).json()"
   ]
  },
  {
   "cell_type": "code",
   "execution_count": 25,
   "metadata": {},
   "outputs": [
    {
     "data": {
      "text/plain": [
       "{'BPG',\n",
       " 'BTC 2 Ripple',\n",
       " 'Bitso',\n",
       " 'Bitstamp',\n",
       " 'Coinex',\n",
       " 'Digital Gate Japan',\n",
       " 'Dividend Rippler',\n",
       " 'DotPayco',\n",
       " 'EXRP',\n",
       " 'GBI',\n",
       " 'Gatehub',\n",
       " 'Gatehub Fifth',\n",
       " 'Justcoin',\n",
       " 'Lake BTC',\n",
       " 'Mr. Exchange',\n",
       " 'Pax Moneta',\n",
       " 'Payroutes',\n",
       " 'Rippex',\n",
       " 'Ripple Exchange Tokyo',\n",
       " 'Ripple Fox',\n",
       " 'Ripple LatAm',\n",
       " 'Ripple Singapore',\n",
       " 'Ripple Trade Japan',\n",
       " 'RippleChina',\n",
       " 'RippleUnion',\n",
       " 'Ripula',\n",
       " 'SnapSwap',\n",
       " 'The Rock Trading',\n",
       " 'TokyoJPY',\n",
       " 'WisePass',\n",
       " 'rippleCN'}"
      ]
     },
     "execution_count": 25,
     "metadata": {},
     "output_type": "execute_result"
    }
   ],
   "source": [
    "gateways_set = set()\n",
    "gateways_accounts = set()\n",
    "gateways_names = set()\n",
    "\n",
    "for currency in result:\n",
    "    for elem in result[currency]:\n",
    "        name = elem['name']\n",
    "        account = elem['account']\n",
    "        gateways_set.add(tuple([name, account]))\n",
    "        gateways_accounts.add(account)\n",
    "        gateways_names.add(name)\n",
    "gateways_names"
   ]
  },
  {
   "cell_type": "code",
   "execution_count": 26,
   "metadata": {},
   "outputs": [
    {
     "data": {
      "text/plain": [
       "34"
      ]
     },
     "execution_count": 26,
     "metadata": {},
     "output_type": "execute_result"
    }
   ],
   "source": [
    "len(gateways_accounts)"
   ]
  },
  {
   "cell_type": "code",
   "execution_count": 27,
   "metadata": {},
   "outputs": [],
   "source": [
    "def how_many_gateways(column):\n",
    "    transactions_accounts = set()\n",
    "    transactions_accounts.update(df[column].values)\n",
    "    counter_in = 0\n",
    "    counter_out = 0\n",
    "    for acc in gateways_accounts:\n",
    "        if acc in transactions_accounts:\n",
    "            counter_in += 1\n",
    "        else:\n",
    "            counter_out += 1\n",
    "    print('Percentage of gateways in {} : {}'.format(column,counter_in * 100 / len(gateways_accounts)))\n",
    "    print('Percentage of gateways not in {} : {}'.format(column,counter_out * 100 / len(gateways_accounts)))"
   ]
  },
  {
   "cell_type": "code",
   "execution_count": 28,
   "metadata": {},
   "outputs": [
    {
     "name": "stdout",
     "output_type": "stream",
     "text": [
      "Percentage of gateways in sender : 35.294117647058826\n",
      "Percentage of gateways not in sender : 64.70588235294117\n",
      "Percentage of gateways in receiver : 88.23529411764706\n",
      "Percentage of gateways not in receiver : 11.764705882352942\n",
      "Percentage of gateways in issuerSender : 94.11764705882354\n",
      "Percentage of gateways not in issuerSender : 5.882352941176471\n",
      "Percentage of gateways in issuerReceiver : 97.05882352941177\n",
      "Percentage of gateways not in issuerReceiver : 2.9411764705882355\n",
      "Percentage of gateways in actualIssuerReceiver : 100.0\n",
      "Percentage of gateways not in actualIssuerReceiver : 0.0\n"
     ]
    }
   ],
   "source": [
    "l = ['sender', 'receiver', 'issuerSender', 'issuerReceiver', 'actualIssuerReceiver']\n",
    "for col in l:\n",
    "    how_many_gateways(col)"
   ]
  },
  {
   "cell_type": "markdown",
   "metadata": {},
   "source": [
    "As we can see, all the gateways accounts are present in the issuer fields "
   ]
  },
  {
   "cell_type": "code",
   "execution_count": 29,
   "metadata": {},
   "outputs": [],
   "source": [
    "transactions_accounts = set()\n",
    "\n",
    "transactions_accounts.update(df['issuerSender'].values)\n",
    "transactions_accounts.update(df['issuerReceiver'].values)\n",
    "transactions_accounts.update(df['sender'].values)\n",
    "transactions_accounts.update(df['receiver'].values)\n",
    "transactions_accounts.update(df['actualIssuerReceiver'].values)"
   ]
  },
  {
   "cell_type": "markdown",
   "metadata": {},
   "source": [
    "## Can we build a topology using the links between parent and account?"
   ]
  },
  {
   "cell_type": "code",
   "execution_count": 32,
   "metadata": {},
   "outputs": [
    {
     "name": "stdout",
     "output_type": "stream",
     "text": [
      "Time to do 100 requests : 34.05596208572388 seconds\n"
     ]
    }
   ],
   "source": [
    "import time\n",
    "\n",
    "start_time = time.time()\n",
    "counter = 0\n",
    "for acc in transactions_accounts:\n",
    "    if type(acc) is not float:\n",
    "        url = 'https://data.ripple.com/v2/accounts/'+acc\n",
    "        result = requests.get(url).json()\n",
    "        if 'account_data' in result:\n",
    "            parent = result['account_data']['parent']\n",
    "            if(parent in gateways_accounts):\n",
    "                print('ok', acc, parent)\n",
    "            counter += 1\n",
    "            if (counter % 10 == 0):\n",
    "                break\n",
    "time_elapsed = (time.time() - start_time)\n",
    "\n",
    "print('Time to do 10 requests : {} seconds'.format(time_elapsed))"
   ]
  },
  {
   "cell_type": "code",
   "execution_count": 33,
   "metadata": {},
   "outputs": [
    {
     "data": {
      "text/plain": [
       "220186"
      ]
     },
     "execution_count": 33,
     "metadata": {},
     "output_type": "execute_result"
    }
   ],
   "source": [
    "len(transactions_accounts)"
   ]
  },
  {
   "cell_type": "markdown",
   "metadata": {},
   "source": [
    "No, we are limited by the http request time"
   ]
  },
  {
   "cell_type": "markdown",
   "metadata": {},
   "source": [
    "## Can we build the topology by using getAccounts() ?"
   ]
  },
  {
   "cell_type": "code",
   "execution_count": 34,
   "metadata": {},
   "outputs": [],
   "source": [
    "def get_acc_parent(iterations):\n",
    "    acc_par_set = set()\n",
    "    for i in range(iterations):\n",
    "        url = 'https://data.ripple.com/v2/accounts/?descending=True'\n",
    "        result = requests.get(url).json()\n",
    "        for acc in result['accounts']:\n",
    "            if (result['result'] == 'success'):\n",
    "                acc_par_set.add(tuple([acc['account'],acc['parent']]))\n",
    "    return acc_par_set"
   ]
  },
  {
   "cell_type": "code",
   "execution_count": 35,
   "metadata": {},
   "outputs": [
    {
     "data": {
      "text/plain": [
       "200"
      ]
     },
     "execution_count": 35,
     "metadata": {},
     "output_type": "execute_result"
    }
   ],
   "source": [
    "len(get_acc_parent(10))"
   ]
  },
  {
   "cell_type": "markdown",
   "metadata": {},
   "source": [
    "No, because we always get the same subset"
   ]
  },
  {
   "cell_type": "code",
   "execution_count": 36,
   "metadata": {},
   "outputs": [
    {
     "data": {
      "text/plain": [
       "True"
      ]
     },
     "execution_count": 36,
     "metadata": {},
     "output_type": "execute_result"
    }
   ],
   "source": [
    "url = 'https://data.ripple.com/v2/accounts/?descending=True'\n",
    "result1 = requests.get(url).json()\n",
    "result2 = requests.get(url).json()\n",
    "result1 == result2"
   ]
  },
  {
   "cell_type": "markdown",
   "metadata": {},
   "source": [
    "## Is 'parent' a gateway?"
   ]
  },
  {
   "cell_type": "code",
   "execution_count": 37,
   "metadata": {},
   "outputs": [],
   "source": [
    "parent_set = set ()\n",
    "for p in result1['accounts']:\n",
    "    parent_set.add(p['parent'])"
   ]
  },
  {
   "cell_type": "code",
   "execution_count": 38,
   "metadata": {},
   "outputs": [
    {
     "name": "stdout",
     "output_type": "stream",
     "text": [
      "Percentage of parent that are gateways : 0.0\n",
      "Percentage of parent that are not gateways : 100.0\n"
     ]
    }
   ],
   "source": [
    "counter_in = 0\n",
    "counter_out = 0\n",
    "for p in parent_set:\n",
    "    if p in gateways_accounts:\n",
    "        counter_in += 1\n",
    "    else:\n",
    "        counter_out += 1\n",
    "print('Percentage of parent that are gateways : {}'.format(counter_in * 100 / len(parent_set)))\n",
    "print('Percentage of parent that are not gateways : {}'.format(counter_out * 100 / len(parent_set)))  "
   ]
  },
  {
   "cell_type": "markdown",
   "metadata": {},
   "source": [
    "Here we consider a subset of 200 accounts. Here, no parent is a gateway. "
   ]
  },
  {
   "cell_type": "markdown",
   "metadata": {},
   "source": [
    "## Can we build the topology by considering the links and paths field in the transaction dataset?"
   ]
  },
  {
   "cell_type": "code",
   "execution_count": 39,
   "metadata": {},
   "outputs": [],
   "source": [
    "nodes = set()\n",
    "links = set()\n",
    "for elem in df['links'].dropna():\n",
    "    for link in elem:\n",
    "        node1 = link['node1']\n",
    "        node2 = link['node2']\n",
    "        l1 = tuple([node1,node2])\n",
    "        l2 = tuple([node2,node1])\n",
    "        nodes.add(node1)\n",
    "        nodes.add(node2)\n",
    "        if(l1 not in links and l2 not in links):\n",
    "            links.add(l1)"
   ]
  },
  {
   "cell_type": "code",
   "execution_count": 40,
   "metadata": {},
   "outputs": [
    {
     "data": {
      "text/plain": [
       "(44807, 62739)"
      ]
     },
     "execution_count": 40,
     "metadata": {},
     "output_type": "execute_result"
    }
   ],
   "source": [
    "len(nodes), len(links)"
   ]
  },
  {
   "cell_type": "markdown",
   "metadata": {},
   "source": [
    "Yes, but\n",
    "\n",
    "1) How can we be sure that the topology is complete?\n",
    "\n",
    "2) How can we get the AS of an account?"
   ]
  },
  {
   "cell_type": "code",
   "execution_count": 41,
   "metadata": {},
   "outputs": [
    {
     "data": {
      "text/plain": [
       "{('BPG', 'rcoef87SYMJ58NAFx7fNM5frVknmvHsvJ'),\n",
       " ('BTC 2 Ripple', 'rMwjYedjc7qqtKYVLiAccJSmCwih4LnE2q'),\n",
       " ('Bitso', 'rG6FZ31hDHN1K5Dkbma3PSB5uVCuVVRzfn'),\n",
       " ('Bitstamp', 'rvYAfWj5gh67oV6fW32ZzP3Aw4Eubs59B'),\n",
       " ('Coinex', 'rsP3mgGb2tcYUrxiLFiHJiQXhsziegtwBc'),\n",
       " ('Digital Gate Japan', 'rJRi8WW24gt9X85PHAxfWNPCizMMhqUQwg'),\n",
       " ('Dividend Rippler', 'rfYv1TXnwgDDK4WQNbFALykYuEBnrR4pDX'),\n",
       " ('DotPayco', 'rM8199qFwspxiWNZRChZdZbGN5WrCepVP1'),\n",
       " ('EXRP', 'rPxU6acYni7FcXzPCMeaPSwKcuS2GTtNVN'),\n",
       " ('GBI', 'rrh7rf1gV2pXAoqA8oYbpHd8TKv5ZQeo67'),\n",
       " ('Gatehub', 'rhub8VRN55s94qWKDv6jmDy1pUykJzF3wq'),\n",
       " ('Gatehub Fifth', 'rDAN8tzydyNfnNf2bfUQY6iR96UbpvNsze'),\n",
       " ('Gatehub Fifth', 'rcA8X3TVMST1n3CJeAdGk1RdRCHii7N2h'),\n",
       " ('Gatehub Fifth', 'rchGBxcD1A1C2tdxF6papQYZ8kjRKMYcL'),\n",
       " ('Gatehub Fifth', 'rckzVpTnKpP4TJ1puQe827bV3X4oYtdTP'),\n",
       " ('Justcoin', 'rJHygWcTLVpSXkowott6kzgZU6viQSVYM1'),\n",
       " ('Lake BTC', 'rpDMez6pm6dBve2TJsmDpv7Yae6V5Pyvy2'),\n",
       " ('Mr. Exchange', 'rB3gZey7VWHYRqJHLoHDEJXJ2pEPNieKiS'),\n",
       " ('Pax Moneta', 'rUkMKjQitpgAM5WTGk79xpjT38DEJY283d'),\n",
       " ('Payroutes', 'rNPRNzBB92BVpAhhZr4iXDTveCgV5Pofm9'),\n",
       " ('Rippex', 'rKxKhXZCeSDsbkyB8DVgxpjy5AHubFkMFe'),\n",
       " ('Rippex', 'rfNZPxoZ5Uaamdp339U9dCLWz2T73nZJZH'),\n",
       " ('Ripple Exchange Tokyo', 'r9ZFPSb1TFdnJwbTMYHvVwFK1bQPUCVNfJ'),\n",
       " ('Ripple Fox', 'rKiCet8SdvWxPXnAgYarFUXMh1zCPz432Y'),\n",
       " ('Ripple LatAm', 'rP5ShE8dGBH6hHtNvRESdMceen36XFBQmh'),\n",
       " ('Ripple Singapore', 'r9Dr5xwkeLegBeXq6ujinjSBLQzQ1zQGjH'),\n",
       " ('Ripple Trade Japan', 'rMAz5ZnK73nyNUL4foAvaxdreczCkG3vA6'),\n",
       " ('RippleChina', 'razqQKzJRdB4UxFPWf5NEpEG3WMkmwgcXA'),\n",
       " ('RippleUnion', 'r3ADD8kXSUKHd6zTCKfnKT3zV9EZHjzp1S'),\n",
       " ('Ripula', 'rBycsjqxD8RVZP5zrrndiVtJwht7Z457A8'),\n",
       " ('SnapSwap', 'rMwjYedjc7qqtKYVLiAccJSmCwih4LnE2q'),\n",
       " ('The Rock Trading', 'rLEsXccBGNR3UPuPu2hUXPjziKC3qKSBun'),\n",
       " ('TokyoJPY', 'r94s8px6kSw1uZ1MV98dhSRTvc6VMPoPcN'),\n",
       " ('WisePass', 'rPDXxSZcuVL3ZWoyU82bcde3zwvmShkRyF'),\n",
       " ('rippleCN', 'rnuF96W4SZoCJmbHYBFoJZpR8eCaxNvekK')}"
      ]
     },
     "execution_count": 41,
     "metadata": {},
     "output_type": "execute_result"
    }
   ],
   "source": [
    "gateways_set"
   ]
  },
  {
   "cell_type": "markdown",
   "metadata": {},
   "source": [
    "## ripple.txt"
   ]
  },
  {
   "cell_type": "code",
   "execution_count": 49,
   "metadata": {},
   "outputs": [
    {
     "name": "stdout",
     "output_type": "stream",
     "text": [
      "No domain for BPG\n"
     ]
    }
   ],
   "source": [
    "domain_set = set()\n",
    "for n in gateways_names:\n",
    "    url = 'https://data.ripple.com/v2/gateways/' + n\n",
    "    result = requests.get(url).json()\n",
    "    if 'domain' in result:\n",
    "        domain_set.add(result['domain'])\n",
    "    else:\n",
    "        print('No domain for {}'.format(n))"
   ]
  },
  {
   "cell_type": "markdown",
   "metadata": {},
   "source": [
    "ripple-exchange.tokyo -> No website </br>\n",
    "\n",
    "ripple-market.jp -> No ripple.txt on website </br>\n",
    "\n",
    "bitso.com -> No website</br>\n",
    "\n",
    "ripplesingapore.com -> No website</br>\n",
    "\n",
    "wisepass.com -> No website</br>\n",
    "\n",
    "goldbullioninternational.com -> No ripple.txt on website</br>\n",
    "\n",
    "coinexgateway.com -> No website</br>\n",
    "\n",
    "justcoin.com -> No website</br>\n",
    "\n",
    "No domain for BPG</br>\n",
    "\n",
    "btc2ripple.com -> Security issue </br>\n",
    "\n",
    "gatehub.net -> OK</br>\n",
    "\n",
    "dividendrippler.com -> Forbidden error</br>\n",
    "\n",
    "ripplelatam.com -> No ripple.txt ... Come on! Should I really continue?</br>\n",
    "\n",
    "rippex.net</br>\n",
    "\n",
    "gatehub.net</br>\n",
    "\n",
    "therocktrading.com</br>\n",
    "\n",
    "bitstamp.net</br>\n",
    "\n",
    "xrpchina.net</br>\n",
    "\n",
    "snapswap.us</br>\n",
    "\n",
    "ripula.co.uk</br>\n",
    "\n",
    "lakebtc.com</br>\n",
    "\n",
    "mr-ripple.com</br>\n",
    "\n",
    "tokyojpy.com</br>\n",
    "\n",
    "ripplechina.net</br>\n",
    "\n",
    "payroutes.com</br>\n",
    "\n",
    "ripplecn.com</br>\n",
    "\n",
    "paxmoneta.com</br>\n",
    "\n",
    "rippletrade.jp</br>\n",
    "\n",
    "rippleunion.com</br>\n",
    "\n",
    "ripplefox.com</br>\n",
    "\n",
    "exrp.co.kr</br>"
   ]
  },
  {
   "cell_type": "code",
   "execution_count": 58,
   "metadata": {},
   "outputs": [
    {
     "name": "stdout",
     "output_type": "stream",
     "text": [
      "bitstamp.net - ('bitstamp.net', [], ['107.154.249.133', '45.60.110.133'])\n",
      "No IP for ripula.co.uk\n",
      "lakebtc.com - ('lakebtc.com', [], ['104.244.76.176'])\n",
      "ripplefox.com - ('ripplefox.com', [], ['13.112.127.16'])\n",
      "ripplecn.com - ('ripplecn.com', [], ['18.220.246.233'])\n",
      "btc2ripple.com - ('btc2ripple.com', [], ['13.32.176.84', '13.32.176.233', '13.32.176.64', '13.32.176.56'])\n",
      "ripplelatam.com - ('ripplelatam.com', [], ['192.185.4.55'])\n",
      "rippex.net - ('rippex.net', [], ['104.24.96.2', '104.24.97.2'])\n",
      "gatehub.net - ('gatehub.net', [], ['104.31.64.177', '104.31.65.177'])\n",
      "exrp.co.kr - ('exrp.co.kr', [], ['50.63.202.56'])\n",
      "wisepass.com - ('wisepass.com', [], ['104.20.244.28', '104.20.245.28'])\n",
      "ripple-market.jp - ('ripple-market.jp', [], ['202.172.28.118'])\n",
      "rippleunion.com - ('hdredirect-lb5-1afb6e2973825a56.elb.us-east-1.amazonaws.com', ['rippleunion.com'], ['23.20.239.12'])\n",
      "rippletrade.jp - ('rippletrade.jp', [], ['183.181.98.81'])\n",
      "mr-ripple.com - ('mr-ripple.com', [], ['18.205.177.181', '52.202.40.211'])\n",
      "No IP for coinexgateway.com\n",
      "goldbullioninternational.com - ('goldbullioninternational.com', [], ['184.168.131.241'])\n",
      "No IP for payroutes.com\n",
      "No IP for xrpchina.net\n",
      "No IP for ripple-exchange.tokyo\n",
      "No IP for justcoin.com\n",
      "snapswap.us - ('snapswap.us', [], ['13.32.176.147', '13.32.176.27', '13.32.176.169', '13.32.176.90'])\n",
      "No IP for ripplesingapore.com\n",
      "dividendrippler.com - ('dividendrippler.com', [], ['59.190.140.10'])\n",
      "therocktrading.com - ('therocktrading.com', [], ['213.227.145.72'])\n",
      "tokyojpy.com - ('tokyojpy.com', [], ['104.28.12.46', '104.28.13.46'])\n",
      "bitso.com - ('bitso.com', [], ['104.20.11.111', '104.20.12.111'])\n",
      "paxmoneta.com - ('ezsmtp.bizmeka.com', ['paxmoneta.com'], ['183.110.21.105'])\n",
      "No IP for ripplechina.net\n"
     ]
    }
   ],
   "source": [
    "for d in domain_set:\n",
    "    try:\n",
    "        add = socket.gethostbyname_ex(d)\n",
    "        print('{} - {}'.format(d, add))\n",
    "    except:\n",
    "        print('No IP for {}'.format(d))"
   ]
  },
  {
   "cell_type": "code",
   "execution_count": 56,
   "metadata": {},
   "outputs": [
    {
     "name": "stdout",
     "output_type": "stream",
     "text": [
      "{'bitstamp.net', 'ripula.co.uk', 'lakebtc.com', 'ripplefox.com', 'ripplecn.com', 'btc2ripple.com', 'ripplelatam.com', 'rippex.net', 'gatehub.net', 'exrp.co.kr', 'wisepass.com', 'ripple-market.jp', 'rippleunion.com', 'rippletrade.jp', 'mr-ripple.com', 'coinexgateway.com', 'goldbullioninternational.com', 'payroutes.com', 'xrpchina.net', 'ripple-exchange.tokyo', 'justcoin.com', 'snapswap.us', 'ripplesingapore.com', 'dividendrippler.com', 'therocktrading.com', 'tokyojpy.com', 'bitso.com', 'paxmoneta.com', 'ripplechina.net'}\n"
     ]
    }
   ],
   "source": [
    "print(domain_set)"
   ]
  },
  {
   "cell_type": "code",
   "execution_count": 43,
   "metadata": {},
   "outputs": [],
   "source": [
    "gateway_dict = {v: k for k, v in dict(gateways_set).items()}"
   ]
  },
  {
   "cell_type": "code",
   "execution_count": 44,
   "metadata": {},
   "outputs": [],
   "source": [
    "def top_issuer(col):\n",
    "    top_issuer_sender = df.groupby(col).size().sort_values(ascending=False)\n",
    "\n",
    "    top_issuer_sender.index = top_issuer_sender.index.map(gateway_dict)\n",
    "\n",
    "    return top_issuer_sender"
   ]
  },
  {
   "cell_type": "code",
   "execution_count": 45,
   "metadata": {},
   "outputs": [
    {
     "data": {
      "text/plain": [
       "issuerSender\n",
       "NaN                 637860\n",
       "NaN                  27752\n",
       "Ripple Fox           25205\n",
       "NaN                  25020\n",
       "Bitstamp             15028\n",
       "Gatehub              11088\n",
       "NaN                   8179\n",
       "RippleChina           8071\n",
       "Mr. Exchange          7676\n",
       "TokyoJPY              4977\n",
       "NaN                   3164\n",
       "NaN                   2292\n",
       "NaN                   1814\n",
       "Gatehub Fifth         1177\n",
       "The Rock Trading       747\n",
       "dtype: int64"
      ]
     },
     "execution_count": 45,
     "metadata": {},
     "output_type": "execute_result"
    }
   ],
   "source": [
    "top_issuer('issuerSender').head(15)"
   ]
  },
  {
   "cell_type": "code",
   "execution_count": 46,
   "metadata": {},
   "outputs": [
    {
     "data": {
      "text/plain": [
       "issuerReceiver\n",
       "NaN                 295680\n",
       "TokyoJPY            115985\n",
       "Mr. Exchange        112348\n",
       "Bitstamp            104224\n",
       "Ripple Fox           35808\n",
       "NaN                  27723\n",
       "NaN                  23721\n",
       "Gatehub              21874\n",
       "Payroutes            12580\n",
       "NaN                  11874\n",
       "RippleChina           6483\n",
       "BTC 2 Ripple          3083\n",
       "NaN                   2292\n",
       "NaN                   2016\n",
       "The Rock Trading      2000\n",
       "dtype: int64"
      ]
     },
     "execution_count": 46,
     "metadata": {},
     "output_type": "execute_result"
    }
   ],
   "source": [
    "top_issuer('issuerReceiver').head(15)"
   ]
  },
  {
   "cell_type": "code",
   "execution_count": 48,
   "metadata": {},
   "outputs": [
    {
     "data": {
      "text/plain": [
       "Index(['XRPAcc', 'actualIssuerReceiver', 'actualReceiverAmount',\n",
       "       'actualReceiverCurrency', 'date', 'fee', 'flags', 'hash',\n",
       "       'issuerReceiver', 'issuerSender', 'links', 'offers', 'paths',\n",
       "       'receiver', 'receiverAmount', 'receiverCurrency', 'sender',\n",
       "       'senderAmount', 'senderCurrency', 'success', 'acc', 'acc-sender',\n",
       "       'acc-receiver'],\n",
       "      dtype='object')"
      ]
     },
     "execution_count": 48,
     "metadata": {},
     "output_type": "execute_result"
    }
   ],
   "source": [
    "df.columns"
   ]
  },
  {
   "cell_type": "code",
   "execution_count": null,
   "metadata": {},
   "outputs": [],
   "source": []
  }
 ],
 "metadata": {
  "kernelspec": {
   "display_name": "Python 3",
   "language": "python",
   "name": "python3"
  },
  "language_info": {
   "codemirror_mode": {
    "name": "ipython",
    "version": 3
   },
   "file_extension": ".py",
   "mimetype": "text/x-python",
   "name": "python",
   "nbconvert_exporter": "python",
   "pygments_lexer": "ipython3",
   "version": "3.7.3"
  }
 },
 "nbformat": 4,
 "nbformat_minor": 2
}
