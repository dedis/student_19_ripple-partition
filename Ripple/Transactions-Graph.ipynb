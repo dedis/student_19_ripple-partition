{
 "cells": [
  {
   "cell_type": "code",
   "execution_count": 1,
   "metadata": {},
   "outputs": [],
   "source": [
    "import pandas as pd\n",
    "import numpy as np\n",
    "import networkx as nx\n",
    "import matplotlib.pyplot as plt\n",
    "import folium\n",
    "import json"
   ]
  },
  {
   "cell_type": "markdown",
   "metadata": {},
   "source": [
    "# Processing transactions data"
   ]
  },
  {
   "cell_type": "code",
   "execution_count": 2,
   "metadata": {},
   "outputs": [],
   "source": [
    "nodes_asn = pd.read_csv('ripple-asn-nodes.csv', delimiter=',', header=None, names=['asn','lat','lon']).dropna().drop_duplicates()"
   ]
  },
  {
   "cell_type": "code",
   "execution_count": 3,
   "metadata": {},
   "outputs": [],
   "source": [
    "list_double = set()\n",
    "def remove_double_asn(x):\n",
    "    if(' ' in x):\n",
    "        list_double.add(tuple(x.split(' ')))\n",
    "        return x.split(' ')[0]\n",
    "    else:\n",
    "        return x\n",
    "    \n",
    "nodes_asn['asn'] = nodes_asn['asn'].apply(lambda x: remove_double_asn(x))"
   ]
  },
  {
   "cell_type": "code",
   "execution_count": 4,
   "metadata": {},
   "outputs": [],
   "source": [
    "nodes_to_asn_dict = nodes_asn['asn'].to_dict()"
   ]
  },
  {
   "cell_type": "code",
   "execution_count": 5,
   "metadata": {},
   "outputs": [],
   "source": [
    "data = pd.read_csv('txs-parsed-jan-2013-aug-2017/final_txs_2017.txt', delimiter='\\n', header=None)\n",
    "\n",
    "json_list = '['\n",
    "for i in range(len(data)):\n",
    "    json_text = data[0][i]\n",
    "    json_list += json_text + ','\n",
    "json_list = json_list[:-1]+']'\n",
    "\n",
    "final_json = json.loads(json_list)\n",
    "transactions = pd.DataFrame.from_dict(final_json)"
   ]
  },
  {
   "cell_type": "code",
   "execution_count": 6,
   "metadata": {},
   "outputs": [],
   "source": [
    "transaction_nodes = set(transactions['receiver'].values)\n",
    "transaction_nodes.update(transactions['sender'].values)"
   ]
  },
  {
   "cell_type": "markdown",
   "metadata": {},
   "source": [
    "# Convert account public key to account id"
   ]
  },
  {
   "cell_type": "markdown",
   "metadata": {},
   "source": [
    "This is a python adaptation of the js code from ripple : https://developers.ripple.com/accounts.html#address-encoding"
   ]
  },
  {
   "cell_type": "code",
   "execution_count": 8,
   "metadata": {},
   "outputs": [
    {
     "data": {
      "text/plain": [
       "'rwSdwXsQVCjYXUyempsGxk1Sgws6perYZL'"
      ]
     },
     "execution_count": 8,
     "metadata": {},
     "output_type": "execute_result"
    }
   ],
   "source": [
    "import hashlib\n",
    "import base58\n",
    "\n",
    "default_base58 = '123456789ABCDEFGHJKLMNPQRSTUVWXYZabcdefghijkmnopqrstuvwxyz'\n",
    "ripple_base58 = 'rpshnaf39wBUDNEGHJKLM4PQRST7VWXYZ2bcdeCg65jkm8oFqi1tuvAxyz'\n",
    "\n",
    "default_to_ripple = dict(zip(default_base58, ripple_base58))\n",
    "ripple_to_default = dict(zip(ripple_base58, default_base58))\n",
    "\n",
    "def key_to_account(test_key):\n",
    "    pubkey_inner_hash = hashlib.sha256(test_key)\n",
    "    pubkey_outer_hash = hashlib.new('ripemd160')\n",
    "    pubkey_outer_hash.update(pubkey_inner_hash.digest())\n",
    "    account_id = pubkey_outer_hash.digest()\n",
    "\n",
    "    address_type_prefix = bytearray(b'\\x00')\n",
    "    payload = address_type_prefix + bytearray(account_id)\n",
    "    chksum_hash1 = hashlib.sha256(payload).digest()\n",
    "    chksum_hash2 = hashlib.sha256(chksum_hash1).digest()\n",
    "    checksum = chksum_hash2[:4]\n",
    "    \n",
    "    dataToEncode = payload + checksum\n",
    "    address = base58.b58encode(bytes(dataToEncode))\n",
    "    return ''.join([default_to_ripple[letter] for letter in address.decode('utf-8')])\n",
    "\n",
    "pubkey = bytearray.fromhex('02E23B99E7D158D0A0D5C20F8890B8365CAF4FEE9A0043B2498C3130258718F32D')\n",
    "key_to_account(pubkey)"
   ]
  },
  {
   "cell_type": "markdown",
   "metadata": {},
   "source": [
    "This account id does not match the node_public key of the ripple topology. (r... VS n...)"
   ]
  },
  {
   "cell_type": "code",
   "execution_count": null,
   "metadata": {},
   "outputs": [],
   "source": []
  }
 ],
 "metadata": {
  "kernelspec": {
   "display_name": "Python 3",
   "language": "python",
   "name": "python3"
  },
  "language_info": {
   "codemirror_mode": {
    "name": "ipython",
    "version": 3
   },
   "file_extension": ".py",
   "mimetype": "text/x-python",
   "name": "python",
   "nbconvert_exporter": "python",
   "pygments_lexer": "ipython3",
   "version": "3.7.2"
  }
 },
 "nbformat": 4,
 "nbformat_minor": 2
}
