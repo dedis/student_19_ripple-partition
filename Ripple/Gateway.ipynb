{
 "cells": [
  {
   "cell_type": "code",
   "execution_count": 26,
   "metadata": {},
   "outputs": [],
   "source": [
    "import pandas as pd\n",
    "import numpy as np\n",
    "import requests\n",
    "import socket\n",
    "from ipwhois import IPWhois\n",
    "import json\n",
    "import websocket\n",
    "from websocket import create_connection\n",
    "import matplotlib.pyplot as plt\n",
    "import folium\n",
    "import csv"
   ]
  },
  {
   "cell_type": "markdown",
   "metadata": {},
   "source": [
    "# Recover gateways"
   ]
  },
  {
   "cell_type": "code",
   "execution_count": 54,
   "metadata": {},
   "outputs": [],
   "source": [
    "url = 'https://data.ripple.com/v2/gateways'\n",
    "result = requests.get(url).json()"
   ]
  },
  {
   "cell_type": "markdown",
   "metadata": {},
   "source": [
    "## Recover domain and currencies using gateway account"
   ]
  },
  {
   "cell_type": "code",
   "execution_count": 55,
   "metadata": {},
   "outputs": [],
   "source": [
    "def get_domain(account):\n",
    "    domain = ''\n",
    "    \n",
    "    url = 'https://data.ripple.com/v2/gateways/' + account\n",
    "    result = requests.get(url).json()\n",
    "    if 'domain' in result:\n",
    "        domain =  result['domain']\n",
    "    else:\n",
    "        domain = np.nan\n",
    "        \n",
    "    if account == 'razqQKzJRdB4UxFPWf5NEpEG3WMkmwgcXA':\n",
    "        domain = 'wg.iripplechina.com'\n",
    "    \n",
    "    if account == 'rcoef87SYMJ58NAFx7fNM5frVknmvHsvJ':\n",
    "        domain = 'bpgrefining.com'\n",
    "    \n",
    "    if account == 'rsP3mgGb2tcYUrxiLFiHJiQXhsziegtwBc':\n",
    "        domain = 'coinex.co.nz'\n",
    "    \n",
    "    curr_set = set()\n",
    "    if 'accounts' in result:\n",
    "        for acc in result['accounts']:\n",
    "            for c in(acc['currencies']):\n",
    "                curr_set.add(c)\n",
    "    return domain, curr_set"
   ]
  },
  {
   "cell_type": "markdown",
   "metadata": {},
   "source": [
    "## Use previously recovered domain to get IP addresses"
   ]
  },
  {
   "cell_type": "code",
   "execution_count": 56,
   "metadata": {},
   "outputs": [],
   "source": [
    "def get_ip(domain):\n",
    "    try:\n",
    "        return socket.gethostbyname_ex(domain)[2]\n",
    "    except:\n",
    "        return np.nan"
   ]
  },
  {
   "cell_type": "markdown",
   "metadata": {},
   "source": [
    "### Bring everything together"
   ]
  },
  {
   "cell_type": "code",
   "execution_count": 57,
   "metadata": {},
   "outputs": [],
   "source": [
    "gateway_dict = {}\n",
    "for currency in result:\n",
    "    for elem in result[currency]:\n",
    "        name = elem['name']\n",
    "        account = elem['account']\n",
    "        domain, curr_set = get_domain(account)\n",
    "        ip_list = get_ip(domain)\n",
    "        gateway_dict[account] = {'name' : name, 'domain' : domain, 'currencies': curr_set, 'ip': ip_list}"
   ]
  },
  {
   "cell_type": "code",
   "execution_count": 58,
   "metadata": {},
   "outputs": [],
   "source": [
    "gateways_df = pd.DataFrame.from_dict(gateway_dict,orient='index')"
   ]
  },
  {
   "cell_type": "code",
   "execution_count": 60,
   "metadata": {},
   "outputs": [
    {
     "data": {
      "text/html": [
       "<div>\n",
       "<style scoped>\n",
       "    .dataframe tbody tr th:only-of-type {\n",
       "        vertical-align: middle;\n",
       "    }\n",
       "\n",
       "    .dataframe tbody tr th {\n",
       "        vertical-align: top;\n",
       "    }\n",
       "\n",
       "    .dataframe thead th {\n",
       "        text-align: right;\n",
       "    }\n",
       "</style>\n",
       "<table border=\"1\" class=\"dataframe\">\n",
       "  <thead>\n",
       "    <tr style=\"text-align: right;\">\n",
       "      <th></th>\n",
       "      <th>name</th>\n",
       "      <th>domain</th>\n",
       "      <th>currencies</th>\n",
       "      <th>ip</th>\n",
       "    </tr>\n",
       "  </thead>\n",
       "  <tbody>\n",
       "    <tr>\n",
       "      <th>r3ADD8kXSUKHd6zTCKfnKT3zV9EZHjzp1S</th>\n",
       "      <td>RippleUnion</td>\n",
       "      <td>rippleunion.com</td>\n",
       "      <td>{CAD}</td>\n",
       "      <td>[23.20.239.12]</td>\n",
       "    </tr>\n",
       "    <tr>\n",
       "      <th>r94s8px6kSw1uZ1MV98dhSRTvc6VMPoPcN</th>\n",
       "      <td>TokyoJPY</td>\n",
       "      <td>tokyojpy.com</td>\n",
       "      <td>{JPY}</td>\n",
       "      <td>[104.28.12.46, 104.28.13.46]</td>\n",
       "    </tr>\n",
       "    <tr>\n",
       "      <th>r9Dr5xwkeLegBeXq6ujinjSBLQzQ1zQGjH</th>\n",
       "      <td>Ripple Singapore</td>\n",
       "      <td>ripplesingapore.com</td>\n",
       "      <td>{SGD, USD, XAG, XAU}</td>\n",
       "      <td>NaN</td>\n",
       "    </tr>\n",
       "    <tr>\n",
       "      <th>r9ZFPSb1TFdnJwbTMYHvVwFK1bQPUCVNfJ</th>\n",
       "      <td>Ripple Exchange Tokyo</td>\n",
       "      <td>ripple-exchange.tokyo</td>\n",
       "      <td>{JPY}</td>\n",
       "      <td>NaN</td>\n",
       "    </tr>\n",
       "    <tr>\n",
       "      <th>rB3gZey7VWHYRqJHLoHDEJXJ2pEPNieKiS</th>\n",
       "      <td>Mr. Exchange</td>\n",
       "      <td>mr-ripple.com</td>\n",
       "      <td>{STR, ETC, LTC, ADA, REP, JPY, DOG, ETH, BCC, ...</td>\n",
       "      <td>[52.202.40.211, 18.205.177.181]</td>\n",
       "    </tr>\n",
       "    <tr>\n",
       "      <th>rBycsjqxD8RVZP5zrrndiVtJwht7Z457A8</th>\n",
       "      <td>Ripula</td>\n",
       "      <td>ripula.co.uk</td>\n",
       "      <td>{GBP}</td>\n",
       "      <td>NaN</td>\n",
       "    </tr>\n",
       "    <tr>\n",
       "      <th>rDAN8tzydyNfnNf2bfUQY6iR96UbpvNsze</th>\n",
       "      <td>Gatehub Fifth</td>\n",
       "      <td>gatehub.net</td>\n",
       "      <td>{REP, ETH, ETC, BTC}</td>\n",
       "      <td>[104.31.65.177, 104.31.64.177]</td>\n",
       "    </tr>\n",
       "    <tr>\n",
       "      <th>rG6FZ31hDHN1K5Dkbma3PSB5uVCuVVRzfn</th>\n",
       "      <td>Bitso</td>\n",
       "      <td>bitso.com</td>\n",
       "      <td>{MXN, BTC}</td>\n",
       "      <td>[104.20.12.111, 104.20.11.111]</td>\n",
       "    </tr>\n",
       "    <tr>\n",
       "      <th>rJHygWcTLVpSXkowott6kzgZU6viQSVYM1</th>\n",
       "      <td>Justcoin</td>\n",
       "      <td>justcoin.com</td>\n",
       "      <td>{STR, LTC, EUR, NOK, BTC}</td>\n",
       "      <td>NaN</td>\n",
       "    </tr>\n",
       "    <tr>\n",
       "      <th>rJRi8WW24gt9X85PHAxfWNPCizMMhqUQwg</th>\n",
       "      <td>Digital Gate Japan</td>\n",
       "      <td>ripple-market.jp</td>\n",
       "      <td>{JPY}</td>\n",
       "      <td>[202.172.28.118]</td>\n",
       "    </tr>\n",
       "    <tr>\n",
       "      <th>rKiCet8SdvWxPXnAgYarFUXMh1zCPz432Y</th>\n",
       "      <td>Ripple Fox</td>\n",
       "      <td>ripplefox.com</td>\n",
       "      <td>{STR, CNY, FMM, XLM}</td>\n",
       "      <td>[13.112.127.16]</td>\n",
       "    </tr>\n",
       "    <tr>\n",
       "      <th>rKxKhXZCeSDsbkyB8DVgxpjy5AHubFkMFe</th>\n",
       "      <td>Rippex</td>\n",
       "      <td>rippex.net</td>\n",
       "      <td>{BRL, BTC}</td>\n",
       "      <td>[104.24.96.2, 104.24.97.2]</td>\n",
       "    </tr>\n",
       "    <tr>\n",
       "      <th>rLEsXccBGNR3UPuPu2hUXPjziKC3qKSBun</th>\n",
       "      <td>The Rock Trading</td>\n",
       "      <td>therocktrading.com</td>\n",
       "      <td>{BTC, USD, LTC, EUR}</td>\n",
       "      <td>[213.227.145.72]</td>\n",
       "    </tr>\n",
       "    <tr>\n",
       "      <th>rM8199qFwspxiWNZRChZdZbGN5WrCepVP1</th>\n",
       "      <td>DotPayco</td>\n",
       "      <td>xrpchina.net</td>\n",
       "      <td>{CNY}</td>\n",
       "      <td>NaN</td>\n",
       "    </tr>\n",
       "    <tr>\n",
       "      <th>rMAz5ZnK73nyNUL4foAvaxdreczCkG3vA6</th>\n",
       "      <td>Ripple Trade Japan</td>\n",
       "      <td>rippletrade.jp</td>\n",
       "      <td>{JPY}</td>\n",
       "      <td>[183.181.98.81]</td>\n",
       "    </tr>\n",
       "    <tr>\n",
       "      <th>rMwjYedjc7qqtKYVLiAccJSmCwih4LnE2q</th>\n",
       "      <td>SnapSwap</td>\n",
       "      <td>snapswap.us</td>\n",
       "      <td>{USD, GBP, EUR}</td>\n",
       "      <td>[13.32.176.119, 13.32.176.147, 13.32.176.169, ...</td>\n",
       "    </tr>\n",
       "    <tr>\n",
       "      <th>rNPRNzBB92BVpAhhZr4iXDTveCgV5Pofm9</th>\n",
       "      <td>Payroutes</td>\n",
       "      <td>payroutes.com</td>\n",
       "      <td>{BTC, USD, ILS, LTC}</td>\n",
       "      <td>NaN</td>\n",
       "    </tr>\n",
       "    <tr>\n",
       "      <th>rP5ShE8dGBH6hHtNvRESdMceen36XFBQmh</th>\n",
       "      <td>Ripple LatAm</td>\n",
       "      <td>ripplelatam.com</td>\n",
       "      <td>{BRL, MXN, USD, LTC, ARS, CLP, UYU, PEN, BTC}</td>\n",
       "      <td>[192.185.4.55]</td>\n",
       "    </tr>\n",
       "    <tr>\n",
       "      <th>rPDXxSZcuVL3ZWoyU82bcde3zwvmShkRyF</th>\n",
       "      <td>WisePass</td>\n",
       "      <td>wisepass.com</td>\n",
       "      <td>{USD, LTC, SEK, NOK, GBP, JPY, BTC}</td>\n",
       "      <td>[104.20.244.28, 104.20.245.28]</td>\n",
       "    </tr>\n",
       "    <tr>\n",
       "      <th>rPxU6acYni7FcXzPCMeaPSwKcuS2GTtNVN</th>\n",
       "      <td>EXRP</td>\n",
       "      <td>exrp.co.kr</td>\n",
       "      <td>{KRW}</td>\n",
       "      <td>[184.168.221.48]</td>\n",
       "    </tr>\n",
       "    <tr>\n",
       "      <th>rUkMKjQitpgAM5WTGk79xpjT38DEJY283d</th>\n",
       "      <td>Pax Moneta</td>\n",
       "      <td>paxmoneta.com</td>\n",
       "      <td>{BTC, KRW}</td>\n",
       "      <td>[183.110.21.105]</td>\n",
       "    </tr>\n",
       "    <tr>\n",
       "      <th>razqQKzJRdB4UxFPWf5NEpEG3WMkmwgcXA</th>\n",
       "      <td>RippleChina</td>\n",
       "      <td>wg.iripplechina.com</td>\n",
       "      <td>{CNY}</td>\n",
       "      <td>[47.90.66.247]</td>\n",
       "    </tr>\n",
       "    <tr>\n",
       "      <th>rcA8X3TVMST1n3CJeAdGk1RdRCHii7N2h</th>\n",
       "      <td>Gatehub Fifth</td>\n",
       "      <td>gatehub.net</td>\n",
       "      <td>{REP, ETH, ETC, BTC}</td>\n",
       "      <td>[104.31.65.177, 104.31.64.177]</td>\n",
       "    </tr>\n",
       "    <tr>\n",
       "      <th>rchGBxcD1A1C2tdxF6papQYZ8kjRKMYcL</th>\n",
       "      <td>Gatehub Fifth</td>\n",
       "      <td>gatehub.net</td>\n",
       "      <td>{REP, ETH, ETC, BTC}</td>\n",
       "      <td>[104.31.65.177, 104.31.64.177]</td>\n",
       "    </tr>\n",
       "    <tr>\n",
       "      <th>rckzVpTnKpP4TJ1puQe827bV3X4oYtdTP</th>\n",
       "      <td>Gatehub Fifth</td>\n",
       "      <td>gatehub.net</td>\n",
       "      <td>{REP, ETH, ETC, BTC}</td>\n",
       "      <td>[104.31.65.177, 104.31.64.177]</td>\n",
       "    </tr>\n",
       "    <tr>\n",
       "      <th>rcoef87SYMJ58NAFx7fNM5frVknmvHsvJ</th>\n",
       "      <td>BPG</td>\n",
       "      <td>bpgrefining.com</td>\n",
       "      <td>{XAU}</td>\n",
       "      <td>[146.247.25.206]</td>\n",
       "    </tr>\n",
       "    <tr>\n",
       "      <th>rfNZPxoZ5Uaamdp339U9dCLWz2T73nZJZH</th>\n",
       "      <td>Rippex</td>\n",
       "      <td>rippex.net</td>\n",
       "      <td>{BRL, BTC}</td>\n",
       "      <td>[104.24.96.2, 104.24.97.2]</td>\n",
       "    </tr>\n",
       "    <tr>\n",
       "      <th>rfYv1TXnwgDDK4WQNbFALykYuEBnrR4pDX</th>\n",
       "      <td>Dividend Rippler</td>\n",
       "      <td>dividendrippler.com</td>\n",
       "      <td>{BTC}</td>\n",
       "      <td>[59.190.140.10]</td>\n",
       "    </tr>\n",
       "    <tr>\n",
       "      <th>rhub8VRN55s94qWKDv6jmDy1pUykJzF3wq</th>\n",
       "      <td>Gatehub</td>\n",
       "      <td>gatehub.net</td>\n",
       "      <td>{USD, EUR}</td>\n",
       "      <td>[104.31.65.177, 104.31.64.177]</td>\n",
       "    </tr>\n",
       "    <tr>\n",
       "      <th>rnuF96W4SZoCJmbHYBFoJZpR8eCaxNvekK</th>\n",
       "      <td>rippleCN</td>\n",
       "      <td>ripplecn.com</td>\n",
       "      <td>{CNY, BTC}</td>\n",
       "      <td>[18.220.246.233]</td>\n",
       "    </tr>\n",
       "    <tr>\n",
       "      <th>rpDMez6pm6dBve2TJsmDpv7Yae6V5Pyvy2</th>\n",
       "      <td>Lake BTC</td>\n",
       "      <td>lakebtc.com</td>\n",
       "      <td>{USD}</td>\n",
       "      <td>[104.244.76.176]</td>\n",
       "    </tr>\n",
       "    <tr>\n",
       "      <th>rrh7rf1gV2pXAoqA8oYbpHd8TKv5ZQeo67</th>\n",
       "      <td>GBI</td>\n",
       "      <td>goldbullioninternational.com</td>\n",
       "      <td>{0158415500000000C1F76FF6ECB0BAC600000000, XAU}</td>\n",
       "      <td>[184.168.131.241]</td>\n",
       "    </tr>\n",
       "    <tr>\n",
       "      <th>rsP3mgGb2tcYUrxiLFiHJiQXhsziegtwBc</th>\n",
       "      <td>Coinex</td>\n",
       "      <td>coinex.co.nz</td>\n",
       "      <td>{STR, USD, AUD, NZD, BTC}</td>\n",
       "      <td>[104.28.9.178, 104.28.8.178]</td>\n",
       "    </tr>\n",
       "    <tr>\n",
       "      <th>rvYAfWj5gh67oV6fW32ZzP3Aw4Eubs59B</th>\n",
       "      <td>Bitstamp</td>\n",
       "      <td>bitstamp.net</td>\n",
       "      <td>{CHF, USD, EUR, AUD, GBP, JPY, BTC}</td>\n",
       "      <td>[107.154.249.133, 45.60.110.133]</td>\n",
       "    </tr>\n",
       "  </tbody>\n",
       "</table>\n",
       "</div>"
      ],
      "text/plain": [
       "                                                     name  \\\n",
       "r3ADD8kXSUKHd6zTCKfnKT3zV9EZHjzp1S            RippleUnion   \n",
       "r94s8px6kSw1uZ1MV98dhSRTvc6VMPoPcN               TokyoJPY   \n",
       "r9Dr5xwkeLegBeXq6ujinjSBLQzQ1zQGjH       Ripple Singapore   \n",
       "r9ZFPSb1TFdnJwbTMYHvVwFK1bQPUCVNfJ  Ripple Exchange Tokyo   \n",
       "rB3gZey7VWHYRqJHLoHDEJXJ2pEPNieKiS           Mr. Exchange   \n",
       "rBycsjqxD8RVZP5zrrndiVtJwht7Z457A8                 Ripula   \n",
       "rDAN8tzydyNfnNf2bfUQY6iR96UbpvNsze          Gatehub Fifth   \n",
       "rG6FZ31hDHN1K5Dkbma3PSB5uVCuVVRzfn                  Bitso   \n",
       "rJHygWcTLVpSXkowott6kzgZU6viQSVYM1               Justcoin   \n",
       "rJRi8WW24gt9X85PHAxfWNPCizMMhqUQwg     Digital Gate Japan   \n",
       "rKiCet8SdvWxPXnAgYarFUXMh1zCPz432Y             Ripple Fox   \n",
       "rKxKhXZCeSDsbkyB8DVgxpjy5AHubFkMFe                 Rippex   \n",
       "rLEsXccBGNR3UPuPu2hUXPjziKC3qKSBun       The Rock Trading   \n",
       "rM8199qFwspxiWNZRChZdZbGN5WrCepVP1               DotPayco   \n",
       "rMAz5ZnK73nyNUL4foAvaxdreczCkG3vA6     Ripple Trade Japan   \n",
       "rMwjYedjc7qqtKYVLiAccJSmCwih4LnE2q               SnapSwap   \n",
       "rNPRNzBB92BVpAhhZr4iXDTveCgV5Pofm9              Payroutes   \n",
       "rP5ShE8dGBH6hHtNvRESdMceen36XFBQmh           Ripple LatAm   \n",
       "rPDXxSZcuVL3ZWoyU82bcde3zwvmShkRyF               WisePass   \n",
       "rPxU6acYni7FcXzPCMeaPSwKcuS2GTtNVN                   EXRP   \n",
       "rUkMKjQitpgAM5WTGk79xpjT38DEJY283d             Pax Moneta   \n",
       "razqQKzJRdB4UxFPWf5NEpEG3WMkmwgcXA            RippleChina   \n",
       "rcA8X3TVMST1n3CJeAdGk1RdRCHii7N2h           Gatehub Fifth   \n",
       "rchGBxcD1A1C2tdxF6papQYZ8kjRKMYcL           Gatehub Fifth   \n",
       "rckzVpTnKpP4TJ1puQe827bV3X4oYtdTP           Gatehub Fifth   \n",
       "rcoef87SYMJ58NAFx7fNM5frVknmvHsvJ                     BPG   \n",
       "rfNZPxoZ5Uaamdp339U9dCLWz2T73nZJZH                 Rippex   \n",
       "rfYv1TXnwgDDK4WQNbFALykYuEBnrR4pDX       Dividend Rippler   \n",
       "rhub8VRN55s94qWKDv6jmDy1pUykJzF3wq                Gatehub   \n",
       "rnuF96W4SZoCJmbHYBFoJZpR8eCaxNvekK               rippleCN   \n",
       "rpDMez6pm6dBve2TJsmDpv7Yae6V5Pyvy2               Lake BTC   \n",
       "rrh7rf1gV2pXAoqA8oYbpHd8TKv5ZQeo67                    GBI   \n",
       "rsP3mgGb2tcYUrxiLFiHJiQXhsziegtwBc                 Coinex   \n",
       "rvYAfWj5gh67oV6fW32ZzP3Aw4Eubs59B                Bitstamp   \n",
       "\n",
       "                                                          domain  \\\n",
       "r3ADD8kXSUKHd6zTCKfnKT3zV9EZHjzp1S               rippleunion.com   \n",
       "r94s8px6kSw1uZ1MV98dhSRTvc6VMPoPcN                  tokyojpy.com   \n",
       "r9Dr5xwkeLegBeXq6ujinjSBLQzQ1zQGjH           ripplesingapore.com   \n",
       "r9ZFPSb1TFdnJwbTMYHvVwFK1bQPUCVNfJ         ripple-exchange.tokyo   \n",
       "rB3gZey7VWHYRqJHLoHDEJXJ2pEPNieKiS                 mr-ripple.com   \n",
       "rBycsjqxD8RVZP5zrrndiVtJwht7Z457A8                  ripula.co.uk   \n",
       "rDAN8tzydyNfnNf2bfUQY6iR96UbpvNsze                   gatehub.net   \n",
       "rG6FZ31hDHN1K5Dkbma3PSB5uVCuVVRzfn                     bitso.com   \n",
       "rJHygWcTLVpSXkowott6kzgZU6viQSVYM1                  justcoin.com   \n",
       "rJRi8WW24gt9X85PHAxfWNPCizMMhqUQwg              ripple-market.jp   \n",
       "rKiCet8SdvWxPXnAgYarFUXMh1zCPz432Y                 ripplefox.com   \n",
       "rKxKhXZCeSDsbkyB8DVgxpjy5AHubFkMFe                    rippex.net   \n",
       "rLEsXccBGNR3UPuPu2hUXPjziKC3qKSBun            therocktrading.com   \n",
       "rM8199qFwspxiWNZRChZdZbGN5WrCepVP1                  xrpchina.net   \n",
       "rMAz5ZnK73nyNUL4foAvaxdreczCkG3vA6                rippletrade.jp   \n",
       "rMwjYedjc7qqtKYVLiAccJSmCwih4LnE2q                   snapswap.us   \n",
       "rNPRNzBB92BVpAhhZr4iXDTveCgV5Pofm9                 payroutes.com   \n",
       "rP5ShE8dGBH6hHtNvRESdMceen36XFBQmh               ripplelatam.com   \n",
       "rPDXxSZcuVL3ZWoyU82bcde3zwvmShkRyF                  wisepass.com   \n",
       "rPxU6acYni7FcXzPCMeaPSwKcuS2GTtNVN                    exrp.co.kr   \n",
       "rUkMKjQitpgAM5WTGk79xpjT38DEJY283d                 paxmoneta.com   \n",
       "razqQKzJRdB4UxFPWf5NEpEG3WMkmwgcXA           wg.iripplechina.com   \n",
       "rcA8X3TVMST1n3CJeAdGk1RdRCHii7N2h                    gatehub.net   \n",
       "rchGBxcD1A1C2tdxF6papQYZ8kjRKMYcL                    gatehub.net   \n",
       "rckzVpTnKpP4TJ1puQe827bV3X4oYtdTP                    gatehub.net   \n",
       "rcoef87SYMJ58NAFx7fNM5frVknmvHsvJ                bpgrefining.com   \n",
       "rfNZPxoZ5Uaamdp339U9dCLWz2T73nZJZH                    rippex.net   \n",
       "rfYv1TXnwgDDK4WQNbFALykYuEBnrR4pDX           dividendrippler.com   \n",
       "rhub8VRN55s94qWKDv6jmDy1pUykJzF3wq                   gatehub.net   \n",
       "rnuF96W4SZoCJmbHYBFoJZpR8eCaxNvekK                  ripplecn.com   \n",
       "rpDMez6pm6dBve2TJsmDpv7Yae6V5Pyvy2                   lakebtc.com   \n",
       "rrh7rf1gV2pXAoqA8oYbpHd8TKv5ZQeo67  goldbullioninternational.com   \n",
       "rsP3mgGb2tcYUrxiLFiHJiQXhsziegtwBc                  coinex.co.nz   \n",
       "rvYAfWj5gh67oV6fW32ZzP3Aw4Eubs59B                   bitstamp.net   \n",
       "\n",
       "                                                                           currencies  \\\n",
       "r3ADD8kXSUKHd6zTCKfnKT3zV9EZHjzp1S                                              {CAD}   \n",
       "r94s8px6kSw1uZ1MV98dhSRTvc6VMPoPcN                                              {JPY}   \n",
       "r9Dr5xwkeLegBeXq6ujinjSBLQzQ1zQGjH                               {SGD, USD, XAG, XAU}   \n",
       "r9ZFPSb1TFdnJwbTMYHvVwFK1bQPUCVNfJ                                              {JPY}   \n",
       "rB3gZey7VWHYRqJHLoHDEJXJ2pEPNieKiS  {STR, ETC, LTC, ADA, REP, JPY, DOG, ETH, BCC, ...   \n",
       "rBycsjqxD8RVZP5zrrndiVtJwht7Z457A8                                              {GBP}   \n",
       "rDAN8tzydyNfnNf2bfUQY6iR96UbpvNsze                               {REP, ETH, ETC, BTC}   \n",
       "rG6FZ31hDHN1K5Dkbma3PSB5uVCuVVRzfn                                         {MXN, BTC}   \n",
       "rJHygWcTLVpSXkowott6kzgZU6viQSVYM1                          {STR, LTC, EUR, NOK, BTC}   \n",
       "rJRi8WW24gt9X85PHAxfWNPCizMMhqUQwg                                              {JPY}   \n",
       "rKiCet8SdvWxPXnAgYarFUXMh1zCPz432Y                               {STR, CNY, FMM, XLM}   \n",
       "rKxKhXZCeSDsbkyB8DVgxpjy5AHubFkMFe                                         {BRL, BTC}   \n",
       "rLEsXccBGNR3UPuPu2hUXPjziKC3qKSBun                               {BTC, USD, LTC, EUR}   \n",
       "rM8199qFwspxiWNZRChZdZbGN5WrCepVP1                                              {CNY}   \n",
       "rMAz5ZnK73nyNUL4foAvaxdreczCkG3vA6                                              {JPY}   \n",
       "rMwjYedjc7qqtKYVLiAccJSmCwih4LnE2q                                    {USD, GBP, EUR}   \n",
       "rNPRNzBB92BVpAhhZr4iXDTveCgV5Pofm9                               {BTC, USD, ILS, LTC}   \n",
       "rP5ShE8dGBH6hHtNvRESdMceen36XFBQmh      {BRL, MXN, USD, LTC, ARS, CLP, UYU, PEN, BTC}   \n",
       "rPDXxSZcuVL3ZWoyU82bcde3zwvmShkRyF                {USD, LTC, SEK, NOK, GBP, JPY, BTC}   \n",
       "rPxU6acYni7FcXzPCMeaPSwKcuS2GTtNVN                                              {KRW}   \n",
       "rUkMKjQitpgAM5WTGk79xpjT38DEJY283d                                         {BTC, KRW}   \n",
       "razqQKzJRdB4UxFPWf5NEpEG3WMkmwgcXA                                              {CNY}   \n",
       "rcA8X3TVMST1n3CJeAdGk1RdRCHii7N2h                                {REP, ETH, ETC, BTC}   \n",
       "rchGBxcD1A1C2tdxF6papQYZ8kjRKMYcL                                {REP, ETH, ETC, BTC}   \n",
       "rckzVpTnKpP4TJ1puQe827bV3X4oYtdTP                                {REP, ETH, ETC, BTC}   \n",
       "rcoef87SYMJ58NAFx7fNM5frVknmvHsvJ                                               {XAU}   \n",
       "rfNZPxoZ5Uaamdp339U9dCLWz2T73nZJZH                                         {BRL, BTC}   \n",
       "rfYv1TXnwgDDK4WQNbFALykYuEBnrR4pDX                                              {BTC}   \n",
       "rhub8VRN55s94qWKDv6jmDy1pUykJzF3wq                                         {USD, EUR}   \n",
       "rnuF96W4SZoCJmbHYBFoJZpR8eCaxNvekK                                         {CNY, BTC}   \n",
       "rpDMez6pm6dBve2TJsmDpv7Yae6V5Pyvy2                                              {USD}   \n",
       "rrh7rf1gV2pXAoqA8oYbpHd8TKv5ZQeo67    {0158415500000000C1F76FF6ECB0BAC600000000, XAU}   \n",
       "rsP3mgGb2tcYUrxiLFiHJiQXhsziegtwBc                          {STR, USD, AUD, NZD, BTC}   \n",
       "rvYAfWj5gh67oV6fW32ZzP3Aw4Eubs59B                 {CHF, USD, EUR, AUD, GBP, JPY, BTC}   \n",
       "\n",
       "                                                                                   ip  \n",
       "r3ADD8kXSUKHd6zTCKfnKT3zV9EZHjzp1S                                     [23.20.239.12]  \n",
       "r94s8px6kSw1uZ1MV98dhSRTvc6VMPoPcN                       [104.28.12.46, 104.28.13.46]  \n",
       "r9Dr5xwkeLegBeXq6ujinjSBLQzQ1zQGjH                                                NaN  \n",
       "r9ZFPSb1TFdnJwbTMYHvVwFK1bQPUCVNfJ                                                NaN  \n",
       "rB3gZey7VWHYRqJHLoHDEJXJ2pEPNieKiS                    [52.202.40.211, 18.205.177.181]  \n",
       "rBycsjqxD8RVZP5zrrndiVtJwht7Z457A8                                                NaN  \n",
       "rDAN8tzydyNfnNf2bfUQY6iR96UbpvNsze                     [104.31.65.177, 104.31.64.177]  \n",
       "rG6FZ31hDHN1K5Dkbma3PSB5uVCuVVRzfn                     [104.20.12.111, 104.20.11.111]  \n",
       "rJHygWcTLVpSXkowott6kzgZU6viQSVYM1                                                NaN  \n",
       "rJRi8WW24gt9X85PHAxfWNPCizMMhqUQwg                                   [202.172.28.118]  \n",
       "rKiCet8SdvWxPXnAgYarFUXMh1zCPz432Y                                    [13.112.127.16]  \n",
       "rKxKhXZCeSDsbkyB8DVgxpjy5AHubFkMFe                         [104.24.96.2, 104.24.97.2]  \n",
       "rLEsXccBGNR3UPuPu2hUXPjziKC3qKSBun                                   [213.227.145.72]  \n",
       "rM8199qFwspxiWNZRChZdZbGN5WrCepVP1                                                NaN  \n",
       "rMAz5ZnK73nyNUL4foAvaxdreczCkG3vA6                                    [183.181.98.81]  \n",
       "rMwjYedjc7qqtKYVLiAccJSmCwih4LnE2q  [13.32.176.119, 13.32.176.147, 13.32.176.169, ...  \n",
       "rNPRNzBB92BVpAhhZr4iXDTveCgV5Pofm9                                                NaN  \n",
       "rP5ShE8dGBH6hHtNvRESdMceen36XFBQmh                                     [192.185.4.55]  \n",
       "rPDXxSZcuVL3ZWoyU82bcde3zwvmShkRyF                     [104.20.244.28, 104.20.245.28]  \n",
       "rPxU6acYni7FcXzPCMeaPSwKcuS2GTtNVN                                   [184.168.221.48]  \n",
       "rUkMKjQitpgAM5WTGk79xpjT38DEJY283d                                   [183.110.21.105]  \n",
       "razqQKzJRdB4UxFPWf5NEpEG3WMkmwgcXA                                     [47.90.66.247]  \n",
       "rcA8X3TVMST1n3CJeAdGk1RdRCHii7N2h                      [104.31.65.177, 104.31.64.177]  \n",
       "rchGBxcD1A1C2tdxF6papQYZ8kjRKMYcL                      [104.31.65.177, 104.31.64.177]  \n",
       "rckzVpTnKpP4TJ1puQe827bV3X4oYtdTP                      [104.31.65.177, 104.31.64.177]  \n",
       "rcoef87SYMJ58NAFx7fNM5frVknmvHsvJ                                    [146.247.25.206]  \n",
       "rfNZPxoZ5Uaamdp339U9dCLWz2T73nZJZH                         [104.24.96.2, 104.24.97.2]  \n",
       "rfYv1TXnwgDDK4WQNbFALykYuEBnrR4pDX                                    [59.190.140.10]  \n",
       "rhub8VRN55s94qWKDv6jmDy1pUykJzF3wq                     [104.31.65.177, 104.31.64.177]  \n",
       "rnuF96W4SZoCJmbHYBFoJZpR8eCaxNvekK                                   [18.220.246.233]  \n",
       "rpDMez6pm6dBve2TJsmDpv7Yae6V5Pyvy2                                   [104.244.76.176]  \n",
       "rrh7rf1gV2pXAoqA8oYbpHd8TKv5ZQeo67                                  [184.168.131.241]  \n",
       "rsP3mgGb2tcYUrxiLFiHJiQXhsziegtwBc                       [104.28.9.178, 104.28.8.178]  \n",
       "rvYAfWj5gh67oV6fW32ZzP3Aw4Eubs59B                    [107.154.249.133, 45.60.110.133]  "
      ]
     },
     "execution_count": 60,
     "metadata": {},
     "output_type": "execute_result"
    }
   ],
   "source": [
    "# RippleSingapore and DotPayco and JustCoin and PayRoutes are closed\n",
    "# https://twitter.com/RippleSingapore/status/787552615005556736\n",
    "# https://forum.ripple.com/viewtopic.php?f=3&t=15668\n",
    "# https://www.ccn.com/norwegian-bitcoin-exchange-justcoin-exits-gracefully-after-being-dropped-by-bank\n",
    "# https://www.xrpchat.com/topic/3607-a-list-of-bankrupt-gateways-lets-make/\n",
    "# I highly suspect Ripula and Ripple exchange tokyo to be closed. They have no activity since 2014 (https://developers.ripple.com/data-api-v2-tool.html#get-account-transaction-history)\n",
    "\n",
    "gateways_df"
   ]
  },
  {
   "cell_type": "markdown",
   "metadata": {},
   "source": [
    "## Convert IP addresses to ASN"
   ]
  },
  {
   "cell_type": "code",
   "execution_count": 8,
   "metadata": {},
   "outputs": [],
   "source": [
    "def get_as(x):\n",
    "    if type(x) is float:\n",
    "        return np.nan, np.nan\n",
    "    as_list = set()\n",
    "    gateways_countries = set()\n",
    "    for ip in x:\n",
    "        try:\n",
    "            obj = IPWhois(ip)\n",
    "            result = obj.lookup_whois()\n",
    "            as_list.add(result['asn'])\n",
    "            gateways_countries.add(result['asn_country_code'])\n",
    "        except:\n",
    "            print('ERROR with ' + ip)\n",
    "    return as_list, next(iter(gateways_countries))"
   ]
  },
  {
   "cell_type": "code",
   "execution_count": 9,
   "metadata": {},
   "outputs": [],
   "source": [
    "gateways_df['asn'], gateways_df['countries'] = zip(*gateways_df['ip'].apply(lambda x: get_as(x)))"
   ]
  },
  {
   "cell_type": "markdown",
   "metadata": {},
   "source": [
    "## Use ASN to get latitude/longitude"
   ]
  },
  {
   "cell_type": "code",
   "execution_count": 10,
   "metadata": {},
   "outputs": [],
   "source": [
    "countries = pd.read_csv('country.csv', delimiter=',')\n",
    "country_dict = countries.set_index('ISO 3166 Country Code')[['Latitude','Longitude']].dropna().to_dict()"
   ]
  },
  {
   "cell_type": "code",
   "execution_count": 11,
   "metadata": {},
   "outputs": [],
   "source": [
    "gateways_df['latitude'] = gateways_df['countries'].apply(lambda x: country_dict['Latitude'].get(x),np.nan)\n",
    "gateways_df['longitude'] = gateways_df['countries'].apply(lambda x: country_dict['Longitude'].get(x,np.nan))"
   ]
  },
  {
   "cell_type": "markdown",
   "metadata": {},
   "source": [
    "# Compute paths"
   ]
  },
  {
   "cell_type": "markdown",
   "metadata": {},
   "source": [
    "## Generate payload for API request"
   ]
  },
  {
   "cell_type": "code",
   "execution_count": 12,
   "metadata": {},
   "outputs": [],
   "source": [
    "def gen_command(sender,receiver,receiver_currency):\n",
    "    test_json = {\n",
    "          \"id\": 2,\n",
    "          \"command\": \"ripple_path_find\",\n",
    "          \"source_account\": sender,\n",
    "          \"destination_account\": receiver,\n",
    "          \"destination_amount\": {\n",
    "            \"currency\": receiver_currency,\n",
    "            \"value\": \"0.01\",\n",
    "            \"issuer\": receiver\n",
    "          }\n",
    "        }\n",
    "    return test_json"
   ]
  },
  {
   "cell_type": "markdown",
   "metadata": {},
   "source": [
    "## Convert API response in list of paths"
   ]
  },
  {
   "cell_type": "code",
   "execution_count": 13,
   "metadata": {},
   "outputs": [],
   "source": [
    "def extract_paths(result):\n",
    "    paths = []\n",
    "    for p in result:\n",
    "        path = []\n",
    "        for acc in (p['paths_computed']):\n",
    "            for c in acc:\n",
    "                if 'account' in c:\n",
    "                    path.append(c['account'])\n",
    "                if 'issuer' in c:\n",
    "                    path.append(c['issuer'])\n",
    "        paths.append(path)\n",
    "    return paths"
   ]
  },
  {
   "cell_type": "markdown",
   "metadata": {},
   "source": [
    "## Bring everything together"
   ]
  },
  {
   "cell_type": "code",
   "execution_count": 14,
   "metadata": {},
   "outputs": [],
   "source": [
    "def get_paths(sender,receiver,receiver_currency):\n",
    "    to_send = gen_command(sender,receiver,receiver_currency)\n",
    "    websocket.enableTrace(False)\n",
    "    ws = create_connection('wss://s2.ripple.com:443')\n",
    "\n",
    "    ws.send(json.dumps(to_send))\n",
    "    result = ws.recv()\n",
    "    return extract_paths(json.loads(result)['result']['alternatives'])"
   ]
  },
  {
   "cell_type": "code",
   "execution_count": 15,
   "metadata": {
    "scrolled": false
   },
   "outputs": [
    {
     "ename": "KeyboardInterrupt",
     "evalue": "",
     "output_type": "error",
     "traceback": [
      "\u001b[0;31m---------------------------------------------------------------------------\u001b[0m",
      "\u001b[0;31mKeyboardInterrupt\u001b[0m                         Traceback (most recent call last)",
      "\u001b[0;32m<ipython-input-15-fcd11fa8b5e5>\u001b[0m in \u001b[0;36m<module>\u001b[0;34m()\u001b[0m\n\u001b[1;32m     11\u001b[0m                 \u001b[0mfile\u001b[0m\u001b[0;34m.\u001b[0m\u001b[0mwrite\u001b[0m\u001b[0;34m(\u001b[0m\u001b[0;34m'Sender : {} - Receiver : {} - Currency : {}\\n'\u001b[0m\u001b[0;34m.\u001b[0m\u001b[0mformat\u001b[0m\u001b[0;34m(\u001b[0m\u001b[0mindex_sender\u001b[0m\u001b[0;34m,\u001b[0m\u001b[0mindex_receiver\u001b[0m\u001b[0;34m,\u001b[0m\u001b[0mc\u001b[0m\u001b[0;34m)\u001b[0m\u001b[0;34m)\u001b[0m\u001b[0;34m\u001b[0m\u001b[0;34m\u001b[0m\u001b[0m\n\u001b[1;32m     12\u001b[0m \u001b[0;34m\u001b[0m\u001b[0m\n\u001b[0;32m---> 13\u001b[0;31m                 \u001b[0mpaths\u001b[0m \u001b[0;34m=\u001b[0m \u001b[0mget_paths\u001b[0m\u001b[0;34m(\u001b[0m\u001b[0mindex_sender\u001b[0m\u001b[0;34m,\u001b[0m\u001b[0mindex_receiver\u001b[0m\u001b[0;34m,\u001b[0m\u001b[0mc\u001b[0m\u001b[0;34m)\u001b[0m\u001b[0;34m\u001b[0m\u001b[0;34m\u001b[0m\u001b[0m\n\u001b[0m\u001b[1;32m     14\u001b[0m                 \u001b[0mcount_in\u001b[0m \u001b[0;34m=\u001b[0m \u001b[0mset\u001b[0m\u001b[0;34m(\u001b[0m\u001b[0;34m)\u001b[0m\u001b[0;34m\u001b[0m\u001b[0;34m\u001b[0m\u001b[0m\n\u001b[1;32m     15\u001b[0m                 \u001b[0mcount_out\u001b[0m \u001b[0;34m=\u001b[0m \u001b[0mset\u001b[0m\u001b[0;34m(\u001b[0m\u001b[0;34m)\u001b[0m\u001b[0;34m\u001b[0m\u001b[0;34m\u001b[0m\u001b[0m\n",
      "\u001b[0;32m<ipython-input-14-baf18d8e30f8>\u001b[0m in \u001b[0;36mget_paths\u001b[0;34m(sender, receiver, receiver_currency)\u001b[0m\n\u001b[1;32m      5\u001b[0m \u001b[0;34m\u001b[0m\u001b[0m\n\u001b[1;32m      6\u001b[0m     \u001b[0mws\u001b[0m\u001b[0;34m.\u001b[0m\u001b[0msend\u001b[0m\u001b[0;34m(\u001b[0m\u001b[0mjson\u001b[0m\u001b[0;34m.\u001b[0m\u001b[0mdumps\u001b[0m\u001b[0;34m(\u001b[0m\u001b[0mto_send\u001b[0m\u001b[0;34m)\u001b[0m\u001b[0;34m)\u001b[0m\u001b[0;34m\u001b[0m\u001b[0;34m\u001b[0m\u001b[0m\n\u001b[0;32m----> 7\u001b[0;31m     \u001b[0mresult\u001b[0m \u001b[0;34m=\u001b[0m \u001b[0mws\u001b[0m\u001b[0;34m.\u001b[0m\u001b[0mrecv\u001b[0m\u001b[0;34m(\u001b[0m\u001b[0;34m)\u001b[0m\u001b[0;34m\u001b[0m\u001b[0;34m\u001b[0m\u001b[0m\n\u001b[0m\u001b[1;32m      8\u001b[0m     \u001b[0;32mreturn\u001b[0m \u001b[0mextract_paths\u001b[0m\u001b[0;34m(\u001b[0m\u001b[0mjson\u001b[0m\u001b[0;34m.\u001b[0m\u001b[0mloads\u001b[0m\u001b[0;34m(\u001b[0m\u001b[0mresult\u001b[0m\u001b[0;34m)\u001b[0m\u001b[0;34m[\u001b[0m\u001b[0;34m'result'\u001b[0m\u001b[0;34m]\u001b[0m\u001b[0;34m[\u001b[0m\u001b[0;34m'alternatives'\u001b[0m\u001b[0;34m]\u001b[0m\u001b[0;34m)\u001b[0m\u001b[0;34m\u001b[0m\u001b[0;34m\u001b[0m\u001b[0m\n",
      "\u001b[0;32m/usr/local/lib/python3.7/site-packages/websocket/_core.py\u001b[0m in \u001b[0;36mrecv\u001b[0;34m(self)\u001b[0m\n\u001b[1;32m    300\u001b[0m         \"\"\"\n\u001b[1;32m    301\u001b[0m         \u001b[0;32mwith\u001b[0m \u001b[0mself\u001b[0m\u001b[0;34m.\u001b[0m\u001b[0mreadlock\u001b[0m\u001b[0;34m:\u001b[0m\u001b[0;34m\u001b[0m\u001b[0;34m\u001b[0m\u001b[0m\n\u001b[0;32m--> 302\u001b[0;31m             \u001b[0mopcode\u001b[0m\u001b[0;34m,\u001b[0m \u001b[0mdata\u001b[0m \u001b[0;34m=\u001b[0m \u001b[0mself\u001b[0m\u001b[0;34m.\u001b[0m\u001b[0mrecv_data\u001b[0m\u001b[0;34m(\u001b[0m\u001b[0;34m)\u001b[0m\u001b[0;34m\u001b[0m\u001b[0;34m\u001b[0m\u001b[0m\n\u001b[0m\u001b[1;32m    303\u001b[0m         \u001b[0;32mif\u001b[0m \u001b[0msix\u001b[0m\u001b[0;34m.\u001b[0m\u001b[0mPY3\u001b[0m \u001b[0;32mand\u001b[0m \u001b[0mopcode\u001b[0m \u001b[0;34m==\u001b[0m \u001b[0mABNF\u001b[0m\u001b[0;34m.\u001b[0m\u001b[0mOPCODE_TEXT\u001b[0m\u001b[0;34m:\u001b[0m\u001b[0;34m\u001b[0m\u001b[0;34m\u001b[0m\u001b[0m\n\u001b[1;32m    304\u001b[0m             \u001b[0;32mreturn\u001b[0m \u001b[0mdata\u001b[0m\u001b[0;34m.\u001b[0m\u001b[0mdecode\u001b[0m\u001b[0;34m(\u001b[0m\u001b[0;34m\"utf-8\"\u001b[0m\u001b[0;34m)\u001b[0m\u001b[0;34m\u001b[0m\u001b[0;34m\u001b[0m\u001b[0m\n",
      "\u001b[0;32m/usr/local/lib/python3.7/site-packages/websocket/_core.py\u001b[0m in \u001b[0;36mrecv_data\u001b[0;34m(self, control_frame)\u001b[0m\n\u001b[1;32m    317\u001b[0m         \u001b[0;32mreturn\u001b[0m  \u001b[0mvalue\u001b[0m\u001b[0;34m:\u001b[0m \u001b[0mtuple\u001b[0m \u001b[0mof\u001b[0m \u001b[0moperation\u001b[0m \u001b[0mcode\u001b[0m \u001b[0;32mand\u001b[0m \u001b[0mstring\u001b[0m\u001b[0;34m(\u001b[0m\u001b[0mbyte\u001b[0m \u001b[0marray\u001b[0m\u001b[0;34m)\u001b[0m \u001b[0mvalue\u001b[0m\u001b[0;34m.\u001b[0m\u001b[0;34m\u001b[0m\u001b[0;34m\u001b[0m\u001b[0m\n\u001b[1;32m    318\u001b[0m         \"\"\"\n\u001b[0;32m--> 319\u001b[0;31m         \u001b[0mopcode\u001b[0m\u001b[0;34m,\u001b[0m \u001b[0mframe\u001b[0m \u001b[0;34m=\u001b[0m \u001b[0mself\u001b[0m\u001b[0;34m.\u001b[0m\u001b[0mrecv_data_frame\u001b[0m\u001b[0;34m(\u001b[0m\u001b[0mcontrol_frame\u001b[0m\u001b[0;34m)\u001b[0m\u001b[0;34m\u001b[0m\u001b[0;34m\u001b[0m\u001b[0m\n\u001b[0m\u001b[1;32m    320\u001b[0m         \u001b[0;32mreturn\u001b[0m \u001b[0mopcode\u001b[0m\u001b[0;34m,\u001b[0m \u001b[0mframe\u001b[0m\u001b[0;34m.\u001b[0m\u001b[0mdata\u001b[0m\u001b[0;34m\u001b[0m\u001b[0;34m\u001b[0m\u001b[0m\n\u001b[1;32m    321\u001b[0m \u001b[0;34m\u001b[0m\u001b[0m\n",
      "\u001b[0;32m/usr/local/lib/python3.7/site-packages/websocket/_core.py\u001b[0m in \u001b[0;36mrecv_data_frame\u001b[0;34m(self, control_frame)\u001b[0m\n\u001b[1;32m    330\u001b[0m         \"\"\"\n\u001b[1;32m    331\u001b[0m         \u001b[0;32mwhile\u001b[0m \u001b[0;32mTrue\u001b[0m\u001b[0;34m:\u001b[0m\u001b[0;34m\u001b[0m\u001b[0;34m\u001b[0m\u001b[0m\n\u001b[0;32m--> 332\u001b[0;31m             \u001b[0mframe\u001b[0m \u001b[0;34m=\u001b[0m \u001b[0mself\u001b[0m\u001b[0;34m.\u001b[0m\u001b[0mrecv_frame\u001b[0m\u001b[0;34m(\u001b[0m\u001b[0;34m)\u001b[0m\u001b[0;34m\u001b[0m\u001b[0;34m\u001b[0m\u001b[0m\n\u001b[0m\u001b[1;32m    333\u001b[0m             \u001b[0;32mif\u001b[0m \u001b[0;32mnot\u001b[0m \u001b[0mframe\u001b[0m\u001b[0;34m:\u001b[0m\u001b[0;34m\u001b[0m\u001b[0;34m\u001b[0m\u001b[0m\n\u001b[1;32m    334\u001b[0m                 \u001b[0;31m# handle error:\u001b[0m\u001b[0;34m\u001b[0m\u001b[0;34m\u001b[0m\u001b[0;34m\u001b[0m\u001b[0m\n",
      "\u001b[0;32m/usr/local/lib/python3.7/site-packages/websocket/_core.py\u001b[0m in \u001b[0;36mrecv_frame\u001b[0;34m(self)\u001b[0m\n\u001b[1;32m    364\u001b[0m         \u001b[0;32mreturn\u001b[0m \u001b[0mvalue\u001b[0m\u001b[0;34m:\u001b[0m \u001b[0mABNF\u001b[0m \u001b[0mframe\u001b[0m \u001b[0mobject\u001b[0m\u001b[0;34m.\u001b[0m\u001b[0;34m\u001b[0m\u001b[0;34m\u001b[0m\u001b[0m\n\u001b[1;32m    365\u001b[0m         \"\"\"\n\u001b[0;32m--> 366\u001b[0;31m         \u001b[0;32mreturn\u001b[0m \u001b[0mself\u001b[0m\u001b[0;34m.\u001b[0m\u001b[0mframe_buffer\u001b[0m\u001b[0;34m.\u001b[0m\u001b[0mrecv_frame\u001b[0m\u001b[0;34m(\u001b[0m\u001b[0;34m)\u001b[0m\u001b[0;34m\u001b[0m\u001b[0;34m\u001b[0m\u001b[0m\n\u001b[0m\u001b[1;32m    367\u001b[0m \u001b[0;34m\u001b[0m\u001b[0m\n\u001b[1;32m    368\u001b[0m     \u001b[0;32mdef\u001b[0m \u001b[0msend_close\u001b[0m\u001b[0;34m(\u001b[0m\u001b[0mself\u001b[0m\u001b[0;34m,\u001b[0m \u001b[0mstatus\u001b[0m\u001b[0;34m=\u001b[0m\u001b[0mSTATUS_NORMAL\u001b[0m\u001b[0;34m,\u001b[0m \u001b[0mreason\u001b[0m\u001b[0;34m=\u001b[0m\u001b[0msix\u001b[0m\u001b[0;34m.\u001b[0m\u001b[0mb\u001b[0m\u001b[0;34m(\u001b[0m\u001b[0;34m\"\"\u001b[0m\u001b[0;34m)\u001b[0m\u001b[0;34m)\u001b[0m\u001b[0;34m:\u001b[0m\u001b[0;34m\u001b[0m\u001b[0;34m\u001b[0m\u001b[0m\n",
      "\u001b[0;32m/usr/local/lib/python3.7/site-packages/websocket/_abnf.py\u001b[0m in \u001b[0;36mrecv_frame\u001b[0;34m(self)\u001b[0m\n\u001b[1;32m    359\u001b[0m             \u001b[0;31m# Header\u001b[0m\u001b[0;34m\u001b[0m\u001b[0;34m\u001b[0m\u001b[0;34m\u001b[0m\u001b[0m\n\u001b[1;32m    360\u001b[0m             \u001b[0;32mif\u001b[0m \u001b[0mself\u001b[0m\u001b[0;34m.\u001b[0m\u001b[0mhas_received_header\u001b[0m\u001b[0;34m(\u001b[0m\u001b[0;34m)\u001b[0m\u001b[0;34m:\u001b[0m\u001b[0;34m\u001b[0m\u001b[0;34m\u001b[0m\u001b[0m\n\u001b[0;32m--> 361\u001b[0;31m                 \u001b[0mself\u001b[0m\u001b[0;34m.\u001b[0m\u001b[0mrecv_header\u001b[0m\u001b[0;34m(\u001b[0m\u001b[0;34m)\u001b[0m\u001b[0;34m\u001b[0m\u001b[0;34m\u001b[0m\u001b[0m\n\u001b[0m\u001b[1;32m    362\u001b[0m             \u001b[0;34m(\u001b[0m\u001b[0mfin\u001b[0m\u001b[0;34m,\u001b[0m \u001b[0mrsv1\u001b[0m\u001b[0;34m,\u001b[0m \u001b[0mrsv2\u001b[0m\u001b[0;34m,\u001b[0m \u001b[0mrsv3\u001b[0m\u001b[0;34m,\u001b[0m \u001b[0mopcode\u001b[0m\u001b[0;34m,\u001b[0m \u001b[0mhas_mask\u001b[0m\u001b[0;34m,\u001b[0m \u001b[0m_\u001b[0m\u001b[0;34m)\u001b[0m \u001b[0;34m=\u001b[0m \u001b[0mself\u001b[0m\u001b[0;34m.\u001b[0m\u001b[0mheader\u001b[0m\u001b[0;34m\u001b[0m\u001b[0;34m\u001b[0m\u001b[0m\n\u001b[1;32m    363\u001b[0m \u001b[0;34m\u001b[0m\u001b[0m\n",
      "\u001b[0;32m/usr/local/lib/python3.7/site-packages/websocket/_abnf.py\u001b[0m in \u001b[0;36mrecv_header\u001b[0;34m(self)\u001b[0m\n\u001b[1;32m    307\u001b[0m \u001b[0;34m\u001b[0m\u001b[0m\n\u001b[1;32m    308\u001b[0m     \u001b[0;32mdef\u001b[0m \u001b[0mrecv_header\u001b[0m\u001b[0;34m(\u001b[0m\u001b[0mself\u001b[0m\u001b[0;34m)\u001b[0m\u001b[0;34m:\u001b[0m\u001b[0;34m\u001b[0m\u001b[0;34m\u001b[0m\u001b[0m\n\u001b[0;32m--> 309\u001b[0;31m         \u001b[0mheader\u001b[0m \u001b[0;34m=\u001b[0m \u001b[0mself\u001b[0m\u001b[0;34m.\u001b[0m\u001b[0mrecv_strict\u001b[0m\u001b[0;34m(\u001b[0m\u001b[0;36m2\u001b[0m\u001b[0;34m)\u001b[0m\u001b[0;34m\u001b[0m\u001b[0;34m\u001b[0m\u001b[0m\n\u001b[0m\u001b[1;32m    310\u001b[0m         \u001b[0mb1\u001b[0m \u001b[0;34m=\u001b[0m \u001b[0mheader\u001b[0m\u001b[0;34m[\u001b[0m\u001b[0;36m0\u001b[0m\u001b[0;34m]\u001b[0m\u001b[0;34m\u001b[0m\u001b[0;34m\u001b[0m\u001b[0m\n\u001b[1;32m    311\u001b[0m \u001b[0;34m\u001b[0m\u001b[0m\n",
      "\u001b[0;32m/usr/local/lib/python3.7/site-packages/websocket/_abnf.py\u001b[0m in \u001b[0;36mrecv_strict\u001b[0;34m(self, bufsize)\u001b[0m\n\u001b[1;32m    394\u001b[0m             \u001b[0;31m# buffers allocated and then shrunk, which results in\u001b[0m\u001b[0;34m\u001b[0m\u001b[0;34m\u001b[0m\u001b[0;34m\u001b[0m\u001b[0m\n\u001b[1;32m    395\u001b[0m             \u001b[0;31m# fragmentation.\u001b[0m\u001b[0;34m\u001b[0m\u001b[0;34m\u001b[0m\u001b[0;34m\u001b[0m\u001b[0m\n\u001b[0;32m--> 396\u001b[0;31m             \u001b[0mbytes_\u001b[0m \u001b[0;34m=\u001b[0m \u001b[0mself\u001b[0m\u001b[0;34m.\u001b[0m\u001b[0mrecv\u001b[0m\u001b[0;34m(\u001b[0m\u001b[0mmin\u001b[0m\u001b[0;34m(\u001b[0m\u001b[0;36m16384\u001b[0m\u001b[0;34m,\u001b[0m \u001b[0mshortage\u001b[0m\u001b[0;34m)\u001b[0m\u001b[0;34m)\u001b[0m\u001b[0;34m\u001b[0m\u001b[0;34m\u001b[0m\u001b[0m\n\u001b[0m\u001b[1;32m    397\u001b[0m             \u001b[0mself\u001b[0m\u001b[0;34m.\u001b[0m\u001b[0mrecv_buffer\u001b[0m\u001b[0;34m.\u001b[0m\u001b[0mappend\u001b[0m\u001b[0;34m(\u001b[0m\u001b[0mbytes_\u001b[0m\u001b[0;34m)\u001b[0m\u001b[0;34m\u001b[0m\u001b[0;34m\u001b[0m\u001b[0m\n\u001b[1;32m    398\u001b[0m             \u001b[0mshortage\u001b[0m \u001b[0;34m-=\u001b[0m \u001b[0mlen\u001b[0m\u001b[0;34m(\u001b[0m\u001b[0mbytes_\u001b[0m\u001b[0;34m)\u001b[0m\u001b[0;34m\u001b[0m\u001b[0;34m\u001b[0m\u001b[0m\n",
      "\u001b[0;32m/usr/local/lib/python3.7/site-packages/websocket/_core.py\u001b[0m in \u001b[0;36m_recv\u001b[0;34m(self, bufsize)\u001b[0m\n\u001b[1;32m    439\u001b[0m     \u001b[0;32mdef\u001b[0m \u001b[0m_recv\u001b[0m\u001b[0;34m(\u001b[0m\u001b[0mself\u001b[0m\u001b[0;34m,\u001b[0m \u001b[0mbufsize\u001b[0m\u001b[0;34m)\u001b[0m\u001b[0;34m:\u001b[0m\u001b[0;34m\u001b[0m\u001b[0;34m\u001b[0m\u001b[0m\n\u001b[1;32m    440\u001b[0m         \u001b[0;32mtry\u001b[0m\u001b[0;34m:\u001b[0m\u001b[0;34m\u001b[0m\u001b[0;34m\u001b[0m\u001b[0m\n\u001b[0;32m--> 441\u001b[0;31m             \u001b[0;32mreturn\u001b[0m \u001b[0mrecv\u001b[0m\u001b[0;34m(\u001b[0m\u001b[0mself\u001b[0m\u001b[0;34m.\u001b[0m\u001b[0msock\u001b[0m\u001b[0;34m,\u001b[0m \u001b[0mbufsize\u001b[0m\u001b[0;34m)\u001b[0m\u001b[0;34m\u001b[0m\u001b[0;34m\u001b[0m\u001b[0m\n\u001b[0m\u001b[1;32m    442\u001b[0m         \u001b[0;32mexcept\u001b[0m \u001b[0mWebSocketConnectionClosedException\u001b[0m\u001b[0;34m:\u001b[0m\u001b[0;34m\u001b[0m\u001b[0;34m\u001b[0m\u001b[0m\n\u001b[1;32m    443\u001b[0m             \u001b[0;32mif\u001b[0m \u001b[0mself\u001b[0m\u001b[0;34m.\u001b[0m\u001b[0msock\u001b[0m\u001b[0;34m:\u001b[0m\u001b[0;34m\u001b[0m\u001b[0;34m\u001b[0m\u001b[0m\n",
      "\u001b[0;32m/usr/local/lib/python3.7/site-packages/websocket/_socket.py\u001b[0m in \u001b[0;36mrecv\u001b[0;34m(sock, bufsize)\u001b[0m\n\u001b[1;32m     79\u001b[0m \u001b[0;34m\u001b[0m\u001b[0m\n\u001b[1;32m     80\u001b[0m     \u001b[0;32mtry\u001b[0m\u001b[0;34m:\u001b[0m\u001b[0;34m\u001b[0m\u001b[0;34m\u001b[0m\u001b[0m\n\u001b[0;32m---> 81\u001b[0;31m         \u001b[0mbytes_\u001b[0m \u001b[0;34m=\u001b[0m \u001b[0msock\u001b[0m\u001b[0;34m.\u001b[0m\u001b[0mrecv\u001b[0m\u001b[0;34m(\u001b[0m\u001b[0mbufsize\u001b[0m\u001b[0;34m)\u001b[0m\u001b[0;34m\u001b[0m\u001b[0;34m\u001b[0m\u001b[0m\n\u001b[0m\u001b[1;32m     82\u001b[0m     \u001b[0;32mexcept\u001b[0m \u001b[0msocket\u001b[0m\u001b[0;34m.\u001b[0m\u001b[0mtimeout\u001b[0m \u001b[0;32mas\u001b[0m \u001b[0me\u001b[0m\u001b[0;34m:\u001b[0m\u001b[0;34m\u001b[0m\u001b[0;34m\u001b[0m\u001b[0m\n\u001b[1;32m     83\u001b[0m         \u001b[0mmessage\u001b[0m \u001b[0;34m=\u001b[0m \u001b[0mextract_err_message\u001b[0m\u001b[0;34m(\u001b[0m\u001b[0me\u001b[0m\u001b[0;34m)\u001b[0m\u001b[0;34m\u001b[0m\u001b[0;34m\u001b[0m\u001b[0m\n",
      "\u001b[0;32m/usr/local/Cellar/python/3.7.3/Frameworks/Python.framework/Versions/3.7/lib/python3.7/ssl.py\u001b[0m in \u001b[0;36mrecv\u001b[0;34m(self, buflen, flags)\u001b[0m\n\u001b[1;32m   1035\u001b[0m                     \u001b[0;34m\"non-zero flags not allowed in calls to recv() on %s\"\u001b[0m \u001b[0;34m%\u001b[0m\u001b[0;34m\u001b[0m\u001b[0;34m\u001b[0m\u001b[0m\n\u001b[1;32m   1036\u001b[0m                     self.__class__)\n\u001b[0;32m-> 1037\u001b[0;31m             \u001b[0;32mreturn\u001b[0m \u001b[0mself\u001b[0m\u001b[0;34m.\u001b[0m\u001b[0mread\u001b[0m\u001b[0;34m(\u001b[0m\u001b[0mbuflen\u001b[0m\u001b[0;34m)\u001b[0m\u001b[0;34m\u001b[0m\u001b[0;34m\u001b[0m\u001b[0m\n\u001b[0m\u001b[1;32m   1038\u001b[0m         \u001b[0;32melse\u001b[0m\u001b[0;34m:\u001b[0m\u001b[0;34m\u001b[0m\u001b[0;34m\u001b[0m\u001b[0m\n\u001b[1;32m   1039\u001b[0m             \u001b[0;32mreturn\u001b[0m \u001b[0msuper\u001b[0m\u001b[0;34m(\u001b[0m\u001b[0;34m)\u001b[0m\u001b[0;34m.\u001b[0m\u001b[0mrecv\u001b[0m\u001b[0;34m(\u001b[0m\u001b[0mbuflen\u001b[0m\u001b[0;34m,\u001b[0m \u001b[0mflags\u001b[0m\u001b[0;34m)\u001b[0m\u001b[0;34m\u001b[0m\u001b[0;34m\u001b[0m\u001b[0m\n",
      "\u001b[0;32m/usr/local/Cellar/python/3.7.3/Frameworks/Python.framework/Versions/3.7/lib/python3.7/ssl.py\u001b[0m in \u001b[0;36mread\u001b[0;34m(self, len, buffer)\u001b[0m\n\u001b[1;32m    911\u001b[0m                 \u001b[0;32mreturn\u001b[0m \u001b[0mself\u001b[0m\u001b[0;34m.\u001b[0m\u001b[0m_sslobj\u001b[0m\u001b[0;34m.\u001b[0m\u001b[0mread\u001b[0m\u001b[0;34m(\u001b[0m\u001b[0mlen\u001b[0m\u001b[0;34m,\u001b[0m \u001b[0mbuffer\u001b[0m\u001b[0;34m)\u001b[0m\u001b[0;34m\u001b[0m\u001b[0;34m\u001b[0m\u001b[0m\n\u001b[1;32m    912\u001b[0m             \u001b[0;32melse\u001b[0m\u001b[0;34m:\u001b[0m\u001b[0;34m\u001b[0m\u001b[0;34m\u001b[0m\u001b[0m\n\u001b[0;32m--> 913\u001b[0;31m                 \u001b[0;32mreturn\u001b[0m \u001b[0mself\u001b[0m\u001b[0;34m.\u001b[0m\u001b[0m_sslobj\u001b[0m\u001b[0;34m.\u001b[0m\u001b[0mread\u001b[0m\u001b[0;34m(\u001b[0m\u001b[0mlen\u001b[0m\u001b[0;34m)\u001b[0m\u001b[0;34m\u001b[0m\u001b[0;34m\u001b[0m\u001b[0m\n\u001b[0m\u001b[1;32m    914\u001b[0m         \u001b[0;32mexcept\u001b[0m \u001b[0mSSLError\u001b[0m \u001b[0;32mas\u001b[0m \u001b[0mx\u001b[0m\u001b[0;34m:\u001b[0m\u001b[0;34m\u001b[0m\u001b[0;34m\u001b[0m\u001b[0m\n\u001b[1;32m    915\u001b[0m             \u001b[0;32mif\u001b[0m \u001b[0mx\u001b[0m\u001b[0;34m.\u001b[0m\u001b[0margs\u001b[0m\u001b[0;34m[\u001b[0m\u001b[0;36m0\u001b[0m\u001b[0;34m]\u001b[0m \u001b[0;34m==\u001b[0m \u001b[0mSSL_ERROR_EOF\u001b[0m \u001b[0;32mand\u001b[0m \u001b[0mself\u001b[0m\u001b[0;34m.\u001b[0m\u001b[0msuppress_ragged_eofs\u001b[0m\u001b[0;34m:\u001b[0m\u001b[0;34m\u001b[0m\u001b[0;34m\u001b[0m\u001b[0m\n",
      "\u001b[0;31mKeyboardInterrupt\u001b[0m: "
     ]
    }
   ],
   "source": [
    "gateways_df = gateways_df.dropna()\n",
    "gateways_accounts = gateways_df.index\n",
    "raw_links = []\n",
    "\n",
    "## Write statistics for each requests\n",
    "file = open(\"log_gateways.txt\",\"w\") \n",
    " \n",
    "for index_sender, sender in gateways_df.iterrows():\n",
    "    print(index_sender)\n",
    "    for index_receiver, receiver in gateways_df.iterrows():\n",
    "        if not sender.equals(receiver):\n",
    "            for c in receiver['currencies']:\n",
    "                file.write('Sender : {} - Receiver : {} - Currency : {}\\n'.format(index_sender,index_receiver,c))\n",
    "                \n",
    "                paths = get_paths(index_sender,index_receiver,c)\n",
    "                count_in = set()\n",
    "                count_out = set()\n",
    "                file.write('# Paths found : {}\\n'.format(len(paths)))\n",
    "                if (len(paths) > 0):\n",
    "                    for path in paths:\n",
    "                        raw_links.append(path)\n",
    "                        if (len(path) > 0):\n",
    "                            for acc in path:\n",
    "                                if acc in gateways_accounts:\n",
    "                                    count_in.add(acc)\n",
    "                                else:\n",
    "                                    count_out.add(acc)\n",
    "                    \n",
    "                    in_len = len(count_in)\n",
    "                    out_len = len(count_out)\n",
    "                    file.write('% of gateways : {:.0%} vs {:.0%} \\n'.format(in_len/(in_len+out_len), out_len/(in_len+out_len)))              \n",
    "file.close() "
   ]
  },
  {
   "cell_type": "markdown",
   "metadata": {},
   "source": [
    "Now that we recovered the data, we need to extract ASes and edges to draw a graph"
   ]
  },
  {
   "cell_type": "markdown",
   "metadata": {},
   "source": [
    "# Create Graph"
   ]
  },
  {
   "cell_type": "markdown",
   "metadata": {},
   "source": [
    "## Create edges"
   ]
  },
  {
   "cell_type": "markdown",
   "metadata": {},
   "source": [
    "Create dictionary from gateway account to ASN"
   ]
  },
  {
   "cell_type": "code",
   "execution_count": 16,
   "metadata": {},
   "outputs": [],
   "source": [
    "gate_to_as = gateways_df['asn'].dropna().apply(lambda x: next(iter(x))).to_dict()"
   ]
  },
  {
   "cell_type": "markdown",
   "metadata": {},
   "source": [
    "Remove accounts in paths that are not gateways"
   ]
  },
  {
   "cell_type": "code",
   "execution_count": 17,
   "metadata": {},
   "outputs": [],
   "source": [
    "gate_links = []\n",
    "for l in raw_links:\n",
    "    only_gate = [elem for elem in l if elem in gateways_accounts]\n",
    "    gate_links.append(only_gate)"
   ]
  },
  {
   "cell_type": "markdown",
   "metadata": {},
   "source": [
    "Extract edges between ASes"
   ]
  },
  {
   "cell_type": "code",
   "execution_count": 18,
   "metadata": {},
   "outputs": [],
   "source": [
    "links = set()\n",
    "for l in gate_links:\n",
    "    for i in range(len(l)-1):\n",
    "        source = gate_to_as[l[i]]\n",
    "        dest = gate_to_as[l[i+1]]\n",
    "        \n",
    "        sources = source.split(' ')\n",
    "        dests = dest.split(' ')\n",
    "        for s in sources:\n",
    "            for d in dests:\n",
    "                if(s != d):\n",
    "                    original = (s,d)\n",
    "                    reverse = (d,s)\n",
    "                    if (original not in links) and (reverse not in links):\n",
    "                        links.add(original)"
   ]
  },
  {
   "cell_type": "markdown",
   "metadata": {},
   "source": [
    "Save computed links into a file"
   ]
  },
  {
   "cell_type": "code",
   "execution_count": 27,
   "metadata": {},
   "outputs": [],
   "source": [
    "with open('gateway_links.csv', 'w') as f:\n",
    "    writer = csv.writer(f,lineterminator='\\n')\n",
    "    for tup in links:\n",
    "        writer.writerow(tup)"
   ]
  },
  {
   "cell_type": "markdown",
   "metadata": {},
   "source": [
    "## Create nodes"
   ]
  },
  {
   "cell_type": "code",
   "execution_count": 19,
   "metadata": {},
   "outputs": [],
   "source": [
    "def sanitize(x):\n",
    "    elem = next(iter(x))\n",
    "    if ' ' in elem:\n",
    "        return '38895'\n",
    "    return elem"
   ]
  },
  {
   "cell_type": "code",
   "execution_count": 20,
   "metadata": {},
   "outputs": [
    {
     "name": "stderr",
     "output_type": "stream",
     "text": [
      "/usr/local/lib/python3.7/site-packages/ipykernel_launcher.py:1: SettingWithCopyWarning: \n",
      "A value is trying to be set on a copy of a slice from a DataFrame.\n",
      "Try using .loc[row_indexer,col_indexer] = value instead\n",
      "\n",
      "See the caveats in the documentation: http://pandas.pydata.org/pandas-docs/stable/indexing.html#indexing-view-versus-copy\n",
      "  \"\"\"Entry point for launching an IPython kernel.\n"
     ]
    }
   ],
   "source": [
    "gateways_df['lat-lon'] = list(zip(gateways_df.latitude, gateways_df.longitude))\n",
    "ases = gateways_df[['asn','lat-lon']].copy()\n",
    "ases['asn'] = ases['asn'].apply(lambda x: sanitize(x))\n",
    "ases = ases.set_index('asn').to_dict()['lat-lon']"
   ]
  },
  {
   "cell_type": "markdown",
   "metadata": {},
   "source": [
    "## Use nodes ande edges to draw map"
   ]
  },
  {
   "cell_type": "code",
   "execution_count": 21,
   "metadata": {},
   "outputs": [],
   "source": [
    "def generate_map(ases,edges):\n",
    "    edges_position = set()\n",
    "    for elem in edges:\n",
    "        lat = ases[elem[0]]\n",
    "        lon = ases[elem[1]]\n",
    "        edges_position.add((lat,lon))\n",
    "        \n",
    "    # Make an empty map\n",
    "    m = folium.Map(location=[20, 0], tiles=\"Mapbox Bright\", zoom_start=2)\n",
    "\n",
    "    # I can add marker one by one on the map\n",
    "    for elem in ases.keys():\n",
    "        folium.Marker(ases[elem], popup=elem).add_to(m)\n",
    "\n",
    "    for elem in edges_position:\n",
    "        folium.PolyLine(locations = elem, weight=1).add_to(m) \n",
    "    return m"
   ]
  },
  {
   "cell_type": "code",
   "execution_count": 22,
   "metadata": {},
   "outputs": [
    {
     "data": {
      "text/html": [
       "<div style=\"width:100%;\"><div style=\"position:relative;width:100%;height:0;padding-bottom:60%;\"><iframe src=\"data:text/html;charset=utf-8;base64,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\" style=\"position:absolute;width:100%;height:100%;left:0;top:0;border:none !important;\" allowfullscreen webkitallowfullscreen mozallowfullscreen></iframe></div></div>"
      ],
      "text/plain": [
       "<folium.folium.Map at 0x1230afa58>"
      ]
     },
     "execution_count": 22,
     "metadata": {},
     "output_type": "execute_result"
    }
   ],
   "source": [
    "generate_map(ases,links)"
   ]
  }
 ],
 "metadata": {
  "kernelspec": {
   "display_name": "Python 3",
   "language": "python",
   "name": "python3"
  },
  "language_info": {
   "codemirror_mode": {
    "name": "ipython",
    "version": 3
   },
   "file_extension": ".py",
   "mimetype": "text/x-python",
   "name": "python",
   "nbconvert_exporter": "python",
   "pygments_lexer": "ipython3",
   "version": "3.7.3"
  }
 },
 "nbformat": 4,
 "nbformat_minor": 2
}
