{
 "cells": [
  {
   "cell_type": "code",
   "execution_count": 1,
   "metadata": {},
   "outputs": [],
   "source": [
    "import pandas as pd\n",
    "import numpy as np\n",
    "import requests\n",
    "import socket\n",
    "from ipwhois import IPWhois\n",
    "import json\n",
    "import websocket\n",
    "from websocket import create_connection\n",
    "import matplotlib.pyplot as plt\n",
    "import folium\n",
    "import csv"
   ]
  },
  {
   "cell_type": "markdown",
   "metadata": {},
   "source": [
    "# Recover gateways"
   ]
  },
  {
   "cell_type": "code",
   "execution_count": 2,
   "metadata": {},
   "outputs": [],
   "source": [
    "url = 'https://data.ripple.com/v2/gateways'\n",
    "result = requests.get(url).json()"
   ]
  },
  {
   "cell_type": "markdown",
   "metadata": {},
   "source": [
    "## Recover domain and currencies using gateway account"
   ]
  },
  {
   "cell_type": "code",
   "execution_count": 3,
   "metadata": {},
   "outputs": [],
   "source": [
    "def get_domain(account):\n",
    "    domain = ''\n",
    "    \n",
    "    url = 'https://data.ripple.com/v2/gateways/' + account\n",
    "    result = requests.get(url).json()\n",
    "    if 'domain' in result:\n",
    "        domain =  result['domain']\n",
    "    else:\n",
    "        domain = np.nan\n",
    "        \n",
    "    if account == 'razqQKzJRdB4UxFPWf5NEpEG3WMkmwgcXA':\n",
    "        domain = 'wg.iripplechina.com'\n",
    "    \n",
    "    if account == 'rcoef87SYMJ58NAFx7fNM5frVknmvHsvJ':\n",
    "        domain = 'bpgrefining.com'\n",
    "    \n",
    "    if account == 'rsP3mgGb2tcYUrxiLFiHJiQXhsziegtwBc':\n",
    "        domain = 'coinex.co.nz'\n",
    "    \n",
    "    curr_set = set()\n",
    "    if 'accounts' in result:\n",
    "        for acc in result['accounts']:\n",
    "            for c in(acc['currencies']):\n",
    "                curr_set.add(c)\n",
    "    return domain, curr_set"
   ]
  },
  {
   "cell_type": "markdown",
   "metadata": {},
   "source": [
    "## Use previously recovered domain to get IP addresses"
   ]
  },
  {
   "cell_type": "code",
   "execution_count": 4,
   "metadata": {},
   "outputs": [],
   "source": [
    "def get_ip(domain):\n",
    "    try:\n",
    "        return socket.gethostbyname_ex(domain)[2]\n",
    "    except:\n",
    "        return np.nan"
   ]
  },
  {
   "cell_type": "markdown",
   "metadata": {},
   "source": [
    "### Bring everything together"
   ]
  },
  {
   "cell_type": "code",
   "execution_count": 5,
   "metadata": {},
   "outputs": [],
   "source": [
    "gateway_dict = {}\n",
    "for currency in result:\n",
    "    for elem in result[currency]:\n",
    "        name = elem['name']\n",
    "        account = elem['account']\n",
    "        domain, curr_set = get_domain(account)\n",
    "        ip_list = get_ip(domain)\n",
    "        gateway_dict[account] = {'name' : name, 'domain' : domain, 'currencies': curr_set, 'ip': ip_list}"
   ]
  },
  {
   "cell_type": "code",
   "execution_count": 6,
   "metadata": {},
   "outputs": [],
   "source": [
    "gateways_df = pd.DataFrame.from_dict(gateway_dict,orient='index')"
   ]
  },
  {
   "cell_type": "code",
   "execution_count": 7,
   "metadata": {},
   "outputs": [
    {
     "data": {
      "text/html": [
       "<div>\n",
       "<style scoped>\n",
       "    .dataframe tbody tr th:only-of-type {\n",
       "        vertical-align: middle;\n",
       "    }\n",
       "\n",
       "    .dataframe tbody tr th {\n",
       "        vertical-align: top;\n",
       "    }\n",
       "\n",
       "    .dataframe thead th {\n",
       "        text-align: right;\n",
       "    }\n",
       "</style>\n",
       "<table border=\"1\" class=\"dataframe\">\n",
       "  <thead>\n",
       "    <tr style=\"text-align: right;\">\n",
       "      <th></th>\n",
       "      <th>name</th>\n",
       "      <th>domain</th>\n",
       "      <th>currencies</th>\n",
       "      <th>ip</th>\n",
       "    </tr>\n",
       "  </thead>\n",
       "  <tbody>\n",
       "    <tr>\n",
       "      <th>r3ADD8kXSUKHd6zTCKfnKT3zV9EZHjzp1S</th>\n",
       "      <td>RippleUnion</td>\n",
       "      <td>rippleunion.com</td>\n",
       "      <td>{CAD}</td>\n",
       "      <td>[23.20.239.12]</td>\n",
       "    </tr>\n",
       "    <tr>\n",
       "      <th>r94s8px6kSw1uZ1MV98dhSRTvc6VMPoPcN</th>\n",
       "      <td>TokyoJPY</td>\n",
       "      <td>tokyojpy.com</td>\n",
       "      <td>{JPY}</td>\n",
       "      <td>[104.28.12.46, 104.28.13.46]</td>\n",
       "    </tr>\n",
       "    <tr>\n",
       "      <th>r9Dr5xwkeLegBeXq6ujinjSBLQzQ1zQGjH</th>\n",
       "      <td>Ripple Singapore</td>\n",
       "      <td>ripplesingapore.com</td>\n",
       "      <td>{XAU, SGD, XAG, USD}</td>\n",
       "      <td>NaN</td>\n",
       "    </tr>\n",
       "    <tr>\n",
       "      <th>r9ZFPSb1TFdnJwbTMYHvVwFK1bQPUCVNfJ</th>\n",
       "      <td>Ripple Exchange Tokyo</td>\n",
       "      <td>ripple-exchange.tokyo</td>\n",
       "      <td>{JPY}</td>\n",
       "      <td>NaN</td>\n",
       "    </tr>\n",
       "    <tr>\n",
       "      <th>rB3gZey7VWHYRqJHLoHDEJXJ2pEPNieKiS</th>\n",
       "      <td>Mr. Exchange</td>\n",
       "      <td>mr-ripple.com</td>\n",
       "      <td>{BTC, REP, STR, ETC, ADA, DOG, LTC, JPY, ETH, ...</td>\n",
       "      <td>[18.205.177.181, 52.202.40.211]</td>\n",
       "    </tr>\n",
       "    <tr>\n",
       "      <th>rBycsjqxD8RVZP5zrrndiVtJwht7Z457A8</th>\n",
       "      <td>Ripula</td>\n",
       "      <td>ripula.co.uk</td>\n",
       "      <td>{GBP}</td>\n",
       "      <td>NaN</td>\n",
       "    </tr>\n",
       "    <tr>\n",
       "      <th>rDAN8tzydyNfnNf2bfUQY6iR96UbpvNsze</th>\n",
       "      <td>Gatehub Fifth</td>\n",
       "      <td>gatehub.net</td>\n",
       "      <td>{REP, ETC, ETH, BTC}</td>\n",
       "      <td>[104.31.65.177, 104.31.64.177]</td>\n",
       "    </tr>\n",
       "    <tr>\n",
       "      <th>rG6FZ31hDHN1K5Dkbma3PSB5uVCuVVRzfn</th>\n",
       "      <td>Bitso</td>\n",
       "      <td>bitso.com</td>\n",
       "      <td>{MXN, BTC}</td>\n",
       "      <td>[104.20.11.111, 104.20.12.111]</td>\n",
       "    </tr>\n",
       "    <tr>\n",
       "      <th>rJHygWcTLVpSXkowott6kzgZU6viQSVYM1</th>\n",
       "      <td>Justcoin</td>\n",
       "      <td>justcoin.com</td>\n",
       "      <td>{NOK, BTC, STR, EUR, LTC}</td>\n",
       "      <td>NaN</td>\n",
       "    </tr>\n",
       "    <tr>\n",
       "      <th>rJRi8WW24gt9X85PHAxfWNPCizMMhqUQwg</th>\n",
       "      <td>Digital Gate Japan</td>\n",
       "      <td>ripple-market.jp</td>\n",
       "      <td>{JPY}</td>\n",
       "      <td>[202.172.28.118]</td>\n",
       "    </tr>\n",
       "    <tr>\n",
       "      <th>rKiCet8SdvWxPXnAgYarFUXMh1zCPz432Y</th>\n",
       "      <td>Ripple Fox</td>\n",
       "      <td>ripplefox.com</td>\n",
       "      <td>{XLM, FMM, STR, CNY}</td>\n",
       "      <td>[13.112.127.16]</td>\n",
       "    </tr>\n",
       "    <tr>\n",
       "      <th>rKxKhXZCeSDsbkyB8DVgxpjy5AHubFkMFe</th>\n",
       "      <td>Rippex</td>\n",
       "      <td>rippex.net</td>\n",
       "      <td>{BRL, BTC}</td>\n",
       "      <td>[104.24.97.2, 104.24.96.2]</td>\n",
       "    </tr>\n",
       "    <tr>\n",
       "      <th>rLEsXccBGNR3UPuPu2hUXPjziKC3qKSBun</th>\n",
       "      <td>The Rock Trading</td>\n",
       "      <td>therocktrading.com</td>\n",
       "      <td>{USD, EUR, BTC, LTC}</td>\n",
       "      <td>[213.227.145.72]</td>\n",
       "    </tr>\n",
       "    <tr>\n",
       "      <th>rM8199qFwspxiWNZRChZdZbGN5WrCepVP1</th>\n",
       "      <td>DotPayco</td>\n",
       "      <td>xrpchina.net</td>\n",
       "      <td>{CNY}</td>\n",
       "      <td>NaN</td>\n",
       "    </tr>\n",
       "    <tr>\n",
       "      <th>rMAz5ZnK73nyNUL4foAvaxdreczCkG3vA6</th>\n",
       "      <td>Ripple Trade Japan</td>\n",
       "      <td>rippletrade.jp</td>\n",
       "      <td>{JPY}</td>\n",
       "      <td>[183.181.98.81]</td>\n",
       "    </tr>\n",
       "    <tr>\n",
       "      <th>rMwjYedjc7qqtKYVLiAccJSmCwih4LnE2q</th>\n",
       "      <td>SnapSwap</td>\n",
       "      <td>snapswap.us</td>\n",
       "      <td>{EUR, USD, GBP}</td>\n",
       "      <td>[13.32.176.169, 13.32.176.238, 13.32.176.27, 1...</td>\n",
       "    </tr>\n",
       "    <tr>\n",
       "      <th>rNPRNzBB92BVpAhhZr4iXDTveCgV5Pofm9</th>\n",
       "      <td>Payroutes</td>\n",
       "      <td>payroutes.com</td>\n",
       "      <td>{ILS, USD, BTC, LTC}</td>\n",
       "      <td>NaN</td>\n",
       "    </tr>\n",
       "    <tr>\n",
       "      <th>rP5ShE8dGBH6hHtNvRESdMceen36XFBQmh</th>\n",
       "      <td>Ripple LatAm</td>\n",
       "      <td>ripplelatam.com</td>\n",
       "      <td>{USD, BTC, CLP, BRL, ARS, PEN, LTC, MXN, UYU}</td>\n",
       "      <td>[192.185.4.55]</td>\n",
       "    </tr>\n",
       "    <tr>\n",
       "      <th>rPDXxSZcuVL3ZWoyU82bcde3zwvmShkRyF</th>\n",
       "      <td>WisePass</td>\n",
       "      <td>wisepass.com</td>\n",
       "      <td>{NOK, USD, BTC, SEK, GBP, LTC, JPY}</td>\n",
       "      <td>[104.20.244.28, 104.20.245.28]</td>\n",
       "    </tr>\n",
       "    <tr>\n",
       "      <th>rPxU6acYni7FcXzPCMeaPSwKcuS2GTtNVN</th>\n",
       "      <td>EXRP</td>\n",
       "      <td>exrp.co.kr</td>\n",
       "      <td>{KRW}</td>\n",
       "      <td>[184.168.221.36]</td>\n",
       "    </tr>\n",
       "    <tr>\n",
       "      <th>rUkMKjQitpgAM5WTGk79xpjT38DEJY283d</th>\n",
       "      <td>Pax Moneta</td>\n",
       "      <td>paxmoneta.com</td>\n",
       "      <td>{KRW, BTC}</td>\n",
       "      <td>[183.110.21.105]</td>\n",
       "    </tr>\n",
       "    <tr>\n",
       "      <th>razqQKzJRdB4UxFPWf5NEpEG3WMkmwgcXA</th>\n",
       "      <td>RippleChina</td>\n",
       "      <td>wg.iripplechina.com</td>\n",
       "      <td>{CNY}</td>\n",
       "      <td>[47.90.66.247]</td>\n",
       "    </tr>\n",
       "    <tr>\n",
       "      <th>rcA8X3TVMST1n3CJeAdGk1RdRCHii7N2h</th>\n",
       "      <td>Gatehub Fifth</td>\n",
       "      <td>gatehub.net</td>\n",
       "      <td>{REP, ETC, ETH, BTC}</td>\n",
       "      <td>[104.31.65.177, 104.31.64.177]</td>\n",
       "    </tr>\n",
       "    <tr>\n",
       "      <th>rchGBxcD1A1C2tdxF6papQYZ8kjRKMYcL</th>\n",
       "      <td>Gatehub Fifth</td>\n",
       "      <td>gatehub.net</td>\n",
       "      <td>{REP, ETC, ETH, BTC}</td>\n",
       "      <td>[104.31.65.177, 104.31.64.177]</td>\n",
       "    </tr>\n",
       "    <tr>\n",
       "      <th>rckzVpTnKpP4TJ1puQe827bV3X4oYtdTP</th>\n",
       "      <td>Gatehub Fifth</td>\n",
       "      <td>gatehub.net</td>\n",
       "      <td>{REP, ETC, ETH, BTC}</td>\n",
       "      <td>[104.31.65.177, 104.31.64.177]</td>\n",
       "    </tr>\n",
       "    <tr>\n",
       "      <th>rcoef87SYMJ58NAFx7fNM5frVknmvHsvJ</th>\n",
       "      <td>BPG</td>\n",
       "      <td>bpgrefining.com</td>\n",
       "      <td>{XAU}</td>\n",
       "      <td>[146.247.25.206]</td>\n",
       "    </tr>\n",
       "    <tr>\n",
       "      <th>rfNZPxoZ5Uaamdp339U9dCLWz2T73nZJZH</th>\n",
       "      <td>Rippex</td>\n",
       "      <td>rippex.net</td>\n",
       "      <td>{BRL, BTC}</td>\n",
       "      <td>[104.24.97.2, 104.24.96.2]</td>\n",
       "    </tr>\n",
       "    <tr>\n",
       "      <th>rfYv1TXnwgDDK4WQNbFALykYuEBnrR4pDX</th>\n",
       "      <td>Dividend Rippler</td>\n",
       "      <td>dividendrippler.com</td>\n",
       "      <td>{BTC}</td>\n",
       "      <td>[59.190.140.10]</td>\n",
       "    </tr>\n",
       "    <tr>\n",
       "      <th>rhub8VRN55s94qWKDv6jmDy1pUykJzF3wq</th>\n",
       "      <td>Gatehub</td>\n",
       "      <td>gatehub.net</td>\n",
       "      <td>{USD, EUR}</td>\n",
       "      <td>[104.31.65.177, 104.31.64.177]</td>\n",
       "    </tr>\n",
       "    <tr>\n",
       "      <th>rnuF96W4SZoCJmbHYBFoJZpR8eCaxNvekK</th>\n",
       "      <td>rippleCN</td>\n",
       "      <td>ripplecn.com</td>\n",
       "      <td>{BTC, CNY}</td>\n",
       "      <td>[18.220.246.233]</td>\n",
       "    </tr>\n",
       "    <tr>\n",
       "      <th>rpDMez6pm6dBve2TJsmDpv7Yae6V5Pyvy2</th>\n",
       "      <td>Lake BTC</td>\n",
       "      <td>lakebtc.com</td>\n",
       "      <td>{USD}</td>\n",
       "      <td>[104.244.76.176]</td>\n",
       "    </tr>\n",
       "    <tr>\n",
       "      <th>rrh7rf1gV2pXAoqA8oYbpHd8TKv5ZQeo67</th>\n",
       "      <td>GBI</td>\n",
       "      <td>goldbullioninternational.com</td>\n",
       "      <td>{XAU, 0158415500000000C1F76FF6ECB0BAC600000000}</td>\n",
       "      <td>[184.168.131.241]</td>\n",
       "    </tr>\n",
       "    <tr>\n",
       "      <th>rsP3mgGb2tcYUrxiLFiHJiQXhsziegtwBc</th>\n",
       "      <td>Coinex</td>\n",
       "      <td>coinex.co.nz</td>\n",
       "      <td>{USD, BTC, STR, AUD, NZD}</td>\n",
       "      <td>[104.28.9.178, 104.28.8.178]</td>\n",
       "    </tr>\n",
       "    <tr>\n",
       "      <th>rvYAfWj5gh67oV6fW32ZzP3Aw4Eubs59B</th>\n",
       "      <td>Bitstamp</td>\n",
       "      <td>bitstamp.net</td>\n",
       "      <td>{USD, BTC, CHF, GBP, AUD, EUR, JPY}</td>\n",
       "      <td>[107.154.249.133, 45.60.110.133]</td>\n",
       "    </tr>\n",
       "  </tbody>\n",
       "</table>\n",
       "</div>"
      ],
      "text/plain": [
       "                                                     name  \\\n",
       "r3ADD8kXSUKHd6zTCKfnKT3zV9EZHjzp1S            RippleUnion   \n",
       "r94s8px6kSw1uZ1MV98dhSRTvc6VMPoPcN               TokyoJPY   \n",
       "r9Dr5xwkeLegBeXq6ujinjSBLQzQ1zQGjH       Ripple Singapore   \n",
       "r9ZFPSb1TFdnJwbTMYHvVwFK1bQPUCVNfJ  Ripple Exchange Tokyo   \n",
       "rB3gZey7VWHYRqJHLoHDEJXJ2pEPNieKiS           Mr. Exchange   \n",
       "rBycsjqxD8RVZP5zrrndiVtJwht7Z457A8                 Ripula   \n",
       "rDAN8tzydyNfnNf2bfUQY6iR96UbpvNsze          Gatehub Fifth   \n",
       "rG6FZ31hDHN1K5Dkbma3PSB5uVCuVVRzfn                  Bitso   \n",
       "rJHygWcTLVpSXkowott6kzgZU6viQSVYM1               Justcoin   \n",
       "rJRi8WW24gt9X85PHAxfWNPCizMMhqUQwg     Digital Gate Japan   \n",
       "rKiCet8SdvWxPXnAgYarFUXMh1zCPz432Y             Ripple Fox   \n",
       "rKxKhXZCeSDsbkyB8DVgxpjy5AHubFkMFe                 Rippex   \n",
       "rLEsXccBGNR3UPuPu2hUXPjziKC3qKSBun       The Rock Trading   \n",
       "rM8199qFwspxiWNZRChZdZbGN5WrCepVP1               DotPayco   \n",
       "rMAz5ZnK73nyNUL4foAvaxdreczCkG3vA6     Ripple Trade Japan   \n",
       "rMwjYedjc7qqtKYVLiAccJSmCwih4LnE2q               SnapSwap   \n",
       "rNPRNzBB92BVpAhhZr4iXDTveCgV5Pofm9              Payroutes   \n",
       "rP5ShE8dGBH6hHtNvRESdMceen36XFBQmh           Ripple LatAm   \n",
       "rPDXxSZcuVL3ZWoyU82bcde3zwvmShkRyF               WisePass   \n",
       "rPxU6acYni7FcXzPCMeaPSwKcuS2GTtNVN                   EXRP   \n",
       "rUkMKjQitpgAM5WTGk79xpjT38DEJY283d             Pax Moneta   \n",
       "razqQKzJRdB4UxFPWf5NEpEG3WMkmwgcXA            RippleChina   \n",
       "rcA8X3TVMST1n3CJeAdGk1RdRCHii7N2h           Gatehub Fifth   \n",
       "rchGBxcD1A1C2tdxF6papQYZ8kjRKMYcL           Gatehub Fifth   \n",
       "rckzVpTnKpP4TJ1puQe827bV3X4oYtdTP           Gatehub Fifth   \n",
       "rcoef87SYMJ58NAFx7fNM5frVknmvHsvJ                     BPG   \n",
       "rfNZPxoZ5Uaamdp339U9dCLWz2T73nZJZH                 Rippex   \n",
       "rfYv1TXnwgDDK4WQNbFALykYuEBnrR4pDX       Dividend Rippler   \n",
       "rhub8VRN55s94qWKDv6jmDy1pUykJzF3wq                Gatehub   \n",
       "rnuF96W4SZoCJmbHYBFoJZpR8eCaxNvekK               rippleCN   \n",
       "rpDMez6pm6dBve2TJsmDpv7Yae6V5Pyvy2               Lake BTC   \n",
       "rrh7rf1gV2pXAoqA8oYbpHd8TKv5ZQeo67                    GBI   \n",
       "rsP3mgGb2tcYUrxiLFiHJiQXhsziegtwBc                 Coinex   \n",
       "rvYAfWj5gh67oV6fW32ZzP3Aw4Eubs59B                Bitstamp   \n",
       "\n",
       "                                                          domain  \\\n",
       "r3ADD8kXSUKHd6zTCKfnKT3zV9EZHjzp1S               rippleunion.com   \n",
       "r94s8px6kSw1uZ1MV98dhSRTvc6VMPoPcN                  tokyojpy.com   \n",
       "r9Dr5xwkeLegBeXq6ujinjSBLQzQ1zQGjH           ripplesingapore.com   \n",
       "r9ZFPSb1TFdnJwbTMYHvVwFK1bQPUCVNfJ         ripple-exchange.tokyo   \n",
       "rB3gZey7VWHYRqJHLoHDEJXJ2pEPNieKiS                 mr-ripple.com   \n",
       "rBycsjqxD8RVZP5zrrndiVtJwht7Z457A8                  ripula.co.uk   \n",
       "rDAN8tzydyNfnNf2bfUQY6iR96UbpvNsze                   gatehub.net   \n",
       "rG6FZ31hDHN1K5Dkbma3PSB5uVCuVVRzfn                     bitso.com   \n",
       "rJHygWcTLVpSXkowott6kzgZU6viQSVYM1                  justcoin.com   \n",
       "rJRi8WW24gt9X85PHAxfWNPCizMMhqUQwg              ripple-market.jp   \n",
       "rKiCet8SdvWxPXnAgYarFUXMh1zCPz432Y                 ripplefox.com   \n",
       "rKxKhXZCeSDsbkyB8DVgxpjy5AHubFkMFe                    rippex.net   \n",
       "rLEsXccBGNR3UPuPu2hUXPjziKC3qKSBun            therocktrading.com   \n",
       "rM8199qFwspxiWNZRChZdZbGN5WrCepVP1                  xrpchina.net   \n",
       "rMAz5ZnK73nyNUL4foAvaxdreczCkG3vA6                rippletrade.jp   \n",
       "rMwjYedjc7qqtKYVLiAccJSmCwih4LnE2q                   snapswap.us   \n",
       "rNPRNzBB92BVpAhhZr4iXDTveCgV5Pofm9                 payroutes.com   \n",
       "rP5ShE8dGBH6hHtNvRESdMceen36XFBQmh               ripplelatam.com   \n",
       "rPDXxSZcuVL3ZWoyU82bcde3zwvmShkRyF                  wisepass.com   \n",
       "rPxU6acYni7FcXzPCMeaPSwKcuS2GTtNVN                    exrp.co.kr   \n",
       "rUkMKjQitpgAM5WTGk79xpjT38DEJY283d                 paxmoneta.com   \n",
       "razqQKzJRdB4UxFPWf5NEpEG3WMkmwgcXA           wg.iripplechina.com   \n",
       "rcA8X3TVMST1n3CJeAdGk1RdRCHii7N2h                    gatehub.net   \n",
       "rchGBxcD1A1C2tdxF6papQYZ8kjRKMYcL                    gatehub.net   \n",
       "rckzVpTnKpP4TJ1puQe827bV3X4oYtdTP                    gatehub.net   \n",
       "rcoef87SYMJ58NAFx7fNM5frVknmvHsvJ                bpgrefining.com   \n",
       "rfNZPxoZ5Uaamdp339U9dCLWz2T73nZJZH                    rippex.net   \n",
       "rfYv1TXnwgDDK4WQNbFALykYuEBnrR4pDX           dividendrippler.com   \n",
       "rhub8VRN55s94qWKDv6jmDy1pUykJzF3wq                   gatehub.net   \n",
       "rnuF96W4SZoCJmbHYBFoJZpR8eCaxNvekK                  ripplecn.com   \n",
       "rpDMez6pm6dBve2TJsmDpv7Yae6V5Pyvy2                   lakebtc.com   \n",
       "rrh7rf1gV2pXAoqA8oYbpHd8TKv5ZQeo67  goldbullioninternational.com   \n",
       "rsP3mgGb2tcYUrxiLFiHJiQXhsziegtwBc                  coinex.co.nz   \n",
       "rvYAfWj5gh67oV6fW32ZzP3Aw4Eubs59B                   bitstamp.net   \n",
       "\n",
       "                                                                           currencies  \\\n",
       "r3ADD8kXSUKHd6zTCKfnKT3zV9EZHjzp1S                                              {CAD}   \n",
       "r94s8px6kSw1uZ1MV98dhSRTvc6VMPoPcN                                              {JPY}   \n",
       "r9Dr5xwkeLegBeXq6ujinjSBLQzQ1zQGjH                               {XAU, SGD, XAG, USD}   \n",
       "r9ZFPSb1TFdnJwbTMYHvVwFK1bQPUCVNfJ                                              {JPY}   \n",
       "rB3gZey7VWHYRqJHLoHDEJXJ2pEPNieKiS  {BTC, REP, STR, ETC, ADA, DOG, LTC, JPY, ETH, ...   \n",
       "rBycsjqxD8RVZP5zrrndiVtJwht7Z457A8                                              {GBP}   \n",
       "rDAN8tzydyNfnNf2bfUQY6iR96UbpvNsze                               {REP, ETC, ETH, BTC}   \n",
       "rG6FZ31hDHN1K5Dkbma3PSB5uVCuVVRzfn                                         {MXN, BTC}   \n",
       "rJHygWcTLVpSXkowott6kzgZU6viQSVYM1                          {NOK, BTC, STR, EUR, LTC}   \n",
       "rJRi8WW24gt9X85PHAxfWNPCizMMhqUQwg                                              {JPY}   \n",
       "rKiCet8SdvWxPXnAgYarFUXMh1zCPz432Y                               {XLM, FMM, STR, CNY}   \n",
       "rKxKhXZCeSDsbkyB8DVgxpjy5AHubFkMFe                                         {BRL, BTC}   \n",
       "rLEsXccBGNR3UPuPu2hUXPjziKC3qKSBun                               {USD, EUR, BTC, LTC}   \n",
       "rM8199qFwspxiWNZRChZdZbGN5WrCepVP1                                              {CNY}   \n",
       "rMAz5ZnK73nyNUL4foAvaxdreczCkG3vA6                                              {JPY}   \n",
       "rMwjYedjc7qqtKYVLiAccJSmCwih4LnE2q                                    {EUR, USD, GBP}   \n",
       "rNPRNzBB92BVpAhhZr4iXDTveCgV5Pofm9                               {ILS, USD, BTC, LTC}   \n",
       "rP5ShE8dGBH6hHtNvRESdMceen36XFBQmh      {USD, BTC, CLP, BRL, ARS, PEN, LTC, MXN, UYU}   \n",
       "rPDXxSZcuVL3ZWoyU82bcde3zwvmShkRyF                {NOK, USD, BTC, SEK, GBP, LTC, JPY}   \n",
       "rPxU6acYni7FcXzPCMeaPSwKcuS2GTtNVN                                              {KRW}   \n",
       "rUkMKjQitpgAM5WTGk79xpjT38DEJY283d                                         {KRW, BTC}   \n",
       "razqQKzJRdB4UxFPWf5NEpEG3WMkmwgcXA                                              {CNY}   \n",
       "rcA8X3TVMST1n3CJeAdGk1RdRCHii7N2h                                {REP, ETC, ETH, BTC}   \n",
       "rchGBxcD1A1C2tdxF6papQYZ8kjRKMYcL                                {REP, ETC, ETH, BTC}   \n",
       "rckzVpTnKpP4TJ1puQe827bV3X4oYtdTP                                {REP, ETC, ETH, BTC}   \n",
       "rcoef87SYMJ58NAFx7fNM5frVknmvHsvJ                                               {XAU}   \n",
       "rfNZPxoZ5Uaamdp339U9dCLWz2T73nZJZH                                         {BRL, BTC}   \n",
       "rfYv1TXnwgDDK4WQNbFALykYuEBnrR4pDX                                              {BTC}   \n",
       "rhub8VRN55s94qWKDv6jmDy1pUykJzF3wq                                         {USD, EUR}   \n",
       "rnuF96W4SZoCJmbHYBFoJZpR8eCaxNvekK                                         {BTC, CNY}   \n",
       "rpDMez6pm6dBve2TJsmDpv7Yae6V5Pyvy2                                              {USD}   \n",
       "rrh7rf1gV2pXAoqA8oYbpHd8TKv5ZQeo67    {XAU, 0158415500000000C1F76FF6ECB0BAC600000000}   \n",
       "rsP3mgGb2tcYUrxiLFiHJiQXhsziegtwBc                          {USD, BTC, STR, AUD, NZD}   \n",
       "rvYAfWj5gh67oV6fW32ZzP3Aw4Eubs59B                 {USD, BTC, CHF, GBP, AUD, EUR, JPY}   \n",
       "\n",
       "                                                                                   ip  \n",
       "r3ADD8kXSUKHd6zTCKfnKT3zV9EZHjzp1S                                     [23.20.239.12]  \n",
       "r94s8px6kSw1uZ1MV98dhSRTvc6VMPoPcN                       [104.28.12.46, 104.28.13.46]  \n",
       "r9Dr5xwkeLegBeXq6ujinjSBLQzQ1zQGjH                                                NaN  \n",
       "r9ZFPSb1TFdnJwbTMYHvVwFK1bQPUCVNfJ                                                NaN  \n",
       "rB3gZey7VWHYRqJHLoHDEJXJ2pEPNieKiS                    [18.205.177.181, 52.202.40.211]  \n",
       "rBycsjqxD8RVZP5zrrndiVtJwht7Z457A8                                                NaN  \n",
       "rDAN8tzydyNfnNf2bfUQY6iR96UbpvNsze                     [104.31.65.177, 104.31.64.177]  \n",
       "rG6FZ31hDHN1K5Dkbma3PSB5uVCuVVRzfn                     [104.20.11.111, 104.20.12.111]  \n",
       "rJHygWcTLVpSXkowott6kzgZU6viQSVYM1                                                NaN  \n",
       "rJRi8WW24gt9X85PHAxfWNPCizMMhqUQwg                                   [202.172.28.118]  \n",
       "rKiCet8SdvWxPXnAgYarFUXMh1zCPz432Y                                    [13.112.127.16]  \n",
       "rKxKhXZCeSDsbkyB8DVgxpjy5AHubFkMFe                         [104.24.97.2, 104.24.96.2]  \n",
       "rLEsXccBGNR3UPuPu2hUXPjziKC3qKSBun                                   [213.227.145.72]  \n",
       "rM8199qFwspxiWNZRChZdZbGN5WrCepVP1                                                NaN  \n",
       "rMAz5ZnK73nyNUL4foAvaxdreczCkG3vA6                                    [183.181.98.81]  \n",
       "rMwjYedjc7qqtKYVLiAccJSmCwih4LnE2q  [13.32.176.169, 13.32.176.238, 13.32.176.27, 1...  \n",
       "rNPRNzBB92BVpAhhZr4iXDTveCgV5Pofm9                                                NaN  \n",
       "rP5ShE8dGBH6hHtNvRESdMceen36XFBQmh                                     [192.185.4.55]  \n",
       "rPDXxSZcuVL3ZWoyU82bcde3zwvmShkRyF                     [104.20.244.28, 104.20.245.28]  \n",
       "rPxU6acYni7FcXzPCMeaPSwKcuS2GTtNVN                                   [184.168.221.36]  \n",
       "rUkMKjQitpgAM5WTGk79xpjT38DEJY283d                                   [183.110.21.105]  \n",
       "razqQKzJRdB4UxFPWf5NEpEG3WMkmwgcXA                                     [47.90.66.247]  \n",
       "rcA8X3TVMST1n3CJeAdGk1RdRCHii7N2h                      [104.31.65.177, 104.31.64.177]  \n",
       "rchGBxcD1A1C2tdxF6papQYZ8kjRKMYcL                      [104.31.65.177, 104.31.64.177]  \n",
       "rckzVpTnKpP4TJ1puQe827bV3X4oYtdTP                      [104.31.65.177, 104.31.64.177]  \n",
       "rcoef87SYMJ58NAFx7fNM5frVknmvHsvJ                                    [146.247.25.206]  \n",
       "rfNZPxoZ5Uaamdp339U9dCLWz2T73nZJZH                         [104.24.97.2, 104.24.96.2]  \n",
       "rfYv1TXnwgDDK4WQNbFALykYuEBnrR4pDX                                    [59.190.140.10]  \n",
       "rhub8VRN55s94qWKDv6jmDy1pUykJzF3wq                     [104.31.65.177, 104.31.64.177]  \n",
       "rnuF96W4SZoCJmbHYBFoJZpR8eCaxNvekK                                   [18.220.246.233]  \n",
       "rpDMez6pm6dBve2TJsmDpv7Yae6V5Pyvy2                                   [104.244.76.176]  \n",
       "rrh7rf1gV2pXAoqA8oYbpHd8TKv5ZQeo67                                  [184.168.131.241]  \n",
       "rsP3mgGb2tcYUrxiLFiHJiQXhsziegtwBc                       [104.28.9.178, 104.28.8.178]  \n",
       "rvYAfWj5gh67oV6fW32ZzP3Aw4Eubs59B                    [107.154.249.133, 45.60.110.133]  "
      ]
     },
     "execution_count": 7,
     "metadata": {},
     "output_type": "execute_result"
    }
   ],
   "source": [
    "# RippleSingapore and DotPayco and JustCoin and PayRoutes are closed\n",
    "# https://twitter.com/RippleSingapore/status/787552615005556736\n",
    "# https://forum.ripple.com/viewtopic.php?f=3&t=15668\n",
    "# https://www.ccn.com/norwegian-bitcoin-exchange-justcoin-exits-gracefully-after-being-dropped-by-bank\n",
    "# https://www.xrpchat.com/topic/3607-a-list-of-bankrupt-gateways-lets-make/\n",
    "# I highly suspect Ripula and Ripple exchange tokyo to be closed. They have no activity since 2014 (https://developers.ripple.com/data-api-v2-tool.html#get-account-transaction-history)\n",
    "\n",
    "gateways_df"
   ]
  },
  {
   "cell_type": "markdown",
   "metadata": {},
   "source": [
    "## Convert IP addresses to ASN"
   ]
  },
  {
   "cell_type": "code",
   "execution_count": 9,
   "metadata": {},
   "outputs": [],
   "source": [
    "def get_as(x):\n",
    "    if type(x) is float:\n",
    "        return np.nan, np.nan\n",
    "    as_list = set()\n",
    "    gateways_countries = set()\n",
    "    for ip in x:\n",
    "        try:\n",
    "            obj = IPWhois(ip)\n",
    "            result = obj.lookup_whois()\n",
    "            as_list.add(result['asn'])\n",
    "            gateways_countries.add(result['asn_country_code'])\n",
    "        except:\n",
    "            print('ERROR with ' + ip)\n",
    "    return as_list, next(iter(gateways_countries))"
   ]
  },
  {
   "cell_type": "code",
   "execution_count": 10,
   "metadata": {},
   "outputs": [],
   "source": [
    "gateways_df['asn'], gateways_df['countries'] = zip(*gateways_df['ip'].apply(lambda x: get_as(x)))"
   ]
  },
  {
   "cell_type": "markdown",
   "metadata": {},
   "source": [
    "## Use ASN to get latitude/longitude"
   ]
  },
  {
   "cell_type": "code",
   "execution_count": 11,
   "metadata": {},
   "outputs": [],
   "source": [
    "countries = pd.read_csv('country.csv', delimiter=',')\n",
    "country_dict = countries.set_index('ISO 3166 Country Code')[['Latitude','Longitude']].dropna().to_dict()"
   ]
  },
  {
   "cell_type": "code",
   "execution_count": 12,
   "metadata": {},
   "outputs": [],
   "source": [
    "gateways_df['latitude'] = gateways_df['countries'].apply(lambda x: country_dict['Latitude'].get(x),np.nan)\n",
    "gateways_df['longitude'] = gateways_df['countries'].apply(lambda x: country_dict['Longitude'].get(x,np.nan))"
   ]
  },
  {
   "cell_type": "markdown",
   "metadata": {},
   "source": [
    "# Compute paths"
   ]
  },
  {
   "cell_type": "markdown",
   "metadata": {},
   "source": [
    "## Generate payload for API request"
   ]
  },
  {
   "cell_type": "code",
   "execution_count": 29,
   "metadata": {},
   "outputs": [],
   "source": [
    "def gen_command(sender,receiver,receiver_currency):\n",
    "    test_json = {\n",
    "          \"id\": 2,\n",
    "          \"command\": \"ripple_path_find\",\n",
    "          \"source_account\": sender,\n",
    "          \"destination_account\": receiver,\n",
    "          \"destination_amount\": {\n",
    "            \"currency\": receiver_currency,\n",
    "            \"value\": \"0.01\",\n",
    "            \"issuer\": receiver\n",
    "          }\n",
    "        }\n",
    "    return test_json"
   ]
  },
  {
   "cell_type": "markdown",
   "metadata": {},
   "source": [
    "## Convert API response in list of paths"
   ]
  },
  {
   "cell_type": "code",
   "execution_count": 30,
   "metadata": {},
   "outputs": [],
   "source": [
    "def extract_paths(result):\n",
    "    paths = []\n",
    "    for p in result:\n",
    "        path = []\n",
    "        for acc in (p['paths_computed']):\n",
    "            for c in acc:\n",
    "                if 'account' in c:\n",
    "                    path.append(c['account'])\n",
    "                if 'issuer' in c:\n",
    "                    path.append(c['issuer'])\n",
    "        paths.append(path)\n",
    "    return paths"
   ]
  },
  {
   "cell_type": "markdown",
   "metadata": {},
   "source": [
    "## Bring everything together"
   ]
  },
  {
   "cell_type": "code",
   "execution_count": 31,
   "metadata": {},
   "outputs": [],
   "source": [
    "def get_paths(sender,receiver,receiver_currency):\n",
    "    to_send = gen_command(sender,receiver,receiver_currency)\n",
    "    websocket.enableTrace(False)\n",
    "    ws = create_connection('wss://s2.ripple.com:443')\n",
    "\n",
    "    ws.send(json.dumps(to_send))\n",
    "    result = ws.recv()\n",
    "    return extract_paths(json.loads(result)['result']['alternatives'])"
   ]
  },
  {
   "cell_type": "code",
   "execution_count": 32,
   "metadata": {
    "scrolled": false
   },
   "outputs": [
    {
     "name": "stdout",
     "output_type": "stream",
     "text": [
      "Receiver : r3ADD8kXSUKHd6zTCKfnKT3zV9EZHjzp1S - # Paths : 8\n",
      "Receiver : r94s8px6kSw1uZ1MV98dhSRTvc6VMPoPcN - # Paths : 135\n",
      "Receiver : rB3gZey7VWHYRqJHLoHDEJXJ2pEPNieKiS - # Paths : 775\n",
      "Receiver : rDAN8tzydyNfnNf2bfUQY6iR96UbpvNsze - # Paths : 95\n",
      "Receiver : rG6FZ31hDHN1K5Dkbma3PSB5uVCuVVRzfn - # Paths : 145\n",
      "Receiver : rJRi8WW24gt9X85PHAxfWNPCizMMhqUQwg - # Paths : 99\n",
      "Receiver : rKiCet8SdvWxPXnAgYarFUXMh1zCPz432Y - # Paths : 444\n",
      "Receiver : rKxKhXZCeSDsbkyB8DVgxpjy5AHubFkMFe - # Paths : 86\n",
      "Receiver : rLEsXccBGNR3UPuPu2hUXPjziKC3qKSBun - # Paths : 317\n",
      "Receiver : rMAz5ZnK73nyNUL4foAvaxdreczCkG3vA6 - # Paths : 148\n",
      "Receiver : rMwjYedjc7qqtKYVLiAccJSmCwih4LnE2q - # Paths : 305\n",
      "Receiver : rP5ShE8dGBH6hHtNvRESdMceen36XFBQmh - # Paths : 110\n",
      "Receiver : rPDXxSZcuVL3ZWoyU82bcde3zwvmShkRyF - # Paths : 279\n",
      "Receiver : rPxU6acYni7FcXzPCMeaPSwKcuS2GTtNVN - # Paths : 109\n",
      "Receiver : rUkMKjQitpgAM5WTGk79xpjT38DEJY283d - # Paths : 126\n",
      "Receiver : razqQKzJRdB4UxFPWf5NEpEG3WMkmwgcXA - # Paths : 277\n",
      "Receiver : rcA8X3TVMST1n3CJeAdGk1RdRCHii7N2h - # Paths : 107\n",
      "Receiver : rchGBxcD1A1C2tdxF6papQYZ8kjRKMYcL - # Paths : 93\n",
      "Receiver : rckzVpTnKpP4TJ1puQe827bV3X4oYtdTP - # Paths : 94\n",
      "Receiver : rcoef87SYMJ58NAFx7fNM5frVknmvHsvJ - # Paths : 98\n",
      "Receiver : rfNZPxoZ5Uaamdp339U9dCLWz2T73nZJZH - # Paths : 53\n",
      "Receiver : rfYv1TXnwgDDK4WQNbFALykYuEBnrR4pDX - # Paths : 212\n",
      "Receiver : rhub8VRN55s94qWKDv6jmDy1pUykJzF3wq - # Paths : 151\n",
      "Receiver : rnuF96W4SZoCJmbHYBFoJZpR8eCaxNvekK - # Paths : 227\n",
      "Receiver : rpDMez6pm6dBve2TJsmDpv7Yae6V5Pyvy2 - # Paths : 110\n",
      "Receiver : rrh7rf1gV2pXAoqA8oYbpHd8TKv5ZQeo67 - # Paths : 193\n",
      "Receiver : rsP3mgGb2tcYUrxiLFiHJiQXhsziegtwBc - # Paths : 212\n",
      "Receiver : rvYAfWj5gh67oV6fW32ZzP3Aw4Eubs59B - # Paths : 468\n"
     ]
    }
   ],
   "source": [
    "gateways_df = gateways_df.dropna()\n",
    "gateways_accounts = gateways_df.index\n",
    "raw_links = []\n",
    "\n",
    "## Write statistics for each requests\n",
    "file = open(\"log_gateways.txt\",\"w\") \n",
    " \n",
    "for index_sender, sender in gateways_df.iterrows():\n",
    "    path_found = 0\n",
    "    for index_receiver, receiver in gateways_df.iterrows():\n",
    "        if not sender.equals(receiver):\n",
    "            for c in receiver['currencies']:\n",
    "                file.write('Sender : {} - Receiver : {} - Currency : {}\\n'.format(index_sender,index_receiver,c))\n",
    "                \n",
    "                paths = get_paths(index_sender,index_receiver,c)\n",
    "                count_in = set()\n",
    "                count_out = set()\n",
    "                file.write('# Paths found : {}\\n'.format(len(paths)))\n",
    "                if (len(paths) > 0):\n",
    "                    path_found += len(paths)\n",
    "                    for path in paths:\n",
    "                        raw_links.append(path)\n",
    "                        if (len(path) > 0):\n",
    "                            for acc in path:\n",
    "                                if acc in gateways_accounts:\n",
    "                                    count_in.add(acc)\n",
    "                                else:\n",
    "                                    count_out.add(acc)\n",
    "                    \n",
    "                    in_len = len(count_in)\n",
    "                    out_len = len(count_out)\n",
    "                    file.write('% of gateways : {:.0%} vs {:.0%} \\n'.format(in_len/(in_len+out_len), out_len/(in_len+out_len)))              \n",
    "    print('Receiver : {} - # Paths : {}'.format(index_sender,path_found))\n",
    "file.close() "
   ]
  },
  {
   "cell_type": "markdown",
   "metadata": {},
   "source": [
    "Now that we recovered the data, we need to extract ASes and edges to draw a graph"
   ]
  },
  {
   "cell_type": "markdown",
   "metadata": {},
   "source": [
    "# Create Graph"
   ]
  },
  {
   "cell_type": "markdown",
   "metadata": {},
   "source": [
    "## Create edges"
   ]
  },
  {
   "cell_type": "markdown",
   "metadata": {},
   "source": [
    "Create dictionary from gateway account to ASN"
   ]
  },
  {
   "cell_type": "code",
   "execution_count": 33,
   "metadata": {},
   "outputs": [],
   "source": [
    "gate_to_as = gateways_df['asn'].dropna().apply(lambda x: next(iter(x))).to_dict()"
   ]
  },
  {
   "cell_type": "markdown",
   "metadata": {},
   "source": [
    "Remove accounts in paths that are not gateways"
   ]
  },
  {
   "cell_type": "code",
   "execution_count": 34,
   "metadata": {},
   "outputs": [],
   "source": [
    "gate_links = []\n",
    "for l in raw_links:\n",
    "    only_gate = [elem for elem in l if elem in gateways_accounts]\n",
    "    gate_links.append(only_gate)"
   ]
  },
  {
   "cell_type": "markdown",
   "metadata": {},
   "source": [
    "Extract edges between ASes"
   ]
  },
  {
   "cell_type": "code",
   "execution_count": 35,
   "metadata": {},
   "outputs": [],
   "source": [
    "links = set()\n",
    "for l in gate_links:\n",
    "    for i in range(len(l)-1):\n",
    "        source = gate_to_as[l[i]]\n",
    "        dest = gate_to_as[l[i+1]]\n",
    "        \n",
    "        sources = source.split(' ')\n",
    "        dests = dest.split(' ')\n",
    "        for s in sources:\n",
    "            for d in dests:\n",
    "                if(s != d):\n",
    "                    original = (s,d)\n",
    "                    reverse = (d,s)\n",
    "                    if (original not in links) and (reverse not in links):\n",
    "                        links.add(original)"
   ]
  },
  {
   "cell_type": "markdown",
   "metadata": {},
   "source": [
    "Save computed links into a file"
   ]
  },
  {
   "cell_type": "code",
   "execution_count": 36,
   "metadata": {},
   "outputs": [],
   "source": [
    "with open('gateway_links.csv', 'w') as f:\n",
    "    writer = csv.writer(f,lineterminator='\\n')\n",
    "    for tup in links:\n",
    "        writer.writerow(tup)"
   ]
  },
  {
   "cell_type": "markdown",
   "metadata": {},
   "source": [
    "## Create nodes"
   ]
  },
  {
   "cell_type": "code",
   "execution_count": 37,
   "metadata": {},
   "outputs": [],
   "source": [
    "def sanitize(x):\n",
    "    elem = next(iter(x))\n",
    "    if ' ' in elem:\n",
    "        return '38895'\n",
    "    return elem"
   ]
  },
  {
   "cell_type": "code",
   "execution_count": 38,
   "metadata": {},
   "outputs": [],
   "source": [
    "gateways_df['lat-lon'] = list(zip(gateways_df.latitude, gateways_df.longitude))\n",
    "ases = gateways_df[['asn','lat-lon']].copy()\n",
    "ases['asn'] = ases['asn'].apply(lambda x: sanitize(x))\n",
    "ases = ases.set_index('asn').to_dict()['lat-lon']"
   ]
  },
  {
   "cell_type": "markdown",
   "metadata": {},
   "source": [
    "## Use nodes ande edges to draw map"
   ]
  },
  {
   "cell_type": "code",
   "execution_count": 39,
   "metadata": {},
   "outputs": [],
   "source": [
    "def generate_map(ases,edges):\n",
    "    edges_position = set()\n",
    "    for elem in edges:\n",
    "        lat = ases[elem[0]]\n",
    "        lon = ases[elem[1]]\n",
    "        edges_position.add((lat,lon))\n",
    "        \n",
    "    # Make an empty map\n",
    "    m = folium.Map(location=[20, 0], tiles=\"Mapbox Bright\", zoom_start=2)\n",
    "\n",
    "    # I can add marker one by one on the map\n",
    "    for elem in ases.keys():\n",
    "        folium.Marker(ases[elem], popup=elem).add_to(m)\n",
    "\n",
    "    for elem in edges_position:\n",
    "        folium.PolyLine(locations = elem, weight=1).add_to(m) \n",
    "    return m"
   ]
  },
  {
   "cell_type": "code",
   "execution_count": 40,
   "metadata": {},
   "outputs": [
    {
     "data": {
      "text/html": [
       "<div style=\"width:100%;\"><div style=\"position:relative;width:100%;height:0;padding-bottom:60%;\"><iframe src=\"data:text/html;charset=utf-8;base64,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\" style=\"position:absolute;width:100%;height:100%;left:0;top:0;border:none !important;\" allowfullscreen webkitallowfullscreen mozallowfullscreen></iframe></div></div>"
      ],
      "text/plain": [
       "<folium.folium.Map at 0x115aa0588>"
      ]
     },
     "execution_count": 40,
     "metadata": {},
     "output_type": "execute_result"
    }
   ],
   "source": [
    "generate_map(ases,links)"
   ]
  },
  {
   "cell_type": "code",
   "execution_count": 41,
   "metadata": {},
   "outputs": [
    {
     "data": {
      "text/plain": [
       "{'14618': (38.0, -97.0),\n",
       " '13335': (38.0, -97.0),\n",
       " '37907': (36.0, 138.0),\n",
       " '38895': (38.0, -97.0),\n",
       " '60781': (52.5, 5.75),\n",
       " '9371': (36.0, 138.0),\n",
       " '16509': (38.0, -97.0),\n",
       " '46606': (38.0, -97.0),\n",
       " '26496': (38.0, -97.0),\n",
       " '4766': (37.0, 127.5),\n",
       " '45102': (38.0, -97.0),\n",
       " '57127': (46.0, 15.0),\n",
       " '17511': (36.0, 138.0),\n",
       " '53667': (38.0, -97.0),\n",
       " '19551': (38.0, -97.0)}"
      ]
     },
     "execution_count": 41,
     "metadata": {},
     "output_type": "execute_result"
    }
   ],
   "source": [
    "ases"
   ]
  },
  {
   "cell_type": "code",
   "execution_count": 62,
   "metadata": {},
   "outputs": [],
   "source": [
    "ases['13335'] = (40,-97)\n",
    "ases['38895'] = (41,-99)\n",
    "ases['16509'] = (42,-101)\n",
    "ases['46606'] = (43,-103)\n",
    "ases['26496'] = (44,-105)\n",
    "ases['45102'] = (45,-107)\n",
    "ases['53667'] = (46,-109)\n",
    "ases['19551'] = (47,-111)\n",
    "\n",
    "ases['17511'] = (39,140)\n",
    "ases['9371'] = (41,142)"
   ]
  },
  {
   "cell_type": "code",
   "execution_count": 64,
   "metadata": {},
   "outputs": [
    {
     "data": {
      "text/html": [
       "<div style=\"width:100%;\"><div style=\"position:relative;width:100%;height:0;padding-bottom:60%;\"><iframe src=\"data:text/html;charset=utf-8;base64,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\" style=\"position:absolute;width:100%;height:100%;left:0;top:0;border:none !important;\" allowfullscreen webkitallowfullscreen mozallowfullscreen></iframe></div></div>"
      ],
      "text/plain": [
       "<folium.folium.Map at 0x1160f2320>"
      ]
     },
     "execution_count": 64,
     "metadata": {},
     "output_type": "execute_result"
    }
   ],
   "source": [
    "generate_map(ases,links)"
   ]
  },
  {
   "cell_type": "code",
   "execution_count": null,
   "metadata": {},
   "outputs": [],
   "source": []
  }
 ],
 "metadata": {
  "kernelspec": {
   "display_name": "Python 3",
   "language": "python",
   "name": "python3"
  },
  "language_info": {
   "codemirror_mode": {
    "name": "ipython",
    "version": 3
   },
   "file_extension": ".py",
   "mimetype": "text/x-python",
   "name": "python",
   "nbconvert_exporter": "python",
   "pygments_lexer": "ipython3",
   "version": "3.7.3"
  }
 },
 "nbformat": 4,
 "nbformat_minor": 2
}
