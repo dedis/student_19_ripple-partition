{
 "cells": [
  {
   "cell_type": "code",
   "execution_count": 1,
   "metadata": {},
   "outputs": [],
   "source": [
    "import pandas as pd\n",
    "import numpy as np\n",
    "import networkx as nx\n",
    "import matplotlib.pyplot as plt\n",
    "import math\n",
    "import folium\n",
    "import csv\n",
    "import json\n",
    "import datetime\n",
    "from ripple_helper import get_gateways_topology, get_gateways_df"
   ]
  },
  {
   "cell_type": "markdown",
   "metadata": {},
   "source": [
    "# Processing transactions data"
   ]
  },
  {
   "cell_type": "markdown",
   "metadata": {},
   "source": [
    "### Process transactions"
   ]
  },
  {
   "cell_type": "code",
   "execution_count": 2,
   "metadata": {},
   "outputs": [],
   "source": [
    "#data = pd.read_csv('txs-parsed-jan-2013-aug-2017/more-txs-from-missing-parsed.txt', delimiter='\\n', header=None)\n",
    "data = pd.read_csv('txs-parsed-jan-2013-aug-2017/final_txs_2017.txt', delimiter='\\n', header=None)\n",
    "\n",
    "json_list = '['\n",
    "for i in range(len(data)):\n",
    "    json_text = data[0][i]\n",
    "    json_list += json_text + ','\n",
    "json_list = json_list[:-1]+']'\n",
    "\n",
    "final_json = json.loads(json_list)\n",
    "transactions = pd.DataFrame.from_dict(final_json)"
   ]
  },
  {
   "cell_type": "markdown",
   "metadata": {},
   "source": [
    "## Get Exchange rates"
   ]
  },
  {
   "cell_type": "code",
   "execution_count": 3,
   "metadata": {},
   "outputs": [],
   "source": [
    "rates = pd.read_csv('exchange_rate.csv', delimiter=',')"
   ]
  },
  {
   "cell_type": "markdown",
   "metadata": {},
   "source": [
    "### Process gateways"
   ]
  },
  {
   "cell_type": "code",
   "execution_count": 4,
   "metadata": {},
   "outputs": [],
   "source": [
    "gateways_df = pd.read_csv('gateways.csv', sep=',').set_index('Unnamed: 0')\n",
    "gateways_df['asn'] = gateways_df['asn'].apply(lambda x: x[2:-2])\n",
    "gateways_accounts = gateways_df.index"
   ]
  },
  {
   "cell_type": "code",
   "execution_count": 5,
   "metadata": {},
   "outputs": [
    {
     "name": "stdout",
     "output_type": "stream",
     "text": [
      "Column: actualIssuerReceiver - Percentage of gateways: 0.2413851587544084\n",
      "Column: issuerReceiver - Percentage of gateways: 0.26485471367175434\n",
      "Column: issuerSender - Percentage of gateways: 0.09547136892453775\n",
      "Column: receiver - Percentage of gateways: 0.024353950745963724\n",
      "Column: sender - Percentage of gateways: 8.854902771683505e-05\n"
     ]
    }
   ],
   "source": [
    "cols = ['actualIssuerReceiver','issuerReceiver','issuerSender','receiver','sender']\n",
    "for c in cols:\n",
    "    mask = (transactions[c] != '--') & (transactions[c] != 'nan')\n",
    "    l = list(transactions[mask][c].values)\n",
    "    count = 0\n",
    "    for acc in l:\n",
    "        if(acc in gateways_accounts):\n",
    "                count += 1\n",
    "    print('Column: {} - Percentage of gateways: {}'.format(c,count/len(l)))"
   ]
  },
  {
   "cell_type": "code",
   "execution_count": 6,
   "metadata": {},
   "outputs": [],
   "source": [
    "account_to_asn = gateways_df['asn'].to_dict()\n",
    "account_to_asn['rKiCet8SdvWxPXnAgYarFUXMh1zCPz432Y'] = '38895'"
   ]
  },
  {
   "cell_type": "code",
   "execution_count": 7,
   "metadata": {},
   "outputs": [],
   "source": [
    "## Both represent Amazon\n",
    "def sanitize(x):\n",
    "    if x == '16509 38895':\n",
    "        return '38895'\n",
    "    return x"
   ]
  },
  {
   "cell_type": "code",
   "execution_count": 8,
   "metadata": {},
   "outputs": [],
   "source": [
    "gateways_df['lat-lon'] = list(zip(gateways_df.latitude, gateways_df.longitude))\n",
    "ases = gateways_df[['asn','lat-lon']].copy()\n",
    "ases['asn'] = ases['asn'].apply(lambda x: sanitize(x))\n",
    "ases = ases.set_index('asn').to_dict()['lat-lon']"
   ]
  },
  {
   "cell_type": "code",
   "execution_count": 9,
   "metadata": {},
   "outputs": [],
   "source": [
    "links = []\n",
    "with open('gateway_links.csv') as csv_file:\n",
    "    csv_reader = csv.reader(csv_file, delimiter=',')\n",
    "    line_count = 0\n",
    "    for row in csv_reader:\n",
    "        links.append(tuple([row[0],row[1],1]))"
   ]
  },
  {
   "cell_type": "code",
   "execution_count": 10,
   "metadata": {},
   "outputs": [],
   "source": [
    "def resolve_sender_receiver(path):\n",
    "    sender = ''\n",
    "    for node in path:\n",
    "        if node in gateways_accounts:\n",
    "            sender = node\n",
    "            break\n",
    "    \n",
    "    receiver = ''\n",
    "    for node in reversed(path):\n",
    "        if node in gateways_accounts:\n",
    "            receiver = node\n",
    "            \n",
    "    if sender != receiver:\n",
    "        return (sender,receiver)\n",
    "    else:\n",
    "        return None"
   ]
  },
  {
   "cell_type": "code",
   "execution_count": 11,
   "metadata": {},
   "outputs": [],
   "source": [
    "def convert_date(d):\n",
    "    readable = datetime.datetime.fromtimestamp(d + 946684800).isoformat()\n",
    "    return readable[:7]"
   ]
  },
  {
   "cell_type": "code",
   "execution_count": 12,
   "metadata": {},
   "outputs": [],
   "source": [
    "transactions_processed = pd.DataFrame(columns=['sender', 'receiver', 'amount', 'date'])"
   ]
  },
  {
   "cell_type": "code",
   "execution_count": 13,
   "metadata": {
    "scrolled": false
   },
   "outputs": [],
   "source": [
    "sender_cols = ['issuerSender', 'sender']\n",
    "receiver_cols = ['issuerReceiver','receiver','actualIssuerReceiver']\n",
    "\n",
    "for s in sender_cols:\n",
    "    for r in receiver_cols:\n",
    "        mask = transactions[s].isin(gateways_accounts) & transactions[r].isin(gateways_accounts)\n",
    "        valid_transactions = transactions[mask][[s, r,'actualReceiverAmount', 'actualReceiverCurrency', 'date']]\n",
    "        for index, row in valid_transactions.iterrows():\n",
    "            source = account_to_asn[row[s]]\n",
    "            dest = account_to_asn[row[r]]\n",
    "            amount = float(row['actualReceiverAmount'])\n",
    "            curr = row['actualReceiverCurrency']\n",
    "            if (type(row['date']) is str or type(row['date']) is int):\n",
    "                if(type(row['date']) is int):\n",
    "                    d = convert_date(row['date'])\n",
    "\n",
    "                if(type(row['date']) is str):\n",
    "                    d = row['date'][:7]\n",
    "            if (source != dest and not math.isnan(amount)):\n",
    "                is_xrp = True\n",
    "                if (curr != 'XRP'):\n",
    "                    is_xrp = False\n",
    "                    exchange = rates[(rates['date'] == d) & (rates['from'] == curr)]['exchange'].values\n",
    "                    if(len(exchange) > 0):\n",
    "                        amount = amount*exchange[0]\n",
    "                        is_xrp = True\n",
    "                    else:\n",
    "                        is_xrp = False\n",
    "                \n",
    "                if (is_xrp):\n",
    "                    transactions_processed = transactions_processed.append({'sender' : source , 'receiver' : dest, 'amount' : amount, 'date' : d} , ignore_index=True)"
   ]
  },
  {
   "cell_type": "code",
   "execution_count": 17,
   "metadata": {},
   "outputs": [
    {
     "data": {
      "text/plain": [
       "(6, 1599868)"
      ]
     },
     "execution_count": 17,
     "metadata": {},
     "output_type": "execute_result"
    }
   ],
   "source": [
    "# For file more-txs-from-missing-parsed.txt\n",
    "len(transactions_processed), len(transactions)"
   ]
  },
  {
   "cell_type": "code",
   "execution_count": 14,
   "metadata": {},
   "outputs": [
    {
     "data": {
      "text/plain": [
       "(28116, 2021479)"
      ]
     },
     "execution_count": 14,
     "metadata": {},
     "output_type": "execute_result"
    }
   ],
   "source": [
    "# For file final_txs_2017.txt\n",
    "len(transactions_processed), len(transactions)"
   ]
  },
  {
   "cell_type": "code",
   "execution_count": 24,
   "metadata": {},
   "outputs": [],
   "source": [
    "transactions_processed.to_csv('transactions_processed.csv', mode='a')"
   ]
  },
  {
   "cell_type": "markdown",
   "metadata": {},
   "source": [
    "## Special case for jan 2013 - dec 2016"
   ]
  },
  {
   "cell_type": "markdown",
   "metadata": {},
   "source": [
    "The dataset does not have the same format, it would be too easy I guess"
   ]
  },
  {
   "cell_type": "code",
   "execution_count": 15,
   "metadata": {},
   "outputs": [],
   "source": [
    "data = pd.read_csv('txs-parsed-jan-2013-aug-2017/ripple-transactions-jan-2013-dec-2016.txt', header=None)\n",
    "transactions = data[[1,2,3,4,10]]\n",
    "transactions.columns = ['sender','receiver','currency','amount','date']\n",
    "transactions = transactions[transactions['amount'] != 0]"
   ]
  },
  {
   "cell_type": "code",
   "execution_count": 16,
   "metadata": {},
   "outputs": [],
   "source": [
    "def convert_date(d):\n",
    "    readable = datetime.datetime.fromtimestamp(d).isoformat()\n",
    "    return readable[:7]"
   ]
  },
  {
   "cell_type": "code",
   "execution_count": 17,
   "metadata": {},
   "outputs": [],
   "source": [
    "transactions['date'] = transactions['date'].apply(lambda x: convert_date(x))"
   ]
  },
  {
   "cell_type": "code",
   "execution_count": 18,
   "metadata": {},
   "outputs": [],
   "source": [
    "transactions_processed = pd.DataFrame(columns=['sender', 'receiver', 'amount', 'date'])"
   ]
  },
  {
   "cell_type": "code",
   "execution_count": 19,
   "metadata": {},
   "outputs": [],
   "source": [
    "mask = transactions['sender'].isin(gateways_accounts) & transactions['receiver'].isin(gateways_accounts)\n",
    "valid_transactions = transactions[mask]\n",
    "for index, row in valid_transactions.iterrows():\n",
    "    source = account_to_asn[row['sender']]\n",
    "    dest = account_to_asn[row['receiver']]\n",
    "    amount = float(row['amount'])\n",
    "    curr = row['currency']\n",
    "    if (source != dest and amount > 0):\n",
    "        is_xrp = True\n",
    "        if (curr != 'XRP'):\n",
    "            is_xrp = False\n",
    "            exchange = rates[(rates['date'] == d) & (rates['from'] == curr)]['exchange'].values\n",
    "            if(len(exchange) > 0):\n",
    "                amount = amount*exchange[0]\n",
    "                is_xrp = True\n",
    "            else:\n",
    "                is_xrp = False\n",
    "\n",
    "        if (is_xrp):\n",
    "            transactions_processed = transactions_processed.append({'sender' : source , 'receiver' : dest, 'amount' : amount, 'date' : d} , ignore_index=True)"
   ]
  },
  {
   "cell_type": "code",
   "execution_count": 20,
   "metadata": {},
   "outputs": [
    {
     "data": {
      "text/plain": [
       "(11, 20680411)"
      ]
     },
     "execution_count": 20,
     "metadata": {},
     "output_type": "execute_result"
    }
   ],
   "source": [
    "# For file ripple-transactions-jan-2013-dec-2016.txt\n",
    "len(transactions_processed), len(transactions)"
   ]
  },
  {
   "cell_type": "markdown",
   "metadata": {},
   "source": [
    "Due to the number of usable transactions for each file, I decided to keep only the transactions of 2017"
   ]
  },
  {
   "cell_type": "code",
   "execution_count": null,
   "metadata": {},
   "outputs": [],
   "source": []
  }
 ],
 "metadata": {
  "kernelspec": {
   "display_name": "Python 3",
   "language": "python",
   "name": "python3"
  },
  "language_info": {
   "codemirror_mode": {
    "name": "ipython",
    "version": 3
   },
   "file_extension": ".py",
   "mimetype": "text/x-python",
   "name": "python",
   "nbconvert_exporter": "python",
   "pygments_lexer": "ipython3",
   "version": "3.7.3"
  }
 },
 "nbformat": 4,
 "nbformat_minor": 2
}
