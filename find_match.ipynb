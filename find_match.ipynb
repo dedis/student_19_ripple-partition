{
 "cells": [
  {
   "cell_type": "code",
   "execution_count": 1,
   "metadata": {},
   "outputs": [],
   "source": [
    "import pandas as pd\n",
    "import numpy as np\n",
    "import networkx as nx\n",
    "import matplotlib.pyplot as plt\n",
    "import folium\n",
    "import csv"
   ]
  },
  {
   "cell_type": "markdown",
   "metadata": {},
   "source": [
    "# Recover Ripple Graph"
   ]
  },
  {
   "cell_type": "code",
   "execution_count": 2,
   "metadata": {},
   "outputs": [],
   "source": [
    "def recover_links_ases(filename):\n",
    "    links = set()\n",
    "    ases = set()\n",
    "    with open(filename) as csv_file:\n",
    "        csv_reader = csv.reader(csv_file, delimiter=',')\n",
    "        for row in csv_reader:\n",
    "            l = tuple(row)\n",
    "            links.add(l)\n",
    "            ases.add(l[0])\n",
    "            ases.add(l[1])\n",
    "    return ases,links"
   ]
  },
  {
   "cell_type": "code",
   "execution_count": 3,
   "metadata": {},
   "outputs": [],
   "source": [
    "ripple_ases, ripple_links = recover_links_ases('Ripple/gateway_links.csv')"
   ]
  },
  {
   "cell_type": "code",
   "execution_count": 4,
   "metadata": {},
   "outputs": [],
   "source": [
    "ripple_graph = nx.Graph()\n",
    "ripple_graph.add_nodes_from(ripple_ases)"
   ]
  },
  {
   "cell_type": "code",
   "execution_count": 5,
   "metadata": {},
   "outputs": [
    {
     "name": "stdout",
     "output_type": "stream",
     "text": [
      "The Ripple graph contains 15 nodes\n"
     ]
    }
   ],
   "source": [
    "print('The Ripple graph contains {} nodes'.format(len(ripple_graph.nodes)))"
   ]
  },
  {
   "cell_type": "markdown",
   "metadata": {},
   "source": [
    "# Recover Caida Graph"
   ]
  },
  {
   "cell_type": "code",
   "execution_count": 6,
   "metadata": {},
   "outputs": [
    {
     "name": "stderr",
     "output_type": "stream",
     "text": [
      "/usr/local/lib/python3.7/site-packages/ipykernel_launcher.py:10: SettingWithCopyWarning: \n",
      "A value is trying to be set on a copy of a slice from a DataFrame.\n",
      "Try using .loc[row_indexer,col_indexer] = value instead\n",
      "\n",
      "See the caveats in the documentation: http://pandas.pydata.org/pandas-docs/stable/indexing.html#indexing-view-versus-copy\n",
      "  # Remove the CWD from sys.path while we load stuff.\n"
     ]
    }
   ],
   "source": [
    "data = pd.read_csv('Caida/20190301.as-rel2.txt',delimiter='\\n', comment='#', header=None, encoding='ISO-8859-1')\n",
    "\n",
    "data['provider_peer'], data['customer_peer'], data['relation_type'], data['source'] = data[0].str.split('|').str\n",
    "data['relation_type']  = data['relation_type'].apply(lambda x: 'provider-customer' if x == '-1' else 'peer-peer')\n",
    "links = data[['provider_peer','customer_peer','relation_type']]\n",
    "\n",
    "caida_ases = set(links['provider_peer'].values)\n",
    "caida_ases.update(links['customer_peer'].values)\n",
    "\n",
    "links['link'] = list(zip(links['provider_peer'], links['customer_peer']))\n",
    "links = links[['link','relation_type']]\n",
    "caida_links = {}\n",
    "for index,row in links.iterrows():\n",
    "    (s,t) = row['link']\n",
    "    rel = row['relation_type']\n",
    "    if rel == 'provider-customer':\n",
    "        caida_links[tuple([s,t])] = rel\n",
    "        caida_links[tuple([t,s])] = 'customer-provider'\n",
    "    else: \n",
    "        if rel == 'peer-peer':\n",
    "            caida_links[tuple([s,t])] = rel\n",
    "            caida_links[tuple([t,s])] = 'peer-peer'\n",
    "        else:\n",
    "            print('Error')"
   ]
  },
  {
   "cell_type": "code",
   "execution_count": 7,
   "metadata": {},
   "outputs": [],
   "source": [
    "caida_graph = nx.Graph()\n",
    "caida_graph.add_nodes_from(caida_ases)\n",
    "for k,v in caida_links.items():\n",
    "    caida_graph.add_edge(k[0],k[1])"
   ]
  },
  {
   "cell_type": "code",
   "execution_count": 8,
   "metadata": {},
   "outputs": [
    {
     "name": "stdout",
     "output_type": "stream",
     "text": [
      "The Caida graph contains 64167 nodes and 503651 edges\n"
     ]
    }
   ],
   "source": [
    "print('The Caida graph contains {} nodes and {} edges'.format(len(caida_graph.nodes),len(caida_graph.edges)))"
   ]
  },
  {
   "cell_type": "markdown",
   "metadata": {},
   "source": [
    "# Add intermediary nodes to Ripple Graph"
   ]
  },
  {
   "cell_type": "code",
   "execution_count": 9,
   "metadata": {},
   "outputs": [],
   "source": [
    "def shortest_paths(s,t,G):\n",
    "    actual_paths = []\n",
    "    paths = nx.all_shortest_paths(G,s,t)\n",
    "    for path in paths:\n",
    "        actual_path = []\n",
    "        for i in range(len(path)-1):\n",
    "            l = tuple([path[i],path[i+1]])\n",
    "            actual_path.append(l)\n",
    "        actual_paths.append(actual_path)\n",
    "    return actual_paths"
   ]
  },
  {
   "cell_type": "code",
   "execution_count": 10,
   "metadata": {},
   "outputs": [],
   "source": [
    "for s in ripple_ases:\n",
    "    for t in ripple_ases:\n",
    "        paths = nx.all_shortest_paths(caida_graph,s,t)\n",
    "        for p in paths:\n",
    "            complete_path = [s] + p\n",
    "            for i in range(len(complete_path)-1):\n",
    "                ripple_graph.add_edge(complete_path[i],complete_path[i+1])"
   ]
  },
  {
   "cell_type": "code",
   "execution_count": 11,
   "metadata": {},
   "outputs": [
    {
     "name": "stdout",
     "output_type": "stream",
     "text": [
      "The Ripple graph contains 324 nodes and 1299 edges\n"
     ]
    }
   ],
   "source": [
    "print('The Ripple graph contains {} nodes and {} edges'.format(len(ripple_graph.nodes),len(ripple_graph.edges)))"
   ]
  },
  {
   "cell_type": "code",
   "execution_count": 12,
   "metadata": {},
   "outputs": [],
   "source": [
    "nx.set_edge_attributes(ripple_graph, 0, 'weight')"
   ]
  },
  {
   "cell_type": "markdown",
   "metadata": {},
   "source": [
    "# Replay transactions "
   ]
  },
  {
   "cell_type": "code",
   "execution_count": 13,
   "metadata": {},
   "outputs": [],
   "source": [
    "transactions = pd.read_csv('Ripple/transactions_processed.csv', dtype={'sender': str, 'receiver': str, 'amount': np.float64} )\n",
    "transactions = transactions[['sender','receiver','amount']]"
   ]
  },
  {
   "cell_type": "code",
   "execution_count": 14,
   "metadata": {},
   "outputs": [
    {
     "name": "stdout",
     "output_type": "stream",
     "text": [
      "Amount of money used in the graph : 95369733.78499946\n"
     ]
    }
   ],
   "source": [
    "print('Amount of money used in the graph : {}'.format(transactions['amount'].sum()))"
   ]
  },
  {
   "cell_type": "markdown",
   "metadata": {},
   "source": [
    "# Graph Statistics"
   ]
  },
  {
   "cell_type": "markdown",
   "metadata": {},
   "source": [
    "## Are the gateways directly connected?"
   ]
  },
  {
   "cell_type": "code",
   "execution_count": 15,
   "metadata": {},
   "outputs": [
    {
     "name": "stdout",
     "output_type": "stream",
     "text": [
      "There is a link between 14618 and 16509\n",
      "There is a link between 26496 and 4766\n",
      "There is a link between 13335 and 45102\n",
      "There is a link between 19551 and 45102\n",
      "There is a link between 45102 and 13335\n",
      "There is a link between 19551 and 13335\n",
      "There is a link between 4766 and 26496\n",
      "There is a link between 16509 and 14618\n",
      "There is a link between 45102 and 19551\n",
      "There is a link between 13335 and 19551\n"
     ]
    }
   ],
   "source": [
    "for g in ripple_ases:\n",
    "    neighbors = ripple_graph.neighbors(g)\n",
    "    for n in neighbors:\n",
    "        if n in ripple_ases and n != g:\n",
    "            print('There is a link between {} and {}'.format(n,g))"
   ]
  },
  {
   "cell_type": "code",
   "execution_count": 16,
   "metadata": {},
   "outputs": [
    {
     "name": "stderr",
     "output_type": "stream",
     "text": [
      "/usr/local/lib/python3.7/site-packages/networkx/drawing/nx_pylab.py:611: MatplotlibDeprecationWarning: isinstance(..., numbers.Number)\n",
      "  if cb.is_numlike(alpha):\n"
     ]
    },
    {
     "data": {
      "image/png": "[encoded data removed]",
      "text/plain": [
       "<Figure size 432x288 with 1 Axes>"
      ]
     },
     "metadata": {
      "needs_background": "light"
     },
     "output_type": "display_data"
    }
   ],
   "source": [
    "sub = ripple_graph.subgraph(ripple_ases)\n",
    "nx.draw_networkx(sub)"
   ]
  },
  {
   "cell_type": "markdown",
   "metadata": {},
   "source": [
    "## How many transactions are affected by a 'direct connection'?"
   ]
  },
  {
   "cell_type": "code",
   "execution_count": 17,
   "metadata": {},
   "outputs": [
    {
     "name": "stdout",
     "output_type": "stream",
     "text": [
      "# Transactions affected : 6314 out of 22994 - 27%\n",
      "Amount affected : 80443866.41520707 out of 95369733.78499946 - 84%\n"
     ]
    }
   ],
   "source": [
    "count = 0\n",
    "amount = 0\n",
    "for index, row in transactions.iterrows():\n",
    "    sender = row['sender']\n",
    "    receiver = row['receiver']\n",
    "    path = nx.shortest_path(ripple_graph, source=sender, target=receiver)\n",
    "    if (len(path) == 2):\n",
    "        count += 1\n",
    "        amount += row['amount']\n",
    "        \n",
    "print('# Transactions affected : {} out of {} - {:.0%}'.format(count, len(transactions), count/len(transactions)))\n",
    "print('Amount affected : {} out of {} - {:.0%}'.format(amount, transactions['amount'].sum(), amount/transactions['amount'].sum()))"
   ]
  },
  {
   "cell_type": "markdown",
   "metadata": {},
   "source": [
    "As we can see, only 16% of the total amount can be rerouted since there is no intermediary node"
   ]
  },
  {
   "cell_type": "markdown",
   "metadata": {},
   "source": [
    "## How many intermediaries are there between each gateways?"
   ]
  },
  {
   "cell_type": "markdown",
   "metadata": {},
   "source": [
    "### Let's consider the nx algorithm"
   ]
  },
  {
   "cell_type": "code",
   "execution_count": 18,
   "metadata": {},
   "outputs": [
    {
     "name": "stdout",
     "output_type": "stream",
     "text": [
      "Mean number of intermediaries : 1.4952380952380953\n",
      "There are 17 different intermediaries\n",
      "{'41828', '3303', '8220', '16509', '9002', '2828', '7506', '3212', '209', '2914', '8218', '1299', '174', '34779', '33891', '6939', '1273'}\n"
     ]
    }
   ],
   "source": [
    "total = 0\n",
    "count = 0\n",
    "intermediaries = set()\n",
    "for source in ripple_ases:\n",
    "    for dest in ripple_ases:\n",
    "        if(source != dest):\n",
    "            path = nx.shortest_path(ripple_graph,source,dest)[1:-1]\n",
    "            intermediaries.update(path)\n",
    "            \n",
    "            total += len(path)\n",
    "            count += 1\n",
    "            \n",
    "print('Mean number of intermediaries : {}'.format(total/count))\n",
    "print('There are {} different intermediaries'.format(len(intermediaries)))\n",
    "print(intermediaries)"
   ]
  },
  {
   "cell_type": "code",
   "execution_count": 19,
   "metadata": {},
   "outputs": [
    {
     "name": "stdout",
     "output_type": "stream",
     "text": [
      "Mean number of intermediaries : 1.6459674365770542\n",
      "There are 310 different intermediaries\n",
      "{'12576', '12552', '293', '48526', '52320', '2905', '6663', '50877', '20485', '41828', '16276', '262589', '46450', '11039', '32653', '14840', '2906', '132203', '6079', '8468', '8492', '20811', '7575', '53070', '29140', '59891', '37271', '9498', '4844', '28260', '14537', '6661', '51873', '7922', '9318', '9299', '6830', '37049', '2914', '33891', '15605', '47692', '30781', '21232', '264268', '48362', '12859', '28329', '264409', '28571', '49605', '29691', '327960', '5650', '22652', '8758', '15412', '8943', '1916', '55329', '7660', '37680', '2852', '8222', '28634', '9902', '205206', '20940', '58511', '57724', '8359', '60435', '19151', '58453', '41095', '3292', '1403', '40191', '286', '30132', '34224', '1257', '33438', '34288', '21320', '198385', '64463', '9505', '263651', '577', '14361', '13030', '42473', '50629', '64050', '328145', '20932', '25160', '8607', '45352', '20764', '32934', '15576', '19653', '202032', '1273', '262757', '9002', '7473', '8426', '8218', '198290', '25152', '3741', '16477', '16735', '328320', '18106', '38880', '37497', '52863', '25220', '10026', '12389', '43531', '6762', '23106', '12779', '3223', '41497', '53067', '25091', '262317', '20562', '21859', '14061', '27446', '29680', '16347', '12713', '5392', '35369', '35266', '23673', '35699', '6881', '5413', '31042', '23576', '7738', '8455', '1836', '13760', '31500', '52720', '37239', '9286', '30844', '2516', '8283', '16265', '1221', '23473', '5769', '6939', '11404', '63956', '6730', '1239', '18101', '4181', '8447', '1103', '4826', '11666', '36351', '2018', '13101', '5511', '1299', '35280', '3549', '2119', '28220', '18403', '37640', '263075', '3786', '24441', '58299', '263584', '29226', '23352', '3303', '7506', '12956', '16637', '6082', '264911', '6648', '15435', '50763', '1798', '51405', '3257', '3491', '1280', '263674', '6667', '11686', '3216', '62785', '37468', '209', '56730', '12350', '14907', '59605', '136620', '6453', '59689', '34177', '50300', '2381', '4637', '8220', '29208', '39326', '20473', '15547', '31424', '3320', '6720', '4809', '41811', '4134', '12874', '4739', '199524', '680', '62240', '6461', '24482', '197595', '37697', '3462', '1267', '3356', '6619', '20013', '37100', '34779', '51185', '43578', '60501', '9957', '9050', '8732', '2044', '2497', '9381', '4775', '4651', '33660', '42541', '2828', '31742', '26415', '3212', '39122', '63927', '2603', '9044', '58308', '7474', '7545', '29075', '553', '9304', '32354', '4230', '49788', '29791', '174', '20080', '53828', '16509', '38809', '37662', '3267', '28186', '8896', '49463', '52873', '4755', '34019', '50304', '42708', '2152', '31133', '1853', '50673', '47147', '22356', '852', '5645', '13237', '28917', '49544', '12637'}\n"
     ]
    }
   ],
   "source": [
    "total = 0\n",
    "count = 0\n",
    "intermediaries = set()\n",
    "for source in ripple_ases:\n",
    "    for dest in ripple_ases:\n",
    "        if(source != dest):\n",
    "            paths = nx.all_shortest_paths(ripple_graph,source,dest)\n",
    "            for p in paths:\n",
    "                path = p[1:-1]\n",
    "                intermediaries.update(path)\n",
    "                total += len(path)\n",
    "                count += 1\n",
    "            \n",
    "print('Mean number of intermediaries : {}'.format(total/count))\n",
    "print('There are {} different intermediaries'.format(len(intermediaries)))\n",
    "print(intermediaries)"
   ]
  },
  {
   "cell_type": "markdown",
   "metadata": {},
   "source": [
    "### Let's consider the tie-breaker customer > peer > provider"
   ]
  },
  {
   "cell_type": "code",
   "execution_count": 20,
   "metadata": {},
   "outputs": [],
   "source": [
    "def rel_type(rel):\n",
    "    if (rel == 'customer-provider'):\n",
    "        return 2\n",
    "    if (rel == 'peer-peer'):\n",
    "        return 1\n",
    "    if (rel == 'provider-customer'):\n",
    "        return 0\n",
    "    return None"
   ]
  },
  {
   "cell_type": "code",
   "execution_count": 21,
   "metadata": {},
   "outputs": [],
   "source": [
    "def compare_rel(paths, index):\n",
    "    best_p = []\n",
    "    best_rel = 3\n",
    "    for p in paths:\n",
    "        start = p[index]\n",
    "        end = p[index+1]\n",
    "        rel = rel_type(caida_links[(start,end)])\n",
    "        if (rel < best_rel):\n",
    "            best_p = [p]\n",
    "            best_rel = rel\n",
    "        elif (rel == best_rel):\n",
    "            best_p.append(p)\n",
    "    return best_p"
   ]
  },
  {
   "cell_type": "code",
   "execution_count": 22,
   "metadata": {},
   "outputs": [],
   "source": [
    "def select_best(paths):\n",
    "    ## If only one path, return it\n",
    "    if(type(paths[0]) == str):\n",
    "        return paths\n",
    "    \n",
    "    ## Assume all paths have same length\n",
    "    l = len(paths[0])\n",
    "    temp_paths = paths\n",
    "    for i in range(0,l-1):\n",
    "        temp_paths = compare_rel(temp_paths, i)\n",
    "    \n",
    "    if (len(temp_paths) >= 1):\n",
    "        return temp_paths[0]\n",
    "    return temp_paths"
   ]
  },
  {
   "cell_type": "code",
   "execution_count": 23,
   "metadata": {},
   "outputs": [
    {
     "name": "stdout",
     "output_type": "stream",
     "text": [
      "Mean number of intermediaries : 1.4952380952380953\n",
      "There are 41 different intermediaries\n",
      "{'9957', '209', '9286', '57724', '4637', '10026', '4826', '60435', '8220', '3303', '2497', '4775', '43531', '7506', '2516', '2914', '6762', '6663', '16265', '15412', '6461', '33891', '1273', '41828', '2828', '7473', '3212', '8218', '1299', '3462', '174', '3223', '6939', '16477', '16509', '20013', '577', '37100', '34779', '62785', '12637'}\n"
     ]
    }
   ],
   "source": [
    "total = 0\n",
    "count = 0\n",
    "intermediaries = set()\n",
    "for source in ripple_ases:\n",
    "    for dest in ripple_ases:\n",
    "        if(source != dest):\n",
    "            path = select_best(list(nx.all_shortest_paths(ripple_graph,source,dest)))[1:-1]\n",
    "            intermediaries.update(path)\n",
    "            \n",
    "            total += len(path)\n",
    "            count += 1\n",
    "            \n",
    "print('Mean number of intermediaries : {}'.format(total/count))\n",
    "print('There are {} different intermediaries'.format(len(intermediaries)))\n",
    "print(intermediaries)"
   ]
  },
  {
   "cell_type": "markdown",
   "metadata": {},
   "source": [
    "# Precomputations"
   ]
  },
  {
   "cell_type": "code",
   "execution_count": 24,
   "metadata": {},
   "outputs": [],
   "source": [
    "best_paths = {}\n",
    "for source in ripple_graph.nodes:\n",
    "    for dest in ripple_graph.nodes:\n",
    "        if(source != dest):\n",
    "            path = select_best(list(nx.all_shortest_paths(ripple_graph,source,dest)))\n",
    "            best_paths[(source,dest)] = path"
   ]
  },
  {
   "cell_type": "markdown",
   "metadata": {},
   "source": [
    "# What if we remove one node?"
   ]
  },
  {
   "cell_type": "markdown",
   "metadata": {},
   "source": [
    "## Consider tie-breaker customer > peer > provider"
   ]
  },
  {
   "cell_type": "code",
   "execution_count": 25,
   "metadata": {},
   "outputs": [],
   "source": [
    "def precompute_best_corrupted(corrupted_graph):\n",
    "    best_paths = {}\n",
    "    for source in corrupted_graph.nodes:\n",
    "        for dest in corrupted_graph.nodes:\n",
    "            if(source != dest):\n",
    "                path = select_best(list(nx.all_shortest_paths(ripple_graph,source,dest)))\n",
    "                best_paths[(source,dest)] = path\n",
    "    return best_paths"
   ]
  },
  {
   "cell_type": "code",
   "execution_count": 27,
   "metadata": {},
   "outputs": [],
   "source": [
    "def replay_transactions_remove(transactions, corrupted_graph, complete_graph):\n",
    "    amount_ok = 0\n",
    "    amount_lost = 0\n",
    "    amount_rerouted = 0\n",
    "        \n",
    "    for index, row in transactions.iterrows():\n",
    "        sender = row['sender']\n",
    "        receiver = row['receiver']\n",
    "        try :\n",
    "            amount = row['amount']\n",
    "            path_corrupted = select_best(list(nx.all_shortest_paths(corrupted_graph,sender,receiver)))\n",
    "            \n",
    "            #path_ok = select_best(list(nx.all_shortest_paths(complete_graph,sender,receiver)))\n",
    "            path_ok = best_paths[(sender,receiver)]\n",
    "            if (path_corrupted == path_ok):\n",
    "                amount_ok += amount\n",
    "            else:\n",
    "                amount_rerouted += amount\n",
    "        except:\n",
    "            #print('No path between {} and {}'.format(sender,receiver))\n",
    "            amount_lost += amount\n",
    "    return amount_ok, amount_lost, amount_rerouted"
   ]
  },
  {
   "cell_type": "code",
   "execution_count": 28,
   "metadata": {},
   "outputs": [],
   "source": [
    "df_corrupted = pd.DataFrame(columns=['corrupted', 'amount_ok', 'amount_lost', 'amount_rerouted'])"
   ]
  },
  {
   "cell_type": "code",
   "execution_count": 29,
   "metadata": {
    "scrolled": false
   },
   "outputs": [],
   "source": [
    "for c in ripple_graph.nodes:\n",
    "    corrupted_graph = ripple_graph.copy()\n",
    "    corrupted_graph.remove_node(c)\n",
    "    amount_ok, amount_lost, amount_rerouted = replay_transactions_remove(transactions, corrupted_graph, ripple_graph)\n",
    "    df_corrupted = df_corrupted.append({'corrupted': c, 'amount_ok': amount_ok, 'amount_lost': amount_lost, 'amount_rerouted': amount_rerouted}, ignore_index=True)"
   ]
  },
  {
   "cell_type": "code",
   "execution_count": 30,
   "metadata": {},
   "outputs": [],
   "source": [
    "df_corrupted.set_index('corrupted').to_csv('statistics_remove_cpp.csv')"
   ]
  },
  {
   "cell_type": "code",
   "execution_count": 31,
   "metadata": {},
   "outputs": [],
   "source": [
    "df_corrupted = pd.read_csv('statistics_remove_cpp.csv', index_col='corrupted')"
   ]
  },
  {
   "cell_type": "code",
   "execution_count": 32,
   "metadata": {},
   "outputs": [
    {
     "data": {
      "text/plain": [
       "<matplotlib.axes._subplots.AxesSubplot at 0x1158449b0>"
      ]
     },
     "execution_count": 32,
     "metadata": {},
     "output_type": "execute_result"
    },
    {
     "data": {
      "image/png": "[encoded data removed]",
      "text/plain": [
       "<Figure size 432x288 with 1 Axes>"
      ]
     },
     "metadata": {
      "needs_background": "light"
     },
     "output_type": "display_data"
    }
   ],
   "source": [
    "df_corrupted['amount_lost'].sort_values(ascending=False).head(10).to_frame().plot.bar()"
   ]
  },
  {
   "cell_type": "code",
   "execution_count": 33,
   "metadata": {},
   "outputs": [
    {
     "data": {
      "text/plain": [
       "<matplotlib.axes._subplots.AxesSubplot at 0x128a42668>"
      ]
     },
     "execution_count": 33,
     "metadata": {},
     "output_type": "execute_result"
    },
    {
     "data": {
      "image/png": "[encoded data removed]",
      "text/plain": [
       "<Figure size 432x288 with 1 Axes>"
      ]
     },
     "metadata": {
      "needs_background": "light"
     },
     "output_type": "display_data"
    }
   ],
   "source": [
    "df_corrupted['amount_rerouted'].sort_values(ascending=False).head(10).to_frame().plot.bar()"
   ]
  },
  {
   "cell_type": "markdown",
   "metadata": {},
   "source": [
    "# What if there is BGP hijacking?"
   ]
  },
  {
   "cell_type": "code",
   "execution_count": 35,
   "metadata": {},
   "outputs": [],
   "source": [
    "def replay_transactions_hijack(transactions, corrupted_node, complete_graph):\n",
    "    amount_ok = 0\n",
    "    amount_lost = 0\n",
    "    amount_rerouted = 0\n",
    "    for index, row in transactions.iterrows():\n",
    "        sender = row['sender']\n",
    "        receiver = row['receiver']\n",
    "        \n",
    "        if(corrupted_node != sender and corrupted_node != receiver):\n",
    "            try :\n",
    "                amount = row['amount']\n",
    "                #path_ok = select_best(list(nx.all_shortest_paths(complete_graph,sender,receiver)))\n",
    "                path_ok = best_paths[(sender,receiver)]\n",
    "\n",
    "                #path_to_corrupted = select_best(list(nx.all_shortest_paths(complete_graph, sender, corrupted_node)))\n",
    "                #path_from_corrupted = select_best(list(nx.all_shortest_paths(complete_graph, corrupted_node, receiver)))\n",
    "                path_to_corrupted = best_paths[(sender, corrupted_node)]\n",
    "                path_from_corrupted = best_paths[(corrupted_node, receiver)]\n",
    "\n",
    "                path_corrupted = path_to_corrupted + path_from_corrupted[1:]\n",
    "                if (path_corrupted == path_ok):\n",
    "                    amount_ok += amount\n",
    "                else:\n",
    "                    amount_rerouted += amount\n",
    "            except:\n",
    "                #print('No path between {} and {}'.format(sender,receiver))\n",
    "                amount_lost += amount\n",
    "    return amount_ok, amount_lost, amount_rerouted"
   ]
  },
  {
   "cell_type": "code",
   "execution_count": 36,
   "metadata": {},
   "outputs": [],
   "source": [
    "df_corrupted = pd.DataFrame(columns=['corrupted', 'amount_ok', 'amount_lost', 'amount_rerouted'])"
   ]
  },
  {
   "cell_type": "code",
   "execution_count": 37,
   "metadata": {},
   "outputs": [],
   "source": [
    "for c in ripple_graph.nodes:\n",
    "    amount_ok, amount_lost, amount_rerouted = replay_transactions_hijack(transactions, c, ripple_graph)\n",
    "    df_corrupted = df_corrupted.append({'corrupted': c, 'amount_ok': amount_ok, 'amount_lost': amount_lost, 'amount_rerouted': amount_rerouted}, ignore_index=True)"
   ]
  },
  {
   "cell_type": "code",
   "execution_count": 38,
   "metadata": {},
   "outputs": [],
   "source": [
    "df_corrupted.set_index('corrupted').to_csv('statistics_hijack_cpp.csv')"
   ]
  },
  {
   "cell_type": "code",
   "execution_count": 39,
   "metadata": {},
   "outputs": [],
   "source": [
    "df_corrupted = pd.read_csv('statistics_hijack_cpp.csv', index_col='corrupted')"
   ]
  },
  {
   "cell_type": "code",
   "execution_count": 40,
   "metadata": {},
   "outputs": [
    {
     "data": {
      "text/plain": [
       "<matplotlib.axes._subplots.AxesSubplot at 0x128a5db70>"
      ]
     },
     "execution_count": 40,
     "metadata": {},
     "output_type": "execute_result"
    },
    {
     "data": {
      "image/png": "[encoded data removed]",
      "text/plain": [
       "<Figure size 432x288 with 1 Axes>"
      ]
     },
     "metadata": {
      "needs_background": "light"
     },
     "output_type": "display_data"
    }
   ],
   "source": [
    "df_corrupted['amount_lost'].sort_values(ascending=False).head(10).to_frame().plot.bar()"
   ]
  },
  {
   "cell_type": "code",
   "execution_count": 41,
   "metadata": {},
   "outputs": [
    {
     "data": {
      "text/plain": [
       "<matplotlib.axes._subplots.AxesSubplot at 0x12882a668>"
      ]
     },
     "execution_count": 41,
     "metadata": {},
     "output_type": "execute_result"
    },
    {
     "data": {
      "image/png": "[encoded data removed]",
      "text/plain": [
       "<Figure size 432x288 with 1 Axes>"
      ]
     },
     "metadata": {
      "needs_background": "light"
     },
     "output_type": "display_data"
    }
   ],
   "source": [
    "df_corrupted['amount_rerouted'].sort_values(ascending=False).head(10).to_frame().plot.bar()"
   ]
  },
  {
   "cell_type": "code",
   "execution_count": null,
   "metadata": {},
   "outputs": [],
   "source": []
  }
 ],
 "metadata": {
  "kernelspec": {
   "display_name": "Python 3",
   "language": "python",
   "name": "python3"
  },
  "language_info": {
   "codemirror_mode": {
    "name": "ipython",
    "version": 3
   },
   "file_extension": ".py",
   "mimetype": "text/x-python",
   "name": "python",
   "nbconvert_exporter": "python",
   "pygments_lexer": "ipython3",
   "version": "3.7.3"
  }
 },
 "nbformat": 4,
 "nbformat_minor": 2
}
