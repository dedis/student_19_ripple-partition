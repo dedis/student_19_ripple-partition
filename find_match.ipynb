{
 "cells": [
  {
   "cell_type": "code",
   "execution_count": 1,
   "metadata": {},
   "outputs": [],
   "source": [
    "from Caida.caida_helper import *\n",
    "from Ripple.ripple_helper import *\n",
    "import numpy as np"
   ]
  },
  {
   "cell_type": "markdown",
   "metadata": {},
   "source": [
    "Now that the data from caida and ripple are processed, it is time to find any correlation between them. <br>\n",
    "The goal of this notebook is to compare nodes from both ressources. In concrete terms, I try to maximize the common IP addresses of Caida and Ripple network topology. The maximization is done by looking at different source file from Caida"
   ]
  },
  {
   "cell_type": "code",
   "execution_count": 2,
   "metadata": {},
   "outputs": [],
   "source": [
    "node_file = 'Caida/midar-iff.nodes.txt'"
   ]
  },
  {
   "cell_type": "code",
   "execution_count": 3,
   "metadata": {},
   "outputs": [],
   "source": [
    "caida_nodes = get_nodes(node_file)\n",
    "ripple_nodes, ripple_links = get_topology()"
   ]
  },
  {
   "cell_type": "code",
   "execution_count": 4,
   "metadata": {},
   "outputs": [],
   "source": [
    "# Extract IP addresses from Caida\n",
    "ip_list = caida_nodes['ip'].tolist()\n",
    "# Flatten the list\n",
    "ip_list = [y for x in ip_list for y in x]\n",
    "# Convert list in set to improve performance while searching\n",
    "ip_list = set(ip_list)"
   ]
  },
  {
   "cell_type": "code",
   "execution_count": 5,
   "metadata": {},
   "outputs": [
    {
     "data": {
      "text/plain": [
       "(76908102, 1046)"
      ]
     },
     "execution_count": 5,
     "metadata": {},
     "output_type": "execute_result"
    }
   ],
   "source": [
    "len(ip_list), len(ripple_nodes['ip'].dropna())"
   ]
  },
  {
   "cell_type": "code",
   "execution_count": 9,
   "metadata": {},
   "outputs": [
    {
     "name": "stdout",
     "output_type": "stream",
     "text": [
      "Percentage of matches: 0.015539305301645339\n"
     ]
    }
   ],
   "source": [
    "# Find matches\n",
    "found = 0\n",
    "for ip_ripple in ripple_nodes['ip'].dropna():\n",
    "    if ip_ripple in ip_list:\n",
    "        found += 1\n",
    "\n",
    "print('Percentage of matches: ' + str(found/len(ripple_nodes)))"
   ]
  },
  {
   "cell_type": "markdown",
   "metadata": {},
   "source": [
    "To avoid code duplication, results are written here: <br>\n",
    "Kapar-midar-iff -> 17/1046 <br>\n",
    "Midar-iff -> 17/1046"
   ]
  },
  {
   "cell_type": "code",
   "execution_count": null,
   "metadata": {},
   "outputs": [],
   "source": []
  }
 ],
 "metadata": {
  "kernelspec": {
   "display_name": "Python 3",
   "language": "python",
   "name": "python3"
  },
  "language_info": {
   "codemirror_mode": {
    "name": "ipython",
    "version": 3
   },
   "file_extension": ".py",
   "mimetype": "text/x-python",
   "name": "python",
   "nbconvert_exporter": "python",
   "pygments_lexer": "ipython3",
   "version": "3.7.0"
  }
 },
 "nbformat": 4,
 "nbformat_minor": 2
}
