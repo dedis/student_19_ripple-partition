{
 "cells": [
  {
   "cell_type": "code",
   "execution_count": 1,
   "metadata": {},
   "outputs": [],
   "source": [
    "import pandas as pd\n",
    "import numpy as np\n",
    "import networkx as nx\n",
    "import matplotlib.pyplot as plt\n",
    "import folium\n",
    "import csv"
   ]
  },
  {
   "cell_type": "markdown",
   "metadata": {},
   "source": [
    "# Recover Ripple Graph"
   ]
  },
  {
   "cell_type": "code",
   "execution_count": 2,
   "metadata": {},
   "outputs": [],
   "source": [
    "def recover_links_ases(filename):\n",
    "    links = set()\n",
    "    ases = set()\n",
    "    with open(filename) as csv_file:\n",
    "        csv_reader = csv.reader(csv_file, delimiter=',')\n",
    "        for row in csv_reader:\n",
    "            l = tuple(row)\n",
    "            links.add(l)\n",
    "            ases.add(l[0])\n",
    "            ases.add(l[1])\n",
    "    return ases,links"
   ]
  },
  {
   "cell_type": "code",
   "execution_count": 3,
   "metadata": {},
   "outputs": [],
   "source": [
    "ripple_ases, ripple_links = recover_links_ases('Ripple/gateway_links.csv')"
   ]
  },
  {
   "cell_type": "code",
   "execution_count": 4,
   "metadata": {},
   "outputs": [],
   "source": [
    "ripple_graph = nx.Graph()\n",
    "ripple_graph.add_nodes_from(ripple_ases)"
   ]
  },
  {
   "cell_type": "code",
   "execution_count": 5,
   "metadata": {},
   "outputs": [
    {
     "name": "stdout",
     "output_type": "stream",
     "text": [
      "The Ripple graph contains 15 nodes\n"
     ]
    }
   ],
   "source": [
    "print('The Ripple graph contains {} nodes'.format(len(ripple_graph.nodes)))"
   ]
  },
  {
   "cell_type": "markdown",
   "metadata": {},
   "source": [
    "# Recover Caida Graph"
   ]
  },
  {
   "cell_type": "code",
   "execution_count": 6,
   "metadata": {},
   "outputs": [
    {
     "name": "stderr",
     "output_type": "stream",
     "text": [
      "/usr/local/lib/python3.7/site-packages/ipykernel_launcher.py:10: SettingWithCopyWarning: \n",
      "A value is trying to be set on a copy of a slice from a DataFrame.\n",
      "Try using .loc[row_indexer,col_indexer] = value instead\n",
      "\n",
      "See the caveats in the documentation: http://pandas.pydata.org/pandas-docs/stable/indexing.html#indexing-view-versus-copy\n",
      "  # Remove the CWD from sys.path while we load stuff.\n"
     ]
    }
   ],
   "source": [
    "data = pd.read_csv('Caida/20190301.as-rel2.txt',delimiter='\\n', comment='#', header=None, encoding='ISO-8859-1')\n",
    "\n",
    "data['provider_peer'], data['customer_peer'], data['relation_type'], data['source'] = data[0].str.split('|').str\n",
    "data['relation_type']  = data['relation_type'].apply(lambda x: 'provider-customer' if x == '-1' else 'peer-peer')\n",
    "links = data[['provider_peer','customer_peer','relation_type']]\n",
    "\n",
    "caida_ases = set(links['provider_peer'].values)\n",
    "caida_ases.update(links['customer_peer'].values)\n",
    "\n",
    "links['link'] = list(zip(links['provider_peer'], links['customer_peer']))\n",
    "links = links[['link','relation_type']]\n",
    "caida_links = {}\n",
    "for index,row in links.iterrows():\n",
    "    (s,t) = row['link']\n",
    "    rel = row['relation_type']\n",
    "    if rel == 'provider-customer':\n",
    "        caida_links[tuple([s,t])] = rel\n",
    "        caida_links[tuple([t,s])] = 'customer-provider'\n",
    "    else: \n",
    "        if rel == 'peer-peer':\n",
    "            caida_links[tuple([s,t])] = rel\n",
    "            caida_links[tuple([t,s])] = 'peer-peer'\n",
    "        else:\n",
    "            print('Error')"
   ]
  },
  {
   "cell_type": "code",
   "execution_count": 7,
   "metadata": {},
   "outputs": [],
   "source": [
    "caida_graph = nx.Graph()\n",
    "caida_graph.add_nodes_from(caida_ases)\n",
    "for k,v in caida_links.items():\n",
    "    caida_graph.add_edge(k[0],k[1])"
   ]
  },
  {
   "cell_type": "code",
   "execution_count": 8,
   "metadata": {},
   "outputs": [
    {
     "name": "stdout",
     "output_type": "stream",
     "text": [
      "The Caida graph contains 64167 nodes and 503651 edges\n"
     ]
    }
   ],
   "source": [
    "print('The Caida graph contains {} nodes and {} edges'.format(len(caida_graph.nodes),len(caida_graph.edges)))"
   ]
  },
  {
   "cell_type": "markdown",
   "metadata": {},
   "source": [
    "# Add intermediary nodes to Ripple Graph"
   ]
  },
  {
   "cell_type": "code",
   "execution_count": 9,
   "metadata": {},
   "outputs": [],
   "source": [
    "def shortest_paths(s,t,G):\n",
    "    actual_paths = []\n",
    "    paths = nx.all_shortest_paths(G,s,t)\n",
    "    for path in paths:\n",
    "        actual_path = []\n",
    "        for i in range(len(path)-1):\n",
    "            l = tuple([path[i],path[i+1]])\n",
    "            actual_path.append(l)\n",
    "        actual_paths.append(actual_path)\n",
    "    return actual_paths"
   ]
  },
  {
   "cell_type": "code",
   "execution_count": 10,
   "metadata": {},
   "outputs": [],
   "source": [
    "for s in ripple_ases:\n",
    "    for t in ripple_ases:\n",
    "        paths = nx.all_shortest_paths(caida_graph,s,t)\n",
    "        for p in paths:\n",
    "            complete_path = [s] + p\n",
    "            for i in range(len(complete_path)-1):\n",
    "                ripple_graph.add_edge(complete_path[i],complete_path[i+1])"
   ]
  },
  {
   "cell_type": "code",
   "execution_count": 11,
   "metadata": {},
   "outputs": [
    {
     "name": "stdout",
     "output_type": "stream",
     "text": [
      "The Ripple graph contains 324 nodes and 1299 edges\n"
     ]
    }
   ],
   "source": [
    "print('The Ripple graph contains {} nodes and {} edges'.format(len(ripple_graph.nodes),len(ripple_graph.edges)))"
   ]
  },
  {
   "cell_type": "code",
   "execution_count": 12,
   "metadata": {},
   "outputs": [],
   "source": [
    "nx.set_edge_attributes(ripple_graph, 0, 'weight')"
   ]
  },
  {
   "cell_type": "markdown",
   "metadata": {},
   "source": [
    "# Replay transactions "
   ]
  },
  {
   "cell_type": "code",
   "execution_count": 13,
   "metadata": {},
   "outputs": [],
   "source": [
    "transactions = pd.read_csv('Ripple/transactions_processed.csv', dtype={'sender': str, 'receiver': str, 'amount': np.float64} )\n",
    "transactions = transactions[['sender','receiver','amount']]"
   ]
  },
  {
   "cell_type": "code",
   "execution_count": 14,
   "metadata": {},
   "outputs": [],
   "source": [
    "def replay_transactions_remove(transactions, corrupted_graph, complete_graph):\n",
    "    amount_ok = 0\n",
    "    amount_lost = 0\n",
    "    amount_rerouted = 0\n",
    "    for index, row in transactions.iterrows():\n",
    "        sender = row['sender']\n",
    "        receiver = row['receiver']\n",
    "\n",
    "        try :\n",
    "            amount = row['amount']\n",
    "            ## For the moment, use only the best path\n",
    "            path_corrupted = nx.shortest_path(corrupted_graph,sender,receiver)\n",
    "            path_ok = nx.shortest_path(complete_graph,sender,receiver)\n",
    "            if (path_corrupted == path_ok):\n",
    "                amount_ok += amount\n",
    "            else:\n",
    "                amount_rerouted += amount\n",
    "        except:\n",
    "            #print('No path between {} and {}'.format(sender,receiver))\n",
    "            amount_lost += amount\n",
    "    return amount_ok, amount_lost, amount_rerouted"
   ]
  },
  {
   "cell_type": "code",
   "execution_count": 16,
   "metadata": {},
   "outputs": [
    {
     "name": "stdout",
     "output_type": "stream",
     "text": [
      "Amount of money used in the graph : 95369733.78500085\n"
     ]
    }
   ],
   "source": [
    "print('Amount of money used in the graph : {}'.format(transactions['amount'].sum()))"
   ]
  },
  {
   "cell_type": "markdown",
   "metadata": {},
   "source": [
    "# Graph Statistics"
   ]
  },
  {
   "cell_type": "markdown",
   "metadata": {},
   "source": [
    "## Are the gateways directly connected?"
   ]
  },
  {
   "cell_type": "code",
   "execution_count": 17,
   "metadata": {},
   "outputs": [
    {
     "name": "stdout",
     "output_type": "stream",
     "text": [
      "There is a link between 4766 and 26496\n",
      "There is a link between 13335 and 45102\n",
      "There is a link between 19551 and 45102\n",
      "There is a link between 45102 and 13335\n",
      "There is a link between 19551 and 13335\n",
      "There is a link between 26496 and 4766\n",
      "There is a link between 14618 and 16509\n",
      "There is a link between 16509 and 14618\n",
      "There is a link between 45102 and 19551\n",
      "There is a link between 13335 and 19551\n"
     ]
    }
   ],
   "source": [
    "for g in ripple_ases:\n",
    "    neighbors = ripple_graph.neighbors(g)\n",
    "    for n in neighbors:\n",
    "        if n in ripple_ases and n != g:\n",
    "            print('There is a link between {} and {}'.format(n,g))"
   ]
  },
  {
   "cell_type": "code",
   "execution_count": 18,
   "metadata": {},
   "outputs": [
    {
     "name": "stderr",
     "output_type": "stream",
     "text": [
      "/usr/local/lib/python3.7/site-packages/networkx/drawing/nx_pylab.py:611: MatplotlibDeprecationWarning: isinstance(..., numbers.Number)\n",
      "  if cb.is_numlike(alpha):\n"
     ]
    },
    {
     "data": {
      "image/png": "[encoded data removed]",
      "text/plain": [
       "<Figure size 432x288 with 1 Axes>"
      ]
     },
     "metadata": {
      "needs_background": "light"
     },
     "output_type": "display_data"
    }
   ],
   "source": [
    "sub = ripple_graph.subgraph(ripple_ases)\n",
    "nx.draw_networkx(sub)"
   ]
  },
  {
   "cell_type": "markdown",
   "metadata": {},
   "source": [
    "## How many transactions are affected by a 'direct connection'?"
   ]
  },
  {
   "cell_type": "code",
   "execution_count": 19,
   "metadata": {},
   "outputs": [
    {
     "name": "stdout",
     "output_type": "stream",
     "text": [
      "# Transactions affected : 6314 out of 22994 - 27%\n",
      "Amount affected : 80443866.41520707 out of 95369733.78499946 - 84%\n"
     ]
    }
   ],
   "source": [
    "count = 0\n",
    "amount = 0\n",
    "for index, row in transactions.iterrows():\n",
    "    sender = row['sender']\n",
    "    receiver = row['receiver']\n",
    "    path = nx.shortest_path(ripple_graph, source=sender, target=receiver)\n",
    "    if (len(path) == 2):\n",
    "        count += 1\n",
    "        amount += row['amount']\n",
    "        \n",
    "print('# Transactions affected : {} out of {} - {:.0%}'.format(count, len(transactions), count/len(transactions)))\n",
    "print('Amount affected : {} out of {} - {:.0%}'.format(amount, transactions['amount'].sum(), amount/transactions['amount'].sum()))"
   ]
  },
  {
   "cell_type": "markdown",
   "metadata": {},
   "source": [
    "As we can see, only 16% of the total amount can be rerouted since there is no intermediary node"
   ]
  },
  {
   "cell_type": "markdown",
   "metadata": {},
   "source": [
    "# What if we remove one node?"
   ]
  },
  {
   "cell_type": "code",
   "execution_count": 20,
   "metadata": {},
   "outputs": [],
   "source": [
    "df_corrupted = pd.DataFrame(columns=['corrupted', 'amount_ok', 'amount_lost', 'amount_rerouted'])"
   ]
  },
  {
   "cell_type": "code",
   "execution_count": 21,
   "metadata": {
    "scrolled": false
   },
   "outputs": [],
   "source": [
    "#for c in ripple_graph.nodes:\n",
    "#    corrupted_graph = ripple_graph.copy()\n",
    "#    corrupted_graph.remove_node(c)\n",
    "#    amount_ok, amount_lost, amount_rerouted = replay_transactions_remove(transactions, corrupted_graph, ripple_graph)\n",
    "#    df_corrupted = df_corrupted.append({'corrupted': c, 'amount_ok': amount_ok, 'amount_lost': amount_lost, 'amount_rerouted': amount_rerouted}, ignore_index=True)"
   ]
  },
  {
   "cell_type": "code",
   "execution_count": 23,
   "metadata": {},
   "outputs": [],
   "source": [
    "#df_corrupted.set_index('corrupted').to_csv('statistics_remove.csv')"
   ]
  },
  {
   "cell_type": "code",
   "execution_count": 29,
   "metadata": {},
   "outputs": [],
   "source": [
    "df_corrupted = pd.read_csv('statistics_remove.csv', index_col='corrupted')"
   ]
  },
  {
   "cell_type": "code",
   "execution_count": 38,
   "metadata": {},
   "outputs": [
    {
     "data": {
      "text/plain": [
       "<matplotlib.axes._subplots.AxesSubplot at 0x131b6db70>"
      ]
     },
     "execution_count": 38,
     "metadata": {},
     "output_type": "execute_result"
    },
    {
     "data": {
      "image/png": "[encoded data removed]",
      "text/plain": [
       "<Figure size 432x288 with 1 Axes>"
      ]
     },
     "metadata": {
      "needs_background": "light"
     },
     "output_type": "display_data"
    }
   ],
   "source": [
    "df_corrupted['amount_lost'].sort_values(ascending=False).head(10).to_frame().plot.bar()"
   ]
  },
  {
   "cell_type": "code",
   "execution_count": 39,
   "metadata": {},
   "outputs": [
    {
     "data": {
      "text/plain": [
       "<matplotlib.axes._subplots.AxesSubplot at 0x131b98b38>"
      ]
     },
     "execution_count": 39,
     "metadata": {},
     "output_type": "execute_result"
    },
    {
     "data": {
      "image/png": "[encoded data removed]",
      "text/plain": [
       "<Figure size 432x288 with 1 Axes>"
      ]
     },
     "metadata": {
      "needs_background": "light"
     },
     "output_type": "display_data"
    }
   ],
   "source": [
    "df_corrupted['amount_rerouted'].sort_values(ascending=False).head(10).to_frame().plot.bar()"
   ]
  },
  {
   "cell_type": "markdown",
   "metadata": {},
   "source": [
    "# What if there is BGP hijacking?"
   ]
  }
 ],
 "metadata": {
  "kernelspec": {
   "display_name": "Python 3",
   "language": "python",
   "name": "python3"
  },
  "language_info": {
   "codemirror_mode": {
    "name": "ipython",
    "version": 3
   },
   "file_extension": ".py",
   "mimetype": "text/x-python",
   "name": "python",
   "nbconvert_exporter": "python",
   "pygments_lexer": "ipython3",
   "version": "3.7.3"
  }
 },
 "nbformat": 4,
 "nbformat_minor": 2
}
