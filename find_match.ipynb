{
 "cells": [
  {
   "cell_type": "code",
   "execution_count": 1,
   "metadata": {},
   "outputs": [],
   "source": [
    "import pandas as pd\n",
    "import numpy as np\n",
    "import networkx as nx\n",
    "import matplotlib.pyplot as plt\n",
    "import folium\n",
    "import csv"
   ]
  },
  {
   "cell_type": "markdown",
   "metadata": {},
   "source": [
    "# Recover Ripple Graph"
   ]
  },
  {
   "cell_type": "code",
   "execution_count": 2,
   "metadata": {},
   "outputs": [],
   "source": [
    "def recover_links_ases(filename):\n",
    "    links = set()\n",
    "    ases = set()\n",
    "    with open(filename) as csv_file:\n",
    "        csv_reader = csv.reader(csv_file, delimiter=',')\n",
    "        for row in csv_reader:\n",
    "            l = tuple(row)\n",
    "            links.add(l)\n",
    "            ases.add(l[0])\n",
    "            ases.add(l[1])\n",
    "    return ases,links"
   ]
  },
  {
   "cell_type": "code",
   "execution_count": 3,
   "metadata": {},
   "outputs": [],
   "source": [
    "ripple_ases, ripple_links = recover_links_ases('Ripple/gateway_links.csv')"
   ]
  },
  {
   "cell_type": "code",
   "execution_count": 4,
   "metadata": {},
   "outputs": [],
   "source": [
    "ripple_graph = nx.Graph()\n",
    "ripple_graph.add_nodes_from(ripple_ases)"
   ]
  },
  {
   "cell_type": "code",
   "execution_count": 5,
   "metadata": {},
   "outputs": [
    {
     "name": "stdout",
     "output_type": "stream",
     "text": [
      "The Ripple graph contains 15 nodes\n"
     ]
    }
   ],
   "source": [
    "print('The Ripple graph contains {} nodes'.format(len(ripple_graph.nodes)))"
   ]
  },
  {
   "cell_type": "markdown",
   "metadata": {},
   "source": [
    "# Recover Caida Graph"
   ]
  },
  {
   "cell_type": "code",
   "execution_count": 6,
   "metadata": {},
   "outputs": [
    {
     "name": "stderr",
     "output_type": "stream",
     "text": [
      "/usr/local/lib/python3.7/site-packages/ipykernel_launcher.py:10: SettingWithCopyWarning: \n",
      "A value is trying to be set on a copy of a slice from a DataFrame.\n",
      "Try using .loc[row_indexer,col_indexer] = value instead\n",
      "\n",
      "See the caveats in the documentation: http://pandas.pydata.org/pandas-docs/stable/indexing.html#indexing-view-versus-copy\n",
      "  # Remove the CWD from sys.path while we load stuff.\n"
     ]
    }
   ],
   "source": [
    "data = pd.read_csv('Caida/20190301.as-rel2.txt',delimiter='\\n', comment='#', header=None, encoding='ISO-8859-1')\n",
    "\n",
    "data['provider_peer'], data['customer_peer'], data['relation_type'], data['source'] = data[0].str.split('|').str\n",
    "data['relation_type']  = data['relation_type'].apply(lambda x: 'provider-customer' if x == '-1' else 'peer-peer')\n",
    "links = data[['provider_peer','customer_peer','relation_type']]\n",
    "\n",
    "caida_ases = set(links['provider_peer'].values)\n",
    "caida_ases.update(links['customer_peer'].values)\n",
    "\n",
    "links['link'] = list(zip(links['provider_peer'], links['customer_peer']))\n",
    "links = links[['link','relation_type']]\n",
    "caida_links = {}\n",
    "for index,row in links.iterrows():\n",
    "    (s,t) = row['link']\n",
    "    rel = row['relation_type']\n",
    "    if rel == 'provider-customer':\n",
    "        caida_links[tuple([s,t])] = rel\n",
    "        caida_links[tuple([t,s])] = 'customer-provider'\n",
    "    else: \n",
    "        if rel == 'peer-peer':\n",
    "            caida_links[tuple([s,t])] = rel\n",
    "            caida_links[tuple([t,s])] = 'peer-peer'\n",
    "        else:\n",
    "            print('Error')"
   ]
  },
  {
   "cell_type": "code",
   "execution_count": 7,
   "metadata": {},
   "outputs": [],
   "source": [
    "caida_graph = nx.Graph()\n",
    "caida_graph.add_nodes_from(caida_ases)\n",
    "for k,v in caida_links.items():\n",
    "    caida_graph.add_edge(k[0],k[1])"
   ]
  },
  {
   "cell_type": "code",
   "execution_count": 8,
   "metadata": {},
   "outputs": [
    {
     "name": "stdout",
     "output_type": "stream",
     "text": [
      "The Caida graph contains 64167 nodes and 503651 edges\n"
     ]
    }
   ],
   "source": [
    "print('The Caida graph contains {} nodes and {} edges'.format(len(caida_graph.nodes),len(caida_graph.edges)))"
   ]
  },
  {
   "cell_type": "markdown",
   "metadata": {},
   "source": [
    "# Add intermediary nodes to Ripple Graph"
   ]
  },
  {
   "cell_type": "code",
   "execution_count": 9,
   "metadata": {},
   "outputs": [],
   "source": [
    "def shortest_paths(s,t,G):\n",
    "    actual_paths = []\n",
    "    paths = nx.all_shortest_paths(G,s,t)\n",
    "    for path in paths:\n",
    "        actual_path = []\n",
    "        for i in range(len(path)-1):\n",
    "            l = tuple([path[i],path[i+1]])\n",
    "            actual_path.append(l)\n",
    "        actual_paths.append(actual_path)\n",
    "    return actual_paths"
   ]
  },
  {
   "cell_type": "code",
   "execution_count": 10,
   "metadata": {},
   "outputs": [],
   "source": [
    "for s in ripple_ases:\n",
    "    for t in ripple_ases:\n",
    "        paths = nx.all_shortest_paths(caida_graph,s,t)\n",
    "        for p in paths:\n",
    "            complete_path = [s] + p\n",
    "            for i in range(len(complete_path)-1):\n",
    "                ripple_graph.add_edge(complete_path[i],complete_path[i+1])"
   ]
  },
  {
   "cell_type": "code",
   "execution_count": 11,
   "metadata": {},
   "outputs": [
    {
     "name": "stdout",
     "output_type": "stream",
     "text": [
      "The Ripple graph contains 324 nodes and 1299 edges\n"
     ]
    }
   ],
   "source": [
    "print('The Ripple graph contains {} nodes and {} edges'.format(len(ripple_graph.nodes),len(ripple_graph.edges)))"
   ]
  },
  {
   "cell_type": "code",
   "execution_count": 12,
   "metadata": {},
   "outputs": [],
   "source": [
    "nx.set_edge_attributes(ripple_graph, 0, 'weight')"
   ]
  },
  {
   "cell_type": "markdown",
   "metadata": {},
   "source": [
    "# Replay transactions "
   ]
  },
  {
   "cell_type": "code",
   "execution_count": 13,
   "metadata": {},
   "outputs": [],
   "source": [
    "transactions = pd.read_csv('Ripple/transactions_processed.csv', dtype={'sender': str, 'receiver': str, 'amount': np.float64} )\n",
    "transactions = transactions[['sender','receiver','amount']]"
   ]
  },
  {
   "cell_type": "code",
   "execution_count": 14,
   "metadata": {},
   "outputs": [
    {
     "name": "stdout",
     "output_type": "stream",
     "text": [
      "Amount of money used in the graph : 95369733.78499946\n"
     ]
    }
   ],
   "source": [
    "print('Amount of money used in the graph : {}'.format(transactions['amount'].sum()))"
   ]
  },
  {
   "cell_type": "markdown",
   "metadata": {},
   "source": [
    "# Graph Statistics"
   ]
  },
  {
   "cell_type": "markdown",
   "metadata": {},
   "source": [
    "## Are the gateways directly connected?"
   ]
  },
  {
   "cell_type": "code",
   "execution_count": 15,
   "metadata": {},
   "outputs": [
    {
     "name": "stdout",
     "output_type": "stream",
     "text": [
      "There is a link between 4766 and 26496\n",
      "There is a link between 45102 and 13335\n",
      "There is a link between 19551 and 13335\n",
      "There is a link between 13335 and 45102\n",
      "There is a link between 19551 and 45102\n",
      "There is a link between 16509 and 14618\n",
      "There is a link between 26496 and 4766\n",
      "There is a link between 14618 and 16509\n",
      "There is a link between 13335 and 19551\n",
      "There is a link between 45102 and 19551\n"
     ]
    }
   ],
   "source": [
    "for g in ripple_ases:\n",
    "    neighbors = ripple_graph.neighbors(g)\n",
    "    for n in neighbors:\n",
    "        if n in ripple_ases and n != g:\n",
    "            print('There is a link between {} and {}'.format(n,g))"
   ]
  },
  {
   "cell_type": "code",
   "execution_count": 16,
   "metadata": {},
   "outputs": [
    {
     "name": "stderr",
     "output_type": "stream",
     "text": [
      "/usr/local/lib/python3.7/site-packages/networkx/drawing/nx_pylab.py:611: MatplotlibDeprecationWarning: isinstance(..., numbers.Number)\n",
      "  if cb.is_numlike(alpha):\n"
     ]
    },
    {
     "data": {
      "image/png": "[encoded data removed]",
      "text/plain": [
       "<Figure size 432x288 with 1 Axes>"
      ]
     },
     "metadata": {
      "needs_background": "light"
     },
     "output_type": "display_data"
    }
   ],
   "source": [
    "sub = ripple_graph.subgraph(ripple_ases)\n",
    "nx.draw_networkx(sub)"
   ]
  },
  {
   "cell_type": "markdown",
   "metadata": {},
   "source": [
    "## How many transactions are affected by a 'direct connection'?"
   ]
  },
  {
   "cell_type": "code",
   "execution_count": 17,
   "metadata": {},
   "outputs": [
    {
     "name": "stdout",
     "output_type": "stream",
     "text": [
      "# Transactions affected : 6314 out of 22994 - 27%\n",
      "Amount affected : 80443866.41520707 out of 95369733.78499946 - 84%\n"
     ]
    }
   ],
   "source": [
    "count = 0\n",
    "amount = 0\n",
    "for index, row in transactions.iterrows():\n",
    "    sender = row['sender']\n",
    "    receiver = row['receiver']\n",
    "    path = nx.shortest_path(ripple_graph, source=sender, target=receiver)\n",
    "    if (len(path) == 2):\n",
    "        count += 1\n",
    "        amount += row['amount']\n",
    "        \n",
    "print('# Transactions affected : {} out of {} - {:.0%}'.format(count, len(transactions), count/len(transactions)))\n",
    "print('Amount affected : {} out of {} - {:.0%}'.format(amount, transactions['amount'].sum(), amount/transactions['amount'].sum()))"
   ]
  },
  {
   "cell_type": "markdown",
   "metadata": {},
   "source": [
    "As we can see, only 16% of the total amount can be rerouted since there is no intermediary node"
   ]
  },
  {
   "cell_type": "markdown",
   "metadata": {},
   "source": [
    "## How many intermediaries are there between each gateways?"
   ]
  },
  {
   "cell_type": "markdown",
   "metadata": {},
   "source": [
    "### Let's consider the nx algorithm"
   ]
  },
  {
   "cell_type": "code",
   "execution_count": 18,
   "metadata": {},
   "outputs": [
    {
     "name": "stdout",
     "output_type": "stream",
     "text": [
      "Mean number of intermediaries : 1.4952380952380953\n",
      "There are 13 different intermediaries\n",
      "{'7506', '209', '6939', '1299', '34779', '41828', '2828', '174', '3356', '3303', '3223', '16509', '2914'}\n"
     ]
    }
   ],
   "source": [
    "total = 0\n",
    "count = 0\n",
    "intermediaries = set()\n",
    "for source in ripple_ases:\n",
    "    for dest in ripple_ases:\n",
    "        if(source != dest):\n",
    "            path = nx.shortest_path(ripple_graph,source,dest)[1:-1]\n",
    "            intermediaries.update(path)\n",
    "            \n",
    "            total += len(path)\n",
    "            count += 1\n",
    "            \n",
    "print('Mean number of intermediaries : {}'.format(total/count))\n",
    "print('There are {} different intermediaries'.format(len(intermediaries)))\n",
    "print(intermediaries)"
   ]
  },
  {
   "cell_type": "code",
   "execution_count": 19,
   "metadata": {},
   "outputs": [
    {
     "name": "stdout",
     "output_type": "stream",
     "text": [
      "Mean number of intermediaries : 1.6459674365770542\n",
      "There are 310 different intermediaries\n",
      "{'4651', '37049', '9304', '52320', '55329', '7506', '2497', '20473', '5650', '14907', '28571', '174', '32354', '19151', '3549', '6461', '35266', '2603', '46450', '35369', '16509', '39122', '264911', '6648', '2044', '9318', '27446', '262757', '553', '1280', '23352', '1267', '1221', '136620', '8220', '22356', '38880', '25091', '58511', '3267', '1257', '12389', '263584', '16477', '26415', '20485', '4134', '1239', '9044', '28260', '28220', '49463', '9498', '6939', '60501', '64463', '12779', '9286', '8732', '12552', '8758', '9957', '52873', '20562', '20080', '52863', '39326', '62785', '41828', '3462', '51405', '12350', '1403', '12576', '43531', '34019', '3223', '21232', '2828', '680', '29691', '28186', '18101', '51873', '58308', '12956', '5769', '6830', '15576', '21859', '20932', '51185', '11039', '23106', '23576', '16276', '34224', '8492', '37662', '7473', '6730', '20811', '23473', '15435', '37271', '4739', '16347', '6079', '205206', '2914', '18403', '8222', '577', '38809', '18106', '41811', '16735', '198290', '263674', '7660', '29075', '4826', '33438', '14537', '3216', '21320', '9505', '50763', '48362', '202032', '3356', '3741', '8283', '6453', '25220', '50629', '6881', '4181', '37100', '6082', '286', '8359', '34177', '28917', '50673', '3257', '9002', '43578', '58299', '1798', '9050', '7545', '11404', '53828', '2906', '42473', '33660', '30844', '13030', '8943', '1836', '29226', '2152', '42708', '4755', '9299', '24441', '5511', '37468', '34288', '48526', '30132', '15605', '31042', '50300', '5413', '28329', '3212', '45352', '53067', '4844', '1916', '52720', '12859', '7474', '31424', '63956', '25152', '293', '20013', '24482', '14840', '2381', '29791', '2905', '132203', '49544', '6661', '3320', '16265', '2852', '29208', '5392', '29680', '10026', '7922', '3491', '30781', '20764', '11666', '1299', '199524', '13101', '6663', '8607', '2018', '57724', '22652', '12637', '8455', '63927', '49605', '264268', '327960', '34779', '16637', '59689', '198385', '20940', '11686', '2516', '31742', '31133', '197595', '852', '1103', '15547', '15412', '35699', '1273', '4637', '64050', '9902', '8896', '6762', '9381', '37239', '50877', '37697', '60435', '4809', '4230', '263075', '8218', '59605', '32653', '328145', '40191', '47692', '264409', '13760', '209', '3292', '59891', '3786', '4775', '37680', '53070', '1853', '12713', '14061', '62240', '7738', '5645', '32934', '23673', '6720', '49788', '3303', '263651', '13237', '262317', '7575', '8468', '31500', '37497', '37640', '50304', '28634', '29140', '41497', '328320', '12874', '47147', '42541', '56730', '35280', '6667', '36351', '6619', '8426', '262589', '41095', '33891', '2119', '8447', '25160', '14361', '58453', '19653'}\n"
     ]
    }
   ],
   "source": [
    "total = 0\n",
    "count = 0\n",
    "intermediaries = set()\n",
    "for source in ripple_ases:\n",
    "    for dest in ripple_ases:\n",
    "        if(source != dest):\n",
    "            paths = nx.all_shortest_paths(ripple_graph,source,dest)\n",
    "            for p in paths:\n",
    "                path = p[1:-1]\n",
    "                intermediaries.update(path)\n",
    "                total += len(path)\n",
    "                count += 1\n",
    "            \n",
    "print('Mean number of intermediaries : {}'.format(total/count))\n",
    "print('There are {} different intermediaries'.format(len(intermediaries)))\n",
    "print(intermediaries)"
   ]
  },
  {
   "cell_type": "markdown",
   "metadata": {},
   "source": [
    "### Let's consider the tie-breaker customer > peer > provider"
   ]
  },
  {
   "cell_type": "code",
   "execution_count": 20,
   "metadata": {},
   "outputs": [],
   "source": [
    "def rel_type(rel):\n",
    "    if (rel == 'customer-provider'):\n",
    "        return 2\n",
    "    if (rel == 'peer-peer'):\n",
    "        return 1\n",
    "    if (rel == 'provider-customer'):\n",
    "        return 0\n",
    "    return None"
   ]
  },
  {
   "cell_type": "code",
   "execution_count": 21,
   "metadata": {},
   "outputs": [],
   "source": [
    "def compare_rel(paths, index):\n",
    "    best_p = []\n",
    "    best_rel = 3\n",
    "    for p in paths:\n",
    "        start = p[index]\n",
    "        end = p[index+1]\n",
    "        rel = rel_type(caida_links[(start,end)])\n",
    "        if (rel < best_rel):\n",
    "            best_p = [p]\n",
    "            best_rel = rel\n",
    "        elif (rel == best_rel):\n",
    "            best_p.append(p)\n",
    "    return best_p"
   ]
  },
  {
   "cell_type": "code",
   "execution_count": 22,
   "metadata": {},
   "outputs": [],
   "source": [
    "def select_best(paths):\n",
    "    ## If only one path, return it\n",
    "    if(type(paths[0]) == str):\n",
    "        return paths\n",
    "    \n",
    "    ## Assume all paths have same length\n",
    "    l = len(paths[0])\n",
    "    temp_paths = paths\n",
    "    for i in range(0,l-1):\n",
    "        temp_paths = compare_rel(temp_paths, i)\n",
    "    \n",
    "    if (len(temp_paths) >= 1):\n",
    "        return temp_paths[0]\n",
    "    return temp_paths"
   ]
  },
  {
   "cell_type": "code",
   "execution_count": 23,
   "metadata": {},
   "outputs": [
    {
     "name": "stdout",
     "output_type": "stream",
     "text": [
      "Mean number of intermediaries : 1.4952380952380953\n",
      "There are 40 different intermediaries\n",
      "{'6939', '2603', '2516', '2914', '37100', '57724', '577', '3223', '16509', '12637', '9286', '3212', '16265', '2828', '3303', '7506', '3267', '4775', '15412', '2497', '1273', '4826', '9957', '34779', '4637', '10026', '7473', '12389', '33891', '6762', '16477', '1299', '62785', '41828', '174', '20013', '4739', '60435', '6663', '6461'}\n"
     ]
    }
   ],
   "source": [
    "total = 0\n",
    "count = 0\n",
    "intermediaries = set()\n",
    "for source in ripple_ases:\n",
    "    for dest in ripple_ases:\n",
    "        if(source != dest):\n",
    "            path = select_best(list(nx.all_shortest_paths(ripple_graph,source,dest)))[1:-1]\n",
    "            intermediaries.update(path)\n",
    "            \n",
    "            total += len(path)\n",
    "            count += 1\n",
    "            \n",
    "print('Mean number of intermediaries : {}'.format(total/count))\n",
    "print('There are {} different intermediaries'.format(len(intermediaries)))\n",
    "print(intermediaries)"
   ]
  },
  {
   "cell_type": "markdown",
   "metadata": {},
   "source": [
    "# Precomputations"
   ]
  },
  {
   "cell_type": "code",
   "execution_count": 24,
   "metadata": {},
   "outputs": [],
   "source": [
    "best_paths = {}\n",
    "for source in ripple_graph.nodes:\n",
    "    for dest in ripple_graph.nodes:\n",
    "        if(source != dest):\n",
    "            path = select_best(list(nx.all_shortest_paths(ripple_graph,source,dest)))\n",
    "            best_paths[(source,dest)] = path"
   ]
  },
  {
   "cell_type": "markdown",
   "metadata": {},
   "source": [
    "# What if we remove one node?"
   ]
  },
  {
   "cell_type": "markdown",
   "metadata": {},
   "source": [
    "## Consider tie-breaker customer > peer > provider"
   ]
  },
  {
   "cell_type": "code",
   "execution_count": 25,
   "metadata": {},
   "outputs": [],
   "source": [
    "def precompute_best_corrupted(corrupted_graph):\n",
    "    best_paths = {}\n",
    "    for source in corrupted_graph.nodes:\n",
    "        for dest in corrupted_graph.nodes:\n",
    "            if(source != dest):\n",
    "                path = select_best(list(nx.all_shortest_paths(ripple_graph,source,dest)))\n",
    "                best_paths[(source,dest)] = path\n",
    "    return best_paths"
   ]
  },
  {
   "cell_type": "code",
   "execution_count": 26,
   "metadata": {},
   "outputs": [],
   "source": [
    "def replay_transactions_remove(transactions, corrupted_graph, complete_graph):\n",
    "    amount_ok = 0\n",
    "    amount_lost = 0\n",
    "    amount_rerouted = 0\n",
    "        \n",
    "    for index, row in transactions.iterrows():\n",
    "        sender = row['sender']\n",
    "        receiver = row['receiver']\n",
    "        try :\n",
    "            amount = row['amount']\n",
    "            path_corrupted = select_best(list(nx.all_shortest_paths(corrupted_graph,sender,receiver)))\n",
    "            \n",
    "            #path_ok = select_best(list(nx.all_shortest_paths(complete_graph,sender,receiver)))\n",
    "            path_ok = best_paths[(sender,receiver)]\n",
    "            if (path_corrupted == path_ok):\n",
    "                amount_ok += amount\n",
    "            else:\n",
    "                amount_rerouted += amount\n",
    "        except:\n",
    "            #print('No path between {} and {}'.format(sender,receiver))\n",
    "            amount_lost += amount\n",
    "    return amount_ok, amount_lost, amount_rerouted"
   ]
  },
  {
   "cell_type": "code",
   "execution_count": 27,
   "metadata": {},
   "outputs": [],
   "source": [
    "#df_corrupted = pd.DataFrame(columns=['corrupted', 'amount_ok', 'amount_lost', 'amount_rerouted'])"
   ]
  },
  {
   "cell_type": "code",
   "execution_count": 28,
   "metadata": {
    "scrolled": false
   },
   "outputs": [],
   "source": [
    "#for c in ripple_graph.nodes:\n",
    "#    corrupted_graph = ripple_graph.copy()\n",
    "#    corrupted_graph.remove_node(c)\n",
    "#    amount_ok, amount_lost, amount_rerouted = replay_transactions_remove(transactions, corrupted_graph, ripple_graph)\n",
    "#    df_corrupted = df_corrupted.append({'corrupted': c, 'amount_ok': amount_ok, 'amount_lost': amount_lost, 'amount_rerouted': amount_rerouted}, ignore_index=True)"
   ]
  },
  {
   "cell_type": "code",
   "execution_count": 29,
   "metadata": {},
   "outputs": [],
   "source": [
    "#df_corrupted.set_index('corrupted').to_csv('statistics_remove_cpp.csv')"
   ]
  },
  {
   "cell_type": "code",
   "execution_count": 30,
   "metadata": {},
   "outputs": [],
   "source": [
    "df_corrupted = pd.read_csv('statistics_remove_cpp.csv', index_col='corrupted')"
   ]
  },
  {
   "cell_type": "code",
   "execution_count": 31,
   "metadata": {},
   "outputs": [
    {
     "data": {
      "text/plain": [
       "<matplotlib.axes._subplots.AxesSubplot at 0x12596ce48>"
      ]
     },
     "execution_count": 31,
     "metadata": {},
     "output_type": "execute_result"
    },
    {
     "data": {
      "image/png": "[encoded data removed]",
      "text/plain": [
       "<Figure size 432x288 with 1 Axes>"
      ]
     },
     "metadata": {
      "needs_background": "light"
     },
     "output_type": "display_data"
    }
   ],
   "source": [
    "df_corrupted['amount_lost'].sort_values(ascending=False).head(10).to_frame().plot.bar()"
   ]
  },
  {
   "cell_type": "code",
   "execution_count": 32,
   "metadata": {},
   "outputs": [
    {
     "data": {
      "text/plain": [
       "<matplotlib.axes._subplots.AxesSubplot at 0x1259440f0>"
      ]
     },
     "execution_count": 32,
     "metadata": {},
     "output_type": "execute_result"
    },
    {
     "data": {
      "image/png": "[encoded data removed]",
      "text/plain": [
       "<Figure size 432x288 with 1 Axes>"
      ]
     },
     "metadata": {
      "needs_background": "light"
     },
     "output_type": "display_data"
    }
   ],
   "source": [
    "df_corrupted['amount_rerouted'].sort_values(ascending=False).head(10).to_frame().plot.bar()"
   ]
  },
  {
   "cell_type": "markdown",
   "metadata": {},
   "source": [
    "# What if there is BGP hijacking?"
   ]
  },
  {
   "cell_type": "code",
   "execution_count": 33,
   "metadata": {},
   "outputs": [],
   "source": [
    "def replay_transactions_hijack(transactions, corrupted_node, complete_graph):\n",
    "    amount_ok = 0\n",
    "    amount_lost = 0\n",
    "    amount_rerouted = 0\n",
    "    for index, row in transactions.iterrows():\n",
    "        sender = row['sender']\n",
    "        receiver = row['receiver']\n",
    "        \n",
    "        if(corrupted_node != sender and corrupted_node != receiver):\n",
    "            try :\n",
    "                amount = row['amount']\n",
    "                #path_ok = select_best(list(nx.all_shortest_paths(complete_graph,sender,receiver)))\n",
    "                path_ok = best_paths[(sender,receiver)]\n",
    "\n",
    "                #path_to_corrupted = select_best(list(nx.all_shortest_paths(complete_graph, sender, corrupted_node)))\n",
    "                #path_from_corrupted = select_best(list(nx.all_shortest_paths(complete_graph, corrupted_node, receiver)))\n",
    "                path_corrupted = best_paths[(sender, corrupted_node)]\n",
    "                \n",
    "                if (len(path_corrupted) + 1 > len(path_ok)):\n",
    "                    amount_ok += amount\n",
    "                else:\n",
    "                    amount_rerouted += amount\n",
    "            except:\n",
    "                #print('No path between {} and {}'.format(sender,receiver))\n",
    "                amount_lost += amount\n",
    "    return amount_ok, amount_lost, amount_rerouted"
   ]
  },
  {
   "cell_type": "code",
   "execution_count": 34,
   "metadata": {},
   "outputs": [],
   "source": [
    "df_corrupted = pd.DataFrame(columns=['corrupted', 'amount_ok', 'amount_lost', 'amount_rerouted'])"
   ]
  },
  {
   "cell_type": "code",
   "execution_count": 35,
   "metadata": {},
   "outputs": [],
   "source": [
    "for c in ripple_graph.nodes:\n",
    "    amount_ok, amount_lost, amount_rerouted = replay_transactions_hijack(transactions, c, ripple_graph)\n",
    "    df_corrupted = df_corrupted.append({'corrupted': c, 'amount_ok': amount_ok, 'amount_lost': amount_lost, 'amount_rerouted': amount_rerouted}, ignore_index=True)"
   ]
  },
  {
   "cell_type": "code",
   "execution_count": 36,
   "metadata": {},
   "outputs": [],
   "source": [
    "df_corrupted.set_index('corrupted').to_csv('statistics_hijack_cpp.csv')"
   ]
  },
  {
   "cell_type": "code",
   "execution_count": 37,
   "metadata": {},
   "outputs": [],
   "source": [
    "df_corrupted = pd.read_csv('statistics_hijack_cpp.csv', index_col='corrupted')"
   ]
  },
  {
   "cell_type": "code",
   "execution_count": 45,
   "metadata": {},
   "outputs": [
    {
     "data": {
      "text/plain": [
       "<matplotlib.axes._subplots.AxesSubplot at 0x125447a58>"
      ]
     },
     "execution_count": 45,
     "metadata": {},
     "output_type": "execute_result"
    },
    {
     "data": {
      "image/png": "[encoded data removed]",
      "text/plain": [
       "<Figure size 432x288 with 1 Axes>"
      ]
     },
     "metadata": {
      "needs_background": "light"
     },
     "output_type": "display_data"
    }
   ],
   "source": [
    "df_corrupted['amount_rerouted'].sort_values(ascending=False).head(100).to_frame().plot.bar()"
   ]
  },
  {
   "cell_type": "code",
   "execution_count": null,
   "metadata": {},
   "outputs": [],
   "source": []
  }
 ],
 "metadata": {
  "kernelspec": {
   "display_name": "Python 3",
   "language": "python",
   "name": "python3"
  },
  "language_info": {
   "codemirror_mode": {
    "name": "ipython",
    "version": 3
   },
   "file_extension": ".py",
   "mimetype": "text/x-python",
   "name": "python",
   "nbconvert_exporter": "python",
   "pygments_lexer": "ipython3",
   "version": "3.7.3"
  }
 },
 "nbformat": 4,
 "nbformat_minor": 2
}
