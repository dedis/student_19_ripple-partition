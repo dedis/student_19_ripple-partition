{
 "cells": [
  {
   "cell_type": "code",
   "execution_count": 1,
   "metadata": {},
   "outputs": [],
   "source": [
    "import pandas as pd\n",
    "import numpy as np\n",
    "import networkx as nx\n",
    "import matplotlib.pyplot as plt\n",
    "import csv"
   ]
  },
  {
   "cell_type": "markdown",
   "metadata": {},
   "source": [
    "# Recover Ripple Graph"
   ]
  },
  {
   "cell_type": "code",
   "execution_count": 2,
   "metadata": {},
   "outputs": [],
   "source": [
    "def recover_links_ases(filename):\n",
    "    links = set()\n",
    "    ases = set()\n",
    "    with open(filename) as csv_file:\n",
    "        csv_reader = csv.reader(csv_file, delimiter=',')\n",
    "        for row in csv_reader:\n",
    "            l = tuple(row)\n",
    "            links.add(l)\n",
    "            ases.add(l[0])\n",
    "            ases.add(l[1])\n",
    "    return ases,links"
   ]
  },
  {
   "cell_type": "code",
   "execution_count": 3,
   "metadata": {},
   "outputs": [],
   "source": [
    "ripple_ases, ripple_links = recover_links_ases('Ripple/gateway_links.csv')"
   ]
  },
  {
   "cell_type": "code",
   "execution_count": 4,
   "metadata": {},
   "outputs": [],
   "source": [
    "ripple_graph = nx.Graph()\n",
    "ripple_graph.add_nodes_from(ripple_ases)"
   ]
  },
  {
   "cell_type": "code",
   "execution_count": 5,
   "metadata": {
    "scrolled": false
   },
   "outputs": [
    {
     "name": "stdout",
     "output_type": "stream",
     "text": [
      "The Ripple graph contains 15 nodes\n"
     ]
    }
   ],
   "source": [
    "print('The Ripple graph contains {} nodes'.format(len(ripple_graph.nodes)))"
   ]
  },
  {
   "cell_type": "markdown",
   "metadata": {},
   "source": [
    "# Recover Caida Graph"
   ]
  },
  {
   "cell_type": "code",
   "execution_count": 6,
   "metadata": {},
   "outputs": [
    {
     "name": "stderr",
     "output_type": "stream",
     "text": [
      "/usr/local/lib/python3.7/site-packages/ipykernel_launcher.py:10: SettingWithCopyWarning: \n",
      "A value is trying to be set on a copy of a slice from a DataFrame.\n",
      "Try using .loc[row_indexer,col_indexer] = value instead\n",
      "\n",
      "See the caveats in the documentation: http://pandas.pydata.org/pandas-docs/stable/indexing.html#indexing-view-versus-copy\n",
      "  # Remove the CWD from sys.path while we load stuff.\n"
     ]
    }
   ],
   "source": [
    "data = pd.read_csv('Caida/20190301.as-rel2.txt',delimiter='\\n', comment='#', header=None, encoding='ISO-8859-1')\n",
    "\n",
    "data['provider_peer'], data['customer_peer'], data['relation_type'], data['source'] = data[0].str.split('|').str\n",
    "data['relation_type']  = data['relation_type'].apply(lambda x: 'provider-customer' if x == '-1' else 'peer-peer')\n",
    "links = data[['provider_peer','customer_peer','relation_type']]\n",
    "\n",
    "caida_ases = set(links['provider_peer'].values)\n",
    "caida_ases.update(links['customer_peer'].values)\n",
    "\n",
    "links['link'] = list(zip(links['provider_peer'], links['customer_peer']))\n",
    "links = links[['link','relation_type']]\n",
    "caida_links = {}\n",
    "for index,row in links.iterrows():\n",
    "    (s,t) = row['link']\n",
    "    rel = row['relation_type']\n",
    "    if rel == 'provider-customer':\n",
    "        caida_links[tuple([s,t])] = rel\n",
    "        caida_links[tuple([t,s])] = 'customer-provider'\n",
    "    else: \n",
    "        if rel == 'peer-peer':\n",
    "            caida_links[tuple([s,t])] = rel\n",
    "            caida_links[tuple([t,s])] = 'peer-peer'\n",
    "        else:\n",
    "            print('Error')"
   ]
  },
  {
   "cell_type": "code",
   "execution_count": 7,
   "metadata": {},
   "outputs": [],
   "source": [
    "caida_graph = nx.Graph()\n",
    "caida_graph.add_nodes_from(caida_ases)\n",
    "for k,v in caida_links.items():\n",
    "    caida_graph.add_edge(k[0],k[1],relation=v)"
   ]
  },
  {
   "cell_type": "code",
   "execution_count": 8,
   "metadata": {},
   "outputs": [
    {
     "name": "stdout",
     "output_type": "stream",
     "text": [
      "The Caida graph contains 64167 nodes and 503651 edges\n"
     ]
    }
   ],
   "source": [
    "print('The Caida graph contains {} nodes and {} edges'.format(len(caida_graph.nodes),len(caida_graph.edges)))"
   ]
  },
  {
   "cell_type": "markdown",
   "metadata": {},
   "source": [
    "# Add intermediary nodes to Ripple Graph"
   ]
  },
  {
   "cell_type": "code",
   "execution_count": 9,
   "metadata": {},
   "outputs": [],
   "source": [
    "for s in ripple_ases:\n",
    "    for t in ripple_ases:\n",
    "        paths = nx.all_shortest_paths(caida_graph,s,t)\n",
    "        for p in paths:\n",
    "            complete_path = [s] + p\n",
    "            for i in range(len(complete_path)-1):\n",
    "                n1 = complete_path[i]\n",
    "                n2 = complete_path[i+1]\n",
    "                if(n1 != n2):\n",
    "                    rel = caida_graph.get_edge_data(n1,n2)['relation']\n",
    "                    ripple_graph.add_edge(complete_path[i],complete_path[i+1], relation=rel)"
   ]
  },
  {
   "cell_type": "code",
   "execution_count": 10,
   "metadata": {},
   "outputs": [
    {
     "name": "stdout",
     "output_type": "stream",
     "text": [
      "The Ripple graph contains 324 nodes and 1284 edges\n"
     ]
    }
   ],
   "source": [
    "print('The Ripple graph contains {} nodes and {} edges'.format(len(ripple_graph.nodes),len(ripple_graph.edges)))"
   ]
  },
  {
   "cell_type": "code",
   "execution_count": 11,
   "metadata": {},
   "outputs": [],
   "source": [
    "nx.set_edge_attributes(ripple_graph, 0, 'weight')"
   ]
  },
  {
   "cell_type": "markdown",
   "metadata": {},
   "source": [
    "# Replay transactions "
   ]
  },
  {
   "cell_type": "code",
   "execution_count": 12,
   "metadata": {},
   "outputs": [],
   "source": [
    "transactions = pd.read_csv('Ripple/transactions_processed.csv', dtype={'sender': str, 'receiver': str, 'amount': np.float64} )\n",
    "transactions = transactions[['sender','receiver','amount']]"
   ]
  },
  {
   "cell_type": "code",
   "execution_count": 13,
   "metadata": {},
   "outputs": [
    {
     "name": "stdout",
     "output_type": "stream",
     "text": [
      "Amount of money used in the graph : 95369733.78499946\n"
     ]
    }
   ],
   "source": [
    "print('Amount of money used in the graph : {}'.format(transactions['amount'].sum()))"
   ]
  },
  {
   "cell_type": "markdown",
   "metadata": {},
   "source": [
    "# Graph Statistics"
   ]
  },
  {
   "cell_type": "markdown",
   "metadata": {},
   "source": [
    "## Are the gateways directly connected?"
   ]
  },
  {
   "cell_type": "code",
   "execution_count": 14,
   "metadata": {},
   "outputs": [
    {
     "name": "stdout",
     "output_type": "stream",
     "text": [
      "There is a link between 4766 and 26496\n",
      "There is a link between 45102 and 19551\n",
      "There is a link between 13335 and 19551\n",
      "There is a link between 14618 and 16509\n",
      "There is a link between 16509 and 14618\n",
      "There is a link between 19551 and 45102\n",
      "There is a link between 13335 and 45102\n",
      "There is a link between 19551 and 13335\n",
      "There is a link between 45102 and 13335\n",
      "There is a link between 26496 and 4766\n"
     ]
    }
   ],
   "source": [
    "for g in ripple_ases:\n",
    "    neighbors = ripple_graph.neighbors(g)\n",
    "    for n in neighbors:\n",
    "        if n in ripple_ases and n != g:\n",
    "            print('There is a link between {} and {}'.format(n,g))"
   ]
  },
  {
   "cell_type": "code",
   "execution_count": 15,
   "metadata": {},
   "outputs": [
    {
     "name": "stderr",
     "output_type": "stream",
     "text": [
      "/usr/local/lib/python3.7/site-packages/networkx/drawing/nx_pylab.py:611: MatplotlibDeprecationWarning: isinstance(..., numbers.Number)\n",
      "  if cb.is_numlike(alpha):\n"
     ]
    },
    {
     "data": {
      "image/png": "[encoded data removed]",
      "text/plain": [
       "<Figure size 432x288 with 1 Axes>"
      ]
     },
     "metadata": {
      "needs_background": "light"
     },
     "output_type": "display_data"
    }
   ],
   "source": [
    "sub = ripple_graph.subgraph(ripple_ases)\n",
    "nx.draw_networkx(sub)"
   ]
  },
  {
   "cell_type": "markdown",
   "metadata": {},
   "source": [
    "## How many transactions are affected by a 'direct connection'?"
   ]
  },
  {
   "cell_type": "code",
   "execution_count": 16,
   "metadata": {},
   "outputs": [
    {
     "name": "stdout",
     "output_type": "stream",
     "text": [
      "# Transactions affected : 6314 out of 22994 - 27%\n",
      "Amount affected : 80443866.41520707 out of 95369733.78499946 - 84%\n"
     ]
    }
   ],
   "source": [
    "count = 0\n",
    "amount = 0\n",
    "for index, row in transactions.iterrows():\n",
    "    sender = row['sender']\n",
    "    receiver = row['receiver']\n",
    "    path = nx.shortest_path(ripple_graph, source=sender, target=receiver)\n",
    "    if (len(path) == 2):\n",
    "        count += 1\n",
    "        amount += row['amount']\n",
    "        \n",
    "print('# Transactions affected : {} out of {} - {:.0%}'.format(count, len(transactions), count/len(transactions)))\n",
    "print('Amount affected : {} out of {} - {:.0%}'.format(amount, transactions['amount'].sum(), amount/transactions['amount'].sum()))"
   ]
  },
  {
   "cell_type": "markdown",
   "metadata": {},
   "source": [
    "As we can see, only 16% of the total amount can be rerouted since there is no intermediary node"
   ]
  },
  {
   "cell_type": "markdown",
   "metadata": {},
   "source": [
    "## How many intermediaries are there between each gateways?"
   ]
  },
  {
   "cell_type": "markdown",
   "metadata": {},
   "source": [
    "### Let's consider the nx algorithm"
   ]
  },
  {
   "cell_type": "code",
   "execution_count": 17,
   "metadata": {},
   "outputs": [
    {
     "name": "stdout",
     "output_type": "stream",
     "text": [
      "Mean number of intermediaries : 1.4952380952380953\n",
      "Standard deviation of intermediaries : 0.8632586052285455\n",
      "There are 14 different intermediaries\n",
      "{'2603', '3356', '6939', '16509', '1299', '2914', '41828', '34779', '7506', '577', '174', '209', '3303', '2906'}\n"
     ]
    }
   ],
   "source": [
    "stats = []\n",
    "intermediaries = set()\n",
    "for source in ripple_ases:\n",
    "    for dest in ripple_ases:\n",
    "        if(source != dest):\n",
    "            path = nx.shortest_path(ripple_graph,source,dest)[1:-1]\n",
    "            intermediaries.update(path)\n",
    "            \n",
    "            stats.append(len(path))\n",
    "            \n",
    "print('Mean number of intermediaries : {}'.format(np.mean(stats)))\n",
    "print('Standard deviation of intermediaries : {}'.format(np.std(stats)))\n",
    "print('There are {} different intermediaries'.format(len(intermediaries)))\n",
    "print(intermediaries)"
   ]
  },
  {
   "cell_type": "code",
   "execution_count": 18,
   "metadata": {},
   "outputs": [
    {
     "name": "stdout",
     "output_type": "stream",
     "text": [
      "Mean number of intermediaries : 1.6459674365770542\n",
      "Standard deviation of intermediaries : 0.8319581225988799\n",
      "There are 310 different intermediaries\n",
      "{'1103', '40191', '14537', '32653', '31500', '20485', '28260', '8426', '41497', '9381', '1267', '12637', '13030', '6667', '12389', '50877', '4637', '13101', '34288', '31424', '6079', '4775', '8447', '577', '12956', '327960', '4826', '19653', '63927', '5392', '10026', '35369', '21320', '29680', '4739', '56730', '136620', '8222', '205206', '12350', '293', '24441', '3741', '6730', '9050', '2018', '4134', '59605', '9044', '12552', '328320', '18106', '8218', '20764', '209', '9957', '2603', '852', '32354', '6082', '3491', '59689', '3549', '53828', '9902', '21859', '62785', '1798', '64050', '263651', '264268', '62240', '16637', '23473', '20013', '58308', '8283', '49463', '6619', '9318', '42541', '29140', '21232', '14361', '3292', '23352', '1916', '14061', '57724', '28634', '20932', '36351', '2381', '37100', '34019', '64463', '24482', '2119', '15412', '52320', '47692', '38880', '20473', '1299', '262317', '8943', '43531', '48362', '37497', '43578', '8359', '9498', '55329', '31742', '199524', '48526', '6663', '34177', '30781', '49788', '3257', '31042', '263674', '53070', '2152', '263075', '6661', '6720', '7660', '2852', '52720', '262757', '59891', '28220', '1853', '25091', '1239', '16347', '19151', '2914', '34779', '60501', '50300', '37468', '39122', '29691', '29791', '3462', '553', '37662', '51405', '13760', '37239', '15605', '9299', '3216', '5769', '25220', '35699', '45352', '9002', '1221', '29075', '3320', '27446', '8220', '1257', '8492', '22356', '22652', '8468', '12576', '28917', '33438', '15547', '20811', '286', '49605', '42708', '28571', '2497', '3267', '4230', '263584', '28186', '262589', '52863', '18101', '6881', '30132', '5650', '47147', '6453', '35266', '264409', '7738', '8607', '23673', '30844', '50629', '16265', '4844', '13237', '202032', '6762', '25160', '9304', '4809', '46450', '8732', '2828', '63956', '37640', '58511', '35280', '20562', '31133', '58299', '29208', '3356', '15435', '9505', '25152', '34224', '14840', '680', '5511', '7575', '50763', '3303', '6461', '33660', '11039', '6939', '328145', '132203', '51873', '12779', '6648', '42473', '8896', '18403', '16276', '23576', '9286', '20940', '2044', '16509', '2516', '2906', '52873', '50304', '15576', '20080', '39326', '4181', '6830', '1273', '38809', '8455', '28329', '5413', '41811', '1836', '1280', '37271', '3212', '198385', '7545', '7922', '11404', '49544', '37049', '264911', '50673', '16477', '8758', '60435', '7506', '58453', '198290', '5645', '4651', '7474', '3223', '1403', '41095', '37697', '32934', '51185', '197595', '12874', '23106', '29226', '174', '12859', '11666', '7473', '11686', '14907', '3786', '12713', '53067', '41828', '2905', '4755', '33891', '26415', '16735', '37680'}\n"
     ]
    }
   ],
   "source": [
    "stats = []\n",
    "intermediaries = set()\n",
    "for source in ripple_ases:\n",
    "    for dest in ripple_ases:\n",
    "        if(source != dest):\n",
    "            paths = nx.all_shortest_paths(ripple_graph,source,dest)\n",
    "            for p in paths:\n",
    "                path = p[1:-1]\n",
    "                intermediaries.update(path)\n",
    "                stats.append(len(path))\n",
    "                \n",
    "            \n",
    "print('Mean number of intermediaries : {}'.format(np.mean(stats)))\n",
    "print('Standard deviation of intermediaries : {}'.format(np.std(stats)))\n",
    "print('There are {} different intermediaries'.format(len(intermediaries)))\n",
    "print(intermediaries)"
   ]
  },
  {
   "cell_type": "markdown",
   "metadata": {},
   "source": [
    "### Let's consider the tie-breaker customer > peer > provider"
   ]
  },
  {
   "cell_type": "code",
   "execution_count": 19,
   "metadata": {},
   "outputs": [],
   "source": [
    "def rel_type(rel):\n",
    "    if (rel == 'customer-provider'):\n",
    "        return 2\n",
    "    if (rel == 'peer-peer'):\n",
    "        return 1\n",
    "    if (rel == 'provider-customer'):\n",
    "        return 0\n",
    "    return None"
   ]
  },
  {
   "cell_type": "code",
   "execution_count": 20,
   "metadata": {},
   "outputs": [],
   "source": [
    "def compare_rel(paths, index, ripple_graph):\n",
    "    best_p = []\n",
    "    best_rel = 3\n",
    "    for p in paths:\n",
    "        start = p[index]\n",
    "        end = p[index+1]\n",
    "        rel = rel_type(ripple_graph.get_edge_data(start,end)['relation'])\n",
    "        if (rel < best_rel):\n",
    "            best_p = [p]\n",
    "            best_rel = rel\n",
    "        elif (rel == best_rel):\n",
    "            best_p.append(p)\n",
    "    return best_p"
   ]
  },
  {
   "cell_type": "code",
   "execution_count": 21,
   "metadata": {},
   "outputs": [],
   "source": [
    "def select_best(source, dest, ripple_graph):\n",
    "    paths = list(nx.all_shortest_paths(ripple_graph,source,dest))\n",
    "    ## If only one path, return it\n",
    "    if(type(paths[0]) == str):\n",
    "        return paths\n",
    "    \n",
    "    ## Assume all paths have same length\n",
    "    l = len(paths[0])\n",
    "    temp_paths = paths\n",
    "    for i in range(0,l-1):\n",
    "        temp_paths = compare_rel(temp_paths, i, ripple_graph)\n",
    "    \n",
    "    if (len(temp_paths) >= 1):\n",
    "        return temp_paths[0]\n",
    "    return temp_paths"
   ]
  },
  {
   "cell_type": "code",
   "execution_count": 22,
   "metadata": {},
   "outputs": [
    {
     "name": "stdout",
     "output_type": "stream",
     "text": [
      "Mean number of intermediaries : 1.4952380952380953\n",
      "Standard deviation of intermediaries : 0.8632586052285455\n",
      "There are 24 different intermediaries\n",
      "{'7506', '577', '174', '7473', '16509', '4826', '1299', '41828', '209', '2906', '2603', '16265', '3267', '852', '2914', '34779', '4637', '3303', '6461', '4739', '4181', '6939', '2828', '1273'}\n"
     ]
    }
   ],
   "source": [
    "stats = []\n",
    "intermediaries = set()\n",
    "for source in ripple_ases:\n",
    "    for dest in ripple_ases:\n",
    "        if(source != dest):\n",
    "            path = select_best(source,dest,ripple_graph)[1:-1]\n",
    "            intermediaries.update(path)\n",
    "            \n",
    "            stats.append(len(path))\n",
    "            \n",
    "print('Mean number of intermediaries : {}'.format(np.mean(stats)))\n",
    "print('Standard deviation of intermediaries : {}'.format(np.std(stats)))\n",
    "print('There are {} different intermediaries'.format(len(intermediaries)))\n",
    "print(intermediaries)"
   ]
  },
  {
   "cell_type": "markdown",
   "metadata": {},
   "source": [
    "# Precomputations"
   ]
  },
  {
   "cell_type": "code",
   "execution_count": 23,
   "metadata": {},
   "outputs": [],
   "source": [
    "best_paths = {}\n",
    "for source in ripple_graph.nodes:\n",
    "    for dest in ripple_graph.nodes:\n",
    "        if(source != dest):\n",
    "            path = select_best(source,dest,ripple_graph)\n",
    "            best_paths[(source,dest)] = path"
   ]
  },
  {
   "cell_type": "markdown",
   "metadata": {},
   "source": [
    "# What if we remove one node?"
   ]
  },
  {
   "cell_type": "markdown",
   "metadata": {},
   "source": [
    "## Consider tie-breaker customer > peer > provider"
   ]
  },
  {
   "cell_type": "code",
   "execution_count": 24,
   "metadata": {},
   "outputs": [],
   "source": [
    "def replay_transactions_remove(transactions, corrupted_graph, complete_graph):\n",
    "    amount_ok = 0\n",
    "    amount_lost = 0\n",
    "    amount_rerouted = 0\n",
    "        \n",
    "    for index, row in transactions.iterrows():\n",
    "        sender = row['sender']\n",
    "        receiver = row['receiver']\n",
    "        try :\n",
    "            amount = row['amount']\n",
    "            path_corrupted = select_best(sender,receiver,corrupted_graph)\n",
    "            \n",
    "            #path_ok = select_best(list(nx.all_shortest_paths(complete_graph,sender,receiver)))\n",
    "            path_ok = best_paths[(sender,receiver)]\n",
    "            if (path_corrupted == path_ok):\n",
    "                amount_ok += amount\n",
    "            else:\n",
    "                amount_rerouted += amount\n",
    "        except:\n",
    "            #print('No path between {} and {}'.format(sender,receiver))\n",
    "            amount_lost += amount\n",
    "    return amount_ok, amount_lost, amount_rerouted"
   ]
  },
  {
   "cell_type": "code",
   "execution_count": 25,
   "metadata": {},
   "outputs": [],
   "source": [
    "#df_corrupted = pd.DataFrame(columns=['corrupted', 'amount_ok', 'amount_lost', 'amount_rerouted'])"
   ]
  },
  {
   "cell_type": "code",
   "execution_count": 27,
   "metadata": {
    "scrolled": false
   },
   "outputs": [],
   "source": [
    "#for c in ripple_graph.nodes:\n",
    "#    corrupted_graph = ripple_graph.copy()\n",
    "#    corrupted_graph.remove_node(c)\n",
    "#    amount_ok, amount_lost, amount_rerouted = replay_transactions_remove(transactions, corrupted_graph, ripple_graph)\n",
    "#    df_corrupted = df_corrupted.append({'corrupted': c, 'amount_ok': amount_ok, 'amount_lost': amount_lost, 'amount_rerouted': amount_rerouted}, ignore_index=True)"
   ]
  },
  {
   "cell_type": "code",
   "execution_count": 28,
   "metadata": {},
   "outputs": [],
   "source": [
    "#df_corrupted.set_index('corrupted').to_csv('statistics_remove_cpp.csv')"
   ]
  },
  {
   "cell_type": "code",
   "execution_count": 29,
   "metadata": {},
   "outputs": [],
   "source": [
    "df_corrupted = pd.read_csv('statistics_remove_cpp.csv', index_col='corrupted')"
   ]
  },
  {
   "cell_type": "code",
   "execution_count": 30,
   "metadata": {},
   "outputs": [
    {
     "data": {
      "text/plain": [
       "<matplotlib.axes._subplots.AxesSubplot at 0x117c5ef98>"
      ]
     },
     "execution_count": 30,
     "metadata": {},
     "output_type": "execute_result"
    },
    {
     "data": {
      "image/png": "[encoded data removed]",
      "text/plain": [
       "<Figure size 432x288 with 1 Axes>"
      ]
     },
     "metadata": {
      "needs_background": "light"
     },
     "output_type": "display_data"
    }
   ],
   "source": [
    "df_corrupted['amount_lost'].apply(lambda x: x*100/transactions['amount'].sum()).sort_values(ascending=False).head(10).to_frame().plot.bar()"
   ]
  },
  {
   "cell_type": "code",
   "execution_count": 31,
   "metadata": {},
   "outputs": [
    {
     "data": {
      "text/plain": [
       "<matplotlib.axes._subplots.AxesSubplot at 0x127becf28>"
      ]
     },
     "execution_count": 31,
     "metadata": {},
     "output_type": "execute_result"
    },
    {
     "data": {
      "image/png": "[encoded data removed]",
      "text/plain": [
       "<Figure size 432x288 with 1 Axes>"
      ]
     },
     "metadata": {
      "needs_background": "light"
     },
     "output_type": "display_data"
    }
   ],
   "source": [
    "df_corrupted['amount_rerouted'].apply(lambda x: x*100/transactions['amount'].sum()).sort_values(ascending=False).head(10).to_frame().plot.bar()"
   ]
  },
  {
   "cell_type": "markdown",
   "metadata": {},
   "source": [
    "# What if there is BGP hijacking?"
   ]
  },
  {
   "cell_type": "code",
   "execution_count": 32,
   "metadata": {},
   "outputs": [],
   "source": [
    "def replay_transactions_hijack(transactions, corrupted_node, complete_graph):\n",
    "    amount_ok = 0\n",
    "    amount_lost = 0\n",
    "    amount_rerouted = 0\n",
    "    for index, row in transactions.iterrows():\n",
    "        sender = row['sender']\n",
    "        receiver = row['receiver']\n",
    "        \n",
    "        if(corrupted_node != sender and corrupted_node != receiver):\n",
    "            try :\n",
    "                amount = row['amount']\n",
    "                #path_ok = select_best(list(nx.all_shortest_paths(complete_graph,sender,receiver)))\n",
    "                path_ok = best_paths[(sender,receiver)]\n",
    "\n",
    "                #path_to_corrupted = select_best(list(nx.all_shortest_paths(complete_graph, sender, corrupted_node)))\n",
    "                #path_from_corrupted = select_best(list(nx.all_shortest_paths(complete_graph, corrupted_node, receiver)))\n",
    "                path_corrupted = best_paths[(sender, corrupted_node)]\n",
    "                \n",
    "                if (len(path_corrupted) + 1 > len(path_ok)):\n",
    "                    amount_ok += amount\n",
    "                else:\n",
    "                    amount_rerouted += amount\n",
    "            except:\n",
    "                #print('No path between {} and {}'.format(sender,receiver))\n",
    "                amount_lost += amount\n",
    "    return amount_ok, amount_lost, amount_rerouted"
   ]
  },
  {
   "cell_type": "code",
   "execution_count": 33,
   "metadata": {},
   "outputs": [],
   "source": [
    "df_corrupted = pd.DataFrame(columns=['corrupted', 'amount_ok', 'amount_lost', 'amount_rerouted'])"
   ]
  },
  {
   "cell_type": "code",
   "execution_count": 34,
   "metadata": {},
   "outputs": [],
   "source": [
    "for c in ripple_graph.nodes:\n",
    "    amount_ok, amount_lost, amount_rerouted = replay_transactions_hijack(transactions, c, ripple_graph)\n",
    "    df_corrupted = df_corrupted.append({'corrupted': c, 'amount_ok': amount_ok, 'amount_lost': amount_lost, 'amount_rerouted': amount_rerouted}, ignore_index=True)"
   ]
  },
  {
   "cell_type": "code",
   "execution_count": 35,
   "metadata": {},
   "outputs": [],
   "source": [
    "df_corrupted.set_index('corrupted').to_csv('statistics_hijack_cpp.csv')"
   ]
  },
  {
   "cell_type": "code",
   "execution_count": 36,
   "metadata": {},
   "outputs": [],
   "source": [
    "df_corrupted = pd.read_csv('statistics_hijack_cpp.csv', index_col='corrupted')"
   ]
  },
  {
   "cell_type": "code",
   "execution_count": 37,
   "metadata": {
    "scrolled": true
   },
   "outputs": [
    {
     "data": {
      "text/plain": [
       "<matplotlib.axes._subplots.AxesSubplot at 0x127ab5c50>"
      ]
     },
     "execution_count": 37,
     "metadata": {},
     "output_type": "execute_result"
    },
    {
     "data": {
      "image/png": "[encoded data removed]",
      "text/plain": [
       "<Figure size 432x288 with 1 Axes>"
      ]
     },
     "metadata": {
      "needs_background": "light"
     },
     "output_type": "display_data"
    }
   ],
   "source": [
    "df_corrupted['amount_rerouted'].apply(lambda x: x*100/transactions['amount'].sum()).sort_values(ascending=False).head(100).to_frame().plot.bar()"
   ]
  },
  {
   "cell_type": "code",
   "execution_count": null,
   "metadata": {},
   "outputs": [],
   "source": []
  }
 ],
 "metadata": {
  "kernelspec": {
   "display_name": "Python 3",
   "language": "python",
   "name": "python3"
  },
  "language_info": {
   "codemirror_mode": {
    "name": "ipython",
    "version": 3
   },
   "file_extension": ".py",
   "mimetype": "text/x-python",
   "name": "python",
   "nbconvert_exporter": "python",
   "pygments_lexer": "ipython3",
   "version": "3.7.3"
  }
 },
 "nbformat": 4,
 "nbformat_minor": 2
}
