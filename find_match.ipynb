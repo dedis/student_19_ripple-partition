{
 "cells": [
  {
   "cell_type": "code",
   "execution_count": 1,
   "metadata": {},
   "outputs": [],
   "source": [
    "import pandas as pd\n",
    "import numpy as np\n",
    "import networkx as nx\n",
    "import matplotlib.pyplot as plt\n",
    "import csv"
   ]
  },
  {
   "cell_type": "markdown",
   "metadata": {},
   "source": [
    "# Recover Ripple Graph"
   ]
  },
  {
   "cell_type": "code",
   "execution_count": 2,
   "metadata": {},
   "outputs": [],
   "source": [
    "def recover_links_ases(filename):\n",
    "    links = set()\n",
    "    ases = set()\n",
    "    with open(filename) as csv_file:\n",
    "        csv_reader = csv.reader(csv_file, delimiter=',')\n",
    "        for row in csv_reader:\n",
    "            l = tuple(row)\n",
    "            links.add(l)\n",
    "            ases.add(l[0])\n",
    "            ases.add(l[1])\n",
    "    return ases,links"
   ]
  },
  {
   "cell_type": "code",
   "execution_count": 3,
   "metadata": {},
   "outputs": [],
   "source": [
    "ripple_ases, ripple_links = recover_links_ases('Ripple/gateway_links.csv')"
   ]
  },
  {
   "cell_type": "code",
   "execution_count": 4,
   "metadata": {},
   "outputs": [],
   "source": [
    "ripple_graph = nx.Graph()\n",
    "ripple_graph.add_nodes_from(ripple_ases)"
   ]
  },
  {
   "cell_type": "code",
   "execution_count": 5,
   "metadata": {},
   "outputs": [
    {
     "name": "stdout",
     "output_type": "stream",
     "text": [
      "The Ripple graph contains 15 nodes\n"
     ]
    }
   ],
   "source": [
    "print('The Ripple graph contains {} nodes'.format(len(ripple_graph.nodes)))"
   ]
  },
  {
   "cell_type": "markdown",
   "metadata": {},
   "source": [
    "# Recover Caida Graph"
   ]
  },
  {
   "cell_type": "code",
   "execution_count": 6,
   "metadata": {},
   "outputs": [
    {
     "name": "stderr",
     "output_type": "stream",
     "text": [
      "/usr/local/lib/python3.7/site-packages/ipykernel_launcher.py:10: SettingWithCopyWarning: \n",
      "A value is trying to be set on a copy of a slice from a DataFrame.\n",
      "Try using .loc[row_indexer,col_indexer] = value instead\n",
      "\n",
      "See the caveats in the documentation: http://pandas.pydata.org/pandas-docs/stable/indexing.html#indexing-view-versus-copy\n",
      "  # Remove the CWD from sys.path while we load stuff.\n"
     ]
    }
   ],
   "source": [
    "data = pd.read_csv('Caida/20190301.as-rel2.txt',delimiter='\\n', comment='#', header=None, encoding='ISO-8859-1')\n",
    "\n",
    "data['provider_peer'], data['customer_peer'], data['relation_type'], data['source'] = data[0].str.split('|').str\n",
    "data['relation_type']  = data['relation_type'].apply(lambda x: 'provider-customer' if x == '-1' else 'peer-peer')\n",
    "links = data[['provider_peer','customer_peer','relation_type']]\n",
    "\n",
    "caida_ases = set(links['provider_peer'].values)\n",
    "caida_ases.update(links['customer_peer'].values)\n",
    "\n",
    "links['link'] = list(zip(links['provider_peer'], links['customer_peer']))\n",
    "links = links[['link','relation_type']]\n",
    "caida_links = {}\n",
    "for index,row in links.iterrows():\n",
    "    (s,t) = row['link']\n",
    "    rel = row['relation_type']\n",
    "    if rel == 'provider-customer':\n",
    "        caida_links[tuple([s,t])] = rel\n",
    "        caida_links[tuple([t,s])] = 'customer-provider'\n",
    "    else: \n",
    "        if rel == 'peer-peer':\n",
    "            caida_links[tuple([s,t])] = rel\n",
    "            caida_links[tuple([t,s])] = 'peer-peer'\n",
    "        else:\n",
    "            print('Error')"
   ]
  },
  {
   "cell_type": "code",
   "execution_count": 7,
   "metadata": {},
   "outputs": [],
   "source": [
    "caida_graph = nx.Graph()\n",
    "caida_graph.add_nodes_from(caida_ases)\n",
    "for k,v in caida_links.items():\n",
    "    caida_graph.add_edge(k[0],k[1])"
   ]
  },
  {
   "cell_type": "code",
   "execution_count": 8,
   "metadata": {},
   "outputs": [
    {
     "name": "stdout",
     "output_type": "stream",
     "text": [
      "The Caida graph contains 64167 nodes and 503651 edges\n"
     ]
    }
   ],
   "source": [
    "print('The Caida graph contains {} nodes and {} edges'.format(len(caida_graph.nodes),len(caida_graph.edges)))"
   ]
  },
  {
   "cell_type": "markdown",
   "metadata": {},
   "source": [
    "# Add intermediary nodes to Ripple Graph"
   ]
  },
  {
   "cell_type": "code",
   "execution_count": 9,
   "metadata": {},
   "outputs": [],
   "source": [
    "def shortest_paths(s,t,G):\n",
    "    actual_paths = []\n",
    "    paths = nx.all_shortest_paths(G,s,t)\n",
    "    for path in paths:\n",
    "        actual_path = []\n",
    "        for i in range(len(path)-1):\n",
    "            l = tuple([path[i],path[i+1]])\n",
    "            actual_path.append(l)\n",
    "        actual_paths.append(actual_path)\n",
    "    return actual_paths"
   ]
  },
  {
   "cell_type": "code",
   "execution_count": 10,
   "metadata": {},
   "outputs": [],
   "source": [
    "for s in ripple_ases:\n",
    "    for t in ripple_ases:\n",
    "        paths = nx.all_shortest_paths(caida_graph,s,t)\n",
    "        for p in paths:\n",
    "            complete_path = [s] + p\n",
    "            for i in range(len(complete_path)-1):\n",
    "                ripple_graph.add_edge(complete_path[i],complete_path[i+1])"
   ]
  },
  {
   "cell_type": "code",
   "execution_count": 11,
   "metadata": {},
   "outputs": [
    {
     "name": "stdout",
     "output_type": "stream",
     "text": [
      "The Ripple graph contains 324 nodes and 1299 edges\n"
     ]
    }
   ],
   "source": [
    "print('The Ripple graph contains {} nodes and {} edges'.format(len(ripple_graph.nodes),len(ripple_graph.edges)))"
   ]
  },
  {
   "cell_type": "code",
   "execution_count": 12,
   "metadata": {},
   "outputs": [],
   "source": [
    "nx.set_edge_attributes(ripple_graph, 0, 'weight')"
   ]
  },
  {
   "cell_type": "markdown",
   "metadata": {},
   "source": [
    "# Replay transactions "
   ]
  },
  {
   "cell_type": "code",
   "execution_count": 13,
   "metadata": {},
   "outputs": [],
   "source": [
    "transactions = pd.read_csv('Ripple/transactions_processed.csv', dtype={'sender': str, 'receiver': str, 'amount': np.float64} )\n",
    "transactions = transactions[['sender','receiver','amount']]"
   ]
  },
  {
   "cell_type": "code",
   "execution_count": 14,
   "metadata": {},
   "outputs": [
    {
     "name": "stdout",
     "output_type": "stream",
     "text": [
      "Amount of money used in the graph : 95369733.78499946\n"
     ]
    }
   ],
   "source": [
    "print('Amount of money used in the graph : {}'.format(transactions['amount'].sum()))"
   ]
  },
  {
   "cell_type": "markdown",
   "metadata": {},
   "source": [
    "# Graph Statistics"
   ]
  },
  {
   "cell_type": "markdown",
   "metadata": {},
   "source": [
    "## Are the gateways directly connected?"
   ]
  },
  {
   "cell_type": "code",
   "execution_count": 15,
   "metadata": {},
   "outputs": [
    {
     "name": "stdout",
     "output_type": "stream",
     "text": [
      "There is a link between 13335 and 45102\n",
      "There is a link between 19551 and 45102\n",
      "There is a link between 4766 and 26496\n",
      "There is a link between 14618 and 16509\n",
      "There is a link between 26496 and 4766\n",
      "There is a link between 16509 and 14618\n",
      "There is a link between 45102 and 13335\n",
      "There is a link between 19551 and 13335\n",
      "There is a link between 45102 and 19551\n",
      "There is a link between 13335 and 19551\n"
     ]
    }
   ],
   "source": [
    "for g in ripple_ases:\n",
    "    neighbors = ripple_graph.neighbors(g)\n",
    "    for n in neighbors:\n",
    "        if n in ripple_ases and n != g:\n",
    "            print('There is a link between {} and {}'.format(n,g))"
   ]
  },
  {
   "cell_type": "code",
   "execution_count": 16,
   "metadata": {},
   "outputs": [
    {
     "name": "stderr",
     "output_type": "stream",
     "text": [
      "/usr/local/lib/python3.7/site-packages/networkx/drawing/nx_pylab.py:611: MatplotlibDeprecationWarning: isinstance(..., numbers.Number)\n",
      "  if cb.is_numlike(alpha):\n"
     ]
    },
    {
     "data": {
      "image/png": "[encoded data removed]",
      "text/plain": [
       "<Figure size 432x288 with 1 Axes>"
      ]
     },
     "metadata": {
      "needs_background": "light"
     },
     "output_type": "display_data"
    }
   ],
   "source": [
    "sub = ripple_graph.subgraph(ripple_ases)\n",
    "nx.draw_networkx(sub)"
   ]
  },
  {
   "cell_type": "markdown",
   "metadata": {},
   "source": [
    "## How many transactions are affected by a 'direct connection'?"
   ]
  },
  {
   "cell_type": "code",
   "execution_count": 17,
   "metadata": {},
   "outputs": [
    {
     "name": "stdout",
     "output_type": "stream",
     "text": [
      "# Transactions affected : 6314 out of 22994 - 27%\n",
      "Amount affected : 80443866.41520707 out of 95369733.78499946 - 84%\n"
     ]
    }
   ],
   "source": [
    "count = 0\n",
    "amount = 0\n",
    "for index, row in transactions.iterrows():\n",
    "    sender = row['sender']\n",
    "    receiver = row['receiver']\n",
    "    path = nx.shortest_path(ripple_graph, source=sender, target=receiver)\n",
    "    if (len(path) == 2):\n",
    "        count += 1\n",
    "        amount += row['amount']\n",
    "        \n",
    "print('# Transactions affected : {} out of {} - {:.0%}'.format(count, len(transactions), count/len(transactions)))\n",
    "print('Amount affected : {} out of {} - {:.0%}'.format(amount, transactions['amount'].sum(), amount/transactions['amount'].sum()))"
   ]
  },
  {
   "cell_type": "markdown",
   "metadata": {},
   "source": [
    "As we can see, only 16% of the total amount can be rerouted since there is no intermediary node"
   ]
  },
  {
   "cell_type": "markdown",
   "metadata": {},
   "source": [
    "## How many intermediaries are there between each gateways?"
   ]
  },
  {
   "cell_type": "markdown",
   "metadata": {},
   "source": [
    "### Let's consider the nx algorithm"
   ]
  },
  {
   "cell_type": "code",
   "execution_count": 18,
   "metadata": {},
   "outputs": [
    {
     "name": "stdout",
     "output_type": "stream",
     "text": [
      "Mean number of intermediaries : 1.4952380952380953\n",
      "There are 13 different intermediaries\n",
      "{'6939', '2914', '16509', '3223', '1273', '174', '1299', '1103', '34779', '209', '3356', '7506', '41828'}\n"
     ]
    }
   ],
   "source": [
    "total = 0\n",
    "count = 0\n",
    "intermediaries = set()\n",
    "for source in ripple_ases:\n",
    "    for dest in ripple_ases:\n",
    "        if(source != dest):\n",
    "            path = nx.shortest_path(ripple_graph,source,dest)[1:-1]\n",
    "            intermediaries.update(path)\n",
    "            \n",
    "            total += len(path)\n",
    "            count += 1\n",
    "            \n",
    "print('Mean number of intermediaries : {}'.format(total/count))\n",
    "print('There are {} different intermediaries'.format(len(intermediaries)))\n",
    "print(intermediaries)"
   ]
  },
  {
   "cell_type": "code",
   "execution_count": 19,
   "metadata": {},
   "outputs": [
    {
     "name": "stdout",
     "output_type": "stream",
     "text": [
      "Mean number of intermediaries : 1.6459674365770542\n",
      "There are 310 different intermediaries\n",
      "{'205206', '29691', '12637', '8732', '3223', '6453', '40191', '37049', '28571', '198290', '34779', '262757', '577', '2381', '20080', '60435', '12350', '24441', '15435', '174', '11039', '7575', '14361', '132203', '3786', '18101', '9318', '38880', '41828', '27446', '37662', '327960', '8455', '19653', '4637', '8222', '20485', '8896', '4755', '6762', '13030', '1267', '6082', '20013', '1280', '39326', '4844', '16347', '6720', '5511', '1273', '5650', '28634', '41811', '7922', '21232', '852', '293', '20940', '16735', '4809', '48362', '62240', '59605', '49463', '9381', '29791', '3356', '5645', '30844', '12779', '7660', '197595', '36351', '16637', '2905', '3741', '1239', '198385', '3267', '58308', '18106', '57724', '2516', '9050', '1221', '55329', '52873', '51873', '37680', '3216', '63956', '49544', '25160', '35699', '6619', '23576', '43578', '50629', '9002', '9299', '262317', '12859', '50304', '37271', '32934', '9902', '56730', '47147', '9498', '28220', '18403', '8758', '53828', '16477', '2852', '39122', '9304', '35266', '9505', '4134', '7473', '37100', '13101', '37640', '49788', '15605', '199524', '6661', '8359', '34224', '4181', '43531', '14061', '20473', '64463', '53070', '37239', '8607', '63927', '15576', '4775', '3549', '51405', '21859', '22356', '38809', '6830', '22652', '12552', '34019', '8220', '2044', '202032', '286', '1916', '52863', '33891', '50877', '8447', '262589', '30132', '11666', '136620', '5413', '8426', '58453', '29140', '28260', '20932', '59689', '2497', '11404', '23673', '8943', '7506', '6663', '11686', '8218', '37697', '52320', '29680', '13760', '6461', '6881', '1257', '53067', '7738', '12389', '3491', '23106', '2828', '2914', '26415', '209', '50763', '1836', '58511', '45352', '34288', '41095', '10026', '263651', '46450', '31424', '13237', '30781', '25152', '37468', '1853', '25220', '12713', '9957', '37497', '47692', '14907', '48526', '64050', '4826', '29208', '264911', '32653', '328320', '31742', '35369', '7474', '2906', '4651', '3292', '32354', '29075', '28186', '1403', '9286', '20764', '50300', '6939', '8468', '6667', '51185', '16276', '58299', '42541', '60501', '15547', '3320', '42708', '20811', '15412', '20562', '263075', '62785', '3257', '264268', '8283', '1103', '1798', '5392', '6079', '49605', '29226', '328145', '31133', '14840', '23352', '553', '8492', '28329', '12956', '19151', '264409', '7545', '31500', '31042', '41497', '3212', '263584', '2603', '9044', '4230', '2152', '28917', '5769', '1299', '33438', '263674', '52720', '3303', '33660', '4739', '23473', '42473', '16509', '14537', '3462', '16265', '34177', '12874', '12576', '21320', '24482', '680', '59891', '2018', '2119', '35280', '50673', '6648', '6730', '25091'}\n"
     ]
    }
   ],
   "source": [
    "total = 0\n",
    "count = 0\n",
    "intermediaries = set()\n",
    "for source in ripple_ases:\n",
    "    for dest in ripple_ases:\n",
    "        if(source != dest):\n",
    "            paths = nx.all_shortest_paths(ripple_graph,source,dest)\n",
    "            for p in paths:\n",
    "                path = p[1:-1]\n",
    "                intermediaries.update(path)\n",
    "                total += len(path)\n",
    "                count += 1\n",
    "            \n",
    "print('Mean number of intermediaries : {}'.format(total/count))\n",
    "print('There are {} different intermediaries'.format(len(intermediaries)))\n",
    "print(intermediaries)"
   ]
  },
  {
   "cell_type": "markdown",
   "metadata": {},
   "source": [
    "### Let's consider the tie-breaker customer > peer > provider"
   ]
  },
  {
   "cell_type": "code",
   "execution_count": 20,
   "metadata": {},
   "outputs": [],
   "source": [
    "def rel_type(rel):\n",
    "    if (rel == 'customer-provider'):\n",
    "        return 2\n",
    "    if (rel == 'peer-peer'):\n",
    "        return 1\n",
    "    if (rel == 'provider-customer'):\n",
    "        return 0\n",
    "    return None"
   ]
  },
  {
   "cell_type": "code",
   "execution_count": 21,
   "metadata": {},
   "outputs": [],
   "source": [
    "def compare_rel(paths, index):\n",
    "    best_p = []\n",
    "    best_rel = 3\n",
    "    for p in paths:\n",
    "        start = p[index]\n",
    "        end = p[index+1]\n",
    "        rel = rel_type(caida_links[(start,end)])\n",
    "        if (rel < best_rel):\n",
    "            best_p = [p]\n",
    "            best_rel = rel\n",
    "        elif (rel == best_rel):\n",
    "            best_p.append(p)\n",
    "    return best_p"
   ]
  },
  {
   "cell_type": "code",
   "execution_count": 22,
   "metadata": {},
   "outputs": [],
   "source": [
    "def select_best(paths):\n",
    "    ## If only one path, return it\n",
    "    if(type(paths[0]) == str):\n",
    "        return paths\n",
    "    \n",
    "    ## Assume all paths have same length\n",
    "    l = len(paths[0])\n",
    "    temp_paths = paths\n",
    "    for i in range(0,l-1):\n",
    "        temp_paths = compare_rel(temp_paths, i)\n",
    "    \n",
    "    if (len(temp_paths) >= 1):\n",
    "        return temp_paths[0]\n",
    "    return temp_paths"
   ]
  },
  {
   "cell_type": "code",
   "execution_count": 23,
   "metadata": {},
   "outputs": [
    {
     "name": "stdout",
     "output_type": "stream",
     "text": [
      "Mean number of intermediaries : 1.4952380952380953\n",
      "There are 39 different intermediaries\n",
      "{'2914', '15412', '174', '33891', '7506', '62785', '4775', '4739', '57724', '6663', '20013', '12637', '3223', '16509', '3212', '5511', '1273', '2516', '3462', '9957', '9286', '16265', '7473', '37100', '41828', '2603', '6939', '6461', '10026', '4826', '34779', '4637', '3267', '1299', '60435', '2497', '6762', '16477', '2828'}\n"
     ]
    }
   ],
   "source": [
    "total = 0\n",
    "count = 0\n",
    "intermediaries = set()\n",
    "for source in ripple_ases:\n",
    "    for dest in ripple_ases:\n",
    "        if(source != dest):\n",
    "            path = select_best(list(nx.all_shortest_paths(ripple_graph,source,dest)))[1:-1]\n",
    "            intermediaries.update(path)\n",
    "            \n",
    "            total += len(path)\n",
    "            count += 1\n",
    "            \n",
    "print('Mean number of intermediaries : {}'.format(total/count))\n",
    "print('There are {} different intermediaries'.format(len(intermediaries)))\n",
    "print(intermediaries)"
   ]
  },
  {
   "cell_type": "markdown",
   "metadata": {},
   "source": [
    "# Precomputations"
   ]
  },
  {
   "cell_type": "code",
   "execution_count": 24,
   "metadata": {},
   "outputs": [],
   "source": [
    "best_paths = {}\n",
    "for source in ripple_graph.nodes:\n",
    "    for dest in ripple_graph.nodes:\n",
    "        if(source != dest):\n",
    "            path = select_best(list(nx.all_shortest_paths(ripple_graph,source,dest)))\n",
    "            best_paths[(source,dest)] = path"
   ]
  },
  {
   "cell_type": "markdown",
   "metadata": {},
   "source": [
    "# What if we remove one node?"
   ]
  },
  {
   "cell_type": "markdown",
   "metadata": {},
   "source": [
    "## Consider tie-breaker customer > peer > provider"
   ]
  },
  {
   "cell_type": "code",
   "execution_count": 25,
   "metadata": {},
   "outputs": [],
   "source": [
    "def precompute_best_corrupted(corrupted_graph):\n",
    "    best_paths = {}\n",
    "    for source in corrupted_graph.nodes:\n",
    "        for dest in corrupted_graph.nodes:\n",
    "            if(source != dest):\n",
    "                path = select_best(list(nx.all_shortest_paths(ripple_graph,source,dest)))\n",
    "                best_paths[(source,dest)] = path\n",
    "    return best_paths"
   ]
  },
  {
   "cell_type": "code",
   "execution_count": 26,
   "metadata": {},
   "outputs": [],
   "source": [
    "def replay_transactions_remove(transactions, corrupted_graph, complete_graph):\n",
    "    amount_ok = 0\n",
    "    amount_lost = 0\n",
    "    amount_rerouted = 0\n",
    "        \n",
    "    for index, row in transactions.iterrows():\n",
    "        sender = row['sender']\n",
    "        receiver = row['receiver']\n",
    "        try :\n",
    "            amount = row['amount']\n",
    "            path_corrupted = select_best(list(nx.all_shortest_paths(corrupted_graph,sender,receiver)))\n",
    "            \n",
    "            #path_ok = select_best(list(nx.all_shortest_paths(complete_graph,sender,receiver)))\n",
    "            path_ok = best_paths[(sender,receiver)]\n",
    "            if (path_corrupted == path_ok):\n",
    "                amount_ok += amount\n",
    "            else:\n",
    "                amount_rerouted += amount\n",
    "        except:\n",
    "            #print('No path between {} and {}'.format(sender,receiver))\n",
    "            amount_lost += amount\n",
    "    return amount_ok, amount_lost, amount_rerouted"
   ]
  },
  {
   "cell_type": "code",
   "execution_count": 27,
   "metadata": {},
   "outputs": [],
   "source": [
    "#df_corrupted = pd.DataFrame(columns=['corrupted', 'amount_ok', 'amount_lost', 'amount_rerouted'])"
   ]
  },
  {
   "cell_type": "code",
   "execution_count": 28,
   "metadata": {
    "scrolled": false
   },
   "outputs": [],
   "source": [
    "#for c in ripple_graph.nodes:\n",
    "#    corrupted_graph = ripple_graph.copy()\n",
    "#    corrupted_graph.remove_node(c)\n",
    "#    amount_ok, amount_lost, amount_rerouted = replay_transactions_remove(transactions, corrupted_graph, ripple_graph)\n",
    "#    df_corrupted = df_corrupted.append({'corrupted': c, 'amount_ok': amount_ok, 'amount_lost': amount_lost, 'amount_rerouted': amount_rerouted}, ignore_index=True)"
   ]
  },
  {
   "cell_type": "code",
   "execution_count": 29,
   "metadata": {},
   "outputs": [],
   "source": [
    "#df_corrupted.set_index('corrupted').to_csv('statistics_remove_cpp.csv')"
   ]
  },
  {
   "cell_type": "code",
   "execution_count": 30,
   "metadata": {},
   "outputs": [],
   "source": [
    "df_corrupted = pd.read_csv('statistics_remove_cpp.csv', index_col='corrupted')"
   ]
  },
  {
   "cell_type": "code",
   "execution_count": 31,
   "metadata": {},
   "outputs": [
    {
     "data": {
      "text/plain": [
       "<matplotlib.axes._subplots.AxesSubplot at 0x124c375f8>"
      ]
     },
     "execution_count": 31,
     "metadata": {},
     "output_type": "execute_result"
    },
    {
     "data": {
      "image/png": "[encoded data removed]",
      "text/plain": [
       "<Figure size 432x288 with 1 Axes>"
      ]
     },
     "metadata": {
      "needs_background": "light"
     },
     "output_type": "display_data"
    }
   ],
   "source": [
    "df_corrupted['amount_lost'].apply(lambda x: x*100/transactions['amount'].sum()).sort_values(ascending=False).head(10).to_frame().plot.bar()"
   ]
  },
  {
   "cell_type": "code",
   "execution_count": 32,
   "metadata": {},
   "outputs": [
    {
     "data": {
      "text/plain": [
       "<matplotlib.axes._subplots.AxesSubplot at 0x124bf1c50>"
      ]
     },
     "execution_count": 32,
     "metadata": {},
     "output_type": "execute_result"
    },
    {
     "data": {
      "image/png": "[encoded data removed]",
      "text/plain": [
       "<Figure size 432x288 with 1 Axes>"
      ]
     },
     "metadata": {
      "needs_background": "light"
     },
     "output_type": "display_data"
    }
   ],
   "source": [
    "df_corrupted['amount_rerouted'].apply(lambda x: x*100/transactions['amount'].sum()).sort_values(ascending=False).head(10).to_frame().plot.bar()"
   ]
  },
  {
   "cell_type": "markdown",
   "metadata": {},
   "source": [
    "# What if there is BGP hijacking?"
   ]
  },
  {
   "cell_type": "code",
   "execution_count": 33,
   "metadata": {},
   "outputs": [],
   "source": [
    "def replay_transactions_hijack(transactions, corrupted_node, complete_graph):\n",
    "    amount_ok = 0\n",
    "    amount_lost = 0\n",
    "    amount_rerouted = 0\n",
    "    for index, row in transactions.iterrows():\n",
    "        sender = row['sender']\n",
    "        receiver = row['receiver']\n",
    "        \n",
    "        if(corrupted_node != sender and corrupted_node != receiver):\n",
    "            try :\n",
    "                amount = row['amount']\n",
    "                #path_ok = select_best(list(nx.all_shortest_paths(complete_graph,sender,receiver)))\n",
    "                path_ok = best_paths[(sender,receiver)]\n",
    "\n",
    "                #path_to_corrupted = select_best(list(nx.all_shortest_paths(complete_graph, sender, corrupted_node)))\n",
    "                #path_from_corrupted = select_best(list(nx.all_shortest_paths(complete_graph, corrupted_node, receiver)))\n",
    "                path_corrupted = best_paths[(sender, corrupted_node)]\n",
    "                \n",
    "                if (len(path_corrupted) + 1 > len(path_ok)):\n",
    "                    amount_ok += amount\n",
    "                else:\n",
    "                    amount_rerouted += amount\n",
    "            except:\n",
    "                #print('No path between {} and {}'.format(sender,receiver))\n",
    "                amount_lost += amount\n",
    "    return amount_ok, amount_lost, amount_rerouted"
   ]
  },
  {
   "cell_type": "code",
   "execution_count": 34,
   "metadata": {},
   "outputs": [],
   "source": [
    "df_corrupted = pd.DataFrame(columns=['corrupted', 'amount_ok', 'amount_lost', 'amount_rerouted'])"
   ]
  },
  {
   "cell_type": "code",
   "execution_count": 35,
   "metadata": {},
   "outputs": [],
   "source": [
    "for c in ripple_graph.nodes:\n",
    "    amount_ok, amount_lost, amount_rerouted = replay_transactions_hijack(transactions, c, ripple_graph)\n",
    "    df_corrupted = df_corrupted.append({'corrupted': c, 'amount_ok': amount_ok, 'amount_lost': amount_lost, 'amount_rerouted': amount_rerouted}, ignore_index=True)"
   ]
  },
  {
   "cell_type": "code",
   "execution_count": 36,
   "metadata": {},
   "outputs": [],
   "source": [
    "df_corrupted.set_index('corrupted').to_csv('statistics_hijack_cpp.csv')"
   ]
  },
  {
   "cell_type": "code",
   "execution_count": 37,
   "metadata": {},
   "outputs": [],
   "source": [
    "df_corrupted = pd.read_csv('statistics_hijack_cpp.csv', index_col='corrupted')"
   ]
  },
  {
   "cell_type": "code",
   "execution_count": 38,
   "metadata": {},
   "outputs": [
    {
     "data": {
      "text/plain": [
       "<matplotlib.axes._subplots.AxesSubplot at 0x124afedd8>"
      ]
     },
     "execution_count": 38,
     "metadata": {},
     "output_type": "execute_result"
    },
    {
     "data": {
      "image/png": "[encoded data removed]",
      "text/plain": [
       "<Figure size 432x288 with 1 Axes>"
      ]
     },
     "metadata": {
      "needs_background": "light"
     },
     "output_type": "display_data"
    }
   ],
   "source": [
    "df_corrupted['amount_rerouted'].apply(lambda x: x*100/transactions['amount'].sum()).sort_values(ascending=False).head(100).to_frame().plot.bar()"
   ]
  },
  {
   "cell_type": "code",
   "execution_count": null,
   "metadata": {},
   "outputs": [],
   "source": []
  }
 ],
 "metadata": {
  "kernelspec": {
   "display_name": "Python 3",
   "language": "python",
   "name": "python3"
  },
  "language_info": {
   "codemirror_mode": {
    "name": "ipython",
    "version": 3
   },
   "file_extension": ".py",
   "mimetype": "text/x-python",
   "name": "python",
   "nbconvert_exporter": "python",
   "pygments_lexer": "ipython3",
   "version": "3.7.3"
  }
 },
 "nbformat": 4,
 "nbformat_minor": 2
}
