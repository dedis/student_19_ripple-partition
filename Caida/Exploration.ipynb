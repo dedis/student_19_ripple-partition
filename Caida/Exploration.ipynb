{
 "cells": [
  {
   "cell_type": "code",
   "execution_count": 1,
   "metadata": {},
   "outputs": [],
   "source": [
    "import pandas as pd\n",
    "import matplotlib.pyplot as plt"
   ]
  },
  {
   "cell_type": "markdown",
   "metadata": {},
   "source": [
    "## Create nodes dataframe"
   ]
  },
  {
   "cell_type": "code",
   "execution_count": 2,
   "metadata": {},
   "outputs": [],
   "source": [
    "# Load data with format (node INDEX: IPv6 INTERFACES)\n",
    "data = pd.read_csv('speedtrap.nodes.txt',delimiter='\\n', comment='#', header=None, names=['nodes'])\n",
    "\n",
    "# INDEX: IPv6 INTERFACES\n",
    "data['nodes'] = data.nodes.str[5:]\n",
    "\n",
    "# INDEX | IPv6 INTERFACES\n",
    "data['index'], data['ipv6'] = data.nodes.str.split(':',1).str\n",
    "\n",
    "# Convert IPv6 interfaces from string to list\n",
    "data['ipv6'] = data['ipv6'].str[2:-1]\n",
    "data['ipv6'] = data['ipv6'].apply(lambda x: x.split(' '))\n",
    "\n",
    "nodes = data[['index', 'ipv6']]\n",
    "nodes = nodes.set_index('index')"
   ]
  },
  {
   "cell_type": "code",
   "execution_count": 3,
   "metadata": {},
   "outputs": [
    {
     "data": {
      "text/html": [
       "<div>\n",
       "<style scoped>\n",
       "    .dataframe tbody tr th:only-of-type {\n",
       "        vertical-align: middle;\n",
       "    }\n",
       "\n",
       "    .dataframe tbody tr th {\n",
       "        vertical-align: top;\n",
       "    }\n",
       "\n",
       "    .dataframe thead th {\n",
       "        text-align: right;\n",
       "    }\n",
       "</style>\n",
       "<table border=\"1\" class=\"dataframe\">\n",
       "  <thead>\n",
       "    <tr style=\"text-align: right;\">\n",
       "      <th></th>\n",
       "      <th>ipv6</th>\n",
       "    </tr>\n",
       "    <tr>\n",
       "      <th>index</th>\n",
       "      <th></th>\n",
       "    </tr>\n",
       "  </thead>\n",
       "  <tbody>\n",
       "    <tr>\n",
       "      <th>N1</th>\n",
       "      <td>[2a01:8840:1d::1, 2a01:8840:d1::1, 2a01:8840:5...</td>\n",
       "    </tr>\n",
       "    <tr>\n",
       "      <th>N2</th>\n",
       "      <td>[2a02:768:0:3330::3330, 2a02:768:0:3315::3315,...</td>\n",
       "    </tr>\n",
       "    <tr>\n",
       "      <th>N3</th>\n",
       "      <td>[2001:470:0:2b5::1, 2001:470:0:3aa::1, 2001:47...</td>\n",
       "    </tr>\n",
       "    <tr>\n",
       "      <th>N4</th>\n",
       "      <td>[2001:470:0:349::1, 2001:7f8:43::6939:1, 2001:...</td>\n",
       "    </tr>\n",
       "    <tr>\n",
       "      <th>N5</th>\n",
       "      <td>[2404:8000:1745:1::b9, 2404:8000:0:ff::39, 240...</td>\n",
       "    </tr>\n",
       "    <tr>\n",
       "      <th>N6</th>\n",
       "      <td>[2001:470:17:38::1, 2001:470:17:68::1, 2001:47...</td>\n",
       "    </tr>\n",
       "    <tr>\n",
       "      <th>N7</th>\n",
       "      <td>[2001:470:1:52f::1, 2001:470:1:5e7::1, 2001:47...</td>\n",
       "    </tr>\n",
       "    <tr>\n",
       "      <th>N8</th>\n",
       "      <td>[2001:7f8:1::a500:6939:1, 2001:470:0:22f::1, 2...</td>\n",
       "    </tr>\n",
       "    <tr>\n",
       "      <th>N9</th>\n",
       "      <td>[2001:2000:3080:a0b::2, 2001:2000:3080:a0a::2,...</td>\n",
       "    </tr>\n",
       "    <tr>\n",
       "      <th>N10</th>\n",
       "      <td>[2a02:3d0::1, 2001:4cd0:31:d602::2, 2607:f4e8:...</td>\n",
       "    </tr>\n",
       "  </tbody>\n",
       "</table>\n",
       "</div>"
      ],
      "text/plain": [
       "                                                    ipv6\n",
       "index                                                   \n",
       "N1     [2a01:8840:1d::1, 2a01:8840:d1::1, 2a01:8840:5...\n",
       "N2     [2a02:768:0:3330::3330, 2a02:768:0:3315::3315,...\n",
       "N3     [2001:470:0:2b5::1, 2001:470:0:3aa::1, 2001:47...\n",
       "N4     [2001:470:0:349::1, 2001:7f8:43::6939:1, 2001:...\n",
       "N5     [2404:8000:1745:1::b9, 2404:8000:0:ff::39, 240...\n",
       "N6     [2001:470:17:38::1, 2001:470:17:68::1, 2001:47...\n",
       "N7     [2001:470:1:52f::1, 2001:470:1:5e7::1, 2001:47...\n",
       "N8     [2001:7f8:1::a500:6939:1, 2001:470:0:22f::1, 2...\n",
       "N9     [2001:2000:3080:a0b::2, 2001:2000:3080:a0a::2,...\n",
       "N10    [2a02:3d0::1, 2001:4cd0:31:d602::2, 2607:f4e8:..."
      ]
     },
     "execution_count": 3,
     "metadata": {},
     "output_type": "execute_result"
    }
   ],
   "source": [
    "nodes.head(10)"
   ]
  },
  {
   "cell_type": "markdown",
   "metadata": {},
   "source": [
    "## Create links dataframe"
   ]
  },
  {
   "cell_type": "code",
   "execution_count": 4,
   "metadata": {
    "scrolled": true
   },
   "outputs": [],
   "source": [
    "# Load data with format (link INDEX: SOURCE:IPv6 DESTINATIONS) or (link INDEX: SOURCE DESTINATIONS)\n",
    "data = pd.read_csv('speedtrap.links.txt',delimiter='\\n', comment='#', header=None, names=['links'])\n",
    "\n",
    "## Case 1: (link INDEX: SOURCE:IPv6 DESTINATIONS)\n",
    "\n",
    "# INDEX: SOURCE:IPv6 DESTINATIONS\n",
    "data['links'] = data.links.str[5:]\n",
    "\n",
    "# INDEX | SOURCE:IPv6 DESTINATIONS\n",
    "data['index'], data['links'] = data['links'].str.split(':',1).str\n",
    "\n",
    "# INDEX | SOURCE | IPv6 DESTINATIONS \n",
    "data['source_node'], data['source_ipv6'] = data['links'].str.split(':',1).str\n",
    "\n",
    "# Remove useless spaces\n",
    "data['source_node'] = data['source_node'].str[2:]\n",
    "\n",
    "# INDEX | SOURCE | IPv6 | DESTINATIONS \n",
    "data['source_ipv6'], data['dest_nodes'] = data['source_ipv6'].str.split(' ',1).str\n",
    "\n",
    "## Case 2: (link INDEX: SOURCE DESTINATIONS)\n",
    "\n",
    "# INDEX | SOURCE | DESTINATIONS\n",
    "data['source_n'], data['dest_n'] = data[data['source_ipv6'].isna()]['source_node'].str.split(' ', 1).str\n",
    "\n",
    "# Merge Case 1 and Case 2\n",
    "data['dest_nodes'] = data['dest_nodes'].fillna(data['dest_n'])\n",
    "data.loc[data['source_ipv6'].isna(),'source_node'] = data['source_n']\n",
    "\n",
    "# Convert destination nodes from string to list\n",
    "data['dest_nodes'] = data['dest_nodes'].str[:-1]\n",
    "data['dest_nodes'] = data['dest_nodes'].apply(lambda x: x.split(' '))\n",
    "\n",
    "links = data[['index', 'source_node', 'source_ipv6', 'dest_nodes']]\n",
    "links = links.set_index('index')"
   ]
  },
  {
   "cell_type": "code",
   "execution_count": 5,
   "metadata": {},
   "outputs": [
    {
     "data": {
      "text/html": [
       "<div>\n",
       "<style scoped>\n",
       "    .dataframe tbody tr th:only-of-type {\n",
       "        vertical-align: middle;\n",
       "    }\n",
       "\n",
       "    .dataframe tbody tr th {\n",
       "        vertical-align: top;\n",
       "    }\n",
       "\n",
       "    .dataframe thead th {\n",
       "        text-align: right;\n",
       "    }\n",
       "</style>\n",
       "<table border=\"1\" class=\"dataframe\">\n",
       "  <thead>\n",
       "    <tr style=\"text-align: right;\">\n",
       "      <th></th>\n",
       "      <th>source_node</th>\n",
       "      <th>source_ipv6</th>\n",
       "      <th>dest_nodes</th>\n",
       "    </tr>\n",
       "    <tr>\n",
       "      <th>index</th>\n",
       "      <th></th>\n",
       "      <th></th>\n",
       "      <th></th>\n",
       "    </tr>\n",
       "  </thead>\n",
       "  <tbody>\n",
       "    <tr>\n",
       "      <th>L1</th>\n",
       "      <td>N6489</td>\n",
       "      <td>::62.38.37.82</td>\n",
       "      <td>[N6482, N6483, N6484, N6485, N6486, N6487, N6488]</td>\n",
       "    </tr>\n",
       "    <tr>\n",
       "      <th>L2</th>\n",
       "      <td>N434665</td>\n",
       "      <td>::62.38.96.153</td>\n",
       "      <td>[N6489]</td>\n",
       "    </tr>\n",
       "    <tr>\n",
       "      <th>L3</th>\n",
       "      <td>N471838</td>\n",
       "      <td>::62.38.96.158</td>\n",
       "      <td>[N6489]</td>\n",
       "    </tr>\n",
       "    <tr>\n",
       "      <th>L4</th>\n",
       "      <td>N507980</td>\n",
       "      <td>::62.38.96.166</td>\n",
       "      <td>[N6489]</td>\n",
       "    </tr>\n",
       "    <tr>\n",
       "      <th>L5</th>\n",
       "      <td>N470679</td>\n",
       "      <td>::62.38.96.170</td>\n",
       "      <td>[N6489]</td>\n",
       "    </tr>\n",
       "    <tr>\n",
       "      <th>L6</th>\n",
       "      <td>N625907</td>\n",
       "      <td>::62.38.96.174</td>\n",
       "      <td>[N6490, N6489]</td>\n",
       "    </tr>\n",
       "    <tr>\n",
       "      <th>L7</th>\n",
       "      <td>N493271</td>\n",
       "      <td>::62.38.96.193</td>\n",
       "      <td>[N6489]</td>\n",
       "    </tr>\n",
       "    <tr>\n",
       "      <th>L8</th>\n",
       "      <td>N165904</td>\n",
       "      <td>::ff80:a73:62e</td>\n",
       "      <td>[N6491, N6492]</td>\n",
       "    </tr>\n",
       "    <tr>\n",
       "      <th>L9</th>\n",
       "      <td>N166597</td>\n",
       "      <td>::ff80:a73:63f</td>\n",
       "      <td>[N6493]</td>\n",
       "    </tr>\n",
       "    <tr>\n",
       "      <th>L10</th>\n",
       "      <td>N166213</td>\n",
       "      <td>::ff80:a73:649</td>\n",
       "      <td>[N6494, N6495, N6496]</td>\n",
       "    </tr>\n",
       "  </tbody>\n",
       "</table>\n",
       "</div>"
      ],
      "text/plain": [
       "      source_node     source_ipv6  \\\n",
       "index                               \n",
       "L1          N6489   ::62.38.37.82   \n",
       "L2        N434665  ::62.38.96.153   \n",
       "L3        N471838  ::62.38.96.158   \n",
       "L4        N507980  ::62.38.96.166   \n",
       "L5        N470679  ::62.38.96.170   \n",
       "L6        N625907  ::62.38.96.174   \n",
       "L7        N493271  ::62.38.96.193   \n",
       "L8        N165904  ::ff80:a73:62e   \n",
       "L9        N166597  ::ff80:a73:63f   \n",
       "L10       N166213  ::ff80:a73:649   \n",
       "\n",
       "                                              dest_nodes  \n",
       "index                                                     \n",
       "L1     [N6482, N6483, N6484, N6485, N6486, N6487, N6488]  \n",
       "L2                                               [N6489]  \n",
       "L3                                               [N6489]  \n",
       "L4                                               [N6489]  \n",
       "L5                                               [N6489]  \n",
       "L6                                        [N6490, N6489]  \n",
       "L7                                               [N6489]  \n",
       "L8                                        [N6491, N6492]  \n",
       "L9                                               [N6493]  \n",
       "L10                                [N6494, N6495, N6496]  "
      ]
     },
     "execution_count": 5,
     "metadata": {},
     "output_type": "execute_result"
    }
   ],
   "source": [
    "links.head(10)"
   ]
  },
  {
   "cell_type": "code",
   "execution_count": 6,
   "metadata": {},
   "outputs": [
    {
     "data": {
      "text/html": [
       "<div>\n",
       "<style scoped>\n",
       "    .dataframe tbody tr th:only-of-type {\n",
       "        vertical-align: middle;\n",
       "    }\n",
       "\n",
       "    .dataframe tbody tr th {\n",
       "        vertical-align: top;\n",
       "    }\n",
       "\n",
       "    .dataframe thead th {\n",
       "        text-align: right;\n",
       "    }\n",
       "</style>\n",
       "<table border=\"1\" class=\"dataframe\">\n",
       "  <thead>\n",
       "    <tr style=\"text-align: right;\">\n",
       "      <th></th>\n",
       "      <th>source_node</th>\n",
       "      <th>source_ipv6</th>\n",
       "      <th>dest_nodes</th>\n",
       "    </tr>\n",
       "    <tr>\n",
       "      <th>index</th>\n",
       "      <th></th>\n",
       "      <th></th>\n",
       "      <th></th>\n",
       "    </tr>\n",
       "  </thead>\n",
       "  <tbody>\n",
       "    <tr>\n",
       "      <th>L2994361</th>\n",
       "      <td>N385984</td>\n",
       "      <td>NaN</td>\n",
       "      <td>[N1938511]</td>\n",
       "    </tr>\n",
       "    <tr>\n",
       "      <th>L2994362</th>\n",
       "      <td>N897</td>\n",
       "      <td>NaN</td>\n",
       "      <td>[N2917197]</td>\n",
       "    </tr>\n",
       "    <tr>\n",
       "      <th>L2994363</th>\n",
       "      <td>N1408</td>\n",
       "      <td>NaN</td>\n",
       "      <td>[N2917197]</td>\n",
       "    </tr>\n",
       "    <tr>\n",
       "      <th>L2994364</th>\n",
       "      <td>N937</td>\n",
       "      <td>NaN</td>\n",
       "      <td>[N2917197]</td>\n",
       "    </tr>\n",
       "    <tr>\n",
       "      <th>L2994365</th>\n",
       "      <td>N1518</td>\n",
       "      <td>NaN</td>\n",
       "      <td>[N2917197]</td>\n",
       "    </tr>\n",
       "    <tr>\n",
       "      <th>L2994366</th>\n",
       "      <td>N3282</td>\n",
       "      <td>NaN</td>\n",
       "      <td>[N2917198]</td>\n",
       "    </tr>\n",
       "    <tr>\n",
       "      <th>L2994367</th>\n",
       "      <td>N364235</td>\n",
       "      <td>NaN</td>\n",
       "      <td>[N1925874]</td>\n",
       "    </tr>\n",
       "    <tr>\n",
       "      <th>L2994368</th>\n",
       "      <td>N364227</td>\n",
       "      <td>NaN</td>\n",
       "      <td>[N1926221]</td>\n",
       "    </tr>\n",
       "    <tr>\n",
       "      <th>L2994369</th>\n",
       "      <td>N1684738</td>\n",
       "      <td>NaN</td>\n",
       "      <td>[N1925299]</td>\n",
       "    </tr>\n",
       "    <tr>\n",
       "      <th>L2994370</th>\n",
       "      <td>N1684738</td>\n",
       "      <td>NaN</td>\n",
       "      <td>[N1924905]</td>\n",
       "    </tr>\n",
       "  </tbody>\n",
       "</table>\n",
       "</div>"
      ],
      "text/plain": [
       "         source_node source_ipv6  dest_nodes\n",
       "index                                       \n",
       "L2994361     N385984         NaN  [N1938511]\n",
       "L2994362        N897         NaN  [N2917197]\n",
       "L2994363       N1408         NaN  [N2917197]\n",
       "L2994364        N937         NaN  [N2917197]\n",
       "L2994365       N1518         NaN  [N2917197]\n",
       "L2994366       N3282         NaN  [N2917198]\n",
       "L2994367     N364235         NaN  [N1925874]\n",
       "L2994368     N364227         NaN  [N1926221]\n",
       "L2994369    N1684738         NaN  [N1925299]\n",
       "L2994370    N1684738         NaN  [N1924905]"
      ]
     },
     "execution_count": 6,
     "metadata": {},
     "output_type": "execute_result"
    }
   ],
   "source": [
    "links.tail(10)"
   ]
  },
  {
   "cell_type": "markdown",
   "metadata": {},
   "source": [
    "## Add AS number to nodes"
   ]
  },
  {
   "cell_type": "code",
   "execution_count": 7,
   "metadata": {},
   "outputs": [],
   "source": [
    "# Load data with format (node.AS INDEX AS TYPE)\n",
    "data = pd.read_csv('speedtrap.nodes.as.txt',delimiter='\\n', comment='#', header=None, names=['nodes'])\n",
    "\n",
    "# INDEX AS TYPE\n",
    "data['nodes'] = data.nodes.apply(lambda x: x[8:])\n",
    "\n",
    "# INDEX | AS\n",
    "data['node_index'], data['AS_number'], _ = data.nodes.str.split(' ',2).str\n",
    "\n",
    "nodes_as = data[['node_index','AS_number']]\n",
    "nodes_as = nodes_as.set_index(['node_index'])"
   ]
  },
  {
   "cell_type": "code",
   "execution_count": 8,
   "metadata": {},
   "outputs": [],
   "source": [
    "# Add AS column to nodes dataframe\n",
    "nodes = nodes.join(nodes_as)"
   ]
  },
  {
   "cell_type": "code",
   "execution_count": 9,
   "metadata": {},
   "outputs": [
    {
     "data": {
      "text/html": [
       "<div>\n",
       "<style scoped>\n",
       "    .dataframe tbody tr th:only-of-type {\n",
       "        vertical-align: middle;\n",
       "    }\n",
       "\n",
       "    .dataframe tbody tr th {\n",
       "        vertical-align: top;\n",
       "    }\n",
       "\n",
       "    .dataframe thead th {\n",
       "        text-align: right;\n",
       "    }\n",
       "</style>\n",
       "<table border=\"1\" class=\"dataframe\">\n",
       "  <thead>\n",
       "    <tr style=\"text-align: right;\">\n",
       "      <th></th>\n",
       "      <th>ipv6</th>\n",
       "      <th>AS_number</th>\n",
       "    </tr>\n",
       "    <tr>\n",
       "      <th>index</th>\n",
       "      <th></th>\n",
       "      <th></th>\n",
       "    </tr>\n",
       "  </thead>\n",
       "  <tbody>\n",
       "    <tr>\n",
       "      <th>N1</th>\n",
       "      <td>[2a01:8840:1d::1, 2a01:8840:d1::1, 2a01:8840:5...</td>\n",
       "      <td>42</td>\n",
       "    </tr>\n",
       "    <tr>\n",
       "      <th>N2</th>\n",
       "      <td>[2a02:768:0:3330::3330, 2a02:768:0:3315::3315,...</td>\n",
       "      <td>44489</td>\n",
       "    </tr>\n",
       "    <tr>\n",
       "      <th>N3</th>\n",
       "      <td>[2001:470:0:2b5::1, 2001:470:0:3aa::1, 2001:47...</td>\n",
       "      <td>51531</td>\n",
       "    </tr>\n",
       "    <tr>\n",
       "      <th>N4</th>\n",
       "      <td>[2001:470:0:349::1, 2001:7f8:43::6939:1, 2001:...</td>\n",
       "      <td>6939</td>\n",
       "    </tr>\n",
       "    <tr>\n",
       "      <th>N5</th>\n",
       "      <td>[2404:8000:1745:1::b9, 2404:8000:0:ff::39, 240...</td>\n",
       "      <td>17451</td>\n",
       "    </tr>\n",
       "    <tr>\n",
       "      <th>N6</th>\n",
       "      <td>[2001:470:17:38::1, 2001:470:17:68::1, 2001:47...</td>\n",
       "      <td>6939</td>\n",
       "    </tr>\n",
       "    <tr>\n",
       "      <th>N7</th>\n",
       "      <td>[2001:470:1:52f::1, 2001:470:1:5e7::1, 2001:47...</td>\n",
       "      <td>6939</td>\n",
       "    </tr>\n",
       "    <tr>\n",
       "      <th>N8</th>\n",
       "      <td>[2001:7f8:1::a500:6939:1, 2001:470:0:22f::1, 2...</td>\n",
       "      <td>1200</td>\n",
       "    </tr>\n",
       "    <tr>\n",
       "      <th>N9</th>\n",
       "      <td>[2001:2000:3080:a0b::2, 2001:2000:3080:a0a::2,...</td>\n",
       "      <td>12189</td>\n",
       "    </tr>\n",
       "    <tr>\n",
       "      <th>N10</th>\n",
       "      <td>[2a02:3d0::1, 2001:4cd0:31:d602::2, 2607:f4e8:...</td>\n",
       "      <td>22822</td>\n",
       "    </tr>\n",
       "  </tbody>\n",
       "</table>\n",
       "</div>"
      ],
      "text/plain": [
       "                                                    ipv6 AS_number\n",
       "index                                                             \n",
       "N1     [2a01:8840:1d::1, 2a01:8840:d1::1, 2a01:8840:5...        42\n",
       "N2     [2a02:768:0:3330::3330, 2a02:768:0:3315::3315,...     44489\n",
       "N3     [2001:470:0:2b5::1, 2001:470:0:3aa::1, 2001:47...     51531\n",
       "N4     [2001:470:0:349::1, 2001:7f8:43::6939:1, 2001:...      6939\n",
       "N5     [2404:8000:1745:1::b9, 2404:8000:0:ff::39, 240...     17451\n",
       "N6     [2001:470:17:38::1, 2001:470:17:68::1, 2001:47...      6939\n",
       "N7     [2001:470:1:52f::1, 2001:470:1:5e7::1, 2001:47...      6939\n",
       "N8     [2001:7f8:1::a500:6939:1, 2001:470:0:22f::1, 2...      1200\n",
       "N9     [2001:2000:3080:a0b::2, 2001:2000:3080:a0a::2,...     12189\n",
       "N10    [2a02:3d0::1, 2001:4cd0:31:d602::2, 2607:f4e8:...     22822"
      ]
     },
     "execution_count": 9,
     "metadata": {},
     "output_type": "execute_result"
    }
   ],
   "source": [
    "nodes.head(10)"
   ]
  },
  {
   "cell_type": "markdown",
   "metadata": {},
   "source": [
    "## Add geo data to nodes"
   ]
  },
  {
   "cell_type": "code",
   "execution_count": 10,
   "metadata": {},
   "outputs": [],
   "source": [
    "# Load data with format (node.geo INDEX: COUNTRY LATITUDE LONGITUDE)\n",
    "data = pd.read_csv('speedtrap.nodes.geo.txt',delimiter='\\n', comment='#', header=None, names=['nodes'])\n",
    "\n",
    "# INDEX: COUNTRY LATITUDE LONGITUDE\n",
    "data['nodes'] = data.nodes.str[9:-1]\n",
    "\n",
    "# INDEX: | COUNTRY | LATITUDE | LONGITUDE\n",
    "data['node_index'], data['country'], data['latitude'], data['longitude'] = data.nodes.str.split('\\t').str\n",
    "\n",
    "# INDEX | COUNTRY | LATITUDE | LONGITUDE\n",
    "data['node_index'] = data['node_index'].str[:-1]\n",
    "\n",
    "geo = data[['node_index','country','latitude','longitude']]\n",
    "geo = geo.set_index('node_index')"
   ]
  },
  {
   "cell_type": "code",
   "execution_count": 11,
   "metadata": {},
   "outputs": [],
   "source": [
    "nodes = nodes.join(geo)"
   ]
  },
  {
   "cell_type": "code",
   "execution_count": 12,
   "metadata": {},
   "outputs": [
    {
     "data": {
      "text/html": [
       "<div>\n",
       "<style scoped>\n",
       "    .dataframe tbody tr th:only-of-type {\n",
       "        vertical-align: middle;\n",
       "    }\n",
       "\n",
       "    .dataframe tbody tr th {\n",
       "        vertical-align: top;\n",
       "    }\n",
       "\n",
       "    .dataframe thead th {\n",
       "        text-align: right;\n",
       "    }\n",
       "</style>\n",
       "<table border=\"1\" class=\"dataframe\">\n",
       "  <thead>\n",
       "    <tr style=\"text-align: right;\">\n",
       "      <th></th>\n",
       "      <th>ipv6</th>\n",
       "      <th>AS_number</th>\n",
       "      <th>country</th>\n",
       "      <th>latitude</th>\n",
       "      <th>longitude</th>\n",
       "    </tr>\n",
       "    <tr>\n",
       "      <th>index</th>\n",
       "      <th></th>\n",
       "      <th></th>\n",
       "      <th></th>\n",
       "      <th></th>\n",
       "      <th></th>\n",
       "    </tr>\n",
       "  </thead>\n",
       "  <tbody>\n",
       "    <tr>\n",
       "      <th>N1</th>\n",
       "      <td>[2a01:8840:1d::1, 2a01:8840:d1::1, 2a01:8840:5...</td>\n",
       "      <td>42</td>\n",
       "      <td>IE</td>\n",
       "      <td>53.0000</td>\n",
       "      <td>-8.000</td>\n",
       "    </tr>\n",
       "    <tr>\n",
       "      <th>N2</th>\n",
       "      <td>[2a02:768:0:3330::3330, 2a02:768:0:3315::3315,...</td>\n",
       "      <td>44489</td>\n",
       "      <td>CZ</td>\n",
       "      <td>49.7500</td>\n",
       "      <td>15.500</td>\n",
       "    </tr>\n",
       "    <tr>\n",
       "      <th>N3</th>\n",
       "      <td>[2001:470:0:2b5::1, 2001:470:0:3aa::1, 2001:47...</td>\n",
       "      <td>51531</td>\n",
       "      <td>US</td>\n",
       "      <td>37.7510</td>\n",
       "      <td>-97.822</td>\n",
       "    </tr>\n",
       "    <tr>\n",
       "      <th>N4</th>\n",
       "      <td>[2001:470:0:349::1, 2001:7f8:43::6939:1, 2001:...</td>\n",
       "      <td>6939</td>\n",
       "      <td>US</td>\n",
       "      <td>37.7510</td>\n",
       "      <td>-97.822</td>\n",
       "    </tr>\n",
       "    <tr>\n",
       "      <th>N5</th>\n",
       "      <td>[2404:8000:1745:1::b9, 2404:8000:0:ff::39, 240...</td>\n",
       "      <td>17451</td>\n",
       "      <td>ID</td>\n",
       "      <td>-5.0000</td>\n",
       "      <td>120.000</td>\n",
       "    </tr>\n",
       "    <tr>\n",
       "      <th>N6</th>\n",
       "      <td>[2001:470:17:38::1, 2001:470:17:68::1, 2001:47...</td>\n",
       "      <td>6939</td>\n",
       "      <td>US</td>\n",
       "      <td>37.7510</td>\n",
       "      <td>-97.822</td>\n",
       "    </tr>\n",
       "    <tr>\n",
       "      <th>N7</th>\n",
       "      <td>[2001:470:1:52f::1, 2001:470:1:5e7::1, 2001:47...</td>\n",
       "      <td>6939</td>\n",
       "      <td>US</td>\n",
       "      <td>37.7510</td>\n",
       "      <td>-97.822</td>\n",
       "    </tr>\n",
       "    <tr>\n",
       "      <th>N8</th>\n",
       "      <td>[2001:7f8:1::a500:6939:1, 2001:470:0:22f::1, 2...</td>\n",
       "      <td>1200</td>\n",
       "      <td>US</td>\n",
       "      <td>37.7510</td>\n",
       "      <td>-97.822</td>\n",
       "    </tr>\n",
       "    <tr>\n",
       "      <th>N9</th>\n",
       "      <td>[2001:2000:3080:a0b::2, 2001:2000:3080:a0a::2,...</td>\n",
       "      <td>12189</td>\n",
       "      <td>US</td>\n",
       "      <td>37.7510</td>\n",
       "      <td>-97.822</td>\n",
       "    </tr>\n",
       "    <tr>\n",
       "      <th>N10</th>\n",
       "      <td>[2a02:3d0::1, 2001:4cd0:31:d602::2, 2607:f4e8:...</td>\n",
       "      <td>22822</td>\n",
       "      <td>US</td>\n",
       "      <td>37.7510</td>\n",
       "      <td>-97.822</td>\n",
       "    </tr>\n",
       "  </tbody>\n",
       "</table>\n",
       "</div>"
      ],
      "text/plain": [
       "                                                    ipv6 AS_number country  \\\n",
       "index                                                                        \n",
       "N1     [2a01:8840:1d::1, 2a01:8840:d1::1, 2a01:8840:5...        42      IE   \n",
       "N2     [2a02:768:0:3330::3330, 2a02:768:0:3315::3315,...     44489      CZ   \n",
       "N3     [2001:470:0:2b5::1, 2001:470:0:3aa::1, 2001:47...     51531      US   \n",
       "N4     [2001:470:0:349::1, 2001:7f8:43::6939:1, 2001:...      6939      US   \n",
       "N5     [2404:8000:1745:1::b9, 2404:8000:0:ff::39, 240...     17451      ID   \n",
       "N6     [2001:470:17:38::1, 2001:470:17:68::1, 2001:47...      6939      US   \n",
       "N7     [2001:470:1:52f::1, 2001:470:1:5e7::1, 2001:47...      6939      US   \n",
       "N8     [2001:7f8:1::a500:6939:1, 2001:470:0:22f::1, 2...      1200      US   \n",
       "N9     [2001:2000:3080:a0b::2, 2001:2000:3080:a0a::2,...     12189      US   \n",
       "N10    [2a02:3d0::1, 2001:4cd0:31:d602::2, 2607:f4e8:...     22822      US   \n",
       "\n",
       "      latitude longitude  \n",
       "index                     \n",
       "N1     53.0000    -8.000  \n",
       "N2     49.7500    15.500  \n",
       "N3     37.7510   -97.822  \n",
       "N4     37.7510   -97.822  \n",
       "N5     -5.0000   120.000  \n",
       "N6     37.7510   -97.822  \n",
       "N7     37.7510   -97.822  \n",
       "N8     37.7510   -97.822  \n",
       "N9     37.7510   -97.822  \n",
       "N10    37.7510   -97.822  "
      ]
     },
     "execution_count": 12,
     "metadata": {},
     "output_type": "execute_result"
    }
   ],
   "source": [
    "nodes.head(10)"
   ]
  },
  {
   "cell_type": "markdown",
   "metadata": {},
   "source": [
    "## Observations"
   ]
  },
  {
   "cell_type": "code",
   "execution_count": 13,
   "metadata": {},
   "outputs": [
    {
     "name": "stdout",
     "output_type": "stream",
     "text": [
      "Number of nodes : 2917198\n",
      "Number of nodes without AS : 752947\n",
      "Number of nodes without geo data : 1020115\n"
     ]
    }
   ],
   "source": [
    "print('Number of nodes : {}'.format(len(nodes)))\n",
    "print('Number of nodes without AS : {}'.format(len(nodes[nodes['AS_number'].isna()])))\n",
    "print('Number of nodes without geo data : {}'.format(len(nodes[nodes['country'].isna()])))"
   ]
  },
  {
   "cell_type": "code",
   "execution_count": 14,
   "metadata": {},
   "outputs": [
    {
     "data": {
      "text/plain": [
       "count    2917198.000000\n",
       "mean           1.003709\n",
       "std            0.114075\n",
       "min            1.000000\n",
       "25%            1.000000\n",
       "50%            1.000000\n",
       "75%            1.000000\n",
       "max           55.000000\n",
       "Name: ipv6, dtype: object"
      ]
     },
     "execution_count": 14,
     "metadata": {},
     "output_type": "execute_result"
    }
   ],
   "source": [
    "temp = nodes['ipv6'].apply(lambda x: len(x))\n",
    "temp.describe().apply(lambda x: format(x, 'f'))"
   ]
  },
  {
   "cell_type": "code",
   "execution_count": 15,
   "metadata": {},
   "outputs": [
    {
     "data": {
      "image/png": "[encoded data removed]",
      "text/plain": [
       "<Figure size 432x288 with 1 Axes>"
      ]
     },
     "metadata": {
      "needs_background": "light"
     },
     "output_type": "display_data"
    }
   ],
   "source": [
    "plt.hist(temp, bins = temp.max())\n",
    "plt.xlim(0,temp.max())\n",
    "plt.yscale('log')"
   ]
  },
  {
   "cell_type": "markdown",
   "metadata": {},
   "source": [
    "Careful, the y-axis is in log scale. This shows that a majority of nodes has only one interface"
   ]
  },
  {
   "cell_type": "code",
   "execution_count": 16,
   "metadata": {},
   "outputs": [
    {
     "name": "stdout",
     "output_type": "stream",
     "text": [
      "Number of links : 2994370\n",
      "Number of links with a single interface source : 1062869\n"
     ]
    }
   ],
   "source": [
    "print('Number of links : {}'.format(len(links)))\n",
    "print('Number of links with a single interface source : {}'.format(len(links[links['source_ipv6'].isna()])))"
   ]
  },
  {
   "cell_type": "code",
   "execution_count": 17,
   "metadata": {},
   "outputs": [
    {
     "data": {
      "text/plain": [
       "count    2994370.000000\n",
       "mean           1.189682\n",
       "std            2.273788\n",
       "min            1.000000\n",
       "25%            1.000000\n",
       "50%            1.000000\n",
       "75%            1.000000\n",
       "max          376.000000\n",
       "Name: dest_nodes, dtype: object"
      ]
     },
     "execution_count": 17,
     "metadata": {},
     "output_type": "execute_result"
    }
   ],
   "source": [
    "temp = links['dest_nodes'].apply(lambda x: len(x))\n",
    "temp.describe().apply(lambda x: format(x, 'f'))"
   ]
  },
  {
   "cell_type": "code",
   "execution_count": 18,
   "metadata": {},
   "outputs": [
    {
     "data": {
      "image/png": "[encoded data removed]",
      "text/plain": [
       "<Figure size 432x288 with 1 Axes>"
      ]
     },
     "metadata": {
      "needs_background": "light"
     },
     "output_type": "display_data"
    }
   ],
   "source": [
    "plt.hist(temp, bins = temp.max())\n",
    "plt.xlim(0,temp.max())\n",
    "plt.yscale('log')"
   ]
  },
  {
   "cell_type": "markdown",
   "metadata": {},
   "source": [
    "Careful, the y-axis is in log scale. This shows that a majority of nodes has only one destination. We can also notice that a few number of nodes have a large amount of destinations. (Certainly routers in Tier-1 network)"
   ]
  }
 ],
 "metadata": {
  "kernelspec": {
   "display_name": "Python 3",
   "language": "python",
   "name": "python3"
  },
  "language_info": {
   "codemirror_mode": {
    "name": "ipython",
    "version": 3
   },
   "file_extension": ".py",
   "mimetype": "text/x-python",
   "name": "python",
   "nbconvert_exporter": "python",
   "pygments_lexer": "ipython3",
   "version": "3.7.0"
  }
 },
 "nbformat": 4,
 "nbformat_minor": 2
}
