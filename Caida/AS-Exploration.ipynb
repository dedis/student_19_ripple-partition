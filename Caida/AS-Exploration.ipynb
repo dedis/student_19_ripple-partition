{
 "cells": [
  {
   "cell_type": "code",
   "execution_count": 1,
   "metadata": {},
   "outputs": [],
   "source": [
    "import pandas as pd\n",
    "import numpy as np\n",
    "import networkx as nx\n",
    "import matplotlib.pyplot as plt"
   ]
  },
  {
   "cell_type": "markdown",
   "metadata": {},
   "source": [
    "# Process Caida data"
   ]
  },
  {
   "cell_type": "markdown",
   "metadata": {},
   "source": [
    "Please note that this notebook contains two steps: <br>\n",
    "1) The exploration of the Caida file <br>\n",
    "2) A verification that the graph respects the BGP rules <br>\n",
    "<br>\n",
    "The complete processing of the file in a Caida graph can be found in analysis.py in the root directory"
   ]
  },
  {
   "cell_type": "code",
   "execution_count": 2,
   "metadata": {},
   "outputs": [],
   "source": [
    "data = pd.read_csv('20190301.as-rel2.txt',delimiter='\\n', comment='#', header=None, encoding='ISO-8859-1')"
   ]
  },
  {
   "cell_type": "code",
   "execution_count": 3,
   "metadata": {},
   "outputs": [],
   "source": [
    "data['provider_peer'], data['customer_peer'], data['relation_type'], data['source'] = data[0].str.split('|').str"
   ]
  },
  {
   "cell_type": "code",
   "execution_count": 4,
   "metadata": {},
   "outputs": [],
   "source": [
    "data['relation_type']  = data['relation_type'].apply(lambda x: 'provider-customer' if x == '-1' else 'peer-peer')"
   ]
  },
  {
   "cell_type": "code",
   "execution_count": 5,
   "metadata": {},
   "outputs": [],
   "source": [
    "links = data[['provider_peer','customer_peer','relation_type']]"
   ]
  },
  {
   "cell_type": "code",
   "execution_count": 6,
   "metadata": {},
   "outputs": [],
   "source": [
    "ases = set(links['provider_peer'].values)\n",
    "ases.update(links['customer_peer'].values)"
   ]
  },
  {
   "cell_type": "code",
   "execution_count": 7,
   "metadata": {},
   "outputs": [
    {
     "name": "stderr",
     "output_type": "stream",
     "text": [
      "/usr/local/lib/python3.7/site-packages/ipykernel_launcher.py:1: SettingWithCopyWarning: \n",
      "A value is trying to be set on a copy of a slice from a DataFrame.\n",
      "Try using .loc[row_indexer,col_indexer] = value instead\n",
      "\n",
      "See the caveats in the documentation: http://pandas.pydata.org/pandas-docs/stable/indexing.html#indexing-view-versus-copy\n",
      "  \"\"\"Entry point for launching an IPython kernel.\n"
     ]
    }
   ],
   "source": [
    "links['link'] = list(zip(links['provider_peer'], links['customer_peer']))"
   ]
  },
  {
   "cell_type": "code",
   "execution_count": 8,
   "metadata": {},
   "outputs": [],
   "source": [
    "links = links[['link','relation_type']]\n",
    "links_rel = {}\n",
    "for index,row in links.iterrows():\n",
    "    (s,t) = row['link']\n",
    "    rel = row['relation_type']\n",
    "    if rel == 'provider-customer':\n",
    "        links_rel[tuple([s,t])] = rel\n",
    "        links_rel[tuple([t,s])] = 'customer-provider'\n",
    "    else: \n",
    "        if rel == 'peer-peer':\n",
    "            links_rel[tuple([s,t])] = rel\n",
    "            links_rel[tuple([t,s])] = 'peer-peer'\n",
    "        else:\n",
    "            print('Error')"
   ]
  },
  {
   "cell_type": "code",
   "execution_count": 9,
   "metadata": {},
   "outputs": [],
   "source": [
    "as_graph = nx.Graph()\n",
    "as_graph.add_nodes_from(ases)\n",
    "for k,v in links_rel.items():\n",
    "    as_graph.add_edge(k[0],k[1])"
   ]
  },
  {
   "cell_type": "code",
   "execution_count": 10,
   "metadata": {},
   "outputs": [],
   "source": [
    "def shortest_path(s,t,G):\n",
    "    actual_paths = []\n",
    "    paths = nx.all_shortest_paths(G,s,t)\n",
    "    for path in paths:\n",
    "        actual_path = []\n",
    "        for i in range(len(path)-1):\n",
    "            l = tuple([path[i],path[i+1]])\n",
    "            actual_path.append(links_rel[l])\n",
    "        actual_paths.append(actual_path)\n",
    "    return actual_paths"
   ]
  },
  {
   "cell_type": "code",
   "execution_count": 11,
   "metadata": {},
   "outputs": [],
   "source": [
    "gate_as = ['14618','13335','37907','38895','60781','9371','16509','46606','26496','4766','45102','57127','17511','53667','19551']"
   ]
  },
  {
   "cell_type": "code",
   "execution_count": 12,
   "metadata": {},
   "outputs": [],
   "source": [
    "def check_bgp_rules(path):\n",
    "    up = False\n",
    "    down = True\n",
    "    for p in path:\n",
    "        if p == 'customer-provider':\n",
    "            up = True\n",
    "            down = False\n",
    "        if p == 'provider-customer':\n",
    "            down = True\n",
    "            up = False\n",
    "        if down and up:\n",
    "            return False\n",
    "    return True"
   ]
  },
  {
   "cell_type": "code",
   "execution_count": 13,
   "metadata": {
    "scrolled": false
   },
   "outputs": [],
   "source": [
    "for s in gate_as:\n",
    "    for t in gate_as:\n",
    "        paths = shortest_path(s,t,as_graph)\n",
    "        for path in paths:\n",
    "            if not check_bgp_rules(path):\n",
    "                print('Bad path')         "
   ]
  },
  {
   "cell_type": "code",
   "execution_count": null,
   "metadata": {},
   "outputs": [],
   "source": []
  }
 ],
 "metadata": {
  "kernelspec": {
   "display_name": "Python 3",
   "language": "python",
   "name": "python3"
  },
  "language_info": {
   "codemirror_mode": {
    "name": "ipython",
    "version": 3
   },
   "file_extension": ".py",
   "mimetype": "text/x-python",
   "name": "python",
   "nbconvert_exporter": "python",
   "pygments_lexer": "ipython3",
   "version": "3.7.3"
  }
 },
 "nbformat": 4,
 "nbformat_minor": 2
}
