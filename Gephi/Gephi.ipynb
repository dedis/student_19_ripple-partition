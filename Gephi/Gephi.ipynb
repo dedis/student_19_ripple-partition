{
 "cells": [
  {
   "cell_type": "code",
   "execution_count": 1,
   "metadata": {},
   "outputs": [],
   "source": [
    "import pandas as pd\n",
    "import numpy as np\n",
    "import networkx as nx\n",
    "import matplotlib.pyplot as plt\n",
    "import csv\n",
    "from analysis import *"
   ]
  },
  {
   "cell_type": "markdown",
   "metadata": {},
   "source": [
    "## Reconstruct graph"
   ]
  },
  {
   "cell_type": "code",
   "execution_count": 2,
   "metadata": {},
   "outputs": [],
   "source": [
    "ripple_graph_base, caida_graph_base, _ = build_graphs('../Ripple/gateway_links.csv', '../Caida/20190301.as-rel2.txt')"
   ]
  },
  {
   "cell_type": "markdown",
   "metadata": {},
   "source": [
    "## Add locations"
   ]
  },
  {
   "cell_type": "code",
   "execution_count": 3,
   "metadata": {},
   "outputs": [],
   "source": [
    "locations = pd.read_csv('locations.txt',delimiter='\\n', comment='#', header=None, encoding='ISO-8859-1')"
   ]
  },
  {
   "cell_type": "code",
   "execution_count": 4,
   "metadata": {},
   "outputs": [],
   "source": [
    "locations['asn'] = locations[0].str.split('|').str[0]\n",
    "locations['org'] = locations[0].str.split('|').str[3]"
   ]
  },
  {
   "cell_type": "code",
   "execution_count": 5,
   "metadata": {},
   "outputs": [],
   "source": [
    "asn_org = locations[['asn','org']].set_index('asn').to_dict()['org']"
   ]
  },
  {
   "cell_type": "code",
   "execution_count": 6,
   "metadata": {},
   "outputs": [],
   "source": [
    "organisations = pd.read_csv('organisations.txt',delimiter='\\n', comment='#', header=None, encoding='ISO-8859-1')"
   ]
  },
  {
   "cell_type": "code",
   "execution_count": 7,
   "metadata": {},
   "outputs": [],
   "source": [
    "organisations['org'] = organisations[0].str.split('|').str[0]\n",
    "organisations['country'] = organisations[0].str.split('|').str[3]"
   ]
  },
  {
   "cell_type": "code",
   "execution_count": null,
   "metadata": {},
   "outputs": [],
   "source": [
    "org_country = organisations[['org','country']].set_index('org').to_dict()['country']"
   ]
  },
  {
   "cell_type": "code",
   "execution_count": 9,
   "metadata": {},
   "outputs": [],
   "source": [
    "asn_country = {}\n",
    "for n in ripple_graph_base.nodes:\n",
    "    organisation = asn_org[n]\n",
    "    country = org_country[organisation]\n",
    "    asn_country[n] = country"
   ]
  },
  {
   "cell_type": "code",
   "execution_count": 10,
   "metadata": {},
   "outputs": [],
   "source": [
    "countries_data = pd.read_csv('../Ripple/country.csv',delimiter=',', comment='#', encoding='ISO-8859-1')"
   ]
  },
  {
   "cell_type": "code",
   "execution_count": 11,
   "metadata": {},
   "outputs": [],
   "source": [
    "countries = countries_data[['ISO 3166 Country Code', 'Latitude', 'Longitude']]"
   ]
  },
  {
   "cell_type": "code",
   "execution_count": 12,
   "metadata": {},
   "outputs": [],
   "source": [
    "countries['lat-lon'] = list(zip(countries.Latitude,countries.Longitude))"
   ]
  },
  {
   "cell_type": "code",
   "execution_count": 13,
   "metadata": {},
   "outputs": [],
   "source": [
    "countries_dict = countries[['ISO 3166 Country Code', 'lat-lon']].set_index('ISO 3166 Country Code').to_dict()['lat-lon']"
   ]
  },
  {
   "cell_type": "code",
   "execution_count": 14,
   "metadata": {},
   "outputs": [],
   "source": [
    "asn_lat = {}\n",
    "asn_lon = {}\n",
    "for key,value in asn_country.items():\n",
    "    asn_lat[key] = countries_dict[value][0]\n",
    "    asn_lon[key] = countries_dict[value][1]"
   ]
  },
  {
   "cell_type": "code",
   "execution_count": 15,
   "metadata": {},
   "outputs": [],
   "source": [
    "nx.set_node_attributes(ripple_graph_base, name='lat', values=asn_lat)\n",
    "nx.set_node_attributes(ripple_graph_base, name='lng', values=asn_lon)"
   ]
  },
  {
   "cell_type": "markdown",
   "metadata": {},
   "source": [
    "## Save graph as file"
   ]
  },
  {
   "cell_type": "code",
   "execution_count": 16,
   "metadata": {},
   "outputs": [],
   "source": [
    "nx.write_gexf(ripple_graph_base,'ripple.gexf')"
   ]
  },
  {
   "cell_type": "code",
   "execution_count": null,
   "metadata": {},
   "outputs": [],
   "source": []
  }
 ],
 "metadata": {
  "kernelspec": {
   "display_name": "Python 3",
   "language": "python",
   "name": "python3"
  },
  "language_info": {
   "codemirror_mode": {
    "name": "ipython",
    "version": 3
   },
   "file_extension": ".py",
   "mimetype": "text/x-python",
   "name": "python",
   "nbconvert_exporter": "python",
   "pygments_lexer": "ipython3",
   "version": "3.7.3"
  }
 },
 "nbformat": 4,
 "nbformat_minor": 2
}
