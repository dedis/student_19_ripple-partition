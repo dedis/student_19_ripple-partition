{
 "cells": [
  {
   "cell_type": "code",
   "execution_count": 4,
   "metadata": {},
   "outputs": [],
   "source": [
    "import pandas as pd\n",
    "import numpy as np\n",
    "import networkx as nx\n",
    "import matplotlib.pyplot as plt\n",
    "import csv\n",
    "from analysis import *"
   ]
  },
  {
   "cell_type": "code",
   "execution_count": 5,
   "metadata": {},
   "outputs": [
    {
     "name": "stderr",
     "output_type": "stream",
     "text": [
      "/Users/yoanmartin/Google Drive/EPFL/Master II/Semester Project/student_19_ripple-partition/Gephi/analysis.py:33: SettingWithCopyWarning: \n",
      "A value is trying to be set on a copy of a slice from a DataFrame.\n",
      "Try using .loc[row_indexer,col_indexer] = value instead\n",
      "\n",
      "See the caveats in the documentation: http://pandas.pydata.org/pandas-docs/stable/indexing.html#indexing-view-versus-copy\n",
      "  links['link'] = list(zip(links['provider_peer'], links['customer_peer']))\n"
     ]
    }
   ],
   "source": [
    "ripple_graph_base, caida_graph_base, _ = build_graphs('../Ripple/gateway_links.csv', '../Caida/20190301.as-rel2.txt')"
   ]
  },
  {
   "cell_type": "code",
   "execution_count": 101,
   "metadata": {},
   "outputs": [],
   "source": [
    "locations = pd.read_csv('locations.txt',delimiter='\\n', comment='#', header=None, encoding='ISO-8859-1')"
   ]
  },
  {
   "cell_type": "code",
   "execution_count": 102,
   "metadata": {},
   "outputs": [],
   "source": [
    "locations['asn'] = locations[0].str.split('|').str[0]\n",
    "locations['org'] = locations[0].str.split('|').str[3]\n"
   ]
  },
  {
   "cell_type": "code",
   "execution_count": 103,
   "metadata": {},
   "outputs": [],
   "source": [
    "asn_org = locations[['asn','org']].set_index('asn').to_dict()['org']"
   ]
  },
  {
   "cell_type": "code",
   "execution_count": 104,
   "metadata": {},
   "outputs": [],
   "source": [
    "organisations = pd.read_csv('organisations.txt',delimiter='\\n', comment='#', header=None, encoding='ISO-8859-1')"
   ]
  },
  {
   "cell_type": "code",
   "execution_count": 105,
   "metadata": {},
   "outputs": [],
   "source": [
    "organisations['org'] = organisations[0].str.split('|').str[0]\n",
    "organisations['country'] = organisations[0].str.split('|').str[3]"
   ]
  },
  {
   "cell_type": "code",
   "execution_count": 106,
   "metadata": {},
   "outputs": [],
   "source": [
    "org_country = organisations[['org','country']].set_index('org').to_dict()['country']"
   ]
  },
  {
   "cell_type": "code",
   "execution_count": 107,
   "metadata": {},
   "outputs": [],
   "source": [
    "asn_country = {}\n",
    "for n in ripple_graph_base.nodes:\n",
    "    organisation = asn_org[n]\n",
    "    country = org_country[organisation]\n",
    "    asn_country[n] = country"
   ]
  },
  {
   "cell_type": "code",
   "execution_count": 108,
   "metadata": {},
   "outputs": [],
   "source": [
    "countries_data = pd.read_csv('../Ripple/country.csv',delimiter=',', comment='#', encoding='ISO-8859-1')"
   ]
  },
  {
   "cell_type": "code",
   "execution_count": 109,
   "metadata": {},
   "outputs": [],
   "source": [
    "countries = countries_data[['ISO 3166 Country Code', 'Latitude', 'Longitude']]"
   ]
  },
  {
   "cell_type": "code",
   "execution_count": 110,
   "metadata": {},
   "outputs": [],
   "source": [
    "countries['lat-lon'] = list(zip(countries.Latitude,countries.Longitude))"
   ]
  },
  {
   "cell_type": "code",
   "execution_count": 111,
   "metadata": {},
   "outputs": [],
   "source": [
    "countries_dict = countries[['ISO 3166 Country Code', 'lat-lon']].set_index('ISO 3166 Country Code').to_dict()['lat-lon']"
   ]
  },
  {
   "cell_type": "code",
   "execution_count": 112,
   "metadata": {},
   "outputs": [],
   "source": [
    "asn_lat = {}\n",
    "asn_lon = {}\n",
    "for key,value in asn_country.items():\n",
    "    asn_lat[key] = countries_dict[value][0]\n",
    "    asn_lon[key] = countries_dict[value][1]"
   ]
  },
  {
   "cell_type": "code",
   "execution_count": 113,
   "metadata": {},
   "outputs": [],
   "source": [
    "nx.set_node_attributes(ripple_graph_base, name='lat', values=asn_lat)\n",
    "nx.set_node_attributes(ripple_graph_base, name='lon', values=asn_lon)"
   ]
  },
  {
   "cell_type": "code",
   "execution_count": 114,
   "metadata": {},
   "outputs": [],
   "source": [
    "nx.write_gexf(ripple_graph_base,'ripple.gexf')"
   ]
  },
  {
   "cell_type": "code",
   "execution_count": null,
   "metadata": {},
   "outputs": [],
   "source": []
  }
 ],
 "metadata": {
  "kernelspec": {
   "display_name": "Python 3",
   "language": "python",
   "name": "python3"
  },
  "language_info": {
   "codemirror_mode": {
    "name": "ipython",
    "version": 3
   },
   "file_extension": ".py",
   "mimetype": "text/x-python",
   "name": "python",
   "nbconvert_exporter": "python",
   "pygments_lexer": "ipython3",
   "version": "3.7.3"
  }
 },
 "nbformat": 4,
 "nbformat_minor": 2
}
