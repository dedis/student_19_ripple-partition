{
 "cells": [
  {
   "cell_type": "code",
   "execution_count": 1,
   "metadata": {},
   "outputs": [],
   "source": [
    "import pandas as pd\n",
    "import numpy as np\n",
    "import networkx as nx\n",
    "import matplotlib.pyplot as plt\n",
    "import csv\n",
    "from analysis import *"
   ]
  },
  {
   "cell_type": "markdown",
   "metadata": {},
   "source": [
    "# Does the Caida Graph evolves over time?"
   ]
  },
  {
   "cell_type": "code",
   "execution_count": 2,
   "metadata": {
    "scrolled": true
   },
   "outputs": [
    {
     "name": "stderr",
     "output_type": "stream",
     "text": [
      "/Users/yoanmartin/Google Drive/EPFL/Master II/Semester Project/student_19_ripple-partition/analysis.py:33: SettingWithCopyWarning: \n",
      "A value is trying to be set on a copy of a slice from a DataFrame.\n",
      "Try using .loc[row_indexer,col_indexer] = value instead\n",
      "\n",
      "See the caveats in the documentation: http://pandas.pydata.org/pandas-docs/stable/indexing.html#indexing-view-versus-copy\n",
      "  links['link'] = list(zip(links['provider_peer'], links['customer_peer']))\n"
     ]
    }
   ],
   "source": [
    "ripple_graph_base, caida_graph_base, _ = build_graphs('Ripple/gateway_links.csv', 'Caida/20190301.as-rel2.txt')\n",
    "ripple_graph_1, caida_graph_1, _ = build_graphs('Ripple/gateway_links.csv', 'Caida/20190201.as-rel2.txt')\n",
    "ripple_graph_2, caida_graph_2, _ = build_graphs('Ripple/gateway_links.csv', 'Caida/20190101.as-rel2.txt')\n",
    "ripple_graph_3, caida_graph_3, _ = build_graphs('Ripple/gateway_links.csv', 'Caida/20181201.as-rel2.txt')\n",
    "ripple_graph_4, caida_graph_4, _ = build_graphs('Ripple/gateway_links.csv', 'Caida/20181101.as-rel2.txt')\n",
    "ripple_graph_5, caida_graph_5, _ = build_graphs('Ripple/gateway_links.csv', 'Caida/20181001.as-rel2.txt')\n",
    "ripple_graph_6, caida_graph_6, _ = build_graphs('Ripple/gateway_links.csv', 'Caida/20180901.as-rel2.txt')\n",
    "ripple_graph_7, caida_graph_7, _ = build_graphs('Ripple/gateway_links.csv', 'Caida/20180801.as-rel2.txt')\n",
    "ripple_graph_8, caida_graph_8, _ = build_graphs('Ripple/gateway_links.csv', 'Caida/20180701.as-rel2.txt')\n",
    "ripple_graph_9, caida_graph_9, _ = build_graphs('Ripple/gateway_links.csv', 'Caida/20180601.as-rel2.txt')\n",
    "\n",
    "graphs = [ripple_graph_1, ripple_graph_2,ripple_graph_3, ripple_graph_4,ripple_graph_5, ripple_graph_6,ripple_graph_7, ripple_graph_8,ripple_graph_9]"
   ]
  },
  {
   "cell_type": "code",
   "execution_count": 3,
   "metadata": {},
   "outputs": [],
   "source": [
    "nodes = []\n",
    "edges = []\n",
    "for g in graphs:\n",
    "    diff_nodes = set(ripple_graph_base.nodes) - set(g.nodes)\n",
    "    nodes.append(len(diff_nodes)*100/len(ripple_graph_base.nodes))\n",
    "    \n",
    "    diff_edges = set(ripple_graph_base.edges) - set(g.edges)\n",
    "    edges.append(len(diff_edges)*100/len(ripple_graph_base.edges))"
   ]
  },
  {
   "cell_type": "code",
   "execution_count": 4,
   "metadata": {},
   "outputs": [
    {
     "data": {
      "text/plain": [
       "[<matplotlib.lines.Line2D at 0x1a8faa0f0>]"
      ]
     },
     "execution_count": 4,
     "metadata": {},
     "output_type": "execute_result"
    },
    {
     "data": {
      "image/png": "[encoded data removed]",
      "text/plain": [
       "<Figure size 432x288 with 1 Axes>"
      ]
     },
     "metadata": {
      "needs_background": "light"
     },
     "output_type": "display_data"
    }
   ],
   "source": [
    "plt.plot(['Feb', 'Jan', 'Dec', 'Nov', 'Oct', 'Sep', 'Aug', 'Jul', 'Jun'], nodes)"
   ]
  },
  {
   "cell_type": "code",
   "execution_count": 5,
   "metadata": {},
   "outputs": [
    {
     "data": {
      "text/plain": [
       "[<matplotlib.lines.Line2D at 0x1a8f52c88>]"
      ]
     },
     "execution_count": 5,
     "metadata": {},
     "output_type": "execute_result"
    },
    {
     "data": {
      "image/png": "[encoded data removed]",
      "text/plain": [
       "<Figure size 432x288 with 1 Axes>"
      ]
     },
     "metadata": {
      "needs_background": "light"
     },
     "output_type": "display_data"
    }
   ],
   "source": [
    "plt.plot(['Feb', 'Jan', 'Dec', 'Nov', 'Oct', 'Sep', 'Aug', 'Jul', 'Jun'], edges)"
   ]
  },
  {
   "cell_type": "markdown",
   "metadata": {},
   "source": [
    "# Does the results evolves over time?"
   ]
  },
  {
   "cell_type": "code",
   "execution_count": 2,
   "metadata": {},
   "outputs": [],
   "source": [
    "transactions = get_transactions('Ripple/transactions_processed.csv')"
   ]
  },
  {
   "cell_type": "markdown",
   "metadata": {},
   "source": [
    "## AS down"
   ]
  },
  {
   "cell_type": "code",
   "execution_count": null,
   "metadata": {},
   "outputs": [],
   "source": [
    "result_base = generate_remove_analysis(ripple_graph_base,transactions)\n",
    "result_9 = generate_remove_analysis(ripple_graph_9,transactions)"
   ]
  },
  {
   "cell_type": "code",
   "execution_count": null,
   "metadata": {},
   "outputs": [],
   "source": [
    "plt.subplot(1,2,1)\n",
    "result_base['amount_rerouted'].apply(lambda x: x*100/transactions['amount'].sum()).sort_values(ascending=False).head(100).to_frame().plot.bar()\n",
    "plt.subplot(1,2,2)\n",
    "result_base['amount_lost'].apply(lambda x: x*100/transactions['amount'].sum()).sort_values(ascending=False).head(100).to_frame().plot.bar()"
   ]
  },
  {
   "cell_type": "code",
   "execution_count": null,
   "metadata": {},
   "outputs": [],
   "source": [
    "plt.subplot(1,2,1)\n",
    "result_9['amount_rerouted'].apply(lambda x: x*100/transactions['amount'].sum()).sort_values(ascending=False).head(100).to_frame().plot.bar()\n",
    "plt.subplot(1,2,2)\n",
    "result_9['amount_lost'].apply(lambda x: x*100/transactions['amount'].sum()).sort_values(ascending=False).head(100).to_frame().plot.bar()"
   ]
  },
  {
   "cell_type": "markdown",
   "metadata": {},
   "source": [
    "## Hijack"
   ]
  },
  {
   "cell_type": "code",
   "execution_count": null,
   "metadata": {},
   "outputs": [],
   "source": [
    "result_base = generate_hijack_analysis(ripple_graph_base,transactions)\n",
    "result_9 = generate_hijack_analysis(ripple_graph_9,transactions)"
   ]
  },
  {
   "cell_type": "code",
   "execution_count": null,
   "metadata": {},
   "outputs": [],
   "source": [
    "plt.subplot(1,2,1)\n",
    "result_base['amount_rerouted'].apply(lambda x: x*100/transactions['amount'].sum()).sort_values(ascending=False).head(100).to_frame().plot.bar()\n",
    "plt.subplot(1,2,2)\n",
    "result_base['amount_lost'].apply(lambda x: x*100/transactions['amount'].sum()).sort_values(ascending=False).head(100).to_frame().plot.bar()"
   ]
  },
  {
   "cell_type": "code",
   "execution_count": null,
   "metadata": {},
   "outputs": [],
   "source": [
    "plt.subplot(1,2,1)\n",
    "result_9['amount_rerouted'].apply(lambda x: x*100/transactions['amount'].sum()).sort_values(ascending=False).head(100).to_frame().plot.bar()\n",
    "plt.subplot(1,2,2)\n",
    "result_9['amount_lost'].apply(lambda x: x*100/transactions['amount'].sum()).sort_values(ascending=False).head(100).to_frame().plot.bar()"
   ]
  },
  {
   "cell_type": "markdown",
   "metadata": {},
   "source": [
    "# Does the results differ if we take a subset of transactions?"
   ]
  },
  {
   "cell_type": "code",
   "execution_count": 9,
   "metadata": {},
   "outputs": [],
   "source": [
    "mask_spring = (transactions['date'] == '2017-01') | (transactions['date'] == '2017-02') | (transactions['date'] == '2017-03') \n",
    "mask_summer = (transactions['date'] == '2017-04') | (transactions['date'] == '2017-05') | (transactions['date'] == '2017-06')\n",
    "mask_autumn = (transactions['date'] == '2017-07') | (transactions['date'] == '2017-08') | (transactions['date'] == '2017-09') \n",
    "mask_winter = (transactions['date'] == '2017-10') | (transactions['date'] == '2017-11') | (transactions['date'] == '2017-12') \n",
    "\n",
    "spring_transactions = transactions[mask_spring]\n",
    "summer_transactions = transactions[mask_summer]\n",
    "autumn_transactions = transactions[mask_autumn]\n",
    "winter_transactions = transactions[mask_winter]"
   ]
  },
  {
   "cell_type": "markdown",
   "metadata": {},
   "source": [
    "## AS down"
   ]
  },
  {
   "cell_type": "code",
   "execution_count": null,
   "metadata": {},
   "outputs": [],
   "source": [
    "result_spring = generate_remove_analysis(ripple_graph_base,spring_transactions)\n",
    "result_summer = generate_remove_analysis(ripple_graph_base,summer_transactions)\n",
    "result_autumn = generate_remove_analysis(ripple_graph_base,autumn_transactions)\n",
    "result_winter = generate_remove_analysis(ripple_graph_base,winter_transactions)"
   ]
  },
  {
   "cell_type": "code",
   "execution_count": null,
   "metadata": {},
   "outputs": [],
   "source": [
    "plt.subplot(2,2,1)\n",
    "result_spring['amount_rerouted'].apply(lambda x: x*100/transactions['amount'].sum()).sort_values(ascending=False).head(100).to_frame().plot.bar()\n",
    "plt.subplot(2,2,2)\n",
    "result_summer['amount_lost'].apply(lambda x: x*100/transactions['amount'].sum()).sort_values(ascending=False).head(100).to_frame().plot.bar()\n",
    "plt.subplot(2,2,3)\n",
    "result_autumn['amount_rerouted'].apply(lambda x: x*100/transactions['amount'].sum()).sort_values(ascending=False).head(100).to_frame().plot.bar()\n",
    "plt.subplot(2,2,4)\n",
    "result_winter['amount_lost'].apply(lambda x: x*100/transactions['amount'].sum()).sort_values(ascending=False).head(100).to_frame().plot.bar()"
   ]
  },
  {
   "cell_type": "markdown",
   "metadata": {},
   "source": [
    "## Hijack"
   ]
  },
  {
   "cell_type": "code",
   "execution_count": null,
   "metadata": {},
   "outputs": [],
   "source": [
    "result_spring = generate_hijack_analysis(ripple_graph_base,spring_transactions)\n",
    "result_summer = generate_hijack_analysis(ripple_graph_base,summer_transactions)\n",
    "result_autumn = generate_hijack_analysis(ripple_graph_base,autumn_transactions)\n",
    "result_winter = generate_hijack_analysis(ripple_graph_base,winter_transactions)"
   ]
  },
  {
   "cell_type": "code",
   "execution_count": null,
   "metadata": {},
   "outputs": [],
   "source": [
    "plt.subplot(2,2,1)\n",
    "result_spring['amount_rerouted'].apply(lambda x: x*100/transactions['amount'].sum()).sort_values(ascending=False).head(100).to_frame().plot.bar()\n",
    "plt.subplot(2,2,2)\n",
    "result_summer['amount_lost'].apply(lambda x: x*100/transactions['amount'].sum()).sort_values(ascending=False).head(100).to_frame().plot.bar()\n",
    "plt.subplot(2,2,3)\n",
    "result_autumn['amount_rerouted'].apply(lambda x: x*100/transactions['amount'].sum()).sort_values(ascending=False).head(100).to_frame().plot.bar()\n",
    "plt.subplot(2,2,4)\n",
    "result_winter['amount_lost'].apply(lambda x: x*100/transactions['amount'].sum()).sort_values(ascending=False).head(100).to_frame().plot.bar()"
   ]
  }
 ],
 "metadata": {
  "kernelspec": {
   "display_name": "Python 3",
   "language": "python",
   "name": "python3"
  },
  "language_info": {
   "codemirror_mode": {
    "name": "ipython",
    "version": 3
   },
   "file_extension": ".py",
   "mimetype": "text/x-python",
   "name": "python",
   "nbconvert_exporter": "python",
   "pygments_lexer": "ipython3",
   "version": "3.7.3"
  }
 },
 "nbformat": 4,
 "nbformat_minor": 2
}
